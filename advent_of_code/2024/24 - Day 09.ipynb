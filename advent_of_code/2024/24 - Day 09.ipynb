{
 "cells": [
  {
   "cell_type": "markdown",
   "id": "3c5524b7-ee66-4abd-8029-39c44e917d58",
   "metadata": {},
   "source": [
    "## Part 1"
   ]
  },
  {
   "cell_type": "code",
   "execution_count": 1,
   "id": "9ae8dc19-1f00-4603-9e8a-2f0b3d778545",
   "metadata": {},
   "outputs": [],
   "source": [
    "from aocd.models import Puzzle\n",
    "\n",
    "puzzle = Puzzle(year=2024, day=9)\n",
    "\n",
    "def test(method, input, expected):\n",
    "    actual = method(input)\n",
    "    if actual == expected:\n",
    "        print(f'\\t☑ - {method.__name__}({input}) = {expected} = {actual}')\n",
    "    else:\n",
    "        print(f'\\t☐ - {method.__name__}({input}) = {expected} ≠ {actual}')"
   ]
  },
  {
   "cell_type": "code",
   "execution_count": 2,
   "id": "1d14a296",
   "metadata": {},
   "outputs": [],
   "source": [
    "import itertools\n",
    "\n",
    "def parse_input(input): \n",
    "    files = input[::2]\n",
    "    free_spaces = input[1::2]\n",
    "\n",
    "    output = []\n",
    "\n",
    "    for id, (file, free_space) in enumerate(list(itertools.zip_longest(files, free_spaces, fillvalue='0'))):\n",
    "        output += str(id) * int(file)\n",
    "        output += '.' * int(free_space)\n",
    "\n",
    "    return ''.join(output)"
   ]
  },
  {
   "cell_type": "code",
   "execution_count": 3,
   "id": "db119679",
   "metadata": {},
   "outputs": [
    {
     "name": "stdout",
     "output_type": "stream",
     "text": [
      "\t☑ - parse_input(12345) = 0..111....22222 = 0..111....22222\n",
      "\t☑ - parse_input(90909) = 000000000111111111222222222 = 000000000111111111222222222\n",
      "\t☑ - parse_input(2333133121414131402) = 00...111...2...333.44.5555.6666.777.888899 = 00...111...2...333.44.5555.6666.777.888899\n"
     ]
    }
   ],
   "source": [
    "test(parse_input, '12345', '0..111....22222')\n",
    "test(parse_input, '90909', '000000000111111111222222222')\n",
    "test(parse_input, '2333133121414131402', '00...111...2...333.44.5555.6666.777.888899')"
   ]
  },
  {
   "cell_type": "code",
   "execution_count": 4,
   "id": "a2b9e06f",
   "metadata": {},
   "outputs": [
    {
     "data": {
      "text/plain": [
       "1928"
      ]
     },
     "execution_count": 4,
     "metadata": {},
     "output_type": "execute_result"
    }
   ],
   "source": [
    "parsed_input = list(parse_input(puzzle.examples[0].input_data))\n",
    "\n",
    "for indx, value in enumerate(reversed(parsed_input.copy())):\n",
    "    orignial_indx = len(parsed_input) - 1 - indx\n",
    "    first_free_space = parsed_input.index('.')\n",
    "    if not orignial_indx > first_free_space:\n",
    "        break\n",
    "    parsed_input[first_free_space] = value\n",
    "    parsed_input[orignial_indx] = '.'\n",
    "\n",
    "sum([int(x) * indx for (indx, x) in enumerate(parsed_input) if x != '.'])"
   ]
  },
  {
   "cell_type": "code",
   "execution_count": 5,
   "id": "c2bb2997",
   "metadata": {},
   "outputs": [
    {
     "data": {
      "text/plain": [
       "90489586600"
      ]
     },
     "execution_count": 5,
     "metadata": {},
     "output_type": "execute_result"
    }
   ],
   "source": [
    "parsed_input = list(parse_input(puzzle.input_data))\n",
    "\n",
    "for indx, value in enumerate(reversed(parsed_input.copy())):\n",
    "    orignial_indx = len(parsed_input) - 1 - indx\n",
    "    first_free_space = parsed_input.index('.')\n",
    "    if not orignial_indx > first_free_space:\n",
    "        break\n",
    "    parsed_input[first_free_space] = value\n",
    "    parsed_input[orignial_indx] = '.'\n",
    "\n",
    "sum([int(x) * indx for (indx, x) in enumerate(parsed_input) if x != '.'])"
   ]
  },
  {
   "cell_type": "markdown",
   "id": "93683155",
   "metadata": {},
   "source": [
    "`90489586600` is too low.\n"
   ]
  },
  {
   "cell_type": "markdown",
   "id": "da137f33",
   "metadata": {},
   "source": [
    "I think what happened is that the ID is growing larger than 10 digits and getting mixed up. My parser is going to need to not return a string. It needs to return the array."
   ]
  },
  {
   "cell_type": "code",
   "execution_count": 6,
   "id": "ed54de99",
   "metadata": {},
   "outputs": [
    {
     "name": "stdout",
     "output_type": "stream",
     "text": [
      "\t☑ - parse_input(233313312141413140202) = 00...111...2...333.44.5555.6666.777.8888991010 = 00...111...2...333.44.5555.6666.777.8888991010\n"
     ]
    }
   ],
   "source": [
    "test(parse_input, '233313312141413140202', '00...111...2...333.44.5555.6666.777.8888991010')"
   ]
  },
  {
   "cell_type": "code",
   "execution_count": 7,
   "id": "63725c83",
   "metadata": {},
   "outputs": [
    {
     "data": {
      "text/plain": [
       "6332189866718"
      ]
     },
     "execution_count": 7,
     "metadata": {},
     "output_type": "execute_result"
    }
   ],
   "source": [
    "import itertools\n",
    "\n",
    "def parse_input(input): \n",
    "    files = input[::2]\n",
    "    free_spaces = input[1::2]\n",
    "\n",
    "    output = []\n",
    "\n",
    "    for id, (file, free_space) in enumerate(list(itertools.zip_longest(files, free_spaces, fillvalue='0'))):\n",
    "        output += [id] * int(file)\n",
    "        output += ['.'] * int(free_space)\n",
    "\n",
    "    return output\n",
    "\n",
    "parsed_input = parse_input(puzzle.input_data)\n",
    "\n",
    "for indx, value in enumerate(reversed(parsed_input.copy())):\n",
    "    orignial_indx = len(parsed_input) - 1 - indx\n",
    "    first_free_space = parsed_input.index('.')\n",
    "    if not orignial_indx > first_free_space:\n",
    "        break\n",
    "    parsed_input[first_free_space] = value\n",
    "    parsed_input[orignial_indx] = '.'\n",
    "\n",
    "sum([int(x) * indx for (indx, x) in enumerate(parsed_input) if x != '.'])"
   ]
  },
  {
   "cell_type": "markdown",
   "id": "93f443ca-48d2-406b-83f8-226496c85283",
   "metadata": {},
   "source": [
    "## Part 2"
   ]
  },
  {
   "cell_type": "markdown",
   "id": "2f9978e2",
   "metadata": {},
   "source": [
    "This sounds like a sliding window algorithm or one of those text search algorithms. As always, I'm going to try brute force first :) I will need to adjust the structure of the parse if I'm going to get that going.\n"
   ]
  },
  {
   "cell_type": "code",
   "execution_count": 8,
   "id": "5ec1a9a8",
   "metadata": {},
   "outputs": [
    {
     "name": "stdout",
     "output_type": "stream",
     "text": [
      "00...111...2...333.44.5555.6666.777.888899\n",
      "[Block(id=0, files=2, free_space=3), Block(id=1, files=3, free_space=3), Block(id=2, files=1, free_space=3), Block(id=3, files=3, free_space=1), Block(id=4, files=2, free_space=1), Block(id=5, files=4, free_space=1), Block(id=6, files=4, free_space=1), Block(id=7, files=3, free_space=1), Block(id=8, files=4, free_space=0), Block(id=9, files=2, free_space=0)]\n",
      "\n",
      "\n",
      "Moving 9 down next to 0\n",
      "0099.111...2...333.44.5555.6666.777.8888..\n",
      "[Block(id=0, files=2, free_space=0), Block(id=9, files=2, free_space=1), Block(id=1, files=3, free_space=3), Block(id=2, files=1, free_space=3), Block(id=3, files=3, free_space=1), Block(id=4, files=2, free_space=1), Block(id=5, files=4, free_space=1), Block(id=6, files=4, free_space=1), Block(id=7, files=3, free_space=1), Block(id=8, files=4, free_space=2)]\n",
      "\n",
      "\n",
      "8 didn\"t move\n",
      "0099.111...2...333.44.5555.6666.777.8888..\n",
      "[Block(id=0, files=2, free_space=0), Block(id=9, files=2, free_space=1), Block(id=1, files=3, free_space=3), Block(id=2, files=1, free_space=3), Block(id=3, files=3, free_space=1), Block(id=4, files=2, free_space=1), Block(id=5, files=4, free_space=1), Block(id=6, files=4, free_space=1), Block(id=7, files=3, free_space=1), Block(id=8, files=4, free_space=2)]\n",
      "\n",
      "\n",
      "Moving 7 down next to 1\n",
      "0099.1117772...333.44.5555.6666.....8888..\n",
      "[Block(id=0, files=2, free_space=0), Block(id=9, files=2, free_space=1), Block(id=1, files=3, free_space=0), Block(id=7, files=3, free_space=0), Block(id=2, files=1, free_space=3), Block(id=3, files=3, free_space=1), Block(id=4, files=2, free_space=1), Block(id=5, files=4, free_space=1), Block(id=6, files=4, free_space=5), Block(id=8, files=4, free_space=2)]\n",
      "\n",
      "\n",
      "0099.1117772...333.44.5555.6666.....8888..\n",
      "[Block(id=0, files=2, free_space=0), Block(id=9, files=2, free_space=1), Block(id=1, files=3, free_space=0), Block(id=7, files=3, free_space=0), Block(id=2, files=1, free_space=3), Block(id=3, files=3, free_space=1), Block(id=4, files=2, free_space=1), Block(id=5, files=4, free_space=1), Block(id=6, files=4, free_space=5), Block(id=8, files=4, free_space=2)]\n",
      "\n",
      "\n",
      "0099.1117772...333.44.5555.6666.....8888..\n",
      "[Block(id=0, files=2, free_space=0), Block(id=9, files=2, free_space=1), Block(id=1, files=3, free_space=0), Block(id=7, files=3, free_space=0), Block(id=2, files=1, free_space=3), Block(id=3, files=3, free_space=1), Block(id=4, files=2, free_space=1), Block(id=5, files=4, free_space=1), Block(id=6, files=4, free_space=5), Block(id=8, files=4, free_space=2)]\n",
      "\n",
      "\n",
      "Moving 4 down next to 2\n",
      "0099.111777244.333....5555.6666.....8888..\n",
      "[Block(id=0, files=2, free_space=0), Block(id=9, files=2, free_space=1), Block(id=1, files=3, free_space=0), Block(id=7, files=3, free_space=0), Block(id=2, files=1, free_space=0), Block(id=4, files=2, free_space=1), Block(id=3, files=3, free_space=4), Block(id=5, files=4, free_space=1), Block(id=6, files=4, free_space=5), Block(id=8, files=4, free_space=2)]\n",
      "\n",
      "\n",
      "0099.111777244.333....5555.6666.....8888..\n",
      "[Block(id=0, files=2, free_space=0), Block(id=9, files=2, free_space=1), Block(id=1, files=3, free_space=0), Block(id=7, files=3, free_space=0), Block(id=2, files=1, free_space=0), Block(id=4, files=2, free_space=1), Block(id=3, files=3, free_space=4), Block(id=5, files=4, free_space=1), Block(id=6, files=4, free_space=5), Block(id=8, files=4, free_space=2)]\n",
      "\n",
      "\n",
      "Moving 2 down next to 9\n",
      "00992111777.44.333....5555.6666.....8888..\n",
      "[Block(id=0, files=2, free_space=0), Block(id=9, files=2, free_space=0), Block(id=2, files=1, free_space=0), Block(id=1, files=3, free_space=0), Block(id=7, files=3, free_space=1), Block(id=4, files=2, free_space=1), Block(id=3, files=3, free_space=4), Block(id=5, files=4, free_space=1), Block(id=6, files=4, free_space=5), Block(id=8, files=4, free_space=2)]\n",
      "\n",
      "\n",
      "00992111777.44.333....5555.6666.....8888..\n",
      "[Block(id=0, files=2, free_space=0), Block(id=9, files=2, free_space=0), Block(id=2, files=1, free_space=0), Block(id=1, files=3, free_space=0), Block(id=7, files=3, free_space=1), Block(id=4, files=2, free_space=1), Block(id=3, files=3, free_space=4), Block(id=5, files=4, free_space=1), Block(id=6, files=4, free_space=5), Block(id=8, files=4, free_space=2)]\n",
      "\n",
      "\n",
      "00992111777.44.333....5555.6666.....8888..\n"
     ]
    },
    {
     "data": {
      "text/plain": [
       "2858"
      ]
     },
     "execution_count": 8,
     "metadata": {},
     "output_type": "execute_result"
    }
   ],
   "source": [
    "import itertools\n",
    "from dataclasses import dataclass\n",
    "\n",
    "@dataclass\n",
    "class Block:\n",
    "    id: int\n",
    "    files: int\n",
    "    free_space: int\n",
    "\n",
    "def parse_input(input): \n",
    "    files = input[::2]\n",
    "    free_spaces = input[1::2]\n",
    "\n",
    "    output = []\n",
    "\n",
    "    for id, (file, free_space) in enumerate(list(itertools.zip_longest(files, free_spaces, fillvalue='0'))):\n",
    "        output.append(Block(id, int(file), int(free_space)))\n",
    "\n",
    "    return output\n",
    "\n",
    "blocks = parse_input(puzzle.examples[0].input_data)\n",
    "\n",
    "\n",
    "for indx, block in enumerate(reversed(blocks.copy())):\n",
    "    print(''.join([str(fs_part) for b in blocks for fs_part in ([b.id]*b.files + ['.']*b.free_space)]))\n",
    "    print(blocks)\n",
    "    print('\\n')\n",
    "\n",
    "    match = next((b for b in blocks if b.free_space >= block.files), None)\n",
    "    \n",
    "    if not match:\n",
    "        print(f'{block.id} didn\"t move')\n",
    "        continue\n",
    "    \n",
    "    match_indx = blocks.index(match)\n",
    "\n",
    "    if match_indx >= blocks.index(block):\n",
    "        continue\n",
    "\n",
    "    print(f'Moving {block.id} down next to {match.id}')\n",
    "\n",
    "    blocks[blocks.index(block) - 1].free_space += block.free_space + block.files\n",
    "    block.free_space = match.free_space - block.files\n",
    "    match.free_space = 0\n",
    "\n",
    "    blocks.remove(block)\n",
    "    blocks.insert(match_indx + 1, block)\n",
    "\n",
    "filesystem = [str(fs_part) for b in blocks for fs_part in ([b.id]*b.files + ['.']*b.free_space)]\n",
    "\n",
    "print(''.join(filesystem))\n",
    "\n",
    "sum([int(x) * indx for (indx, x) in enumerate(filesystem) if x != '.'])"
   ]
  },
  {
   "cell_type": "code",
   "execution_count": 9,
   "id": "aba6b05b",
   "metadata": {},
   "outputs": [
    {
     "data": {
      "text/plain": [
       "6353648390778"
      ]
     },
     "execution_count": 9,
     "metadata": {},
     "output_type": "execute_result"
    }
   ],
   "source": [
    "import itertools\n",
    "from dataclasses import dataclass\n",
    "\n",
    "@dataclass\n",
    "class Block:\n",
    "    id: int\n",
    "    files: int\n",
    "    free_space: int\n",
    "\n",
    "def parse_input(input): \n",
    "    files = input[::2]\n",
    "    free_spaces = input[1::2]\n",
    "\n",
    "    output = []\n",
    "\n",
    "    for id, (file, free_space) in enumerate(list(itertools.zip_longest(files, free_spaces, fillvalue='0'))):\n",
    "        output.append(Block(id, int(file), int(free_space)))\n",
    "\n",
    "    return output\n",
    "\n",
    "blocks = parse_input(puzzle.input_data)\n",
    "\n",
    "\n",
    "for indx, block in enumerate(reversed(blocks.copy())):\n",
    "    # print(''.join([str(fs_part) for b in blocks for fs_part in ([b.id]*b.files + ['.']*b.free_space)]))\n",
    "    # print(blocks)\n",
    "    # print('\\n')\n",
    "\n",
    "    match = next((b for b in blocks if b.free_space >= block.files), None)\n",
    "    \n",
    "    if not match:\n",
    "        print(f'{block.id} didn\"t move')\n",
    "        continue\n",
    "    \n",
    "    match_indx = blocks.index(match)\n",
    "\n",
    "    if match_indx >= blocks.index(block):\n",
    "        continue\n",
    "\n",
    "    # print(f'Moving {block.id} down next to {match.id}')\n",
    "\n",
    "    blocks[blocks.index(block) - 1].free_space += block.free_space + block.files\n",
    "    block.free_space = match.free_space - block.files\n",
    "    match.free_space = 0\n",
    "\n",
    "    blocks.remove(block)\n",
    "    blocks.insert(match_indx + 1, block)\n",
    "\n",
    "filesystem = [str(fs_part) for b in blocks for fs_part in ([b.id]*b.files + ['.']*b.free_space)]\n",
    "\n",
    "# print(''.join(filesystem))\n",
    "\n",
    "sum([int(x) * indx for (indx, x) in enumerate(filesystem) if x != '.'])"
   ]
  }
 ],
 "metadata": {
  "kernelspec": {
   "display_name": "Python 3 (ipykernel)",
   "language": "python",
   "name": "python3"
  },
  "language_info": {
   "codemirror_mode": {
    "name": "ipython",
    "version": 3
   },
   "file_extension": ".py",
   "mimetype": "text/x-python",
   "name": "python",
   "nbconvert_exporter": "python",
   "pygments_lexer": "ipython3",
   "version": "3.13.0"
  }
 },
 "nbformat": 4,
 "nbformat_minor": 5
}
