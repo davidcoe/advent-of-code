{
 "cells": [
  {
   "cell_type": "markdown",
   "metadata": {},
   "source": [
    "# Advent of Code 2023\n",
    "\n",
    "## Day 03\n",
    "\n",
    "https://adventofcode.com/2023/day/3"
   ]
  },
  {
   "cell_type": "code",
   "execution_count": null,
   "metadata": {},
   "outputs": [],
   "source": [
    "from aocd.models import Puzzle\n",
    "\n",
    "puzzle = Puzzle(year=2023, day=3)"
   ]
  },
  {
   "cell_type": "code",
   "execution_count": 99,
   "metadata": {},
   "outputs": [
    {
     "name": "stdout",
     "output_type": "stream",
     "text": [
      "467..114..\n",
      "...*......\n",
      "..35..633.\n",
      "......#...\n",
      "617*......\n",
      ".....+.58.\n",
      "..592.....\n",
      "......755.\n",
      "...$.*....\n",
      ".664.598..\n"
     ]
    }
   ],
   "source": [
    "example_schematic = \"\"\"467..114..\n",
    "...*......\n",
    "..35..633.\n",
    "......#...\n",
    "617*......\n",
    ".....+.58.\n",
    "..592.....\n",
    "......755.\n",
    "...$.*....\n",
    ".664.598..\"\"\"\n",
    "\n",
    "class Engine:\n",
    "    schematic: list[list]\n",
    "    \n",
    "    def _find_neighbor(self, i: int, j: int) -> list[(int, int, int)]:\n",
    "        print(f'Looking around {self.schematic[i][j]} ({i}, {j})')\n",
    "        \n",
    "        neighbors: list((int, int)) = []\n",
    "        \n",
    "        STEP = 1\n",
    "\n",
    "        UPPER_BOUND = i - STEP\n",
    "        LOWER_BOUND = i + STEP\n",
    "        LEFT_BOUND = j - STEP\n",
    "        RIGHT_BOUND = j + STEP\n",
    "\n",
    "        row_indices = range(UPPER_BOUND, LOWER_BOUND + 1)\n",
    "        col_indices = range(LEFT_BOUND, RIGHT_BOUND + 1)\n",
    "\n",
    "        for row_indx in row_indices:\n",
    "            row_in_schematic = row_indx >= 0 and row_indx < len(self.schematic)\n",
    "            if not row_in_schematic:\n",
    "                continue\n",
    "\n",
    "            cols = []\n",
    "            # First and last row include all columns\n",
    "            if row_indx == UPPER_BOUND or row_indx == LOWER_BOUND:\n",
    "                cols = col_indices\n",
    "            else:\n",
    "                cols = [LEFT_BOUND, RIGHT_BOUND]\n",
    "\n",
    "            for col_indx in cols:\n",
    "                col_in_schematic = col_indx >= 0 and col_indx < len(self.schematic[row_indx])\n",
    "                if not col_in_schematic:\n",
    "                    continue\n",
    "                value = self.schematic[row_indx][col_indx] \n",
    "                print(f'found {value if value else '.'} ({row_indx}, {col_indx})')\n",
    "\n",
    "        return neighbors\n",
    "\n",
    "    def __init__(self, schematic_raw: str) -> None:\n",
    "        self.schematic = [list(i) for i in schematic_raw.split('\\n')]\n",
    "\n",
    "    def __str__(self) -> str:\n",
    "        return '\\n'.join(''.join(i if i else '.' for i in row) for row in self.schematic)\n",
    "    \n",
    "print(Engine(example_schematic))"
   ]
  },
  {
   "cell_type": "code",
   "execution_count": 100,
   "metadata": {},
   "outputs": [
    {
     "name": "stdout",
     "output_type": "stream",
     "text": [
      "Looking around 4 (0, 0)\n",
      "row is out of range\n",
      "col is out of range\n",
      "found 6 (0, 1)\n",
      "col is out of range\n",
      "found . (1, 0)\n",
      "found . (1, 1)\n"
     ]
    }
   ],
   "source": [
    "e = Engine(example_schematic)\n",
    "e._find_neighbor(0,0)"
   ]
  },
  {
   "cell_type": "markdown",
   "metadata": {},
   "source": [
    "OOf!! Just re-read the instructions now that I'm ready to solve. It's not looking for the adjacent numbers as a single digit, it considers contigious numbers on a line to be the number! Back to the drawing board :("
   ]
  }
 ],
 "metadata": {
  "kernelspec": {
   "display_name": ".venv",
   "language": "python",
   "name": "python3"
  },
  "language_info": {
   "codemirror_mode": {
    "name": "ipython",
    "version": 3
   },
   "file_extension": ".py",
   "mimetype": "text/x-python",
   "name": "python",
   "nbconvert_exporter": "python",
   "pygments_lexer": "ipython3",
   "version": "3.12.0"
  }
 },
 "nbformat": 4,
 "nbformat_minor": 2
}
