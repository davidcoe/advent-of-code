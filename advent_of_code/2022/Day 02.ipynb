{
 "cells": [
  {
   "cell_type": "markdown",
   "metadata": {},
   "source": [
    "# Day 02\n",
    "\n",
    "--- Day 2: Rock Paper Scissors ---\n",
    "\n",
    "The Elves begin to set up camp on the beach. To decide whose tent gets to be closest to the snack storage, a giant Rock Paper Scissors tournament is already in progress.\n",
    "\n",
    "Rock Paper Scissors is a game between two players. Each game contains many rounds; in each round, the players each simultaneously choose one of Rock, Paper, or Scissors using a hand shape. Then, a winner for that round is selected: Rock defeats Scissors, Scissors defeats Paper, and Paper defeats Rock. If both players choose the same shape, the round instead ends in a draw.\n",
    "\n",
    "Appreciative of your help yesterday, one Elf gives you an encrypted strategy guide (your puzzle input) that they say will be sure to help you win. \"The first column is what your opponent is going to play: A for Rock, B for Paper, and C for Scissors. The second column--\" Suddenly, the Elf is called away to help with someone's tent.\n",
    "\n",
    "The second column, you reason, must be what you should play in response: X for Rock, Y for Paper, and Z for Scissors. Winning every time would be suspicious, so the responses must have been carefully chosen.\n",
    "\n",
    "The winner of the whole tournament is the player with the highest score. Your total score is the sum of your scores for each round. The score for a single round is the score for the shape you selected (1 for Rock, 2 for Paper, and 3 for Scissors) plus the score for the outcome of the round (0 if you lost, 3 if the round was a draw, and 6 if you won).\n",
    "\n",
    "Since you can't be sure if the Elf is trying to help you or trick you, you should calculate the score you would get if you were to follow the strategy guide.\n",
    "\n",
    "For example, suppose you were given the following strategy guide:\n",
    "\n",
    "    A Y\n",
    "    B X\n",
    "    C Z\n",
    "\n",
    "This strategy guide predicts and recommends the following:\n",
    "\n",
    "- In the first round, your opponent will choose Rock (A), and you should choose Paper (Y). This ends in a win for you with a score of 8 (2 because you chose Paper + 6 because you won).\n",
    "- In the second round, your opponent will choose Paper (B), and you should choose Rock (X). This ends in a loss for you with a score of 1 (1 + 0).\n",
    "- The third round is a draw with both players choosing Scissors, giving you a score of 3 + 3 = 6.\n",
    "\n",
    "In this example, if you were to follow the strategy guide, you would get a total score of 15 (8 + 1 + 6).\n",
    "\n",
    "What would your total score be if everything goes exactly according to your strategy guide?\n"
   ]
  },
  {
   "cell_type": "code",
   "execution_count": 34,
   "metadata": {},
   "outputs": [],
   "source": [
    "sample_input = \"\"\"A Y\n",
    "B X\n",
    "C Z\"\"\""
   ]
  },
  {
   "cell_type": "code",
   "execution_count": 125,
   "metadata": {},
   "outputs": [],
   "source": [
    "from enum import Enum\n",
    "\n",
    "class Sign(Enum):\n",
    "    ROCK = \"rock\", 1\n",
    "    A = ROCK\n",
    "    X = ROCK\n",
    "\n",
    "    PAPER = \"paper\", 2\n",
    "    B = PAPER\n",
    "    Y = PAPER\n",
    "    \n",
    "    SCISSORS = \"scissors\", 3\n",
    "    C = SCISSORS\n",
    "    Z = SCISSORS\n",
    "\n",
    "    score: int\n",
    "\n",
    "    def __init__(self, _: str, score: int = 0):\n",
    "            self.score = score"
   ]
  },
  {
   "cell_type": "markdown",
   "metadata": {},
   "source": [
    "I think that adding in the property is kind of an abuse. Really, that's an aspect of the game I think."
   ]
  },
  {
   "cell_type": "code",
   "execution_count": 128,
   "metadata": {},
   "outputs": [],
   "source": [
    "from enum import Enum, StrEnum, auto\n",
    "from typing import Dict, List\n",
    "\n",
    "class Result(StrEnum):\n",
    "    WIN = auto()\n",
    "    LOSE = auto()\n",
    "    TIE = auto()\n",
    "\n",
    "class Sign(Enum):\n",
    "    ROCK = \"rock\"\n",
    "\n",
    "    PAPER = \"paper\"\n",
    "    \n",
    "    SCISSORS = \"scissors\"\n",
    "\n",
    "class RPS:\n",
    "    defeat_rules: Dict[Sign, Sign] = {Sign.ROCK: Sign.SCISSORS, Sign.PAPER: Sign.ROCK, Sign.SCISSORS: Sign.PAPER}\n",
    "    result_values: Dict[Result, int] = {Result.WIN: 6, Result.LOSE: 0, Result.TIE: 3}\n",
    "    sign_values: Dict[Sign, int] = {Sign.ROCK: 1, Sign.PAPER:2, Sign.SCISSORS: 3}\n",
    "    codes: Dict[str, Sign] = {'A': Sign.ROCK, 'X': Sign.ROCK, 'B': Sign.PAPER, \n",
    "        'Y': Sign.PAPER, 'C': Sign.SCISSORS, 'Z': Sign.SCISSORS}\n",
    "\n",
    "    def __init__(self):\n",
    "        self.score = 0\n",
    "\n",
    "    def score_round(self, opponent: str, own: str):\n",
    "        them = RPS.codes[opponent]\n",
    "        me = RPS.codes[own]\n",
    "\n",
    "        result: Result\n",
    "\n",
    "        if self.defeat_rules[me] == them:\n",
    "            result = Result.WIN\n",
    "        elif self.defeat_rules[them] == me:\n",
    "            result = Result.LOSE\n",
    "        else:\n",
    "            result = Result.TIE\n",
    "\n",
    "        results_score = RPS.result_values[result]\n",
    "        sign_score = RPS.sign_values[me]\n",
    "        round_score = results_score + sign_score\n",
    "\n",
    "        self.score += round_score\n",
    "\n",
    "        print(f'{them} vs {me} - {result} {round_score} (= {sign_score} + {results_score}) : {self.score}')"
   ]
  },
  {
   "cell_type": "code",
   "execution_count": 129,
   "metadata": {},
   "outputs": [
    {
     "name": "stdout",
     "output_type": "stream",
     "text": [
      "Sign.ROCK vs Sign.PAPER - win 8 (= 2 + 6) : 8\n",
      "Sign.PAPER vs Sign.ROCK - lose 1 (= 1 + 0) : 9\n",
      "Sign.SCISSORS vs Sign.SCISSORS - tie 6 (= 3 + 3) : 15\n"
     ]
    }
   ],
   "source": [
    "sample_input = \"\"\"A Y\n",
    "B X\n",
    "C Z\"\"\"\n",
    "\n",
    "rps = RPS()\n",
    "\n",
    "for opp, me in [round.split() for round in sample_input.split('\\n')]:\n",
    "    rps.score_round(opp, me)"
   ]
  },
  {
   "cell_type": "code",
   "execution_count": 130,
   "metadata": {},
   "outputs": [],
   "source": [
    "from enum import Enum, StrEnum, auto\n",
    "from typing import Dict, List\n",
    "\n",
    "class Result(StrEnum):\n",
    "    WIN = auto()\n",
    "    LOSE = auto()\n",
    "    TIE = auto()\n",
    "\n",
    "class Sign(Enum):\n",
    "    ROCK = \"rock\"\n",
    "\n",
    "    PAPER = \"paper\"\n",
    "    \n",
    "    SCISSORS = \"scissors\"\n",
    "\n",
    "class RPS:\n",
    "    defeat_rules: Dict[Sign, Sign] = {Sign.ROCK: Sign.SCISSORS, Sign.PAPER: Sign.ROCK, Sign.SCISSORS: Sign.PAPER}\n",
    "    result_values: Dict[Result, int] = {Result.WIN: 6, Result.LOSE: 0, Result.TIE: 3}\n",
    "    sign_values: Dict[Sign, int] = {Sign.ROCK: 1, Sign.PAPER:2, Sign.SCISSORS: 3}\n",
    "    codes: Dict[str, Sign] = {'A': Sign.ROCK, 'X': Sign.ROCK, 'B': Sign.PAPER, \n",
    "        'Y': Sign.PAPER, 'C': Sign.SCISSORS, 'Z': Sign.SCISSORS}\n",
    "\n",
    "    def __init__(self):\n",
    "        self.score = 0\n",
    "\n",
    "    def score_round(self, opponent: str, own: str):\n",
    "        them = RPS.codes[opponent]\n",
    "        me = RPS.codes[own]\n",
    "\n",
    "        result: Result\n",
    "\n",
    "        if self.defeat_rules[me] == them:\n",
    "            result = Result.WIN\n",
    "        elif self.defeat_rules[them] == me:\n",
    "            result = Result.LOSE\n",
    "        else:\n",
    "            result = Result.TIE\n",
    "\n",
    "        results_score = RPS.result_values[result]\n",
    "        sign_score = RPS.sign_values[me]\n",
    "        round_score = results_score + sign_score\n",
    "\n",
    "        self.score += round_score\n",
    "\n",
    "    def score_rounds(self, input):\n",
    "        for opp, me in [round.split() for round in input.split('\\n')]:\n",
    "            self.score_round(opp, me)"
   ]
  },
  {
   "cell_type": "code",
   "execution_count": 132,
   "metadata": {},
   "outputs": [
    {
     "name": "stdout",
     "output_type": "stream",
     "text": [
      "15\n"
     ]
    }
   ],
   "source": [
    "rps = RPS()\n",
    "rps.score_rounds(sample_input)\n",
    "print(rps.score)"
   ]
  },
  {
   "cell_type": "code",
   "execution_count": 133,
   "metadata": {},
   "outputs": [
    {
     "name": "stdout",
     "output_type": "stream",
     "text": [
      "8933\n"
     ]
    }
   ],
   "source": [
    "from aocd.models import Puzzle\n",
    "\n",
    "puzzle = Puzzle(year=2022, day=2)\n",
    "rps = RPS()\n",
    "rps.score_rounds(puzzle.input_data)\n",
    "print(rps.score)"
   ]
  },
  {
   "cell_type": "code",
   "execution_count": 146,
   "metadata": {},
   "outputs": [
    {
     "name": "stdout",
     "output_type": "stream",
     "text": [
      "12\n"
     ]
    }
   ],
   "source": [
    "from enum import Enum, StrEnum, auto\n",
    "from typing import Dict, List\n",
    "\n",
    "class Result(StrEnum):\n",
    "    WIN = auto()\n",
    "    LOSE = auto()\n",
    "    TIE = auto()\n",
    "\n",
    "class Sign(Enum):\n",
    "    ROCK = \"rock\"\n",
    "    PAPER = \"paper\"\n",
    "    SCISSORS = \"scissors\"\n",
    "\n",
    "class RPS_2:\n",
    "    defeat_rules: Dict[Sign, Sign] = {Sign.ROCK: Sign.SCISSORS, Sign.PAPER: Sign.ROCK, Sign.SCISSORS: Sign.PAPER}\n",
    "    score_values: Dict[Sign|Result, int] = {Sign.ROCK: 1, Sign.PAPER:2, Sign.SCISSORS: 3, Result.WIN: 6, Result.LOSE: 0, Result.TIE: 3}\n",
    "    sign_codes: Dict[str, Sign] = {'A': Sign.ROCK,  'B': Sign.PAPER,'C': Sign.SCISSORS}\n",
    "    result_codes: Dict[str, Result] = {'X': Result.LOSE, 'Y': Result.TIE, 'Z': Result.WIN}\n",
    "\n",
    "    def __init__(self):\n",
    "        self.score = 0\n",
    "\n",
    "    def score_round(self, opponent_sign_input: str, desired_result_input: str):\n",
    "        opponent = RPS_2.sign_codes[opponent_sign_input]\n",
    "        desired_result = RPS_2.result_codes[desired_result_input]\n",
    "        \n",
    "        me: Sign\n",
    "\n",
    "        if desired_result == Result.TIE:\n",
    "            me = opponent\n",
    "        elif desired_result == Result.LOSE:\n",
    "            me = RPS_2.defeat_rules[opponent]\n",
    "        else:\n",
    "            me = next(win for win, lose in RPS_2.defeat_rules.items() if lose == opponent)\n",
    "\n",
    "        result: Result\n",
    "\n",
    "        if RPS_2.defeat_rules[me] == opponent:\n",
    "            result = Result.WIN\n",
    "        elif RPS_2.defeat_rules[opponent] == me:\n",
    "            result = Result.LOSE\n",
    "        else:\n",
    "            result = Result.TIE\n",
    "\n",
    "        results_score = RPS_2.score_values[result]\n",
    "        sign_score = RPS_2.score_values[me]\n",
    "        round_score = results_score + sign_score\n",
    "\n",
    "        self.score += round_score\n",
    "\n",
    "    def score_rounds(self, input):\n",
    "        for opp, me in [round.split() for round in input.split('\\n')]:\n",
    "            self.score_round(opp, me)\n",
    "\n",
    "rps = RPS_2()\n",
    "rps.score_rounds(sample_input)\n",
    "print(rps.score)\n"
   ]
  },
  {
   "cell_type": "code",
   "execution_count": 147,
   "metadata": {},
   "outputs": [
    {
     "name": "stdout",
     "output_type": "stream",
     "text": [
      "11998\n"
     ]
    }
   ],
   "source": [
    "\n",
    "rps = RPS_2()\n",
    "rps.score_rounds(puzzle.input_data)\n",
    "print(rps.score)"
   ]
  }
 ],
 "metadata": {
  "kernelspec": {
   "display_name": ".venv",
   "language": "python",
   "name": "python3"
  },
  "language_info": {
   "codemirror_mode": {
    "name": "ipython",
    "version": 3
   },
   "file_extension": ".py",
   "mimetype": "text/x-python",
   "name": "python",
   "nbconvert_exporter": "python",
   "pygments_lexer": "ipython3",
   "version": "3.12.0"
  }
 },
 "nbformat": 4,
 "nbformat_minor": 2
}
