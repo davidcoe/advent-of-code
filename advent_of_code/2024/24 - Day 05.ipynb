{
 "cells": [
  {
   "cell_type": "markdown",
   "id": "3c5524b7-ee66-4abd-8029-39c44e917d58",
   "metadata": {},
   "source": [
    "## Part 1"
   ]
  },
  {
   "cell_type": "code",
   "execution_count": 1,
   "id": "9ae8dc19-1f00-4603-9e8a-2f0b3d778545",
   "metadata": {},
   "outputs": [],
   "source": [
    "from aocd.models import Puzzle\n",
    "\n",
    "puzzle = Puzzle(year=2024, day=5)\n",
    "\n",
    "def test(method, input, expected):\n",
    "    actual = method(input)\n",
    "    if actual == expected:\n",
    "        print(f'\\t☑ - {method.__name__}({input}) = {expected} = {actual}')\n",
    "    else:\n",
    "        print(f'\\t☐ - {method.__name__}({input}) = {expected} ≠ {actual}')"
   ]
  },
  {
   "cell_type": "code",
   "execution_count": 2,
   "id": "af188f1c",
   "metadata": {},
   "outputs": [],
   "source": [
    "import re\n",
    "\n",
    "def parse_data(input:str) -> tuple[list[tuple[int,int]], list[int]]:\n",
    "    raw_rules, raw_updates = input.split('\\n\\n')\n",
    "\n",
    "    rules = [(int(x), int(y)) for (x,y) in re.findall(r'(\\d+)\\|(\\d+)', raw_rules)]\n",
    "    updates = []\n",
    "    \n",
    "    for raw_update in raw_updates.split():\n",
    "        updates.append([int(x) for x in re.findall(r'(\\d+),?', raw_update)])\n",
    "\n",
    "    return (rules, updates)"
   ]
  },
  {
   "cell_type": "code",
   "execution_count": 3,
   "id": "e86469b4",
   "metadata": {},
   "outputs": [
    {
     "name": "stdout",
     "output_type": "stream",
     "text": [
      "([(47, 53), (97, 13), (97, 61), (97, 47), (75, 29), (61, 13), (75, 53), (29, 13), (97, 29), (53, 29), (61, 53), (97, 53), (61, 29), (47, 13), (75, 47), (97, 75), (47, 61), (75, 61), (47, 29), (75, 13), (53, 13)], [[75, 47, 61, 53, 29], [97, 61, 53, 29, 13], [75, 29, 13], [75, 97, 47, 61, 53], [61, 13, 29], [97, 13, 75, 29, 47]])\n"
     ]
    }
   ],
   "source": [
    "print(parse_data(puzzle.examples[0].input_data))"
   ]
  },
  {
   "cell_type": "code",
   "execution_count": 4,
   "id": "604e5629",
   "metadata": {},
   "outputs": [],
   "source": [
    "def build_rules(rules_input:list[tuple[int,int]]) -> dict[int, tuple[set[int], set[int]]]:\n",
    "    rules = {}\n",
    "    \n",
    "    for predecessor, successor in rules_input:\n",
    "        \n",
    "        if predecessor not in rules:\n",
    "            rules[predecessor] = (set(), set())\n",
    "\n",
    "        if successor not in rules:\n",
    "            rules[successor] = (set(), set())\n",
    "\n",
    "        rules[predecessor][1].add(successor)\n",
    "        rules[successor][0].add(predecessor)\n",
    "\n",
    "    return rules\n",
    "\n",
    "def _determine_valid_update(rules, update):\n",
    "    for i, page in enumerate(update):\n",
    "        predecessors, successors = rules[page]\n",
    "        \n",
    "        # Careful this is inverted. I'm checking what follows to make sure it wasn't a require predecessor\n",
    "        if predecessors & set(update[i+1:]):\n",
    "            # print(f'Predecessor rule violation for {page} - Rules: {predecessor}')\n",
    "            valid = False\n",
    "            break\n",
    "        if successors & set(update[:i]):\n",
    "            # print('Successor rule violation')\n",
    "            valid = False\n",
    "            break\n",
    "    else:\n",
    "        return True\n",
    "\n",
    "    return False\n",
    "\n",
    "def find_middle_valid_pages(input:str) -> list[int]:\n",
    "\n",
    "    raw_rules, raw_updates = parse_data(input)\n",
    "\n",
    "    rules = build_rules(raw_rules)\n",
    "\n",
    "    valid_updates = []\n",
    "\n",
    "    for update in raw_updates:\n",
    "        if _determine_valid_update(rules, update):\n",
    "            # print(f'Valid update {update}')\n",
    "            valid_updates.append(update)\n",
    "            \n",
    "    # Assumption here that the list length is not even.\n",
    "    middle_of_updates = [valid_update[int(len(valid_update)/2)] for valid_update in valid_updates]\n",
    "    return middle_of_updates\n"
   ]
  },
  {
   "cell_type": "code",
   "execution_count": 5,
   "id": "9ecd015f",
   "metadata": {},
   "outputs": [
    {
     "name": "stdout",
     "output_type": "stream",
     "text": [
      "143\n"
     ]
    }
   ],
   "source": [
    "    \n",
    "print(sum(find_middle_valid_pages(puzzle.examples[0].input_data)))"
   ]
  },
  {
   "cell_type": "code",
   "execution_count": 6,
   "id": "99b17dce",
   "metadata": {},
   "outputs": [
    {
     "name": "stdout",
     "output_type": "stream",
     "text": [
      "4959\n"
     ]
    }
   ],
   "source": [
    "print(sum(find_middle_valid_pages(puzzle.input_data)))"
   ]
  },
  {
   "cell_type": "markdown",
   "id": "93f443ca-48d2-406b-83f8-226496c85283",
   "metadata": {},
   "source": [
    "## Part 2"
   ]
  },
  {
   "cell_type": "code",
   "execution_count": 7,
   "id": "5c7f73da",
   "metadata": {},
   "outputs": [],
   "source": [
    "import random\n",
    "\n",
    "def fix_rules(input):\n",
    "    raw_rules, raw_updates = parse_data(input)\n",
    "\n",
    "    rules = build_rules(raw_rules)\n",
    "\n",
    "    invalid_updates = []\n",
    "\n",
    "    for update in raw_updates:\n",
    "        if not _determine_valid_update(rules, update):\n",
    "            invalid_updates.append(update)\n",
    "\n",
    "    valid_updates = []\n",
    "\n",
    "    for invalid_update in invalid_updates:\n",
    "        valid_found = False\n",
    "        i = 0\n",
    "        while i < 10000 and not valid_found:\n",
    "            i += 1\n",
    "            random.shuffle(invalid_update)\n",
    "            if(_determine_valid_update(rules, invalid_update)):\n",
    "                valid_found = True\n",
    "                valid_updates.append(invalid_update)\n",
    "\n",
    "    print(invalid_updates)\n",
    "\n",
    "    middle_of_updates = [valid_update[int(len(valid_update)/2)] for valid_update in valid_updates]\n",
    "    return middle_of_updates\n",
    "\n",
    "def build_rules(rules_input:list[tuple[int,int]]) -> dict[int, tuple[set[int], set[int]]]:\n",
    "    rules = {}\n",
    "    \n",
    "    for predecessor, successor in rules_input:\n",
    "        \n",
    "        if predecessor not in rules:\n",
    "            rules[predecessor] = (set(), set())\n",
    "\n",
    "        if successor not in rules:\n",
    "            rules[successor] = (set(), set())\n",
    "\n",
    "        rules[predecessor][1].add(successor)\n",
    "        rules[successor][0].add(predecessor)\n",
    "\n",
    "    return rules\n"
   ]
  },
  {
   "cell_type": "code",
   "execution_count": 8,
   "id": "b89c0693",
   "metadata": {},
   "outputs": [
    {
     "name": "stdout",
     "output_type": "stream",
     "text": [
      "[[97, 75, 47, 61, 53], [61, 29, 13], [97, 75, 47, 29, 13]]\n"
     ]
    },
    {
     "data": {
      "text/plain": [
       "123"
      ]
     },
     "execution_count": 8,
     "metadata": {},
     "output_type": "execute_result"
    }
   ],
   "source": [
    "\n",
    "sum(fix_rules(puzzle.examples[0].input_data))"
   ]
  },
  {
   "cell_type": "code",
   "execution_count": 9,
   "id": "9145c45b",
   "metadata": {},
   "outputs": [
    {
     "name": "stdout",
     "output_type": "stream",
     "text": [
      "[[37, 11, 68, 16, 59, 69, 85, 15, 62, 83, 39, 71, 34, 28, 43, 33, 17, 75, 58], [48, 81, 33, 15, 34, 75, 73, 71, 24, 31, 16], [68, 24, 33, 57, 31, 71, 16, 74, 81, 34, 48, 69, 19], [62, 22, 75, 16, 39, 28, 11, 15, 19, 59, 37, 85, 81, 24, 69, 68, 73, 57, 33, 31, 48, 43, 34], [56, 57, 19, 86, 85, 28, 75, 81, 59, 11, 39, 37, 31, 68, 74, 34, 32, 16, 24, 62, 69], [83, 73, 12, 17, 54, 18, 89, 42, 92, 22, 53], [32, 28, 18, 57, 24, 19, 42, 11, 39, 34, 37, 48, 56, 86, 85, 75, 43], [37, 71, 11, 57, 16, 83, 58, 33, 13, 17, 62, 92, 43, 77, 69, 15, 68, 22, 75, 73, 98], [24, 28, 48, 19, 73, 11, 81, 15, 37], [17, 82, 71, 15, 22, 92, 69, 94, 75, 77, 54, 52, 73, 53, 12, 89, 83, 58, 33, 57, 11, 29, 98], [85, 68, 57, 37, 81, 71, 31, 12, 33], [47, 32, 74, 89, 31, 39, 24, 19, 42, 81, 53, 48, 85, 16, 59, 26, 86, 18, 87, 94, 56, 82, 34], [59, 33, 75, 68, 39, 34, 85, 81, 37, 62, 73, 28, 31, 57, 16, 19, 71, 22, 15, 83, 24, 69, 43], [74, 77, 86, 26, 87, 56, 12, 52, 29, 38, 53, 54, 42, 48, 19, 92, 94], [26, 37, 56, 38, 19, 85, 34, 74, 43, 16, 32], [18, 47, 87, 94, 29, 13, 33], [59, 39, 53, 24, 85, 37, 47, 42, 68, 34, 48], [56, 86, 38, 87, 94, 54, 98, 12, 58], [77, 56, 58, 86, 52, 74, 26, 32, 13, 53, 12, 94, 82, 29, 47, 42, 87, 54, 18, 92, 89, 98, 38], [38, 34, 39, 24, 42, 82, 89, 52, 47, 87, 94, 31, 85, 53, 18, 59, 81, 48, 26, 32, 56], [38, 87, 53, 82, 98, 12, 69], [26, 53, 52, 92, 13, 15, 69], [92, 73, 16, 83, 43, 37, 69, 58, 54], [62, 73, 54, 71, 83, 12, 92, 52, 22, 17, 43, 28, 29, 69, 57, 33, 15, 13, 58, 68, 98, 77, 75], [85, 71, 37, 28, 11, 59, 24, 16, 42, 31, 75, 86, 57, 39, 68], [31, 85, 38, 48, 86, 42, 11, 24, 56, 39, 74, 16, 18, 57, 43, 81, 32, 19, 62], [47, 53, 89, 52, 77], [53, 89, 52, 92, 22, 75, 57], [32, 29, 81, 47, 89, 39, 54, 82, 53, 42, 38], [15, 52, 98, 57, 17, 62, 13, 77, 33, 12, 82], [32, 56, 87, 39, 86, 26, 52, 34, 54, 29, 19], [85, 71, 17, 81, 34, 62, 43, 83, 58, 28, 59, 33, 75, 39, 69, 68, 22, 16, 73, 57, 11], [29, 73, 12, 58, 15, 22, 89, 94, 54, 33, 52, 98, 92, 17, 69, 11, 82, 83, 53, 77, 13], [13, 11, 57, 28, 58, 89, 94, 15, 12, 98, 62, 52, 73, 69, 75, 54, 77, 17, 71, 33, 92, 22, 83], [94, 52, 54, 15, 57, 62, 28], [87, 53, 94, 29, 17, 33, 75], [17, 15, 77, 92, 73, 83, 68, 98, 43, 52, 54, 22, 62, 29, 71, 28, 75, 57, 69], [15, 77, 87, 58, 38, 26, 98, 83, 52, 17, 13, 94, 12, 53, 29, 73, 54, 82, 18, 89, 92, 22, 42], [52, 33, 12, 92, 17, 94, 82, 38, 18, 13, 77, 29, 53, 22, 58, 73, 87, 54, 89, 47, 98, 26, 15], [16, 87, 34, 38, 26, 18, 94, 59, 85, 53, 39, 81, 86, 42, 37, 74, 56, 19, 48], [18, 47, 77, 53, 58, 83, 12, 38, 87, 13, 32, 73, 29], [37, 81, 28, 42, 32, 59, 56, 68, 24, 34, 86, 31, 74, 48, 19, 57, 11, 16, 85, 71, 39], [62, 74, 85, 16, 81, 19, 38, 32, 68, 86, 31, 43, 59, 34, 87, 18, 28], [83, 54, 12, 53, 77, 52, 87, 98, 69, 17, 73, 33, 92, 29, 94, 15, 13, 89, 26, 47, 71, 22, 58], [73, 18, 47, 32, 52, 13, 38, 54, 83, 53, 26, 98, 12], [92, 47, 73, 54, 94, 15, 83, 33, 82, 98, 17, 87, 22, 52, 26, 38, 12, 29, 18, 53, 13], [33, 73, 69, 28, 71, 15, 43, 16, 13, 12, 98, 22, 85, 83, 75, 37, 68, 57, 59, 11, 77, 58, 62], [28, 33, 62, 29, 58, 89, 69, 22, 52, 75, 83, 73, 98, 57, 54, 12, 15, 13, 17, 77, 71, 94, 92], [11, 92, 22, 62, 17, 16, 37, 33, 73, 57, 69, 83, 28, 77, 43, 68, 15, 98, 71, 58, 54, 75, 12], [18, 52, 54, 92, 13], [13, 58, 52, 26, 42, 83, 18, 38, 98, 47, 92, 29, 86, 53, 82, 94, 32, 89, 12, 73, 87], [47, 94, 54, 29, 15, 83, 82, 12, 18, 33, 22, 26, 58, 38, 13, 52, 17], [83, 98, 11, 28, 22, 62, 68, 59, 12, 77, 15, 57, 13, 37, 75, 16, 33, 85, 73], [62, 39, 75, 48, 59, 57, 31, 33, 19, 15, 85, 69, 16, 24, 28, 71, 37, 34, 81, 11, 73], [13, 22, 33, 57, 11, 52, 17, 43, 98, 92, 68, 12, 73, 28, 62, 58, 71, 69, 83], [16, 56, 39, 32, 59, 86, 43, 34, 31, 48, 28, 24, 11, 75, 57, 81, 18], [37, 43, 59, 17, 85, 58, 75, 68, 39, 11, 13], [17, 28, 94, 12, 98, 11, 52, 22, 33], [71, 53, 29, 15, 12, 22, 58, 73, 83, 52, 89], [16, 68, 34, 85, 39, 28, 31, 87, 74, 37, 81], [94, 69, 13, 54, 29, 52, 22, 73, 98], [37, 19, 16, 53, 86, 56, 24, 39, 82, 31, 18, 43, 38, 32, 42, 87, 81, 48, 26, 47, 34], [39, 32, 56, 11, 62, 48, 59, 74, 28, 33, 43, 85, 34, 16, 19, 57, 68, 69, 31, 75, 37, 24, 71], [29, 54, 74, 47, 19, 77, 89, 12, 87, 86, 92, 13, 38, 42, 52], [56, 54, 52, 19, 53, 48, 74, 81, 24, 18, 38, 87, 29, 77, 86], [12, 18, 82, 98, 77, 13, 74, 87, 94], [75, 22, 16, 57, 56, 37, 11], [31, 85, 19, 82, 59, 87, 53, 52, 94, 18, 39], [57, 92, 11, 33, 12, 73, 69, 89, 77, 52, 53, 75, 13], [11, 12, 73, 29, 26, 53, 54, 77, 13, 69, 82, 17, 98, 89, 83, 94, 75, 52, 58, 22, 71], [29, 82, 26, 17, 92, 13, 38, 74, 12, 53, 48, 32, 42, 56, 47, 18, 54, 77, 52, 87, 94, 86, 89], [37, 16, 28, 81, 34, 31, 56, 57, 75, 24, 85, 69, 33, 19, 22, 62, 48, 43, 11], [31, 22, 34, 37, 24, 59, 48, 73, 39, 16, 57, 81, 43, 69, 28, 33, 19, 15, 85, 68, 11, 62, 75], [28, 43, 56, 33, 34, 31, 85, 69, 68, 62, 48, 75, 32], [32, 33, 85, 43, 16, 59, 28, 75, 48, 69, 68, 57, 81], [54, 57, 16, 28, 11, 77, 33, 71, 17, 92, 13, 12, 62, 15, 98, 69, 73, 37, 68], [86, 18, 42, 32, 26, 12, 94, 38, 29, 54, 58, 77, 82, 83, 17, 56, 47, 87, 92, 53, 89, 13, 98], [59, 73, 22, 71, 37, 75, 31, 11, 15, 58, 39, 62, 33, 83, 34, 85, 69], [43, 31, 16, 56, 26, 86, 47, 74, 48, 39, 85, 37, 19, 38, 24, 82, 59, 18, 53], [19, 16, 62, 32, 86, 69, 11, 24, 85, 48, 31, 81, 28, 37, 74], [18, 77, 94, 32, 89, 82, 26, 47, 56, 86, 81], [85, 68, 37, 48, 16, 62, 28, 74, 34, 39, 15, 69, 81, 33, 75, 11, 57, 31, 19, 24, 59], [26, 53, 13, 17, 83, 71, 11], [89, 85, 74, 94, 34, 87, 47, 32, 19, 38, 31, 82, 59, 53, 48, 56, 39, 18, 24], [53, 98, 58, 12, 82, 29, 71, 73, 33, 13, 89, 69, 77, 17, 92, 11, 83, 15, 54, 22, 26, 52, 75], [32, 54, 18, 19, 47, 77, 52, 89, 42, 26, 92], [82, 74, 56, 24, 26, 89, 47, 77, 54, 42, 13], [94, 42, 53, 56, 54, 92, 48, 24, 32, 34, 74, 89, 26, 77, 86, 47, 87, 29, 98, 19, 82, 38, 18], [57, 86, 62, 28, 34, 19, 11, 39, 59, 42, 56, 24, 75, 71, 37, 85, 48, 16, 43, 68, 32, 81, 31], [69, 37, 13, 77, 28, 92, 12, 68, 43, 16, 75, 85, 58, 22, 71], [34, 32, 18, 82, 94, 29, 54], [42, 53, 31, 32, 85, 94, 18, 38, 59, 56, 24, 48, 39, 81, 74, 87, 26, 34, 86, 19, 82, 37, 16]]\n"
     ]
    },
    {
     "data": {
      "text/plain": [
       "740"
      ]
     },
     "execution_count": 9,
     "metadata": {},
     "output_type": "execute_result"
    }
   ],
   "source": [
    "sum(fix_rules(puzzle.input_data))"
   ]
  },
  {
   "cell_type": "markdown",
   "id": "02585be7",
   "metadata": {},
   "source": [
    "I knew better, but I had to try\n",
    "\n"
   ]
  },
  {
   "cell_type": "code",
   "execution_count": 10,
   "metadata": {},
   "outputs": [
    {
     "data": {
      "text/plain": [
       "0"
      ]
     },
     "execution_count": 10,
     "metadata": {},
     "output_type": "execute_result"
    }
   ],
   "source": [
    "def determine_valid_update(rules, update) -> tuple[bool, list[int]]:\n",
    "    valid_update = True\n",
    "    invalid_pages = []\n",
    "    \n",
    "    for i, page in enumerate(update):\n",
    "        predecessors, successors = rules[page]\n",
    "        \n",
    "        # Careful this is inverted. I'm checking what follows to make sure it wasn't a require predecessor\n",
    "        if predecessors & set(update[i+1:]):\n",
    "            # print(f'Predecessor rule violation for {page} - Rules: {predecessor}')\n",
    "            valid_update = False\n",
    "            invalid_pages.append(page)\n",
    "            \n",
    "        if successors & set(update[:i]):\n",
    "            # print('Successor rule violation')\n",
    "            valid_update = False\n",
    "            invalid_pages.append(page)\n",
    "\n",
    "    return (valid_update, invalid_pages)\n",
    "\n",
    "def fix_rules(input):\n",
    "    raw_rules, raw_updates = parse_data(input)\n",
    "\n",
    "    rules = build_rules(raw_rules)\n",
    "\n",
    "    invalid_updates = []\n",
    "\n",
    "    for update in raw_updates:\n",
    "        valid, violations = determine_valid_update(rules, update)\n",
    "        if valid:\n",
    "            continue\n",
    "        \n",
    "        # print(update, violations)\n",
    "        invalid_updates.append(update)\n",
    "\n",
    "        for page in update:\n",
    "            if page not in rules:\n",
    "                print('Page wasn\"t in the rules. I\"ll have to be smarter\"')\n",
    "\n",
    "    # print(invalid_updates)\n",
    "\n",
    "    # valid_updates = []\n",
    "\n",
    "    # for invalid_update in invalid_updates:\n",
    "    #     valid_found = False\n",
    "    #     while i < 10000 and not valid_found:\n",
    "    #         random.shuffle(invalid_update)\n",
    "    #         if(_determine_valid_update(rules, invalid_update)):\n",
    "    #             valid_found = True\n",
    "    #             valid_updates.append(invalid_update)\n",
    "\n",
    "    # print(invalid_updates)\n",
    "\n",
    "    # middle_of_updates = [valid_update[int(len(valid_update)/2)] for valid_update in valid_updates]\n",
    "    # return middle_of_updates\n",
    "\n",
    "    return [0]\n",
    "\n",
    "\n",
    "sum(fix_rules(puzzle.examples[0].input_data))\n",
    "sum(fix_rules(puzzle.input_data))"
   ]
  },
  {
   "cell_type": "markdown",
   "id": "0d612651",
   "metadata": {},
   "source": [
    "Eventually I'll learn not to shortcut. Looks like all of the pages are covered by the rules. I can use the rules to build them back up right?\n"
   ]
  },
  {
   "cell_type": "code",
   "execution_count": 11,
   "id": "1d94efcd",
   "metadata": {},
   "outputs": [],
   "source": [
    "def determine_valid_update(rules, update) -> tuple[bool, list[int]]:\n",
    "    valid_update = True\n",
    "    invalid_pages = []\n",
    "    \n",
    "    for i, page in enumerate(update):\n",
    "        predecessors, successors = rules[page]\n",
    "        \n",
    "        # Careful this is inverted. I'm checking what follows to make sure it wasn't a require predecessor\n",
    "        if predecessors & set(update[i+1:]):\n",
    "            # print(f'Predecessor rule violation for {page} - Rules: {predecessor}')\n",
    "            valid_update = False\n",
    "            invalid_pages.append(page)\n",
    "            \n",
    "        if successors & set(update[:i]):\n",
    "            # print('Successor rule violation')\n",
    "            valid_update = False\n",
    "            invalid_pages.append(page)\n",
    "\n",
    "    return (valid_update, invalid_pages)\n",
    "\n",
    "def fix_rules(input):\n",
    "    raw_rules, raw_updates = parse_data(input)\n",
    "\n",
    "    rules = build_rules(raw_rules)\n",
    "\n",
    "    invalid_updates = []\n",
    "\n",
    "    for update in raw_updates:\n",
    "        valid, violations = determine_valid_update(rules, update)\n",
    "        if valid:\n",
    "            continue\n",
    "        \n",
    "        # print(update, violations)\n",
    "        invalid_updates.append(update)\n",
    "\n",
    "        for page in update:\n",
    "            if page not in rules:\n",
    "                print('Page wasn\"t in the rules. I\"ll have to be smarter\"')\n",
    "            \n",
    "\n",
    "    valid_updates = []\n",
    "\n",
    "    for update in invalid_updates:\n",
    "        valid_order = [update[0]]\n",
    "        for page in update[1:]:\n",
    "            # print(f\"[{page}]: {rules[page]}\")\n",
    "            for i in range(len(valid_order)):\n",
    "                if page in rules[valid_order[i]][0]:\n",
    "                    valid_order.insert(i, page)\n",
    "                    break\n",
    "            else:\n",
    "                valid_order.append(page)\n",
    "\n",
    "        valid_updates.append(valid_order)\n",
    "\n",
    "    middle_of_updates = [valid_update[int(len(valid_update)/2)] for valid_update in valid_updates]\n",
    "    return middle_of_updates\n",
    "\n",
    "\n",
    "\n"
   ]
  },
  {
   "cell_type": "code",
   "execution_count": 12,
   "id": "377f40f2",
   "metadata": {},
   "outputs": [
    {
     "data": {
      "text/plain": [
       "123"
      ]
     },
     "execution_count": 12,
     "metadata": {},
     "output_type": "execute_result"
    }
   ],
   "source": [
    "sum(fix_rules(puzzle.examples[0].input_data))"
   ]
  },
  {
   "cell_type": "code",
   "execution_count": 13,
   "id": "6071bc72",
   "metadata": {},
   "outputs": [
    {
     "data": {
      "text/plain": [
       "4655"
      ]
     },
     "execution_count": 13,
     "metadata": {},
     "output_type": "execute_result"
    }
   ],
   "source": [
    "sum(fix_rules(puzzle.input_data))"
   ]
  }
 ],
 "metadata": {
  "kernelspec": {
   "display_name": "Python 3 (ipykernel)",
   "language": "python",
   "name": "python3"
  },
  "language_info": {
   "codemirror_mode": {
    "name": "ipython",
    "version": 3
   },
   "file_extension": ".py",
   "mimetype": "text/x-python",
   "name": "python",
   "nbconvert_exporter": "python",
   "pygments_lexer": "ipython3",
   "version": "3.13.0"
  }
 },
 "nbformat": 4,
 "nbformat_minor": 5
}
