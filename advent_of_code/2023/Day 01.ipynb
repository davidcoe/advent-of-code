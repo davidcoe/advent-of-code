{
 "cells": [
  {
   "cell_type": "markdown",
   "metadata": {},
   "source": [
    "# Advent of Code 2023 - Day 01"
   ]
  },
  {
   "cell_type": "markdown",
   "metadata": {},
   "source": [
    "## Day 01\n",
    "\n",
    "https://adventofcode.com/2023/day/1\n"
   ]
  },
  {
   "cell_type": "code",
   "execution_count": 14,
   "metadata": {},
   "outputs": [
    {
     "name": "stdout",
     "output_type": "stream",
     "text": [
      "[Example(input_data='1abc2\\npqr3stu8vwx\\na1b2c3d4e5f\\ntreb7uchet', answer_a='142', answer_b='281', extra=None)]\n"
     ]
    }
   ],
   "source": [
    "from aocd.models import Puzzle\n",
    "\n",
    "puzzle = Puzzle(year=2023, day=1)\n",
    "print(puzzle.examples)"
   ]
  },
  {
   "cell_type": "code",
   "execution_count": 33,
   "metadata": {},
   "outputs": [],
   "source": [
    "import re\n",
    "\n",
    "def parse_calibration_values(calibration_lines:str) -> list[int]:\n",
    "    return sum([int(c[0]+c[-1]) for c in [re.sub(r'[^0-9]', '', calibration) for calibration in calibration_lines.split('\\n')]])\n",
    "\n",
    "solution_a = parse_calibration_values"
   ]
  },
  {
   "cell_type": "code",
   "execution_count": 34,
   "metadata": {},
   "outputs": [
    {
     "name": "stdout",
     "output_type": "stream",
     "text": [
      "Checking examples...\n",
      "☑\n"
     ]
    }
   ],
   "source": [
    "print('Checking examples...')\n",
    "for example in puzzle.examples:\n",
    "    if int(example.answer_a) == solution_a(example.input_data):\n",
    "        print('☑')\n",
    "    else:\n",
    "        print(f'☐ - {example.answer_a} ≠ {solution_a(example.input_data)}')"
   ]
  },
  {
   "cell_type": "code",
   "execution_count": 35,
   "metadata": {},
   "outputs": [
    {
     "name": "stdout",
     "output_type": "stream",
     "text": [
      "55834\n"
     ]
    }
   ],
   "source": [
    "print(solution_a(puzzle.input_data))"
   ]
  },
  {
   "cell_type": "code",
   "execution_count": 99,
   "metadata": {},
   "outputs": [],
   "source": [
    "import re\n",
    "\n",
    "def parse_calibration_values_parse_words(calibration_lines: str) -> int:\n",
    "    translation = dict((el,str(i)) for i,el in enumerate([\"one\",\"two\",\"three\",\"four\",\"five\",\"six\",\"seven\",\"eight\",\"nine\"], 1))\n",
    "    pattern = '|'.join(re.escape(k) for k in translation)\n",
    "    calibration_lines = [re.sub(pattern, lambda m: translation.get(m.group(0)), calibration) for calibration in calibration_lines.split('\\n')]\n",
    "    return parse_calibration_values('\\n'.join(calibration_lines)) # I'm lazy\n",
    "\n",
    "solution_b = parse_calibration_values_parse_words"
   ]
  },
  {
   "cell_type": "code",
   "execution_count": 100,
   "metadata": {},
   "outputs": [
    {
     "name": "stdout",
     "output_type": "stream",
     "text": [
      "Checking examples...\n",
      "☑\n"
     ]
    }
   ],
   "source": [
    "from aocd.examples import Example\n",
    "\n",
    "part_two_example = Example(\"\"\"two1nine\n",
    "eightwothree\n",
    "abcone2threexyz\n",
    "xtwone3four\n",
    "4nineeightseven2\n",
    "zoneight234\n",
    "7pqrstsixteen\"\"\", answer_a=None, answer_b=281)\n",
    "\n",
    "print('Checking examples...')\n",
    "for example in [part_two_example]:\n",
    "    if int(example.answer_b) == solution_b(example.input_data):\n",
    "        print('☑')\n",
    "    else:\n",
    "        print(f'☐ - {example.answer_b} ≠ {solution_b(example.input_data)}')"
   ]
  },
  {
   "cell_type": "code",
   "execution_count": 96,
   "metadata": {},
   "outputs": [
    {
     "name": "stdout",
     "output_type": "stream",
     "text": [
      "53254\n"
     ]
    }
   ],
   "source": [
    "print(solution_b(puzzle.input_data))"
   ]
  },
  {
   "cell_type": "markdown",
   "metadata": {},
   "source": [
    "53254 is too high"
   ]
  },
  {
   "cell_type": "code",
   "execution_count": 164,
   "metadata": {},
   "outputs": [
    {
     "ename": "SyntaxError",
     "evalue": "invalid syntax. Perhaps you forgot a comma? (1668989881.py, line 7)",
     "output_type": "error",
     "traceback": [
      "\u001b[1;36m  Cell \u001b[1;32mIn[164], line 7\u001b[1;36m\u001b[0m\n\u001b[1;33m    pattern = '|'.join(\"(?=\" + re.escape(k)[] + \")\" for k in translation)\u001b[0m\n\u001b[1;37m                       ^\u001b[0m\n\u001b[1;31mSyntaxError\u001b[0m\u001b[1;31m:\u001b[0m invalid syntax. Perhaps you forgot a comma?\n"
     ]
    }
   ],
   "source": [
    "## ABANDONED APPROACH\n",
    "\n",
    "import re\n",
    "\n",
    "translation = dict((el,el[0] + str(i) + el[-1]) for i,el in enumerate([\"one\",\"two\",\"three\",\"four\",\"five\",\"six\",\"seven\",\"eight\",\"nine\"], 1))\n",
    "# I couuld likely solve this with look ahead and behing assertions, but this is getting crazy...\n",
    "pattern = '|'.join(\"(?=\" + re.escape(k)[] + \")\" for k in translation)\n",
    "\n",
    "def parse_calibration_values_parse_words(calibration_lines: str) -> int:\n",
    "    translation = dict((el,el[0] + str(i) + el[-1]) for i,el in enumerate([\"one\",\"two\",\"three\",\"four\",\"five\",\"six\",\"seven\",\"eight\",\"nine\"], 1))\n",
    "    print(translation)\n",
    "    \n",
    "    \n",
    "    corrected_lines = [re.sub(pattern, lambda m: ''.join([t.get(g) for g in m.groups()]), calibration) for calibration in calibration_lines.split('\\n')]\n",
    "    calibration_values = [int(c[0]+c[-1]) for c in [re.sub(r'[^0-9]', '', calibration) for calibration in corrected_lines]]\n",
    "\n",
    "    for indx, el in enumerate(calibration_lines.split('\\n')[:20]):\n",
    "        print(f'{el} => {corrected_lines[indx]} => {calibration_values[indx]}')\n",
    "\n",
    "    return sum(calibration_values)\n",
    "\n",
    "print(pattern)\n",
    "print(re.findall(pattern, 'EIGHTHREE'.lower()))\n",
    "\n",
    "solution_b = parse_calibration_values_parse_words\n",
    "\n",
    "solution_b('\\n'.join(puzzle.input_data.split('\\n')[:20]))\n",
    "\n",
    "print(solution_b('EIGHTHREE'.lower()))\n",
    "\n",
    "print(pattern.matches('EIGHTHREE'.lower()).groups())\n",
    "re.sub(pattern, lambda m: ''.join([t.get(g) for g in m.groups()]), 'EIGHTHREE'.lower())"
   ]
  },
  {
   "cell_type": "code",
   "execution_count": 29,
   "metadata": {},
   "outputs": [
    {
     "name": "stdout",
     "output_type": "stream",
     "text": [
      "Part B Test Cases:\n",
      "\t☑ - calibration_value(1abc2) = 12 = 12\n",
      "\t☑ - calibration_value(pqr3stu8vwx) = 38 = 38\n",
      "\t☑ - calibration_value(a1b2c3d4e5f) = 15 = 15\n",
      "\t☑ - calibration_value(treb7uchet) = 77 = 77\n",
      "\t☑ - calibration_value(two1nine) = 29 = 29\n",
      "\t☑ - calibration_value(eightwothree) = 83 = 83\n",
      "\t☑ - calibration_value(abcone2threexyz) = 13 = 13\n",
      "\t☑ - calibration_value(xtwone3four) = 24 = 24\n",
      "\t☑ - calibration_value(4nineeightseven2) = 42 = 42\n",
      "\t☑ - calibration_value(zoneight234) = 14 = 14\n",
      "\t☑ - calibration_value(7pqrstsixteen) = 76 = 76\n",
      "\t☑ - calibration_value(eighthree) = 83 = 83\n",
      "Part B Solution:\n",
      "\t53221\n"
     ]
    }
   ],
   "source": [
    "import re\n",
    "\n",
    "def calibration_value(calibration: str) -> int:\n",
    "    # This replacement is strange because of the occurance of EIGHTHREE where there is an overlap.\n",
    "    # Replacing one at a time was better than a regex solution with lookahead and behind for readability / complexity\n",
    "    # There are regexp libraries that would have a flag for overlap, but who needs another dependency?\n",
    "    translation = dict((el,el[0] + str(i) + el[-1]) for i,el in enumerate([\"one\",\"two\",\"three\",\"four\",\"five\",\"six\",\"seven\",\"eight\",\"nine\"], 1))\n",
    "\n",
    "    # word => number\n",
    "    for k,v in translation.items():\n",
    "        calibration = re.sub(rf'{re.escape(k)}', v, calibration)    \n",
    "    \n",
    "    # remove non-numbers\n",
    "    stripped_calibration = re.sub(r'[^0-9]', '', calibration)\n",
    "    \n",
    "    # first and last numbers as an int\n",
    "    return int(stripped_calibration[0]+stripped_calibration[-1]) if stripped_calibration else None\n",
    "\n",
    "def test(method, input, expected):\n",
    "    actual = method(input)\n",
    "    if actual == expected:\n",
    "        print(f'\\t☑ - {method.__name__}({input}) = {expected} = {actual}')\n",
    "    else:\n",
    "        print(f'\\t☐ - {method.__name__}({input}) = {expected} ≠ {actual}')\n",
    "\n",
    "print('Part B Test Cases:')\n",
    "for (input, expected) in [('1abc2', 12), ('pqr3stu8vwx', 38), ('a1b2c3d4e5f', 15), ('treb7uchet', 77), ('two1nine', 29), \n",
    "                          ('eightwothree', 83), ('abcone2threexyz', 13), ('xtwone3four', 24), ('4nineeightseven2', 42), \n",
    "                          ('zoneight234', 14),  ('7pqrstsixteen', 76), ('eighthree', 83)]:\n",
    "    test(calibration_value, input, expected)\n",
    "\n",
    "print(f'Part B Solution:\\n\\t{sum([calibration_value(c) for c in puzzle.input_data.split('\\n')])}')"
   ]
  }
 ],
 "metadata": {
  "kernelspec": {
   "display_name": ".venv",
   "language": "python",
   "name": "python3"
  },
  "language_info": {
   "codemirror_mode": {
    "name": "ipython",
    "version": 3
   },
   "file_extension": ".py",
   "mimetype": "text/x-python",
   "name": "python",
   "nbconvert_exporter": "python",
   "pygments_lexer": "ipython3",
   "version": "3.12.0"
  }
 },
 "nbformat": 4,
 "nbformat_minor": 2
}
