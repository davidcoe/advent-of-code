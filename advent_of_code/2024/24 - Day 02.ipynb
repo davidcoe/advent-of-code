{
 "cells": [
  {
   "cell_type": "markdown",
   "id": "3c5524b7-ee66-4abd-8029-39c44e917d58",
   "metadata": {},
   "source": [
    "## Part 1"
   ]
  },
  {
   "cell_type": "code",
   "execution_count": 1,
   "id": "9ae8dc19-1f00-4603-9e8a-2f0b3d778545",
   "metadata": {},
   "outputs": [],
   "source": [
    "from aocd.models import Puzzle\n",
    "\n",
    "puzzle = Puzzle(year=2024, day=2)"
   ]
  },
  {
   "cell_type": "code",
   "execution_count": 2,
   "id": "180d1a74-c01e-4434-ab98-01184812d42c",
   "metadata": {},
   "outputs": [],
   "source": [
    "def parse_data(data: str) -> list[list[int]]:\n",
    "    return [list(map(int, row.split())) for row in data.split('\\n')]"
   ]
  },
  {
   "cell_type": "code",
   "execution_count": 3,
   "id": "06d679d4-e8f6-4ffa-9737-e9885fa3314d",
   "metadata": {},
   "outputs": [
    {
     "data": {
      "text/plain": [
       "[[7, 6, 4, 2, 1],\n",
       " [1, 2, 7, 8, 9],\n",
       " [9, 7, 6, 2, 1],\n",
       " [1, 3, 2, 4, 5],\n",
       " [8, 6, 4, 4, 1],\n",
       " [1, 3, 6, 7, 9]]"
      ]
     },
     "execution_count": 3,
     "metadata": {},
     "output_type": "execute_result"
    }
   ],
   "source": [
    "parse_data(puzzle.examples[0].input_data)"
   ]
  },
  {
   "cell_type": "code",
   "execution_count": 4,
   "id": "2fc57750-5977-4d1a-a6b9-6408b9cbf54e",
   "metadata": {},
   "outputs": [],
   "source": [
    "import itertools\n",
    "\n",
    "def calculate_safety(l: list[int]) -> bool:\n",
    "    level_change = [x - y for (x, y) in itertools.pairwise(l)]\n",
    "    # print(level_change)\n",
    "\n",
    "    max_change, min_change = max(level_change), min(level_change)\n",
    "\n",
    "    if max_change > 0 and min_change < 0:\n",
    "        return False\n",
    "    \n",
    "    if abs(max_change) > 3 or abs(min_change) > 3:\n",
    "        return False\n",
    "    \n",
    "    if abs(min_change) < 1 or abs(max_change) < 1:\n",
    "        return False\n",
    "    \n",
    "    if 0 in level_change:\n",
    "        return False\n",
    "\n",
    "    return True"
   ]
  },
  {
   "cell_type": "code",
   "execution_count": 5,
   "id": "f4cac27c-27c6-4e29-8895-f917459810c4",
   "metadata": {},
   "outputs": [
    {
     "data": {
      "text/plain": [
       "2"
      ]
     },
     "execution_count": 5,
     "metadata": {},
     "output_type": "execute_result"
    }
   ],
   "source": [
    "[calculate_safety(report) for report in parse_data(puzzle.examples[0].input_data)].count(True)"
   ]
  },
  {
   "cell_type": "code",
   "execution_count": 6,
   "id": "eb574a5c-9579-4bde-b739-c10252a820fc",
   "metadata": {},
   "outputs": [
    {
     "data": {
      "text/plain": [
       "257"
      ]
     },
     "execution_count": 6,
     "metadata": {},
     "output_type": "execute_result"
    }
   ],
   "source": [
    "[calculate_safety(report) for report in parse_data(puzzle.input_data)].count(True)"
   ]
  },
  {
   "cell_type": "markdown",
   "id": "93f443ca-48d2-406b-83f8-226496c85283",
   "metadata": {},
   "source": [
    "## Part 2"
   ]
  },
  {
   "cell_type": "code",
   "execution_count": 7,
   "id": "0035e686-7d9b-4784-a900-2cca957c4be3",
   "metadata": {},
   "outputs": [],
   "source": [
    "import itertools\n",
    "\n",
    "def calculate_safety_dampener(l: list[int]) -> bool:\n",
    "    # Is this efficient to run? No. Is it efficient to write? Yes :D. I value that right now.\n",
    "    if calculate_safety(l):\n",
    "        return True\n",
    "\n",
    "    for i in range(len(l)):\n",
    "        if calculate_safety(l[:i] + l[i+1:]):\n",
    "            return True\n",
    "    \n",
    "    return False\n",
    "    "
   ]
  },
  {
   "cell_type": "code",
   "execution_count": 8,
   "id": "3a09639a-0ba6-402d-bc6e-2fbffa132a8d",
   "metadata": {},
   "outputs": [
    {
     "data": {
      "text/plain": [
       "4"
      ]
     },
     "execution_count": 8,
     "metadata": {},
     "output_type": "execute_result"
    }
   ],
   "source": [
    "[calculate_safety_dampener(report) for report in parse_data(puzzle.examples[0].input_data)].count(True)"
   ]
  },
  {
   "cell_type": "code",
   "execution_count": 9,
   "id": "17427d2a-b5f1-4497-8631-9fa7fbbda8a1",
   "metadata": {},
   "outputs": [
    {
     "data": {
      "text/plain": [
       "328"
      ]
     },
     "execution_count": 9,
     "metadata": {},
     "output_type": "execute_result"
    }
   ],
   "source": [
    "[calculate_safety_dampener(report) for report in parse_data(puzzle.input_data)].count(True)"
   ]
  }
 ],
 "metadata": {
  "kernelspec": {
   "display_name": "Python 3 (ipykernel)",
   "language": "python",
   "name": "python3"
  },
  "language_info": {
   "codemirror_mode": {
    "name": "ipython",
    "version": 3
   },
   "file_extension": ".py",
   "mimetype": "text/x-python",
   "name": "python",
   "nbconvert_exporter": "python",
   "pygments_lexer": "ipython3",
   "version": "3.13.0"
  }
 },
 "nbformat": 4,
 "nbformat_minor": 5
}
