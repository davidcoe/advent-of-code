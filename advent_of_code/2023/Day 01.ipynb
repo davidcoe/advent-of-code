{
 "cells": [
  {
   "cell_type": "markdown",
   "metadata": {},
   "source": [
    "# Advent of Code 2023 - Day 01"
   ]
  },
  {
   "cell_type": "markdown",
   "metadata": {},
   "source": [
    "## Day 01\n",
    "\n",
    "https://adventofcode.com/2023/day/1\n"
   ]
  },
  {
   "cell_type": "code",
   "execution_count": 1,
   "metadata": {},
   "outputs": [
    {
     "name": "stdout",
     "output_type": "stream",
     "text": [
      "[Example(input_data='1abc2\\npqr3stu8vwx\\na1b2c3d4e5f\\ntreb7uchet', answer_a='142', answer_b=None, extra=None)]\n"
     ]
    }
   ],
   "source": [
    "from aocd.models import Puzzle\n",
    "\n",
    "puzzle = Puzzle(year=2023, day=1)\n",
    "print(puzzle.examples)"
   ]
  },
  {
   "cell_type": "code",
   "execution_count": 33,
   "metadata": {},
   "outputs": [],
   "source": [
    "import re\n",
    "\n",
    "def parse_calibration_values(calibration_lines:str) -> list[int]:\n",
    "    return sum([int(c[0]+c[-1]) for c in [re.sub(r'[^0-9]', '', calibration) for calibration in calibration_lines.split('\\n')]])\n",
    "\n",
    "solution_a = parse_calibration_values"
   ]
  },
  {
   "cell_type": "code",
   "execution_count": 34,
   "metadata": {},
   "outputs": [
    {
     "name": "stdout",
     "output_type": "stream",
     "text": [
      "Checking examples...\n",
      "☑\n"
     ]
    }
   ],
   "source": [
    "print('Checking examples...')\n",
    "for example in puzzle.examples:\n",
    "    if int(example.answer_a) == solution_a(example.input_data):\n",
    "        print('☑')\n",
    "    else:\n",
    "        print(f'☐ - {example.answer_a} ≠ {solution_a(example.input_data)}')"
   ]
  }
 ],
 "metadata": {
  "kernelspec": {
   "display_name": ".venv",
   "language": "python",
   "name": "python3"
  },
  "language_info": {
   "codemirror_mode": {
    "name": "ipython",
    "version": 3
   },
   "file_extension": ".py",
   "mimetype": "text/x-python",
   "name": "python",
   "nbconvert_exporter": "python",
   "pygments_lexer": "ipython3",
   "version": "3.12.0"
  }
 },
 "nbformat": 4,
 "nbformat_minor": 2
}
