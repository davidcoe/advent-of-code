{
 "cells": [
  {
   "cell_type": "markdown",
   "metadata": {},
   "source": [
    "# 23 Day 04\n",
    "\n",
    "https://adventofcode.com/2023/day/4"
   ]
  },
  {
   "cell_type": "code",
   "execution_count": 24,
   "metadata": {},
   "outputs": [],
   "source": [
    "from aocd.models import Puzzle\n",
    "\n",
    "puzzle = Puzzle(year=2023, day=4)"
   ]
  },
  {
   "cell_type": "code",
   "execution_count": 27,
   "metadata": {},
   "outputs": [
    {
     "name": "stdout",
     "output_type": "stream",
     "text": [
      "Card 1: 41 48 83 86 17 | 83 86 6 31 17 9 48 53\n",
      "Card 2: 13 32 20 16 61 | 61 30 68 82 17 32 24 19\n",
      "Card 3: 1 21 53 59 44 | 69 82 63 72 16 21 14 1\n",
      "Card 4: 41 92 73 84 69 | 59 84 76 51 58 5 54 83\n",
      "Card 5: 87 83 26 28 32 | 88 30 70 12 93 22 82 36\n",
      "Card 6: 31 18 13 56 72 | 74 77 10 23 35 67 36 11\n",
      "Example Solution: 13\n",
      "Part A Solution: 25231\n"
     ]
    }
   ],
   "source": [
    "import re\n",
    "\n",
    "class Card:\n",
    "    id: int\n",
    "    numbers: list[int]\n",
    "    winning_numbers: list[int]\n",
    "\n",
    "    def __init__(self, input: str) -> None:\n",
    "            card_id_raw, card_raw = input.split(': ')\n",
    "            self.id = int(card_id_raw.replace('Card ', ''))\n",
    "            winning_raw, numbers_raw = card_raw.split(' | ')\n",
    "            self.numbers = [int(n) for n in re.findall('\\\\d+', numbers_raw)]\n",
    "            self.winning_numbers = [int(n) for n in re.findall('\\\\d+', winning_raw)]\n",
    "    \n",
    "    def __str__(self):\n",
    "        # TODO need to left pad space for single digit numbers\n",
    "        return f'Card {str(self.id)}: {' '.join(map(str, self.winning_numbers))} | {' '.join(map(str, self.numbers))}'\n",
    "\n",
    "    def score(self):\n",
    "        matches = set(self.winning_numbers).intersection(set(self.numbers))\n",
    "        return pow(2, len(matches) - 1) if matches else 0\n",
    "\n",
    "    @classmethod\n",
    "    def fmt_cards(cls, seq) -> str:\n",
    "        return '\\n'.join(str(c) for c in seq)\n",
    "\n",
    "example_input = \"\"\"Card 1: 41 48 83 86 17 | 83 86  6 31 17  9 48 53\n",
    "Card 2: 13 32 20 16 61 | 61 30 68 82 17 32 24 19\n",
    "Card 3:  1 21 53 59 44 | 69 82 63 72 16 21 14  1\n",
    "Card 4: 41 92 73 84 69 | 59 84 76 51 58  5 54 83\n",
    "Card 5: 87 83 26 28 32 | 88 30 70 12 93 22 82 36\n",
    "Card 6: 31 18 13 56 72 | 74 77 10 23 35 67 36 11\"\"\"\n",
    "\n",
    "cards = [Card(c) for c in example_input.split('\\n')]\n",
    "print(Card.fmt_cards(cards))\n",
    "print(f'Example Solution: {sum([c.score() for c in cards])}')\n",
    "print(f'Part A Solution: {sum([Card(c).score() for c in puzzle.input_data.split('\\n')])}')"
   ]
  },
  {
   "cell_type": "code",
   "execution_count": 55,
   "metadata": {},
   "outputs": [
    {
     "name": "stdout",
     "output_type": "stream",
     "text": [
      "Example Solution B: 30\n"
     ]
    }
   ],
   "source": [
    "import re\n",
    "from copy import copy\n",
    "\n",
    "class Card:\n",
    "    id: int\n",
    "    numbers: list[int]\n",
    "    winning_numbers: list[int]\n",
    "\n",
    "    def __init__(self, input: str) -> None:\n",
    "            card_id_raw, card_raw = input.split(': ')\n",
    "            self.id = int(card_id_raw.replace('Card ', ''))\n",
    "            winning_raw, numbers_raw = card_raw.split(' | ')\n",
    "            self.numbers = [int(n) for n in re.findall('\\\\d+', numbers_raw)]\n",
    "            self.winning_numbers = [int(n) for n in re.findall('\\\\d+', winning_raw)]\n",
    "    \n",
    "    def __str__(self):\n",
    "        # TODO need to left pad space for single digit numbers\n",
    "        return f'Card {str(self.id)}: {' '.join(map(str, self.winning_numbers))} | {' '.join(map(str, self.numbers))}'\n",
    "\n",
    "    def score(self):\n",
    "        matches = set(self.winning_numbers).intersection(set(self.numbers))\n",
    "        return pow(2, len(matches) - 1) if matches else 0\n",
    "\n",
    "    @classmethod\n",
    "    def fmt_cards(cls, seq) -> str:\n",
    "        return '\\n'.join(str(c) for c in seq)\n",
    "\n",
    "class Game:\n",
    "    cards: list[Card]\n",
    "\n",
    "    def __init__(self, input: str) -> None:\n",
    "        self.cards = [Card(c) for c in input.split('\\n')]\n",
    "\n",
    "        copies = []\n",
    "        \n",
    "        # I'm doing a lot of extra work because I'm assuming the card id isn't required to match the index\n",
    "        for card in self.cards:\n",
    "            copies.extend(self._copies(card))\n",
    "\n",
    "        self.cards.extend(copies)\n",
    "    \n",
    "    def _copies(self, card: Card) -> list[Card]:\n",
    "        matches = set(card.winning_numbers).intersection(set(card.numbers))\n",
    "        desired_card_ids = [i for i in range(card.id + 1, card.id + len(matches) + 1)]\n",
    "        # TODO should really check that I found everything I was looking for...\n",
    "        copies = [copy(c) for c in self.cards if c.id in desired_card_ids]\n",
    "        nested_copies = []\n",
    "        for card in copies:\n",
    "            nested_copies.extend(self._copies(card))\n",
    "        copies.extend(nested_copies)\n",
    "        return copies\n",
    "\n",
    "\n",
    "    def __str__(self) -> str:\n",
    "        return Card.fmt_cards(sorted(self.cards, key=lambda c: c.id))\n",
    "\n",
    "\n",
    "example_input = \"\"\"Card 1: 41 48 83 86 17 | 83 86  6 31 17  9 48 53\n",
    "Card 2: 13 32 20 16 61 | 61 30 68 82 17 32 24 19\n",
    "Card 3:  1 21 53 59 44 | 69 82 63 72 16 21 14  1\n",
    "Card 4: 41 92 73 84 69 | 59 84 76 51 58  5 54 83\n",
    "Card 5: 87 83 26 28 32 | 88 30 70 12 93 22 82 36\n",
    "Card 6: 31 18 13 56 72 | 74 77 10 23 35 67 36 11\"\"\"\n",
    "\n",
    "example_game = Game(example_input)\n",
    "# print(example_game)\n",
    "print(f'Example Solution B: {len(example_game.cards)}')\n",
    "print(f'Part B Solution: {len(Game(puzzle.input_data).cards)}')"
   ]
  }
 ],
 "metadata": {
  "kernelspec": {
   "display_name": ".venv",
   "language": "python",
   "name": "python3"
  },
  "language_info": {
   "codemirror_mode": {
    "name": "ipython",
    "version": 3
   },
   "file_extension": ".py",
   "mimetype": "text/x-python",
   "name": "python",
   "nbconvert_exporter": "python",
   "pygments_lexer": "ipython3",
   "version": "3.12.0"
  }
 },
 "nbformat": 4,
 "nbformat_minor": 2
}
