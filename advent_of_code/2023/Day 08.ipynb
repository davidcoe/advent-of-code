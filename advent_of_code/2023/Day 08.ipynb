{
 "cells": [
  {
   "cell_type": "markdown",
   "metadata": {
    "collapsed": true,
    "pycharm": {
     "name": "#%% md\n"
    }
   },
   "source": [
    "# 2023 Day 08"
   ]
  },
  {
   "cell_type": "code",
   "execution_count": 1,
   "outputs": [],
   "source": [
    "from aocd.models import Puzzle\n",
    "\n",
    "puzzle = Puzzle(year=2023, day=8)"
   ],
   "metadata": {
    "collapsed": false,
    "pycharm": {
     "name": "#%%\n"
    }
   }
  },
  {
   "cell_type": "code",
   "execution_count": 28,
   "outputs": [
    {
     "name": "stdout",
     "output_type": "stream",
     "text": [
      "2\n",
      "6\n"
     ]
    }
   ],
   "source": [
    "import itertools\n",
    "import re\n",
    "\n",
    "\n",
    "class Maps:\n",
    "    def __init__(self, input_data):\n",
    "        self.instructions, raw_nodes = input_data.split('\\n\\n')\n",
    "        self.nodes = {}\n",
    "        for node_label, left, right in re.findall(r'(.+) = \\((.+), (.+)\\)', raw_nodes):\n",
    "            self.nodes[node_label] = (left, right)\n",
    "        self.current_node = 'AAA'\n",
    "\n",
    "    def navigate(self):\n",
    "        for step_num, step in enumerate(itertools.cycle(self.instructions), 1):\n",
    "            indx = 0 if step == 'L' else 1\n",
    "            self.current_node = self.nodes[self.current_node][indx]\n",
    "            if self.current_node == 'ZZZ':\n",
    "                return step_num\n",
    "\n",
    "    def __str__(self):\n",
    "        node_network = '\\n'.join([f'{k} = {v}' for k, v in self.nodes.items()])\n",
    "        return f\"Maps({self.instructions}\\n\\n{node_network})\"\n",
    "\n",
    "print(Maps(puzzle.examples[0].input_data).navigate())\n",
    "print(Maps(puzzle.examples[1].input_data).navigate())"
   ],
   "metadata": {
    "collapsed": false,
    "pycharm": {
     "name": "#%%\n"
    }
   }
  },
  {
   "cell_type": "code",
   "execution_count": 29,
   "outputs": [
    {
     "name": "stdout",
     "output_type": "stream",
     "text": [
      "13019\n"
     ]
    }
   ],
   "source": [
    "print(Maps(puzzle.input_data).navigate())"
   ],
   "metadata": {
    "collapsed": false,
    "pycharm": {
     "name": "#%%\n"
    }
   }
  }
 ],
 "metadata": {
  "kernelspec": {
   "display_name": "Python 3",
   "language": "python",
   "name": "python3"
  },
  "language_info": {
   "codemirror_mode": {
    "name": "ipython",
    "version": 2
   },
   "file_extension": ".py",
   "mimetype": "text/x-python",
   "name": "python",
   "nbconvert_exporter": "python",
   "pygments_lexer": "ipython2",
   "version": "2.7.6"
  }
 },
 "nbformat": 4,
 "nbformat_minor": 0
}