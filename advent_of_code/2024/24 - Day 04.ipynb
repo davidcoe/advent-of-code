{
 "cells": [
  {
   "cell_type": "markdown",
   "id": "3c5524b7-ee66-4abd-8029-39c44e917d58",
   "metadata": {},
   "source": [
    "## Part 1"
   ]
  },
  {
   "cell_type": "code",
   "execution_count": 1,
   "id": "9ae8dc19-1f00-4603-9e8a-2f0b3d778545",
   "metadata": {},
   "outputs": [],
   "source": [
    "from aocd.models import Puzzle\n",
    "\n",
    "puzzle = Puzzle(year=2024, day=4)"
   ]
  },
  {
   "cell_type": "code",
   "execution_count": 2,
   "id": "0b2a86d4-d000-43db-991f-751ca57e97a9",
   "metadata": {},
   "outputs": [
    {
     "data": {
      "text/plain": [
       "[Example(input_data='..X...\\n.SAMX.\\n.A..A.\\nXMAS.S\\n.X....', answer_a='XMAS', answer_b=None, extra=None)]"
      ]
     },
     "execution_count": 2,
     "metadata": {},
     "output_type": "execute_result"
    }
   ],
   "source": [
    "puzzle.examples"
   ]
  },
  {
   "cell_type": "code",
   "execution_count": 3,
   "id": "180d1a74-c01e-4434-ab98-01184812d42c",
   "metadata": {},
   "outputs": [],
   "source": [
    "def test(method, input, expected):\n",
    "    actual = method(input)\n",
    "    if actual == expected:\n",
    "        print(f'\\t☑ - {method.__name__}({input}) = {expected} = {actual}')\n",
    "    else:\n",
    "        print(f'\\t☐ - {method.__name__}({input}) = {expected} ≠ {actual}')"
   ]
  },
  {
   "cell_type": "code",
   "execution_count": 4,
   "id": "d7d05814-b60e-4e89-94f5-c67282c9c418",
   "metadata": {},
   "outputs": [],
   "source": [
    "from dataclasses import dataclass\n",
    "\n",
    "@dataclass(frozen=True)\n",
    "class Direction:\n",
    "    name:str\n",
    "    x_direction:int\n",
    "    y_direction:int\n",
    "\n",
    "DIRECTIONS =  [\n",
    "    Direction('left->right', 1, 0),\n",
    "    Direction('up->down', 0, 1),\n",
    "    Direction('Descending diagonal', 1, 1), \n",
    "    Direction('Ascending diagonal', 1, -1), \n",
    "    Direction('right->left', -1, 0),\n",
    "    Direction('down->up', 0, -1),\n",
    "    Direction('Reverse ascending diagonal', -1, 1),\n",
    "    Direction('Reverse descending diagonal', -1, -1),\n",
    "]\n",
    "\n",
    "def find_xmas(input:str) -> str:\n",
    "    word_search = input.split()\n",
    "    # Yikes do I want to make this work for more than xmas and not c style handle this...but.....\n",
    "    word = 'XMAS'\n",
    "    # TODO Name this tuple\n",
    "    steps = [(1, 0),  # left->right\n",
    "             (0, 1),  # up->down\n",
    "             (1, 1),  # Descending diagonal\n",
    "             (1, -1),  # Ascending diagonal\n",
    "             (-1, 0),  # right->left\n",
    "             (0, -1),  # down->up\n",
    "             (-1, 1),  # Reverse ascending diagonal\n",
    "             (-1, -1),  # Reverse descending diagonal\n",
    "             ]\n",
    "    h = len(word_search)\n",
    "    ## Let's assume it's not an irregular shape...\n",
    "    w = len(word_search[0])\n",
    "\n",
    "    valid_matches = []\n",
    "    \n",
    "    for x in range(w):\n",
    "        for y in range(h):\n",
    "            result = check_word(word_search, word, x, y)\n",
    "            if result:\n",
    "                valid_matches.append(result)\n",
    "    \n",
    "    return valid_matches\n",
    "\n",
    "def calculate_xmas(input:str) -> int:\n",
    "    return sum([len(directions) for (_, directions) in find_xmas(input)])\n",
    "\n",
    "def check_word(word_search:str, word:str, x:int, y:int) -> tuple[tuple[int, int], list[Direction]] | bool:\n",
    "    # TODO I could take the directions to check as an argument....\n",
    "        #print(f\"({x}, {y}) = {word_search[y][x]} / {word_search[y]}\")\n",
    "\n",
    "        successful_directions = []\n",
    "        \n",
    "        for direction in DIRECTIONS:\n",
    "            \n",
    "            for i, letter in enumerate(word):\n",
    "                letter_x = x + (direction.x_direction * i)\n",
    "                letter_y = y + (direction.y_direction * i)\n",
    "\n",
    "                if letter_y < 0 or letter_x < 0 or letter_y > len(word_search) - 1 or letter_x > len(word_search[0]) - 1:\n",
    "                    #print(f\"It's not {direction.name}: ({letter_x}, {letter_y}) are out of bounds\")\n",
    "                    break\n",
    "                    \n",
    "                if word_search[letter_y][letter_x] != letter:\n",
    "                    #print(f\"It's not {direction.name}: ({letter_x}, {letter_y}) {word_search[letter_y][letter_x]} ≠ {letter}\", direction.name)\n",
    "                    break\n",
    "            else:\n",
    "                #print(f\"Worked! For {direction.name} @ ({x}, {y})\")\n",
    "                #print(f\"({x}, {y}) = {word_search[y][x]} / {word_search[y]}\")\n",
    "                successful_directions.append(direction)\n",
    "\n",
    "        if successful_directions:\n",
    "            return ((x,y), successful_directions)\n",
    "        else:\n",
    "            return False"
   ]
  },
  {
   "cell_type": "code",
   "execution_count": 5,
   "id": "026f1059-8034-45eb-ba42-81c559e0158d",
   "metadata": {},
   "outputs": [
    {
     "name": "stdout",
     "output_type": "stream",
     "text": [
      "\t☐ - calculate_xmas(..X...\n",
      ".SAMX.\n",
      ".A..A.\n",
      "XMAS.S\n",
      ".X....) = ..X...\n",
      ".SAMX.\n",
      ".A..A.\n",
      "XMAS.S\n",
      ".X.... ≠ 4\n",
      "\t☐ - calculate_xmas(....XXMAS.\n",
      ".SAMXMS...\n",
      "...S..A...\n",
      "..A.A.MS.X\n",
      "XMASAMX.MM\n",
      "X.....XA.A\n",
      "S.S.S.S.SS\n",
      ".A.A.A.A.A\n",
      "..M.M.M.MM\n",
      ".X.X.XMASX) = ....XXMAS.\n",
      ".SAMXMS...\n",
      "...S..A...\n",
      "..A.A.MS.X\n",
      "XMASAMX.MM\n",
      "X.....XA.A\n",
      "S.S.S.S.SS\n",
      ".A.A.A.A.A\n",
      "..M.M.M.MM\n",
      ".X.X.XMASX ≠ 18\n"
     ]
    }
   ],
   "source": [
    "import textwrap\n",
    "\n",
    "input = textwrap.dedent(\"\"\"\\\n",
    "                        ..X...\n",
    "                        .SAMX.\n",
    "                        .A..A.\n",
    "                        XMAS.S\n",
    "                        .X....\"\"\")\n",
    "\n",
    "test(calculate_xmas, input, input)\n",
    "\n",
    "input = textwrap.dedent(\"\"\"\\\n",
    "....XXMAS.\n",
    ".SAMXMS...\n",
    "...S..A...\n",
    "..A.A.MS.X\n",
    "XMASAMX.MM\n",
    "X.....XA.A\n",
    "S.S.S.S.SS\n",
    ".A.A.A.A.A\n",
    "..M.M.M.MM\n",
    ".X.X.XMASX\"\"\")\n",
    "\n",
    "test(calculate_xmas, input, input)"
   ]
  },
  {
   "cell_type": "code",
   "execution_count": 6,
   "id": "7e9c1f59-0653-4b0a-9b20-a4ea2aeb3502",
   "metadata": {},
   "outputs": [
    {
     "data": {
      "text/plain": [
       "2654"
      ]
     },
     "execution_count": 6,
     "metadata": {},
     "output_type": "execute_result"
    }
   ],
   "source": [
    "calculate_xmas(puzzle.input_data)"
   ]
  },
  {
   "cell_type": "markdown",
   "id": "c4cfc9f0-1b8b-4c33-b44c-83b8da73d388",
   "metadata": {},
   "source": [
    "## Part 2"
   ]
  },
  {
   "cell_type": "code",
   "execution_count": 7,
   "id": "b0549bb1-3b2c-4f5f-ad4d-a3d77029da23",
   "metadata": {},
   "outputs": [],
   "source": [
    "def find_x_mas(input:str) -> str:\n",
    "    word_search = input.split()\n",
    "\n",
    "    word = 'MAS'\n",
    "\n",
    "    h = len(word_search)\n",
    "    ## Let's assume it's not an irregular shape...\n",
    "    w = len(word_search[0])\n",
    "\n",
    "    valid_matches = []\n",
    "    \n",
    "    for x in range(w):\n",
    "        for y in range(h):\n",
    "            result = check_word(word_search, word, x, y)\n",
    "            if result:\n",
    "                valid_matches.append(result)\n",
    "    \n",
    "    return valid_matches"
   ]
  },
  {
   "cell_type": "code",
   "execution_count": 8,
   "id": "492c9b7e-1bf8-4699-93bf-e976e3d20633",
   "metadata": {},
   "outputs": [
    {
     "data": {
      "text/plain": [
       "[((0, 8),\n",
       "  [Direction(name='Ascending diagonal', x_direction=1, y_direction=-1)]),\n",
       " ((1, 0),\n",
       "  [Direction(name='Descending diagonal', x_direction=1, y_direction=1)]),\n",
       " ((1, 2),\n",
       "  [Direction(name='Descending diagonal', x_direction=1, y_direction=1),\n",
       "   Direction(name='Ascending diagonal', x_direction=1, y_direction=-1)]),\n",
       " ((1, 4),\n",
       "  [Direction(name='Ascending diagonal', x_direction=1, y_direction=-1)]),\n",
       " ((2, 8),\n",
       "  [Direction(name='Ascending diagonal', x_direction=1, y_direction=-1),\n",
       "   Direction(name='Reverse descending diagonal', x_direction=-1, y_direction=-1)]),\n",
       " ((4, 8),\n",
       "  [Direction(name='Ascending diagonal', x_direction=1, y_direction=-1),\n",
       "   Direction(name='Reverse descending diagonal', x_direction=-1, y_direction=-1)]),\n",
       " ((5, 1),\n",
       "  [Direction(name='Descending diagonal', x_direction=1, y_direction=1)]),\n",
       " ((5, 2),\n",
       "  [Direction(name='Reverse ascending diagonal', x_direction=-1, y_direction=1)]),\n",
       " ((5, 4),\n",
       "  [Direction(name='Reverse descending diagonal', x_direction=-1, y_direction=-1)]),\n",
       " ((6, 3),\n",
       "  [Direction(name='Ascending diagonal', x_direction=1, y_direction=-1),\n",
       "   Direction(name='down->up', x_direction=0, y_direction=-1)]),\n",
       " ((6, 8),\n",
       "  [Direction(name='Ascending diagonal', x_direction=1, y_direction=-1),\n",
       "   Direction(name='Reverse descending diagonal', x_direction=-1, y_direction=-1)]),\n",
       " ((7, 1),\n",
       "  [Direction(name='up->down', x_direction=0, y_direction=1),\n",
       "   Direction(name='Reverse ascending diagonal', x_direction=-1, y_direction=1)]),\n",
       " ((8, 3),\n",
       "  [Direction(name='Reverse descending diagonal', x_direction=-1, y_direction=-1)]),\n",
       " ((8, 8),\n",
       "  [Direction(name='Reverse descending diagonal', x_direction=-1, y_direction=-1)])]"
      ]
     },
     "execution_count": 8,
     "metadata": {},
     "output_type": "execute_result"
    }
   ],
   "source": [
    "input = \"\"\".M.S......\n",
    "..A..MSMS.\n",
    ".M.S.MAA..\n",
    "..A.ASMSM.\n",
    ".M.S.M....\n",
    "..........\n",
    "S.S.S.S.S.\n",
    ".A.A.A.A..\n",
    "M.M.M.M.M.\n",
    "..........\"\"\"\n",
    "\n",
    "find_x_mas(input)"
   ]
  },
  {
   "cell_type": "code",
   "execution_count": 9,
   "id": "40d2603c-496c-49ab-830f-c9a9bf23ee3d",
   "metadata": {},
   "outputs": [
    {
     "data": {
      "text/plain": [
       "[Direction(name='Ascending diagonal', x_direction=1, y_direction=-1)]"
      ]
     },
     "execution_count": 9,
     "metadata": {},
     "output_type": "execute_result"
    }
   ],
   "source": [
    "from collections import defaultdict\n",
    "\n",
    "match_coords = defaultdict(list)\n",
    "\n",
    "for coord, directions in find_x_mas(input):\n",
    "    match_coords[coord] += directions\n",
    "\n",
    "match_coords[(0,8)]"
   ]
  },
  {
   "cell_type": "code",
   "execution_count": 10,
   "id": "f65d3985-d68d-4286-a341-4a2ef2d1ebb2",
   "metadata": {},
   "outputs": [
    {
     "name": "stdout",
     "output_type": "stream",
     "text": [
      "(0,8) => (1, 7) for Ascending diagonal\n",
      "M => A\n",
      "(1,0) => (2, 1) for Descending diagonal\n",
      "M => A\n",
      "(1,2) => (2, 3) for Descending diagonal\n",
      "M => A\n",
      "(1,2) => (2, 1) for Ascending diagonal\n",
      "M => A\n",
      "(1,4) => (2, 3) for Ascending diagonal\n",
      "M => A\n",
      "(2,8) => (3, 7) for Ascending diagonal\n",
      "M => A\n",
      "(2,8) => (1, 7) for Reverse descending diagonal\n",
      "M => A\n",
      "(4,8) => (5, 7) for Ascending diagonal\n",
      "M => A\n",
      "(4,8) => (3, 7) for Reverse descending diagonal\n",
      "M => A\n",
      "(5,1) => (6, 2) for Descending diagonal\n",
      "M => A\n",
      "(5,2) => (4, 3) for Reverse ascending diagonal\n",
      "M => A\n",
      "(5,4) => (4, 3) for Reverse descending diagonal\n",
      "M => A\n",
      "(6,3) => (7, 2) for Ascending diagonal\n",
      "M => A\n",
      "(6,3) => (6, 2) for down->up\n",
      "M => A\n",
      "(6,8) => (7, 7) for Ascending diagonal\n",
      "M => A\n",
      "(6,8) => (5, 7) for Reverse descending diagonal\n",
      "M => A\n",
      "(7,1) => (7, 2) for up->down\n",
      "M => A\n",
      "(7,1) => (6, 2) for Reverse ascending diagonal\n",
      "M => A\n",
      "(8,3) => (7, 2) for Reverse descending diagonal\n",
      "M => A\n",
      "(8,8) => (7, 7) for Reverse descending diagonal\n",
      "M => A\n"
     ]
    }
   ],
   "source": [
    "from collections import defaultdict\n",
    "\n",
    "match_coords = defaultdict(list)\n",
    "\n",
    "for coord, directions in find_x_mas(input):\n",
    "    match_coords[coord] += directions\n",
    "\n",
    "x_mas_centers = set()\n",
    "\n",
    "for coord, directions in match_coords.items():\n",
    "    for direction in directions:\n",
    "        # I need to travel one more in a direction to find the \"A\" that is centered in \"MAS\"\n",
    "        x, y = coord\n",
    "        center_a_x = x + (direction.x_direction * 1)\n",
    "        center_a_y = y + (direction.y_direction * 1)\n",
    "        print(f\"({x},{y}) => ({center_a_x}, {center_a_y}) for {direction.name}\")\n",
    "        print(f\"{input.split()[y][x]} => {input.split()[center_a_y][center_a_x]}\")"
   ]
  },
  {
   "cell_type": "markdown",
   "id": "71251f79-75ab-4fb6-bbcc-4db9b29c094e",
   "metadata": {},
   "source": [
    "Actually, forget all that. I don't need to find matching centers...though maybe I could. I can raw calculate this! It should start two away in some direction!"
   ]
  },
  {
   "cell_type": "code",
   "execution_count": 11,
   "id": "6e2bdf13-e6e6-47a9-8ab6-5518657a72b5",
   "metadata": {},
   "outputs": [
    {
     "name": "stdout",
     "output_type": "stream",
     "text": [
      "(0, 8) Direction(name='Ascending diagonal', x_direction=1, y_direction=-1)\n",
      "\t(2, 8) OR (0, 6)\n",
      "(1, 0) Direction(name='Descending diagonal', x_direction=1, y_direction=1)\n",
      "\t(3, 0) OR (1, 2)\n",
      "(1, 2) Direction(name='Descending diagonal', x_direction=1, y_direction=1)\n",
      "\t(3, 2) OR (1, 4)\n",
      "(1, 2) Direction(name='Ascending diagonal', x_direction=1, y_direction=-1)\n",
      "\t(3, 2) OR (1, 0)\n",
      "(1, 4) Direction(name='Ascending diagonal', x_direction=1, y_direction=-1)\n",
      "\t(3, 4) OR (1, 2)\n",
      "(2, 8) Direction(name='Ascending diagonal', x_direction=1, y_direction=-1)\n",
      "\t(4, 8) OR (2, 6)\n",
      "(2, 8) Direction(name='Reverse descending diagonal', x_direction=-1, y_direction=-1)\n",
      "\t(0, 8) OR (2, 6)\n",
      "(4, 8) Direction(name='Ascending diagonal', x_direction=1, y_direction=-1)\n",
      "\t(6, 8) OR (4, 6)\n",
      "(4, 8) Direction(name='Reverse descending diagonal', x_direction=-1, y_direction=-1)\n",
      "\t(2, 8) OR (4, 6)\n",
      "(5, 1) Direction(name='Descending diagonal', x_direction=1, y_direction=1)\n",
      "\t(7, 1) OR (5, 3)\n",
      "(5, 2) Direction(name='Reverse ascending diagonal', x_direction=-1, y_direction=1)\n",
      "\t(3, 2) OR (5, 4)\n",
      "(5, 4) Direction(name='Reverse descending diagonal', x_direction=-1, y_direction=-1)\n",
      "\t(3, 4) OR (5, 2)\n",
      "(6, 3) Direction(name='Ascending diagonal', x_direction=1, y_direction=-1)\n",
      "\t(8, 3) OR (6, 1)\n",
      "(6, 3) Direction(name='down->up', x_direction=0, y_direction=-1)\n",
      "\t(6, 3) OR (6, 1)\n",
      "(6, 8) Direction(name='Ascending diagonal', x_direction=1, y_direction=-1)\n",
      "\t(8, 8) OR (6, 6)\n",
      "(6, 8) Direction(name='Reverse descending diagonal', x_direction=-1, y_direction=-1)\n",
      "\t(4, 8) OR (6, 6)\n",
      "(7, 1) Direction(name='up->down', x_direction=0, y_direction=1)\n",
      "\t(7, 1) OR (7, 3)\n",
      "(7, 1) Direction(name='Reverse ascending diagonal', x_direction=-1, y_direction=1)\n",
      "\t(5, 1) OR (7, 3)\n",
      "(8, 3) Direction(name='Reverse descending diagonal', x_direction=-1, y_direction=-1)\n",
      "\t(6, 3) OR (8, 1)\n",
      "(8, 8) Direction(name='Reverse descending diagonal', x_direction=-1, y_direction=-1)\n",
      "\t(6, 8) OR (8, 6)\n"
     ]
    }
   ],
   "source": [
    "from collections import defaultdict\n",
    "\n",
    "match_coords = defaultdict(list)\n",
    "\n",
    "for coord, directions in find_x_mas(input):\n",
    "    match_coords[coord] += directions\n",
    "\n",
    "for coord, directions in match_coords.items():\n",
    "    for direction in directions:\n",
    "        # I need to travel one more in a direction to find the \"A\" that is centered in \"MAS\"\n",
    "        x, y = coord\n",
    "        print(coord, direction)\n",
    "        other_coord_1 = (x + (direction.x_direction * 2), y)\n",
    "        other_coord_2 = (x, y + (direction.y_direction * 2))\n",
    "        print(f\"\\t{other_coord_1} OR {other_coord_2}\")"
   ]
  },
  {
   "cell_type": "code",
   "execution_count": 12,
   "id": "fd2f4084-458f-4d6d-8d41-2a0420417818",
   "metadata": {},
   "outputs": [
    {
     "name": "stdout",
     "output_type": "stream",
     "text": [
      "(0, 8) Direction(name='Ascending diagonal', x_direction=1, y_direction=-1)\n",
      "\t(2, 8) OR (0, 6)\n",
      "(1, 0) Direction(name='Descending diagonal', x_direction=1, y_direction=1)\n",
      "\t(3, 0) OR (1, 2)\n",
      "(1, 2) Direction(name='Descending diagonal', x_direction=1, y_direction=1)\n",
      "\t(3, 2) OR (1, 4)\n",
      "(1, 2) Direction(name='Ascending diagonal', x_direction=1, y_direction=-1)\n",
      "\t(3, 2) OR (1, 0)\n",
      "(1, 4) Direction(name='Ascending diagonal', x_direction=1, y_direction=-1)\n",
      "\t(3, 4) OR (1, 2)\n",
      "(2, 8) Direction(name='Ascending diagonal', x_direction=1, y_direction=-1)\n",
      "\t(4, 8) OR (2, 6)\n",
      "(2, 8) Direction(name='Reverse descending diagonal', x_direction=-1, y_direction=-1)\n",
      "\t(0, 8) OR (2, 6)\n",
      "(4, 8) Direction(name='Ascending diagonal', x_direction=1, y_direction=-1)\n",
      "\t(6, 8) OR (4, 6)\n",
      "(4, 8) Direction(name='Reverse descending diagonal', x_direction=-1, y_direction=-1)\n",
      "\t(2, 8) OR (4, 6)\n",
      "(5, 1) Direction(name='Descending diagonal', x_direction=1, y_direction=1)\n",
      "\t(7, 1) OR (5, 3)\n",
      "(5, 2) Direction(name='Reverse ascending diagonal', x_direction=-1, y_direction=1)\n",
      "\t(3, 2) OR (5, 4)\n",
      "(5, 4) Direction(name='Reverse descending diagonal', x_direction=-1, y_direction=-1)\n",
      "\t(3, 4) OR (5, 2)\n",
      "(6, 3) Direction(name='Ascending diagonal', x_direction=1, y_direction=-1)\n",
      "\t(8, 3) OR (6, 1)\n",
      "(6, 3) Direction(name='down->up', x_direction=0, y_direction=-1)\n",
      "\t(6, 3) OR (6, 1)\n",
      "(6, 8) Direction(name='Ascending diagonal', x_direction=1, y_direction=-1)\n",
      "\t(8, 8) OR (6, 6)\n",
      "(6, 8) Direction(name='Reverse descending diagonal', x_direction=-1, y_direction=-1)\n",
      "\t(4, 8) OR (6, 6)\n",
      "(7, 1) Direction(name='up->down', x_direction=0, y_direction=1)\n",
      "\t(7, 1) OR (7, 3)\n",
      "(7, 1) Direction(name='Reverse ascending diagonal', x_direction=-1, y_direction=1)\n",
      "\t(5, 1) OR (7, 3)\n",
      "(8, 3) Direction(name='Reverse descending diagonal', x_direction=-1, y_direction=-1)\n",
      "\t(6, 3) OR (8, 1)\n",
      "(8, 8) Direction(name='Reverse descending diagonal', x_direction=-1, y_direction=-1)\n",
      "\t(6, 8) OR (8, 6)\n"
     ]
    }
   ],
   "source": [
    "from collections import defaultdict\n",
    "\n",
    "match_coords = defaultdict(list)\n",
    "\n",
    "for coord, directions in find_x_mas(input):\n",
    "    match_coords[coord] += directions\n",
    "\n",
    "for coord, directions in match_coords.items():\n",
    "    for direction in directions:\n",
    "        # I need to travel one more in a direction to find the \"A\" that is centered in \"MAS\"\n",
    "        x, y = coord\n",
    "        print(coord, direction)\n",
    "        other_coord_1 = (x + (direction.x_direction * 2), y)\n",
    "        other_coord_2 = (x, y + (direction.y_direction * 2))\n",
    "        if other_coord_1 in match_coords or other_coord_2 in match_coords:\n",
    "            print(f\"\\t{other_coord_1} OR {other_coord_2}\")"
   ]
  },
  {
   "cell_type": "code",
   "execution_count": 13,
   "id": "761b8bc2-e6c1-4070-a3c9-a97664d0703e",
   "metadata": {},
   "outputs": [
    {
     "name": "stdout",
     "output_type": "stream",
     "text": [
      "(0, 8) Direction(name='Ascending diagonal', x_direction=1, y_direction=-1)\n",
      "(1, 0) Direction(name='Descending diagonal', x_direction=1, y_direction=1)\n",
      "(1, 2) Direction(name='Descending diagonal', x_direction=1, y_direction=1)\n",
      "(1, 2) Direction(name='Ascending diagonal', x_direction=1, y_direction=-1)\n",
      "(1, 4) Direction(name='Ascending diagonal', x_direction=1, y_direction=-1)\n",
      "(2, 8) Direction(name='Ascending diagonal', x_direction=1, y_direction=-1)\n",
      "(2, 8) Direction(name='Reverse descending diagonal', x_direction=-1, y_direction=-1)\n",
      "(4, 8) Direction(name='Ascending diagonal', x_direction=1, y_direction=-1)\n",
      "(4, 8) Direction(name='Reverse descending diagonal', x_direction=-1, y_direction=-1)\n",
      "(5, 1) Direction(name='Descending diagonal', x_direction=1, y_direction=1)\n",
      "(5, 2) Direction(name='Reverse ascending diagonal', x_direction=-1, y_direction=1)\n",
      "(5, 4) Direction(name='Reverse descending diagonal', x_direction=-1, y_direction=-1)\n",
      "(6, 3) Direction(name='Ascending diagonal', x_direction=1, y_direction=-1)\n",
      "(6, 3) Direction(name='down->up', x_direction=0, y_direction=-1)\n",
      "(6, 8) Direction(name='Ascending diagonal', x_direction=1, y_direction=-1)\n",
      "(6, 8) Direction(name='Reverse descending diagonal', x_direction=-1, y_direction=-1)\n",
      "(7, 1) Direction(name='up->down', x_direction=0, y_direction=1)\n",
      "(7, 1) Direction(name='Reverse ascending diagonal', x_direction=-1, y_direction=1)\n",
      "(8, 3) Direction(name='Reverse descending diagonal', x_direction=-1, y_direction=-1)\n",
      "(8, 8) Direction(name='Reverse descending diagonal', x_direction=-1, y_direction=-1)\n"
     ]
    },
    {
     "data": {
      "text/plain": [
       "{(1, 7), (2, 1), (2, 3), (3, 7), (4, 3), (5, 7), (6, 2), (7, 2), (7, 7)}"
      ]
     },
     "execution_count": 13,
     "metadata": {},
     "output_type": "execute_result"
    }
   ],
   "source": [
    "# Oh, now I see what I was doing with the center a... It was to de-dup\n",
    "from collections import defaultdict\n",
    "\n",
    "match_coords = defaultdict(list)\n",
    "\n",
    "for coord, directions in find_x_mas(input):\n",
    "    match_coords[coord] += directions\n",
    "\n",
    "x_mas_centers = set()\n",
    "\n",
    "for coord, directions in match_coords.items():\n",
    "    for direction in directions:\n",
    "        # I need to travel one more in a direction to find the \"A\" that is centered in \"MAS\"\n",
    "        x, y = coord\n",
    "        print(coord, direction)\n",
    "        other_coord_1 = (x + (direction.x_direction * 2), y)\n",
    "        other_coord_2 = (x, y + (direction.y_direction * 2))\n",
    "        if other_coord_1 in match_coords or other_coord_2 in match_coords:\n",
    "            center_a_x = x + (direction.x_direction * 1)\n",
    "            center_a_y = y + (direction.y_direction * 1)\n",
    "            x_mas_centers.add((center_a_x, center_a_y))\n",
    "\n",
    "x_mas_centers"
   ]
  },
  {
   "cell_type": "code",
   "execution_count": 14,
   "id": "dccbe448-e190-411f-9c2f-236c33e90144",
   "metadata": {},
   "outputs": [],
   "source": [
    "from collections import defaultdict\n",
    "\n",
    "def find_x_mas_centers(input:str) -> set[tuple[int,int]]:\n",
    "\n",
    "    match_coords = defaultdict(list)\n",
    "    \n",
    "    for coord, directions in find_x_mas(input):\n",
    "        match_coords[coord] += directions\n",
    "    \n",
    "    x_mas_centers = set()\n",
    "    \n",
    "    for coord, directions in match_coords.items():\n",
    "        for direction in directions:\n",
    "            # I need to travel one more in a direction to find the \"A\" that is centered in \"MAS\"\n",
    "            x, y = coord\n",
    "            # print(coord, direction)\n",
    "            other_coord_1 = (x + (direction.x_direction * 2), y)\n",
    "            other_coord_2 = (x, y + (direction.y_direction * 2))\n",
    "            if other_coord_1 in match_coords or other_coord_2 in match_coords:\n",
    "                center_a_x = x + (direction.x_direction * 1)\n",
    "                center_a_y = y + (direction.y_direction * 1)\n",
    "                x_mas_centers.add((center_a_x, center_a_y))\n",
    "    \n",
    "    return x_mas_centers"
   ]
  },
  {
   "cell_type": "code",
   "execution_count": 15,
   "id": "e5542dba-e32f-4106-8929-ab609eea01ca",
   "metadata": {},
   "outputs": [
    {
     "data": {
      "text/plain": [
       "3829"
      ]
     },
     "execution_count": 15,
     "metadata": {},
     "output_type": "execute_result"
    }
   ],
   "source": [
    "len(find_x_mas_centers(puzzle.input_data))"
   ]
  },
  {
   "cell_type": "code",
   "execution_count": 16,
   "id": "bff9b6ce-7217-4d0b-882e-e5512625a933",
   "metadata": {},
   "outputs": [],
   "source": [
    "# 3829 is too high :-/"
   ]
  },
  {
   "cell_type": "code",
   "execution_count": 17,
   "id": "b2ecda2d-9d47-4915-a376-e6179e603744",
   "metadata": {},
   "outputs": [
    {
     "data": {
      "text/plain": [
       "9"
      ]
     },
     "execution_count": 17,
     "metadata": {},
     "output_type": "execute_result"
    }
   ],
   "source": [
    "# Sanity check\n",
    "\n",
    "len(find_x_mas_centers(\"\"\".M.S......\n",
    "..A..MSMS.\n",
    ".M.S.MAA..\n",
    "..A.ASMSM.\n",
    ".M.S.M....\n",
    "..........\n",
    "S.S.S.S.S.\n",
    ".A.A.A.A..\n",
    "M.M.M.M.M.\n",
    "..........\"\"\"))"
   ]
  },
  {
   "cell_type": "code",
   "execution_count": 18,
   "id": "74b8bc6c-9304-47be-a2d1-455d65b4fc99",
   "metadata": {},
   "outputs": [
    {
     "name": "stdout",
     "output_type": "stream",
     "text": [
      "\t☑ - test_method(\n",
      "M.S\n",
      ".A.\n",
      "M.S) = 1 = 1\n",
      "\t☑ - test_method(\n",
      "S.S\n",
      ".A.\n",
      "M.M) = 1 = 1\n",
      "\t☑ - test_method(\n",
      "S.M\n",
      ".A.\n",
      "M.S) = 0 = 0\n",
      "\t☑ - test_method(\n",
      "M.S\n",
      ".A.\n",
      "S.M) = 0 = 0\n",
      "\t☐ - test_method(\n",
      ".M.\n",
      "MAS\n",
      ".S.) = 0 ≠ 1\n"
     ]
    }
   ],
   "source": [
    "# Let's check some cases\n",
    "\n",
    "def test_method(input):\n",
    "    return len(find_x_mas_centers(input))\n",
    "\n",
    "test(test_method, textwrap.dedent(\"\"\"\\\n",
    "\n",
    "                        M.S\n",
    "                        .A.\n",
    "                        M.S\"\"\"), 1)\n",
    "\n",
    "test(test_method, textwrap.dedent(\"\"\"\\\n",
    "\n",
    "                        S.S\n",
    "                        .A.\n",
    "                        M.M\"\"\"), 1)\n",
    "\n",
    "test(test_method, textwrap.dedent(\"\"\"\\\n",
    "\n",
    "                        S.M\n",
    "                        .A.\n",
    "                        M.S\"\"\"), 0)\n",
    "\n",
    "test(test_method, textwrap.dedent(\"\"\"\\\n",
    "\n",
    "                        M.S\n",
    "                        .A.\n",
    "                        S.M\"\"\"), 0)\n",
    "\n",
    "test(test_method, textwrap.dedent(\"\"\"\\\n",
    "\n",
    "                        .M.\n",
    "                        MAS\n",
    "                        .S.\"\"\"), 0)"
   ]
  },
  {
   "cell_type": "markdown",
   "id": "83cc39ac-fded-483a-8138-1deb67a80698",
   "metadata": {},
   "source": [
    "Well...that's some bullshit. + is a rotated X right???? Ok, so throw out any non-diagonals?\n"
   ]
  },
  {
   "cell_type": "code",
   "execution_count": 19,
   "id": "829e0035-cec2-44ec-810a-60f891dfd117",
   "metadata": {},
   "outputs": [],
   "source": [
    "from collections import defaultdict\n",
    "\n",
    "def find_x_mas_centers(input:str) -> set[tuple[int,int]]:\n",
    "\n",
    "    match_coords = defaultdict(list)\n",
    "    \n",
    "    for coord, directions in find_x_mas(input):\n",
    "        match_coords[coord] += directions\n",
    "    \n",
    "    x_mas_centers = set()\n",
    "    \n",
    "    for coord, directions in match_coords.items():\n",
    "        for direction in directions:\n",
    "            # In case you didn't know, + is not an \"X\"....\n",
    "            if direction.x_direction == 0 or direction.y_direction == 0:\n",
    "                continue\n",
    "            # I need to travel one more in a direction to find the \"A\" that is centered in \"MAS\"\n",
    "            x, y = coord\n",
    "            # print(coord, direction)\n",
    "            other_coord_1 = (x + (direction.x_direction * 2), y)\n",
    "            other_coord_2 = (x, y + (direction.y_direction * 2))\n",
    "            if other_coord_1 in match_coords or other_coord_2 in match_coords:\n",
    "                center_a_x = x + (direction.x_direction * 1)\n",
    "                center_a_y = y + (direction.y_direction * 1)\n",
    "                x_mas_centers.add((center_a_x, center_a_y))\n",
    "    \n",
    "    return x_mas_centers"
   ]
  },
  {
   "cell_type": "code",
   "execution_count": 20,
   "id": "7b10ec76-c8de-49da-be11-9cfa035bea8b",
   "metadata": {},
   "outputs": [
    {
     "data": {
      "text/plain": [
       "3057"
      ]
     },
     "execution_count": 20,
     "metadata": {},
     "output_type": "execute_result"
    }
   ],
   "source": [
    "len(find_x_mas_centers(puzzle.input_data))"
   ]
  },
  {
   "cell_type": "markdown",
   "id": "41d987ec-feaa-48f7-90fe-582632bd7bc0",
   "metadata": {},
   "source": [
    "3057 is too high...hmmm"
   ]
  },
  {
   "cell_type": "code",
   "execution_count": 21,
   "id": "1d8f62bd-ec62-486a-8071-520483dfc701",
   "metadata": {},
   "outputs": [
    {
     "name": "stdout",
     "output_type": "stream",
     "text": [
      "\t☑ - test_method(\n",
      "M.S\n",
      ".A.\n",
      "M.S) = 1 = 1\n",
      "\t☑ - test_method(\n",
      "S.S\n",
      ".A.\n",
      "M.M) = 1 = 1\n",
      "\t☑ - test_method(\n",
      "S.M\n",
      ".A.\n",
      "M.S) = 0 = 0\n",
      "\t☑ - test_method(\n",
      "M.S\n",
      ".A.\n",
      "S.M) = 0 = 0\n",
      "\t☑ - test_method(\n",
      ".M.\n",
      "MAS\n",
      ".S.) = 0 = 0\n"
     ]
    }
   ],
   "source": [
    "# Let's check some cases\n",
    "\n",
    "def test_method(input):\n",
    "    return len(find_x_mas_centers(input))\n",
    "\n",
    "test(test_method, textwrap.dedent(\"\"\"\\\n",
    "\n",
    "                        M.S\n",
    "                        .A.\n",
    "                        M.S\"\"\"), 1)\n",
    "\n",
    "test(test_method, textwrap.dedent(\"\"\"\\\n",
    "\n",
    "                        S.S\n",
    "                        .A.\n",
    "                        M.M\"\"\"), 1)\n",
    "\n",
    "test(test_method, textwrap.dedent(\"\"\"\\\n",
    "\n",
    "                        S.M\n",
    "                        .A.\n",
    "                        M.S\"\"\"), 0)\n",
    "\n",
    "test(test_method, textwrap.dedent(\"\"\"\\\n",
    "\n",
    "                        M.S\n",
    "                        .A.\n",
    "                        S.M\"\"\"), 0)\n",
    "\n",
    "test(test_method, textwrap.dedent(\"\"\"\\\n",
    "\n",
    "                        .M.\n",
    "                        MAS\n",
    "                        .S.\"\"\"), 0)"
   ]
  },
  {
   "cell_type": "code",
   "execution_count": 22,
   "id": "c6acd16b-a248-4def-a5f4-f483bf10d624",
   "metadata": {},
   "outputs": [
    {
     "name": "stdout",
     "output_type": "stream",
     "text": [
      "left->right - Not diag\n",
      "up->down - Not diag\n",
      "Descending diagonal - Diag\n",
      "Ascending diagonal - Diag\n",
      "right->left - Not diag\n",
      "down->up - Not diag\n",
      "Reverse ascending diagonal - Diag\n",
      "Reverse descending diagonal - Diag\n"
     ]
    }
   ],
   "source": [
    "for direction in DIRECTIONS:\n",
    "    if direction.x_direction == 0 or direction.y_direction == 0:\n",
    "        print(f'{direction.name} - Not diag')\n",
    "    else:\n",
    "        print(f'{direction.name} - Diag')"
   ]
  },
  {
   "cell_type": "code",
   "execution_count": 23,
   "id": "ed6b4715-68d1-40a0-8cd6-641df615fbb9",
   "metadata": {},
   "outputs": [
    {
     "name": "stdout",
     "output_type": "stream",
     "text": [
      "\t☐ - test_method(\n",
      "S..\n",
      ".A.\n",
      "S.M\n",
      ".A.\n",
      "..M\n",
      ") = 0 ≠ 1\n"
     ]
    }
   ],
   "source": [
    "test(test_method, textwrap.dedent(\"\"\"\\\n",
    "\n",
    "                        S..\n",
    "                        .A.\n",
    "                        S.M\n",
    "                        .A.\n",
    "                        ..M\n",
    "                        \"\"\"), 0)"
   ]
  },
  {
   "cell_type": "markdown",
   "id": "e3519059-a5e0-43c4-8086-0009f4737e7d",
   "metadata": {},
   "source": [
    "OOOOHHHH. I see. I'm matching the coordinates of the start, but it's actually only specific directions that are paired. Two down diags don't make sense, even if they start in the spot I expect them to, they might not intersect. I actually do need to find all the center a's (even though I know I have a subset of where to start looking). \n",
    "\n",
    "I'm not sure if I should use that knowledge or just calculate all the center a's and look for intersection. I suppose I'll just use the subset since I know to ignore diags."
   ]
  },
  {
   "cell_type": "code",
   "execution_count": 24,
   "id": "90fea9e1-1df2-4206-b569-4b0d781d73f2",
   "metadata": {},
   "outputs": [],
   "source": [
    "from collections import defaultdict\n",
    "\n",
    "def find_x_mas_centers(input:str) -> set[tuple[int,int]]:\n",
    "\n",
    "    match_coords = defaultdict(list)\n",
    "    \n",
    "    for coord, directions in find_x_mas(input):\n",
    "        match_coords[coord] += directions\n",
    "    \n",
    "    x_mas_centers = set()\n",
    "    \n",
    "    for coord, directions in match_coords.items():\n",
    "        for direction in directions:\n",
    "            # In case you didn't know, + is not an \"X\"....\n",
    "            if direction.x_direction == 0 or direction.y_direction == 0:\n",
    "                continue\n",
    "            # I need to travel one more in a direction to find the \"A\" that is centered in \"MAS\"\n",
    "            x, y = coord\n",
    "            center_a_x = x + (direction.x_direction * 1)\n",
    "            center_a_y = y + (direction.y_direction * 1)\n",
    "\n",
    "            # print(coord, direction)\n",
    "            other_coord_1 = (x + (direction.x_direction * 2), y)\n",
    "            other_coord_2 = (x, y + (direction.y_direction * 2))\n",
    "\n",
    "            for other_coord in [other_coord_1, other_coord_2]:\n",
    "\n",
    "                if other_coord not in match_coords:\n",
    "                    continue\n",
    "\n",
    "                for other_direction in match_coords[other_coord]:\n",
    "                    # Check that the center a aligns and that it's a \"diagonial\" direction\n",
    "                    if direction.x_direction == 0 or direction.y_direction == 0:\n",
    "                        continue\n",
    "                    \n",
    "                    other_center_a_x = other_coord[0] + (other_direction.x_direction * 1)\n",
    "                    other_center_a_y = other_coord[1] + (other_direction.y_direction * 1)\n",
    "\n",
    "                    if other_center_a_x == center_a_x and other_center_a_y == center_a_y:\n",
    "                        x_mas_centers.add((center_a_x, center_a_y))\n",
    "    \n",
    "    return x_mas_centers\n",
    "\n"
   ]
  },
  {
   "cell_type": "code",
   "execution_count": 25,
   "id": "6bc0899d-c08d-437b-94ec-2f5eec8306fd",
   "metadata": {},
   "outputs": [
    {
     "data": {
      "text/plain": [
       "9"
      ]
     },
     "execution_count": 25,
     "metadata": {},
     "output_type": "execute_result"
    }
   ],
   "source": [
    "len(find_x_mas_centers(\"\"\".M.S......\n",
    "..A..MSMS.\n",
    ".M.S.MAA..\n",
    "..A.ASMSM.\n",
    ".M.S.M....\n",
    "..........\n",
    "S.S.S.S.S.\n",
    ".A.A.A.A..\n",
    "M.M.M.M.M.\n",
    "..........\"\"\"))\n"
   ]
  },
  {
   "cell_type": "code",
   "execution_count": 26,
   "id": "6432525a-dc4b-421e-940a-382251ddda5e",
   "metadata": {},
   "outputs": [
    {
     "data": {
      "text/plain": [
       "1990"
      ]
     },
     "execution_count": 26,
     "metadata": {},
     "output_type": "execute_result"
    }
   ],
   "source": [
    "\n",
    "len(find_x_mas_centers(puzzle.input_data))"
   ]
  }
 ],
 "metadata": {
  "kernelspec": {
   "display_name": "Python 3 (ipykernel)",
   "language": "python",
   "name": "python3"
  },
  "language_info": {
   "codemirror_mode": {
    "name": "ipython",
    "version": 3
   },
   "file_extension": ".py",
   "mimetype": "text/x-python",
   "name": "python",
   "nbconvert_exporter": "python",
   "pygments_lexer": "ipython3",
   "version": "3.13.0"
  }
 },
 "nbformat": 4,
 "nbformat_minor": 5
}
