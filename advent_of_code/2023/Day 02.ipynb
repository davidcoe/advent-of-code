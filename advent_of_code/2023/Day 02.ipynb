{
 "cells": [
  {
   "cell_type": "markdown",
   "metadata": {},
   "source": [
    "# Advent of Code 2023\n",
    "\n",
    "## Day 02\n",
    "\n",
    "https://adventofcode.com/2023/day/2"
   ]
  },
  {
   "cell_type": "code",
   "execution_count": 1,
   "metadata": {},
   "outputs": [],
   "source": [
    "from aocd.models import Puzzle\n",
    "\n",
    "puzzle = Puzzle(year=2023, day=2)"
   ]
  },
  {
   "cell_type": "code",
   "execution_count": 122,
   "metadata": {},
   "outputs": [
    {
     "name": "stdout",
     "output_type": "stream",
     "text": [
      "Impossible because the max red was 20, but thats more than the 12 shown.\n",
      "Impossible because the max red was 14, but thats more than the 12 shown.\n",
      "Possible games:\n",
      "Game 1: 3 blue, 4 red; 1 red, 2 green, 6 blue; 2 green\n",
      "Game 2: 1 blue, 2 green; 3 green, 4 blue, 1 red; 1 green, 1 blue\n",
      "Game 5: 6 red, 1 blue, 3 green; 2 blue, 1 red, 2 green\n",
      "Example solution: 8\n"
     ]
    }
   ],
   "source": [
    "import re\n",
    "\n",
    "class Game:\n",
    "    id: int\n",
    "    rounds: list\n",
    "\n",
    "    def __init__(self, input: str) -> None:\n",
    "        game_raw, rounds_raw = input.split(': ')\n",
    "        self.id = int(game_raw.replace('Game ', ''))\n",
    "        self.rounds = [re.findall(r'(?P<count>\\d+) (?P<label>\\w+)', round) for round in rounds_raw.split('; ')]\n",
    "\n",
    "    def __str__(self):\n",
    "        rounds = '; '.join([', '.join([f'{cube[0]} {cube[1]}' for cube in round]) for round in self.rounds])\n",
    "        return f'Game {self.id}: {rounds}'\n",
    "    \n",
    "    def is_possible(self, input: str) -> bool:\n",
    "        all_rounds = [c for round in self.rounds for c in round]\n",
    "        max_label_count = {cube[1]: max([int(round[0]) for round in all_rounds if round[1] == cube[1]]) for cube in all_rounds}\n",
    "        for count, label in re.findall(r'(?P<count>\\d+) (?P<label>\\w+) cubes', input):\n",
    "            if int(max_label_count[label]) > int(count) :\n",
    "                print(f'Impossible because the max {label} was {max_label_count[label]}, but thats more than the {count} shown.')\n",
    "                return False\n",
    "        return True\n",
    "\n",
    "    @classmethod\n",
    "    def fmt_games(cls, seq) -> str:\n",
    "        return '\\n'.join(str(g) for g in seq)\n",
    "\n",
    "def play(input:str, possible_load:str):\n",
    "    games = [Game(g) for g in input.split('\\n')]\n",
    "    possible_games = [g for g in games if g.is_possible(possible_load)]\n",
    "    print(f'Possible games:\\n{Game.fmt_games(possible_games)}')\n",
    "    return sum(g.id for g in possible_games)\n",
    "\n",
    "# print(puzzle.examples[0].input_data)\n",
    "print(f\"Example solution: {play(puzzle.examples[0].input_data, '12 red cubes, 13 green cubes, and 14 blue cubes')}\")"
   ]
  },
  {
   "cell_type": "code",
   "execution_count": 123,
   "metadata": {},
   "outputs": [
    {
     "name": "stdout",
     "output_type": "stream",
     "text": [
      "Impossible because the max red was 13, but thats more than the 12 shown.\n",
      "Impossible because the max red was 18, but thats more than the 12 shown.\n",
      "Impossible because the max blue was 16, but thats more than the 14 shown.\n",
      "Impossible because the max red was 14, but thats more than the 12 shown.\n",
      "Impossible because the max blue was 15, but thats more than the 14 shown.\n",
      "Impossible because the max red was 14, but thats more than the 12 shown.\n",
      "Impossible because the max red was 13, but thats more than the 12 shown.\n",
      "Impossible because the max green was 16, but thats more than the 13 shown.\n",
      "Impossible because the max red was 18, but thats more than the 12 shown.\n",
      "Impossible because the max red was 16, but thats more than the 12 shown.\n",
      "Impossible because the max red was 15, but thats more than the 12 shown.\n",
      "Impossible because the max red was 13, but thats more than the 12 shown.\n",
      "Impossible because the max green was 16, but thats more than the 13 shown.\n",
      "Impossible because the max red was 16, but thats more than the 12 shown.\n",
      "Impossible because the max blue was 19, but thats more than the 14 shown.\n",
      "Impossible because the max blue was 19, but thats more than the 14 shown.\n",
      "Impossible because the max blue was 15, but thats more than the 14 shown.\n",
      "Impossible because the max green was 18, but thats more than the 13 shown.\n",
      "Impossible because the max green was 16, but thats more than the 13 shown.\n",
      "Impossible because the max blue was 18, but thats more than the 14 shown.\n",
      "Impossible because the max blue was 18, but thats more than the 14 shown.\n",
      "Impossible because the max red was 17, but thats more than the 12 shown.\n",
      "Impossible because the max red was 19, but thats more than the 12 shown.\n",
      "Impossible because the max blue was 15, but thats more than the 14 shown.\n",
      "Impossible because the max green was 16, but thats more than the 13 shown.\n",
      "Impossible because the max blue was 20, but thats more than the 14 shown.\n",
      "Impossible because the max red was 17, but thats more than the 12 shown.\n",
      "Impossible because the max green was 15, but thats more than the 13 shown.\n",
      "Impossible because the max red was 17, but thats more than the 12 shown.\n",
      "Impossible because the max blue was 16, but thats more than the 14 shown.\n",
      "Impossible because the max red was 17, but thats more than the 12 shown.\n",
      "Impossible because the max green was 15, but thats more than the 13 shown.\n",
      "Impossible because the max red was 15, but thats more than the 12 shown.\n",
      "Impossible because the max blue was 17, but thats more than the 14 shown.\n",
      "Impossible because the max green was 14, but thats more than the 13 shown.\n",
      "Impossible because the max blue was 17, but thats more than the 14 shown.\n",
      "Impossible because the max blue was 15, but thats more than the 14 shown.\n",
      "Impossible because the max red was 16, but thats more than the 12 shown.\n",
      "Impossible because the max red was 18, but thats more than the 12 shown.\n",
      "Impossible because the max red was 18, but thats more than the 12 shown.\n",
      "Impossible because the max red was 18, but thats more than the 12 shown.\n",
      "Impossible because the max blue was 19, but thats more than the 14 shown.\n",
      "Impossible because the max green was 19, but thats more than the 13 shown.\n",
      "Impossible because the max red was 17, but thats more than the 12 shown.\n",
      "Impossible because the max red was 18, but thats more than the 12 shown.\n",
      "Impossible because the max blue was 15, but thats more than the 14 shown.\n",
      "Impossible because the max red was 17, but thats more than the 12 shown.\n",
      "Impossible because the max red was 13, but thats more than the 12 shown.\n",
      "Impossible because the max red was 15, but thats more than the 12 shown.\n",
      "Impossible because the max red was 13, but thats more than the 12 shown.\n",
      "Impossible because the max red was 13, but thats more than the 12 shown.\n",
      "Impossible because the max red was 18, but thats more than the 12 shown.\n",
      "Impossible because the max red was 13, but thats more than the 12 shown.\n",
      "Impossible because the max green was 20, but thats more than the 13 shown.\n",
      "Impossible because the max red was 14, but thats more than the 12 shown.\n",
      "Impossible because the max green was 18, but thats more than the 13 shown.\n",
      "Possible games:\n",
      "Game 1: 5 red, 1 green; 6 red, 3 blue; 9 red; 1 blue, 1 green, 4 red; 1 green, 2 blue; 2 blue, 1 red\n",
      "Game 2: 12 red, 2 green, 9 blue; 8 red, 12 blue; 9 red, 1 blue, 2 green; 12 blue, 8 red, 2 green; 4 red, 5 blue; 1 green, 9 blue, 10 red\n",
      "Game 4: 3 red; 1 blue, 3 green, 3 red; 3 blue, 8 green, 5 red; 8 green, 2 blue\n",
      "Game 5: 8 blue, 1 red, 1 green; 1 blue, 1 red, 7 green; 7 green, 5 blue\n",
      "Game 6: 2 red, 8 blue; 5 blue, 4 green; 5 blue, 4 red, 3 green; 3 red, 9 blue; 5 green, 9 blue, 7 red; 6 red, 9 blue, 5 green\n",
      "Game 7: 3 green, 4 blue; 7 green, 3 red, 3 blue; 7 red, 4 green, 6 blue; 4 blue, 1 green, 5 red; 6 blue, 2 red, 7 green; 1 green, 4 blue, 4 red\n",
      "Game 10: 5 blue, 2 red; 13 blue, 3 red, 5 green; 2 red, 3 blue; 6 red, 9 blue, 5 green; 9 blue, 3 green, 3 red\n",
      "Game 11: 9 red, 4 green, 3 blue; 8 blue, 8 red; 1 green, 13 blue; 11 blue, 8 red, 4 green\n",
      "Game 12: 1 green; 1 blue, 4 red, 6 green; 1 red, 8 green; 7 red, 1 blue, 3 green; 8 green, 1 blue, 8 red\n",
      "Game 14: 9 green, 1 blue; 6 red, 9 green; 7 green, 3 blue\n",
      "Game 15: 1 green, 4 blue, 2 red; 8 red, 3 blue; 1 red, 3 blue\n",
      "Game 16: 6 blue, 10 green, 5 red; 11 blue, 1 red; 3 red, 2 green, 3 blue; 1 green, 4 red, 6 blue; 11 blue, 2 red, 11 green\n",
      "Game 20: 1 blue, 6 green, 7 red; 5 green, 4 red, 1 blue; 1 blue, 1 red, 4 green\n",
      "Game 21: 3 red, 5 green, 7 blue; 6 green, 10 blue, 5 red; 9 red, 1 blue; 5 green, 8 blue, 9 red; 2 red, 11 green, 4 blue; 5 red, 6 blue\n",
      "Game 22: 8 blue, 1 red, 1 green; 10 blue; 13 blue, 1 green, 4 red; 1 green, 8 blue, 4 red; 3 blue, 1 red\n",
      "Game 23: 2 blue; 3 blue, 5 green; 6 blue, 5 green, 2 red; 1 green\n",
      "Game 25: 12 red, 7 green, 6 blue; 5 blue, 5 red, 12 green; 12 green, 3 red; 5 green, 5 red, 3 blue\n",
      "Game 26: 2 green, 11 blue; 5 red, 3 blue; 5 red, 12 blue, 3 green\n",
      "Game 27: 3 green, 5 red, 12 blue; 3 red, 11 blue, 1 green; 3 red, 4 blue, 3 green; 3 red, 9 green, 9 blue; 14 blue, 1 green, 12 red\n",
      "Game 28: 8 green, 9 blue; 6 green, 8 red, 1 blue; 7 red, 6 green; 12 red, 2 blue, 2 green\n",
      "Game 33: 5 blue, 5 red; 8 red, 1 green, 7 blue; 1 green, 6 red\n",
      "Game 34: 3 blue; 3 green, 2 blue, 2 red; 3 green, 1 blue, 3 red; 3 blue\n",
      "Game 35: 4 red, 2 blue, 6 green; 4 blue, 9 red, 10 green; 3 blue, 8 green, 1 red; 3 red, 1 green, 4 blue; 4 green, 7 blue; 8 red, 8 green, 2 blue\n",
      "Game 41: 10 green, 1 red, 1 blue; 1 red, 9 green; 1 green; 6 green, 1 blue, 2 red; 1 blue, 8 green, 1 red; 9 green\n",
      "Game 45: 1 green, 3 blue, 7 red; 9 green, 8 red, 2 blue; 5 green, 3 blue, 6 red\n",
      "Game 48: 11 red, 2 green; 8 red, 3 green; 2 green, 5 blue, 9 red; 3 green, 2 blue, 5 red\n",
      "Game 52: 7 green, 10 red, 2 blue; 6 green, 12 red, 3 blue; 10 red, 3 blue, 8 green; 3 blue, 1 green, 8 red; 6 green, 5 blue, 3 red\n",
      "Game 53: 8 blue, 3 green; 7 green, 11 blue, 1 red; 1 red, 7 blue, 9 green; 1 blue, 1 green; 4 green, 1 red; 1 red, 8 blue\n",
      "Game 54: 1 blue, 1 green, 4 red; 1 red, 1 blue, 13 green; 11 red, 11 green, 1 blue\n",
      "Game 60: 1 blue; 9 red, 4 green; 3 green, 3 blue, 1 red; 3 red, 1 blue\n",
      "Game 62: 12 red, 6 blue, 1 green; 2 red, 1 green, 4 blue; 10 blue, 12 red, 4 green; 5 green, 8 red, 8 blue\n",
      "Game 63: 3 green, 3 red; 7 red; 2 green, 1 blue, 7 red; 5 red, 1 green\n",
      "Game 64: 5 green, 11 red; 4 green, 2 blue, 7 red; 7 red, 11 blue, 3 green; 8 blue, 5 green, 5 red; 8 red, 4 blue\n",
      "Game 69: 4 red, 1 green; 5 red, 2 green, 3 blue; 1 red, 7 blue; 8 red, 6 blue, 1 green; 2 green, 6 red, 1 blue; 6 red, 8 blue, 2 green\n",
      "Game 74: 6 green, 2 blue, 5 red; 1 blue, 9 green; 5 red, 1 blue, 10 green; 4 green, 11 red, 1 blue\n",
      "Game 75: 4 blue; 4 green, 6 blue; 2 green, 2 blue, 4 red\n",
      "Game 76: 5 blue; 5 green, 5 red; 9 red, 1 blue, 1 green; 5 green; 3 green, 6 red, 1 blue\n",
      "Game 78: 2 red, 5 blue, 2 green; 2 blue, 4 green, 6 red; 4 blue, 4 green, 3 red; 3 red, 5 green; 2 red, 4 green, 4 blue\n",
      "Game 84: 2 red, 5 blue, 3 green; 9 red, 7 blue, 2 green; 4 green, 9 red, 3 blue; 1 blue, 1 green, 5 red\n",
      "Game 86: 1 green, 5 blue, 8 red; 10 green, 8 red, 9 blue; 6 green, 3 red, 8 blue; 9 red, 3 green, 8 blue; 2 red, 6 blue, 1 green\n",
      "Game 92: 6 blue; 10 green, 1 red, 11 blue; 5 blue, 5 green; 6 green, 1 red; 1 red, 6 green\n",
      "Game 95: 6 blue, 1 red, 10 green; 10 red, 5 blue, 7 green; 9 red, 13 green, 10 blue; 11 blue, 9 red, 8 green\n",
      "Game 99: 4 blue; 1 red, 2 green, 11 blue; 12 blue, 1 green, 1 red; 11 blue, 6 green; 1 red, 7 green, 8 blue\n",
      "Game 100: 10 blue, 5 green; 4 green, 3 red, 6 blue; 2 green, 4 red, 1 blue\n",
      "Part A Solution: 1867\n"
     ]
    }
   ],
   "source": [
    "print(f\"Part A Solution: {play(puzzle.input_data, '12 red cubes, 13 green cubes, and 14 blue cubes')}\")"
   ]
  }
 ],
 "metadata": {
  "kernelspec": {
   "display_name": "Python 3",
   "language": "python",
   "name": "python3"
  },
  "language_info": {
   "codemirror_mode": {
    "name": "ipython",
    "version": 3
   },
   "file_extension": ".py",
   "mimetype": "text/x-python",
   "name": "python",
   "nbconvert_exporter": "python",
   "pygments_lexer": "ipython3",
   "version": "3.12.0"
  },
  "orig_nbformat": 4,
  "vscode": {
   "interpreter": {
    "hash": "9240d949b7e875368571ba59acc67192d2efbcc4561b3c6f94c83d7858e18732"
   }
  }
 },
 "nbformat": 4,
 "nbformat_minor": 2
}
