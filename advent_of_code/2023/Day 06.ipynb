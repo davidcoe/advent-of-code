{
 "cells": [
  {
   "cell_type": "markdown",
   "id": "ed926c20-41da-4b82-bd14-f2f2bf55dbdf",
   "metadata": {},
   "source": [
    "# 2023 Day 06\n",
    "\n"
   ]
  },
  {
   "cell_type": "code",
   "execution_count": 1,
   "id": "5512d1fb-bd98-41bc-899f-608ab1238e12",
   "metadata": {},
   "outputs": [
    {
     "name": "stdout",
     "output_type": "stream",
     "text": [
      "Time:        49     78     79     80\n",
      "Distance:   298   1185   1066   1181\n"
     ]
    }
   ],
   "source": [
    "from aocd.models import Puzzle\n",
    "\n",
    "puzzle = Puzzle(year=2023, day=6)\n",
    "\n",
    "print(puzzle.input_data)"
   ]
  },
  {
   "cell_type": "code",
   "execution_count": 3,
   "id": "b6369389-7851-4fbf-8b77-004fda219099",
   "metadata": {},
   "outputs": [],
   "source": [
    "raw_time, raw_distance = puzzle.input_data.split('\\n')"
   ]
  },
  {
   "cell_type": "code",
   "execution_count": 5,
   "id": "352d0681-5bfc-4b9d-8195-be2ee8936e94",
   "metadata": {},
   "outputs": [
    {
     "data": {
      "text/plain": [
       "['49', '78', '79', '80']"
      ]
     },
     "execution_count": 5,
     "metadata": {},
     "output_type": "execute_result"
    }
   ],
   "source": [
    "import re\n",
    "re.findall(r'\\d+', raw_time)"
   ]
  },
  {
   "cell_type": "code",
   "execution_count": 8,
   "id": "3441a42d-c223-4d37-9f32-7447c2293b5a",
   "metadata": {},
   "outputs": [
    {
     "name": "stdout",
     "output_type": "stream",
     "text": [
      "[('49', '298'), ('78', '1185'), ('79', '1066'), ('80', '1181')]\n"
     ]
    }
   ],
   "source": [
    "raw_time, raw_distance = puzzle.input_data.split('\\n')\n",
    "\n",
    "times = re.findall(r'\\d+', raw_time)\n",
    "distances = re.findall(r'\\d+', raw_distance)\n",
    "\n",
    "races = zip(times, distances)\n",
    "print(list(races))"
   ]
  },
  {
   "cell_type": "code",
   "execution_count": 12,
   "id": "9199222f-c22b-478c-a982-6f7d29bb4506",
   "metadata": {},
   "outputs": [
    {
     "name": "stdout",
     "output_type": "stream",
     "text": [
      "Example Answer: 288\n"
     ]
    }
   ],
   "source": [
    "raw_time, raw_distance = puzzle.examples[0].input_data.split('\\n')\n",
    "\n",
    "times = [int(i) for i in re.findall(r'\\d+', raw_time)]\n",
    "distances = [int(i) for i in re.findall(r'\\d+', raw_distance)]\n",
    "\n",
    "races = list(zip(times, distances))\n",
    "\n",
    "product = 1\n",
    "for time, record_dist in races:\n",
    "    race_wins = 0\n",
    "    for hold in range(0, time):\n",
    "        race_distance = (time - hold) * hold\n",
    "        if race_distance > record_dist:\n",
    "            race_wins += 1\n",
    "    product *= race_wins\n",
    "\n",
    "print(f'Example Answer: {product}')"
   ]
  },
  {
   "cell_type": "code",
   "execution_count": 14,
   "id": "32ef2914-7aa3-4a02-b0cb-81d100430ef6",
   "metadata": {},
   "outputs": [
    {
     "name": "stdout",
     "output_type": "stream",
     "text": [
      "Part A Answer: 2269432\n"
     ]
    }
   ],
   "source": [
    "raw_time, raw_distance = puzzle.input_data.split('\\n')\n",
    "\n",
    "times = [int(i) for i in re.findall(r'\\d+', raw_time)]\n",
    "distances = [int(i) for i in re.findall(r'\\d+', raw_distance)]\n",
    "\n",
    "races = list(zip(times, distances))\n",
    "\n",
    "product = 1\n",
    "for time, record_dist in races:\n",
    "    race_wins = 0\n",
    "    for hold in range(0, time):\n",
    "        race_distance = (time - hold) * hold\n",
    "        if race_distance > record_dist:\n",
    "            race_wins += 1\n",
    "    product *= race_wins\n",
    "\n",
    "print(f'Part A Answer: {product}')"
   ]
  },
  {
   "cell_type": "markdown",
   "id": "e1da55ce-b8f1-4ae0-bc07-cfbe19a493a3",
   "metadata": {},
   "source": [
    "# Part B"
   ]
  },
  {
   "cell_type": "code",
   "execution_count": 23,
   "id": "d76b30f7-2d97-41c7-9f0b-cf700ac5fcf9",
   "metadata": {},
   "outputs": [
    {
     "name": "stdout",
     "output_type": "stream",
     "text": [
      "49787980 298118510661181\n"
     ]
    }
   ],
   "source": [
    "input_data = puzzle.examples[0].input_data\n",
    "\n",
    "raw_time, raw_distance = puzzle.input_data.split('\\n')\n",
    "\n",
    "time = int(raw_time.replace(' ', '').split(':')[1])\n",
    "record_dist = int(raw_distance.replace(' ', '').split(':')[1])\n",
    "\n",
    "print(time, record_dist)\n"
   ]
  },
  {
   "cell_type": "code",
   "execution_count": 24,
   "id": "923a69d1-0249-482e-b255-24631f196345",
   "metadata": {},
   "outputs": [
    {
     "name": "stdout",
     "output_type": "stream",
     "text": [
      "Part B Example Answer: 71503\n"
     ]
    }
   ],
   "source": [
    "def find_race_wins_count(time: int, record_dist: int) -> int:\n",
    "    race_wins = 0\n",
    "    for hold in range(0, time):\n",
    "        race_distance = (time - hold) * hold\n",
    "        if race_distance > record_dist:\n",
    "            race_wins += 1\n",
    "    return race_wins\n",
    "\n",
    "print(f'Part B Example Answer: {find_race_wins_count(71530, 940200)}')"
   ]
  },
  {
   "cell_type": "code",
   "execution_count": 25,
   "id": "3ad698f5-0143-4129-b609-8d2ceb6c85d7",
   "metadata": {},
   "outputs": [
    {
     "name": "stdout",
     "output_type": "stream",
     "text": [
      "Part B Answer: 35865985\n"
     ]
    }
   ],
   "source": [
    "print(f'Part B Answer: {find_race_wins_count(time, record_dist)}')"
   ]
  }
 ],
 "metadata": {
  "kernelspec": {
   "display_name": "Python 3 (ipykernel)",
   "language": "python",
   "name": "python3"
  },
  "language_info": {
   "codemirror_mode": {
    "name": "ipython",
    "version": 3
   },
   "file_extension": ".py",
   "mimetype": "text/x-python",
   "name": "python",
   "nbconvert_exporter": "python",
   "pygments_lexer": "ipython3",
   "version": "3.12.0"
  }
 },
 "nbformat": 4,
 "nbformat_minor": 5
}
