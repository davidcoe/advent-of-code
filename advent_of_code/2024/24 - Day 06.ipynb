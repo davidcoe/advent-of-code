{
 "cells": [
  {
   "cell_type": "markdown",
   "id": "3c5524b7-ee66-4abd-8029-39c44e917d58",
   "metadata": {},
   "source": [
    "## Part 1"
   ]
  },
  {
   "cell_type": "code",
   "execution_count": 1,
   "id": "9ae8dc19-1f00-4603-9e8a-2f0b3d778545",
   "metadata": {},
   "outputs": [],
   "source": [
    "from aocd.models import Puzzle\n",
    "\n",
    "puzzle = Puzzle(year=2024, day=6)\n",
    "\n",
    "def test(method, input, expected):\n",
    "    actual = method(input)\n",
    "    if actual == expected:\n",
    "        print(f'\\t☑ - {method.__name__}({input}) = {expected} = {actual}')\n",
    "    else:\n",
    "        print(f'\\t☐ - {method.__name__}({input}) = {expected} ≠ {actual}')"
   ]
  },
  {
   "cell_type": "code",
   "execution_count": 2,
   "id": "f7bd56df",
   "metadata": {},
   "outputs": [
    {
     "data": {
      "text/plain": [
       "'....#.....\\n.........#\\n..........\\n..#.......\\n.......#..\\n..........\\n.#..^.....\\n........#.\\n#.........\\n......#...'"
      ]
     },
     "execution_count": 2,
     "metadata": {},
     "output_type": "execute_result"
    }
   ],
   "source": [
    "puzzle.examples[0].input_data"
   ]
  },
  {
   "cell_type": "code",
   "execution_count": 3,
   "id": "57d3c9a4",
   "metadata": {},
   "outputs": [
    {
     "name": "stdout",
     "output_type": "stream",
     "text": [
      "[['.', '.', '.', '.', '#', '.', '.', '.', '.', '.'], ['.', '.', '.', '.', '.', '.', '.', '.', '.', '#'], ['.', '.', '.', '.', '.', '.', '.', '.', '.', '.'], ['.', '.', '#', '.', '.', '.', '.', '.', '.', '.'], ['.', '.', '.', '.', '.', '.', '.', '#', '.', '.'], ['.', '.', '.', '.', '.', '.', '.', '.', '.', '.'], ['.', '#', '.', '.', '^', '.', '.', '.', '.', '.'], ['.', '.', '.', '.', '.', '.', '.', '.', '#', '.'], ['#', '.', '.', '.', '.', '.', '.', '.', '.', '.'], ['.', '.', '.', '.', '.', '.', '#', '.', '.', '.']]\n",
      "986: {(7, 673), (7, 17), (7, 682), (7, 920), (7, 26), (7, 264), (7, 691), (7, 929), (7, 35), (7, 273), (7, 938), (7, 282), (7, 520), (7, 947), (7, 291), (7, 529), (7, 300), (7, 538), (7, 547), (7, 785), (7, 129), (7, 556), (7, 794), (4, 2), (7, 138), (7, 803), (7, 147), (7, 385), (3, 6), (7, 812), (7, 156), (7, 394), (7, 821), (7, 165), (7, 403), (7, 412), (7, 650), (7, 421), (7, 659), (7, 668), (7, 906), (7, 12), (7, 250), (7, 677), (7, 915), (7, 21), (7, 259), (7, 686), (7, 924), (7, 30), (7, 268), (7, 933), (8, 4), (7, 277), (7, 515), (7, 942), (7, 286), (7, 524), (7, 533), (7, 771), (7, 115), (7, 542), (7, 780), (7, 124), (7, 551), (7, 789), (7, 133), (7, 798), (7, 142), (7, 380), (7, 807), (7, 151), (7, 389), (7, 398), (7, 636), (7, 407), (7, 645), (7, 416), (7, 654), (7, 663), (7, 901), (7, 7), (7, 245), (7, 672), (7, 910), (7, 16), (7, 254), (7, 919), (7, 263), (7, 501), (7, 928), (7, 272), (7, 510), (7, 937), (7, 281), (7, 519), (7, 528), (7, 766), (7, 110), (7, 537), (7, 775), (7, 119), (7, 784), (7, 128), (7, 366), (7, 793), (7, 137), (7, 375), (7, 802), (7, 146), (7, 384), (7, 393), (7, 631), (7, 402), (7, 640), (7, 649), (7, 887), (7, 231), (7, 658), (7, 896), (7, 240), (7, 667), (7, 905), (7, 11), (7, 249), (7, 914), (7, 258), (7, 496), (7, 923), (7, 267), (7, 505), (7, 514), (7, 752), (7, 96), (7, 523), (7, 761), (7, 105), (7, 532), (7, 770), (7, 114), (2, 8), (7, 779), (7, 123), (7, 361), (7, 788), (7, 132), (7, 370), (7, 379), (7, 617), (7, 388), (7, 626), (7, 397), (7, 635), (7, 873), (7, 644), (7, 882), (7, 226), (7, 653), (7, 891), (7, 235), (7, 900), (7, 244), (7, 482), (7, 909), (7, 253), (7, 491), (7, 262), (7, 500), (7, 738), (7, 509), (7, 747), (7, 91), (7, 518), (7, 756), (7, 100), (7, 765), (7, 109), (7, 347), (7, 774), (7, 118), (7, 356), (7, 127), (7, 365), (7, 603), (7, 374), (7, 612), (7, 383), (3, 4), (7, 621), (7, 630), (7, 868), (7, 212), (7, 639), (7, 877), (7, 221), (7, 886), (7, 230), (7, 468), (7, 895), (7, 239), (7, 477), (7, 904), (7, 248), (6, 5), (7, 486), (7, 495), (7, 733), (7, 77), (7, 504), (7, 742), (7, 86), (7, 751), (7, 95), (7, 333), (7, 760), (7, 104), (7, 342), (7, 769), (7, 113), (2, 7), (7, 351), (7, 360), (7, 598), (7, 369), (7, 607), (7, 616), (7, 854), (7, 198), (7, 625), (7, 863), (7, 207), (7, 634), (7, 872), (7, 216), (5, 8), (7, 881), (7, 225), (7, 463), (7, 890), (7, 234), (7, 472), (7, 481), (7, 719), (7, 63), (7, 490), (7, 728), (7, 72), (7, 499), (7, 737), (7, 81), (7, 746), (7, 90), (7, 328), (7, 755), (7, 99), (7, 337), (7, 346), (7, 584), (7, 355), (7, 593), (7, 364), (7, 602), (7, 611), (7, 849), (7, 193), (7, 620), (7, 858), (7, 202), (7, 867), (7, 211), (7, 449), (7, 876), (7, 220), (7, 458), (7, 885), (7, 229), (7, 467), (7, 476), (7, 714), (6, 4), (7, 58), (7, 485), (7, 723), (7, 67), (7, 732), (7, 76), (7, 314), (7, 741), (7, 85), (7, 323), (7, 750), (7, 94), (7, 332), (7, 341), (7, 579), (7, 350), (7, 588), (7, 597), (7, 835), (7, 179), (7, 606), (7, 844), (7, 188), (7, 615), (7, 853), (7, 197), (7, 862), (7, 206), (7, 444), (7, 871), (7, 215), (5, 7), (7, 453), (7, 462), (7, 700), (7, 44), (7, 471), (7, 709), (7, 53), (7, 480), (7, 718), (7, 62), (7, 727), (7, 71), (7, 309), (7, 736), (7, 80), (7, 318), (7, 327), (7, 565), (7, 336), (7, 574), (7, 345), (7, 583), (7, 592), (7, 830), (7, 174), (7, 601), (7, 839), (7, 183), (7, 848), (7, 192), (7, 430), (7, 857), (7, 201), (7, 439), (7, 866), (7, 210), (7, 448), (7, 457), (7, 695), (7, 39), (7, 466), (7, 704), (7, 48), (7, 713), (7, 951), (7, 57), (7, 295), (7, 722), (7, 66), (7, 304), (7, 731), (7, 75), (7, 313), (7, 322), (7, 560), (7, 331), (4, 6), (7, 569), (7, 578), (7, 816), (7, 160), (7, 587), (7, 825), (7, 169), (7, 596), (7, 834), (7, 178), (7, 843), (7, 187), (7, 425), (7, 852), (7, 196), (7, 434), (7, 443), (7, 681), (5, 6), (7, 25), (7, 452), (7, 690), (7, 34), (7, 461), (7, 699), (7, 43), (7, 708), (7, 946), (7, 52), (7, 290), (7, 717), (7, 61), (7, 299), (7, 308), (7, 546), (7, 317), (7, 555), (7, 326), (4, 1), (7, 564), (7, 573), (7, 811), (7, 155), (7, 582), (7, 820), (7, 164), (7, 829), (7, 173), (7, 411), (7, 838), (7, 182), (7, 420), (7, 847), (7, 191), (7, 429), (7, 438), (7, 676), (7, 20), (7, 447), (7, 685), (7, 29), (7, 694), (7, 932), (7, 38), (8, 3), (7, 276), (7, 703), (7, 941), (7, 47), (7, 285), (7, 712), (7, 950), (7, 56), (7, 294), (7, 303), (7, 541), (7, 312), (7, 550), (7, 559), (7, 797), (4, 5), (7, 141), (7, 568), (7, 806), (7, 150), (7, 577), (7, 815), (7, 159), (7, 824), (7, 168), (7, 406), (7, 833), (7, 177), (7, 415), (7, 424), (7, 662), (7, 6), (7, 433), (7, 671), (7, 15), (7, 442), (7, 680), (7, 918), (7, 24), (7, 689), (7, 927), (7, 33), (7, 271), (7, 698), (7, 936), (7, 42), (7, 280), (7, 945), (7, 289), (7, 527), (7, 954), (7, 298), (7, 536), (7, 307), (7, 545), (7, 783), (7, 554), (7, 792), (7, 136), (7, 563), (7, 801), (7, 145), (7, 810), (7, 154), (7, 392), (7, 819), (7, 163), (7, 401), (7, 172), (7, 410), (7, 648), (7, 419), (7, 657), (7, 1), (7, 428), (7, 666), (7, 10), (7, 675), (7, 913), (7, 19), (7, 257), (7, 684), (7, 922), (7, 28), (7, 266), (7, 931), (7, 37), (8, 2), (7, 275), (7, 513), (7, 940), (7, 284), (7, 522), (7, 949), (7, 293), (7, 531), (7, 540), (7, 778), (7, 122), (7, 549), (7, 787), (7, 131), (7, 796), (7, 140), (7, 378), (7, 805), (7, 149), (7, 387), (3, 8), (7, 814), (7, 158), (7, 396), (7, 405), (7, 643), (7, 414), (7, 652), (7, 661), (7, 899), (7, 243), (7, 670), (7, 908), (7, 14), (7, 252), (7, 679), (7, 917), (7, 23), (7, 261), (7, 926), (7, 270), (7, 508), (7, 935), (7, 279), (7, 517), (7, 526), (7, 764), (7, 108), (7, 535), (7, 773), (7, 117), (7, 544), (7, 782), (7, 126), (7, 791), (7, 135), (7, 373), (7, 800), (7, 144), (7, 382), (7, 391), (7, 629), (7, 400), (7, 638), (7, 409), (7, 647), (7, 656), (7, 894), (7, 238), (7, 665), (7, 903), (7, 9), (7, 247), (7, 912), (7, 256), (7, 494), (7, 921), (7, 265), (7, 503), (7, 930), (7, 274), (7, 512), (7, 521), (7, 759), (7, 103), (7, 530), (7, 768), (7, 112), (2, 6), (7, 777), (7, 121), (7, 359), (7, 786), (7, 130), (7, 368), (7, 795), (7, 139), (7, 377), (7, 386), (3, 7), (7, 624), (7, 395), (7, 633), (7, 642), (7, 880), (7, 224), (7, 651), (7, 889), (7, 233), (7, 660), (7, 898), (7, 242), (7, 907), (7, 251), (6, 8), (7, 489), (7, 916), (7, 260), (7, 498), (7, 507), (7, 745), (7, 89), (7, 516), (7, 754), (7, 98), (7, 525), (7, 763), (7, 107), (7, 772), (7, 116), (7, 354), (7, 781), (7, 125), (7, 363), (7, 372), (7, 610), (7, 381), (7, 619), (7, 390), (7, 628), (7, 637), (7, 875), (7, 219), (7, 646), (7, 884), (7, 228), (7, 893), (7, 237), (7, 475), (7, 902), (7, 246), (7, 484), (7, 911), (7, 255), (7, 493), (7, 502), (7, 740), (7, 84), (7, 511), (7, 749), (7, 93), (7, 758), (7, 102), (7, 340), (7, 767), (7, 111), (2, 5), (7, 349), (7, 776), (7, 120), (7, 358), (7, 367), (7, 605), (7, 376), (7, 614), (7, 623), (7, 861), (7, 205), (7, 632), (7, 870), (7, 214), (7, 641), (7, 879), (7, 223), (7, 888), (7, 232), (7, 470), (7, 897), (7, 241), (7, 479), (6, 7), (7, 488), (7, 726), (7, 70), (7, 497), (7, 735), (7, 79), (7, 506), (7, 744), (7, 88), (7, 753), (7, 97), (7, 335), (7, 762), (7, 106), (7, 344), (7, 353), (7, 591), (7, 362), (7, 600), (7, 371), (7, 609), (7, 618), (7, 856), (7, 200), (7, 627), (7, 865), (7, 209), (5, 1), (7, 874), (7, 218), (7, 456), (7, 883), (7, 227), (7, 465), (7, 892), (7, 236), (7, 474), (7, 483), (7, 721), (7, 65), (7, 492), (7, 730), (7, 74), (7, 739), (7, 83), (7, 321), (7, 748), (7, 92), (7, 330), (7, 757), (7, 101), (7, 339), (2, 4), (7, 348), (7, 586), (7, 357), (7, 595), (1, 8), (7, 604), (7, 842), (7, 186), (7, 613), (7, 851), (7, 195), (7, 622), (7, 860), (7, 204), (7, 869), (7, 213), (7, 451), (7, 878), (7, 222), (7, 460), (7, 469), (7, 707), (7, 51), (7, 478), (7, 716), (7, 435), (6, 6), (7, 60), (7, 487), (7, 725), (7, 69), (7, 734), (7, 78), (7, 316), (7, 743), (7, 87), (7, 325), (7, 334), (7, 572), (7, 343), (7, 581), (7, 352), (7, 590), (7, 828), (7, 599), (7, 837), (7, 181), (7, 608), (7, 846), (7, 190), (7, 855), (7, 199), (7, 437), (7, 864), (7, 208), (7, 446), (7, 217), (7, 455), (7, 693), (7, 464), (7, 702), (7, 46), (7, 473), (7, 711), (6, 1), (7, 55), (7, 720), (7, 64), (7, 302), (7, 729), (7, 73), (7, 311), (7, 82), (7, 320), (7, 558), (7, 329), (4, 4), (7, 567), (7, 338), (7, 576), (7, 585), (7, 823), (7, 167), (7, 594), (1, 7), (7, 832), (7, 176), (7, 841), (7, 185), (7, 423), (7, 850), (7, 194), (7, 432), (7, 859), (7, 203), (7, 441), (5, 4), (7, 450), (7, 688), (7, 32), (7, 459), (7, 697), (7, 41), (8, 6), (7, 706), (7, 944), (7, 50), (7, 288), (7, 715), (7, 953), (7, 59), (7, 297), (7, 724), (7, 68), (7, 306), (7, 315), (7, 553), (7, 324), (7, 562), (4, 8), (7, 571), (7, 809), (7, 153), (7, 580), (7, 818), (7, 162), (7, 589), (7, 827), (7, 171), (7, 836), (7, 180), (7, 418), (7, 845), (7, 189), (7, 427), (7, 436), (7, 674), (7, 18), (7, 445), (7, 683), (7, 27), (7, 454), (7, 692), (7, 36), (8, 1), (7, 701), (7, 939), (7, 45), (7, 283), (7, 710), (7, 948), (7, 54), (7, 292), (7, 301), (7, 539), (7, 310), (7, 548), (7, 319), (7, 557), (4, 3), (7, 566), (7, 804), (7, 148), (7, 575), (7, 813), (7, 157), (7, 822), (7, 166), (7, 404), (7, 831), (7, 175), (7, 413), (7, 840), (7, 184), (7, 422), (7, 431), (7, 669), (7, 13), (7, 440), (7, 678), (7, 22), (7, 687), (7, 925), (7, 31), (7, 269), (7, 696), (7, 934), (7, 40), (8, 5), (7, 278), (7, 705), (7, 943), (7, 49), (7, 287), (7, 952), (7, 296), (7, 534), (7, 305), (7, 543), (7, 552), (7, 790), (7, 134), (7, 561), (7, 799), (4, 7), (7, 143), (7, 570), (7, 808), (7, 152), (7, 817), (7, 161), (7, 399), (7, 826), (7, 170), (7, 408), (7, 417), (7, 655), (7, 426), (7, 664), (7, 8)}\n"
     ]
    }
   ],
   "source": [
    "\n",
    "def calculate_positions(input:str):\n",
    "    map = [list(row) for row in input.split()]\n",
    "    print(map)\n",
    "\n",
    "    obstacles = []\n",
    "    direction = None\n",
    "    guard = None\n",
    "\n",
    "    # Parse the map\n",
    "    for y, row in enumerate(map):\n",
    "        for x, value in enumerate(row):\n",
    "            if value == '#':\n",
    "                obstacles.append((x,y))\n",
    "            elif value == '.':\n",
    "                continue\n",
    "            elif value in ['^', '<', '>', 'v']:\n",
    "                # guard\n",
    "                guard = (x,y)\n",
    "                match value:\n",
    "                    case '^':\n",
    "                        direction = (0, -1)\n",
    "                    case '>':\n",
    "                        direction = (1, 0)\n",
    "                    case 'v':\n",
    "                        direction = (0, 1)\n",
    "                    case '<':\n",
    "                        direction = (-1, 0)\n",
    "            else:\n",
    "                print(f\"Didn't know what to make of {value} when parsing the map\")\n",
    "\n",
    "    # Walk the guard around\n",
    "    positions = set()\n",
    "\n",
    "    # I'm going to assume that the guard's path is a loop.\n",
    "    back_to_start = False\n",
    "    i = 0\n",
    "    while i < 1000 and not back_to_start:\n",
    "        i+=1\n",
    "        positions.add(guard)\n",
    "        next_ = tuple(sum(x) for x in zip(guard, direction))\n",
    "\n",
    "        if next_ in obstacles:\n",
    "            # turn\n",
    "            # I can't think of a case where the guard will get blocked since you could always go back the way you came?\n",
    "            # TODO There must be a smart math way to do this, but I'm tired. I'd like to figure it out though.\n",
    "            match direction:\n",
    "                case (0, -1): # '^'\n",
    "                    direction = (1, 0)\n",
    "                case (1, 0): # '>'\n",
    "                    direction = (0, 1)\n",
    "                case (0, 1): # 'v'\n",
    "                    direction = (-1, 0)\n",
    "                case (-1, 0): # '<'\n",
    "                    direction = (0, -1)\n",
    "        else:\n",
    "            guard = next_\n",
    "    \n",
    "    print(f'{len(positions)}: {positions}')\n",
    "\n",
    "calculate_positions(puzzle.examples[0].input_data)"
   ]
  },
  {
   "cell_type": "markdown",
   "id": "91175ff5",
   "metadata": {},
   "source": [
    "Ok, something is going wrong. That number is WAY more than 41. Let's get some better debugging."
   ]
  },
  {
   "cell_type": "code",
   "execution_count": 4,
   "id": "2b04ee9e",
   "metadata": {},
   "outputs": [
    {
     "name": "stdout",
     "output_type": "stream",
     "text": [
      "....#.....\n",
      ".........#\n",
      "..........\n",
      "..#.......\n",
      ".......#..\n",
      "..........\n",
      ".#..^.....\n",
      "........#.\n",
      "#.........\n",
      "......#...\n",
      "\n",
      "==========\n",
      "....#.....\n",
      "....XXXXX#\n",
      "....X...X.\n",
      "..#.X...X.\n",
      "..XXXXX#X.\n",
      "..X.X.X.X.\n",
      ".#XXXXXXX.\n",
      ".XXXXXXX#.\n",
      "#XXXXXXX..\n",
      "......#X..\n",
      "==========\n",
      "\n",
      "66: {(7, 17), (7, 23), (3, 4), (4, 3), (7, 20), (3, 7), (5, 4), (4, 6), (7, 26), (5, 1), (5, 7), (7, 29), (7, 32), (8, 3), (8, 6), (2, 5), (2, 8), (7, 1), (7, 7), (6, 5), (7, 10), (6, 8), (7, 16), (7, 13), (4, 2), (7, 19), (4, 5), (7, 22), (7, 28), (5, 6), (4, 8), (3, 6), (7, 25), (8, 2), (7, 31), (7, 34), (8, 5), (2, 4), (2, 7), (6, 1), (1, 8), (6, 4), (7, 9), (6, 7), (7, 6), (7, 12), (7, 15), (7, 21), (4, 1), (4, 7), (7, 18), (7, 24), (4, 4), (7, 27), (3, 8), (7, 30), (8, 4), (7, 33), (8, 1), (5, 8), (1, 7), (2, 6), (6, 6), (7, 11), (7, 8), (7, 14)}\n"
     ]
    }
   ],
   "source": [
    "from dataclasses import dataclass\n",
    "\n",
    "@dataclass\n",
    "class Direction:\n",
    "    symbol:str\n",
    "    x:int\n",
    "    y:int\n",
    "\n",
    "north = Direction('^', 0, -1)\n",
    "east = Direction('>', 1, 0)\n",
    "south = Direction('v', 0, 1)\n",
    "west = Direction('<', -1, 0)\n",
    "\n",
    "directions = [north, east, south, west]\n",
    "\n",
    "def draw_map(map_size, guard, direction, visited, obstacles):\n",
    "    x, y = map_size\n",
    "\n",
    "    map = []\n",
    "\n",
    "    for j in range(y):\n",
    "        row = []\n",
    "        for i in range(x):\n",
    "            if (i,j) == guard:\n",
    "                row.append(direction.symbol)\n",
    "            elif (i,j) in obstacles:\n",
    "                row.append('#')\n",
    "            elif (i,j) in visited:\n",
    "                row.append('X')\n",
    "            else:\n",
    "                row.append('.')\n",
    "        map.append(row)\n",
    "\n",
    "    return '\\n'.join([''.join(row) for row in map])\n",
    "\n",
    "def calculate_positions(input:str):\n",
    "    map = [list(row) for row in input.split()]\n",
    "\n",
    "    obstacles = []\n",
    "    direction = None\n",
    "    guard = None\n",
    "\n",
    "    # Parse the map\n",
    "    for y, row in enumerate(map):\n",
    "        for x, value in enumerate(row):\n",
    "            if value == '#':\n",
    "                obstacles.append((x,y))\n",
    "            elif value == '.':\n",
    "                continue\n",
    "            elif value in ['^', '<', '>', 'v']:\n",
    "                # guard\n",
    "                guard = (x,y)\n",
    "                direction = next(filter(lambda d: d.symbol == value, directions))\n",
    "            else:\n",
    "                print(f\"Didn't know what to make of {value} when parsing the map\")\n",
    "\n",
    "    print(draw_map((len(map[0]), len(map)), guard, direction, [], obstacles))\n",
    "\n",
    "    # Walk the guard around\n",
    "    positions = set()\n",
    "\n",
    "    # I'm going to assume that the guard's path is a loop.\n",
    "    back_to_start = False\n",
    "    i = 0\n",
    "    while i < 80 and not back_to_start:\n",
    "        i+=1\n",
    "        positions.add(guard)\n",
    "        next_ = tuple(sum(x) for x in zip(guard, (direction.x, direction.y)))\n",
    "\n",
    "        if next_ in obstacles:\n",
    "            # turn\n",
    "            # I can't think of a case where the guard will get blocked since you could always go back the way you came?\n",
    "            # TODO There must be a smart math way to do this, but I'm tired. I'd like to figure it out though.\n",
    "            indx = directions.index(direction)\n",
    "            if indx + 1 < len(directions):\n",
    "                direction = directions[indx+1]\n",
    "            else:\n",
    "                direction = directions[0]\n",
    "        else:\n",
    "            guard = next_\n",
    "        \n",
    "        # print(f'\\n{'='*10}')\n",
    "        # print(draw_map((len(map[0]), len(map)), guard, direction, positions, obstacles))\n",
    "        # print(f'{'='*10}\\n')\n",
    "        \n",
    "    print(f'\\n{'='*10}')\n",
    "    print(draw_map((len(map[0]), len(map)), guard, direction, positions, obstacles))\n",
    "    print(f'{'='*10}\\n')\n",
    "    print(f'{len(positions)}: {positions}')\n",
    "\n",
    "calculate_positions(puzzle.examples[0].input_data)"
   ]
  },
  {
   "cell_type": "markdown",
   "id": "65a79512",
   "metadata": {},
   "source": [
    "OHHHH!!! I'm letting him walk off the map. Woops!"
   ]
  },
  {
   "cell_type": "code",
   "execution_count": 5,
   "id": "ad9009c4",
   "metadata": {},
   "outputs": [],
   "source": [
    "from dataclasses import dataclass\n",
    "\n",
    "@dataclass\n",
    "class Direction:\n",
    "    symbol:str\n",
    "    x:int\n",
    "    y:int\n",
    "\n",
    "north = Direction('^', 0, -1)\n",
    "east = Direction('>', 1, 0)\n",
    "south = Direction('v', 0, 1)\n",
    "west = Direction('<', -1, 0)\n",
    "\n",
    "directions = [north, east, south, west]\n",
    "\n",
    "def calculate_positions(input:str):\n",
    "    map = [list(row) for row in input.split()]\n",
    "\n",
    "    obstacles = []\n",
    "    direction = None\n",
    "    guard = None\n",
    "\n",
    "    # Parse the map\n",
    "    for y, row in enumerate(map):\n",
    "        for x, value in enumerate(row):\n",
    "            if value == '#':\n",
    "                obstacles.append((x,y))\n",
    "            elif value == '.':\n",
    "                continue\n",
    "            elif value in ['^', '<', '>', 'v']:\n",
    "                # guard\n",
    "                guard = (x,y)\n",
    "                direction = next(filter(lambda d: d.symbol == value, directions))\n",
    "            else:\n",
    "                print(f\"Didn't know what to make of {value} when parsing the map\")\n",
    "\n",
    "    map_x_size = len(map[0])\n",
    "    map_y_size = len(map)\n",
    "\n",
    "    # Walk the guard around\n",
    "    positions = set()\n",
    "\n",
    "    # I'm going to assume that the guard's path is a loop.\n",
    "    outside_of_map = False\n",
    "    i = 0\n",
    "    while i < 10000 and not outside_of_map:\n",
    "        i+=1\n",
    "        positions.add(guard)\n",
    "        next_ = tuple(sum(x) for x in zip(guard, (direction.x, direction.y)))\n",
    "\n",
    "        if next_ in obstacles:\n",
    "            # turn\n",
    "            # I can't think of a case where the guard will get blocked since you could always go back the way you came?\n",
    "            # TODO There must be a smart math way to do this, but I'm tired. I'd like to figure it out though.\n",
    "            indx = directions.index(direction)\n",
    "            if indx + 1 < len(directions):\n",
    "                direction = directions[indx+1]\n",
    "            else:\n",
    "                direction = directions[0]\n",
    "        elif next_[0] >= map_x_size or next_[1] >= map_y_size:\n",
    "            outside_of_map = True\n",
    "        else:\n",
    "            guard = next_\n",
    "        \n",
    "        # print(f'\\n{'='*10}')\n",
    "        # print(draw_map((len(map[0]), len(map)), guard, direction, positions, obstacles))\n",
    "        # print(f'{'='*10}\\n')\n",
    "\n",
    "    #print(f'{len(positions)}: {positions}')\n",
    "    return len(positions)"
   ]
  },
  {
   "cell_type": "code",
   "execution_count": 6,
   "id": "a0411f21",
   "metadata": {},
   "outputs": [
    {
     "data": {
      "text/plain": [
       "41"
      ]
     },
     "execution_count": 6,
     "metadata": {},
     "output_type": "execute_result"
    }
   ],
   "source": [
    "calculate_positions(puzzle.examples[0].input_data)"
   ]
  },
  {
   "cell_type": "code",
   "execution_count": 7,
   "id": "3f91f404",
   "metadata": {},
   "outputs": [
    {
     "data": {
      "text/plain": [
       "4964"
      ]
     },
     "execution_count": 7,
     "metadata": {},
     "output_type": "execute_result"
    }
   ],
   "source": [
    "calculate_positions(puzzle.input_data)"
   ]
  },
  {
   "cell_type": "markdown",
   "id": "93f443ca-48d2-406b-83f8-226496c85283",
   "metadata": {},
   "source": [
    "## Part 2"
   ]
  },
  {
   "cell_type": "markdown",
   "id": "4c745e04",
   "metadata": {},
   "source": [
    "Ohhh, discovered a bug! They can walk off the screen to the top and I missed that case (and the left)"
   ]
  },
  {
   "cell_type": "code",
   "execution_count": 8,
   "id": "2ab2ed9e",
   "metadata": {},
   "outputs": [],
   "source": [
    "from dataclasses import dataclass\n",
    "\n",
    "@dataclass\n",
    "class Direction:\n",
    "    symbol:str\n",
    "    x:int\n",
    "    y:int\n",
    "\n",
    "north = Direction('^', 0, -1)\n",
    "east = Direction('>', 1, 0)\n",
    "south = Direction('v', 0, 1)\n",
    "west = Direction('<', -1, 0)\n",
    "\n",
    "directions = [north, east, south, west]\n",
    "\n",
    "@dataclass\n",
    "class Guard:\n",
    "    direction:Direction\n",
    "    position:tuple[int,int]\n",
    "\n",
    "def check_walk_outside(map_size, initial_guard, initial_direction, obstacles):\n",
    "    map_x_size, map_y_size = map_size\n",
    "    guard = Guard(initial_direction, initial_guard)\n",
    "\n",
    "    # Walk the guard around\n",
    "    positions = set()\n",
    "\n",
    "    outside_of_map = False\n",
    "    # Smarter than the last 10k would be to keep the direction of the guard and the position in the positions. Lets see if I have to do that though\n",
    "    i = 0\n",
    "    while i < 10000 and not outside_of_map:\n",
    "        i+=1\n",
    "        positions.add(guard.position)\n",
    "        next_ = tuple(sum(x) for x in zip(guard.position, (guard.direction.x, guard.direction.y)))\n",
    "\n",
    "        if next_ in obstacles:\n",
    "            # turn\n",
    "            # I can't think of a case where the guard will get blocked since you could always go back the way you came?\n",
    "            # TODO There must be a smart math way to do this, but I'm tired. I'd like to figure it out though.\n",
    "            indx = directions.index(guard.direction)\n",
    "            if indx + 1 < len(directions):\n",
    "                guard.direction = directions[indx+1]\n",
    "            else:\n",
    "                guard.direction = directions[0]\n",
    "        elif next_[0] >= map_x_size or next_[1] >= map_y_size or next_[0] < 0 or next_[1] < 0:\n",
    "            outside_of_map = True\n",
    "        else:\n",
    "            guard.position = next_\n",
    "\n",
    "    # This return is to support debugging. If this was real, I would do this totally differently!\n",
    "    return (outside_of_map, positions, guard)\n",
    "\n",
    "def calculate_positions(input:str):\n",
    "    map = [list(row) for row in input.split()]\n",
    "\n",
    "    obstacles = []\n",
    "    direction = None\n",
    "    guard = None\n",
    "\n",
    "    # Parse the map\n",
    "    for y, row in enumerate(map):\n",
    "        for x, value in enumerate(row):\n",
    "            if value == '#':\n",
    "                obstacles.append((x,y))\n",
    "            elif value == '.':\n",
    "                continue\n",
    "            elif value in ['^', '<', '>', 'v']:\n",
    "                # guard\n",
    "                guard = (x,y)\n",
    "                direction = next(filter(lambda d: d.symbol == value, directions))\n",
    "            else:\n",
    "                print(f\"Didn't know what to make of {value} when parsing the map\")\n",
    "\n",
    "    map_x_size = len(map[0])\n",
    "    map_y_size = len(map)\n",
    "\n",
    "    successful_obstacles = 0\n",
    "\n",
    "    for y in range(len(map)):\n",
    "        for x in range(len(row)):\n",
    "            \n",
    "            if (x, y) in obstacles:\n",
    "                continue\n",
    "            added_obstacles = obstacles.copy()\n",
    "            added_obstacles.append((x,y))\n",
    "            outside_of_map, positions, g = check_walk_outside((map_x_size, map_y_size), guard, direction, added_obstacles)\n",
    "            if not outside_of_map:\n",
    "                # print(f'\\n{'='*10}')\n",
    "                # print(draw_map((map_x_size, map_y_size), guard, direction, [], obstacles))\n",
    "                # print(f'{'='*10}')\n",
    "                # print(draw_map((map_x_size, map_y_size), guard, direction, [], added_obstacles))\n",
    "                # print(f'\\n{'='*10}')\n",
    "                # print(draw_map((map_x_size, map_y_size), g.position, g.direction, positions, added_obstacles))\n",
    "                # print(f'{'='*10}\\n')\n",
    "                successful_obstacles += 1\n",
    "\n",
    "        \n",
    "       \n",
    "\n",
    "    #print(f'{len(positions)}: {positions}')\n",
    "    return successful_obstacles"
   ]
  },
  {
   "cell_type": "code",
   "execution_count": 9,
   "id": "f7a0b3e7",
   "metadata": {},
   "outputs": [
    {
     "data": {
      "text/plain": [
       "6"
      ]
     },
     "execution_count": 9,
     "metadata": {},
     "output_type": "execute_result"
    }
   ],
   "source": [
    "calculate_positions(puzzle.examples[0].input_data)"
   ]
  },
  {
   "cell_type": "code",
   "execution_count": 10,
   "id": "f3171e08",
   "metadata": {},
   "outputs": [
    {
     "ename": "KeyboardInterrupt",
     "evalue": "",
     "output_type": "error",
     "traceback": [
      "\u001b[1;31m---------------------------------------------------------------------------\u001b[0m",
      "\u001b[1;31mKeyboardInterrupt\u001b[0m                         Traceback (most recent call last)",
      "Cell \u001b[1;32mIn[10], line 1\u001b[0m\n\u001b[1;32m----> 1\u001b[0m \u001b[43mcalculate_positions\u001b[49m\u001b[43m(\u001b[49m\u001b[43mpuzzle\u001b[49m\u001b[38;5;241;43m.\u001b[39;49m\u001b[43minput_data\u001b[49m\u001b[43m)\u001b[49m\n",
      "Cell \u001b[1;32mIn[8], line 86\u001b[0m, in \u001b[0;36mcalculate_positions\u001b[1;34m(input)\u001b[0m\n\u001b[0;32m     84\u001b[0m added_obstacles \u001b[38;5;241m=\u001b[39m obstacles\u001b[38;5;241m.\u001b[39mcopy()\n\u001b[0;32m     85\u001b[0m added_obstacles\u001b[38;5;241m.\u001b[39mappend((x,y))\n\u001b[1;32m---> 86\u001b[0m outside_of_map, positions, g \u001b[38;5;241m=\u001b[39m \u001b[43mcheck_walk_outside\u001b[49m\u001b[43m(\u001b[49m\u001b[43m(\u001b[49m\u001b[43mmap_x_size\u001b[49m\u001b[43m,\u001b[49m\u001b[43m \u001b[49m\u001b[43mmap_y_size\u001b[49m\u001b[43m)\u001b[49m\u001b[43m,\u001b[49m\u001b[43m \u001b[49m\u001b[43mguard\u001b[49m\u001b[43m,\u001b[49m\u001b[43m \u001b[49m\u001b[43mdirection\u001b[49m\u001b[43m,\u001b[49m\u001b[43m \u001b[49m\u001b[43madded_obstacles\u001b[49m\u001b[43m)\u001b[49m\n\u001b[0;32m     87\u001b[0m \u001b[38;5;28;01mif\u001b[39;00m \u001b[38;5;129;01mnot\u001b[39;00m outside_of_map:\n\u001b[0;32m     88\u001b[0m     \u001b[38;5;66;03m# print(f'\\n{'='*10}')\u001b[39;00m\n\u001b[0;32m     89\u001b[0m     \u001b[38;5;66;03m# print(draw_map((map_x_size, map_y_size), guard, direction, [], obstacles))\u001b[39;00m\n\u001b[1;32m   (...)\u001b[0m\n\u001b[0;32m     93\u001b[0m     \u001b[38;5;66;03m# print(draw_map((map_x_size, map_y_size), g.position, g.direction, positions, added_obstacles))\u001b[39;00m\n\u001b[0;32m     94\u001b[0m     \u001b[38;5;66;03m# print(f'{'='*10}\\n')\u001b[39;00m\n\u001b[0;32m     95\u001b[0m     successful_obstacles \u001b[38;5;241m+\u001b[39m\u001b[38;5;241m=\u001b[39m \u001b[38;5;241m1\u001b[39m\n",
      "Cell \u001b[1;32mIn[8], line 33\u001b[0m, in \u001b[0;36mcheck_walk_outside\u001b[1;34m(map_size, initial_guard, initial_direction, obstacles)\u001b[0m\n\u001b[0;32m     31\u001b[0m \u001b[38;5;28;01mwhile\u001b[39;00m i \u001b[38;5;241m<\u001b[39m \u001b[38;5;241m10000\u001b[39m \u001b[38;5;129;01mand\u001b[39;00m \u001b[38;5;129;01mnot\u001b[39;00m outside_of_map:\n\u001b[0;32m     32\u001b[0m     i\u001b[38;5;241m+\u001b[39m\u001b[38;5;241m=\u001b[39m\u001b[38;5;241m1\u001b[39m\n\u001b[1;32m---> 33\u001b[0m     \u001b[43mpositions\u001b[49m\u001b[38;5;241;43m.\u001b[39;49m\u001b[43madd\u001b[49m\u001b[43m(\u001b[49m\u001b[43mguard\u001b[49m\u001b[38;5;241;43m.\u001b[39;49m\u001b[43mposition\u001b[49m\u001b[43m)\u001b[49m\n\u001b[0;32m     34\u001b[0m     next_ \u001b[38;5;241m=\u001b[39m \u001b[38;5;28mtuple\u001b[39m(\u001b[38;5;28msum\u001b[39m(x) \u001b[38;5;28;01mfor\u001b[39;00m x \u001b[38;5;129;01min\u001b[39;00m \u001b[38;5;28mzip\u001b[39m(guard\u001b[38;5;241m.\u001b[39mposition, (guard\u001b[38;5;241m.\u001b[39mdirection\u001b[38;5;241m.\u001b[39mx, guard\u001b[38;5;241m.\u001b[39mdirection\u001b[38;5;241m.\u001b[39my)))\n\u001b[0;32m     36\u001b[0m     \u001b[38;5;28;01mif\u001b[39;00m next_ \u001b[38;5;129;01min\u001b[39;00m obstacles:\n\u001b[0;32m     37\u001b[0m         \u001b[38;5;66;03m# turn\u001b[39;00m\n\u001b[0;32m     38\u001b[0m         \u001b[38;5;66;03m# I can't think of a case where the guard will get blocked since you could always go back the way you came?\u001b[39;00m\n\u001b[0;32m     39\u001b[0m         \u001b[38;5;66;03m# TODO There must be a smart math way to do this, but I'm tired. I'd like to figure it out though.\u001b[39;00m\n",
      "\u001b[1;31mKeyboardInterrupt\u001b[0m: "
     ]
    }
   ],
   "source": [
    "calculate_positions(puzzle.input_data)"
   ]
  },
  {
   "cell_type": "markdown",
   "id": "d47e91ae",
   "metadata": {},
   "source": [
    "Will I ever learn that Advent of Code is designed to keep me from brute forcing? :D"
   ]
  },
  {
   "cell_type": "code",
   "execution_count": 11,
   "id": "dee31635",
   "metadata": {},
   "outputs": [
    {
     "data": {
      "text/plain": [
       "6"
      ]
     },
     "execution_count": 11,
     "metadata": {},
     "output_type": "execute_result"
    }
   ],
   "source": [
    "@dataclass\n",
    "class Guard:\n",
    "    direction:Direction\n",
    "    position:tuple[int,int]\n",
    "\n",
    "    def __hash__(self):\n",
    "        return hash((self.direction.symbol, self.position))\n",
    "\n",
    "    def __eq__(self, other):\n",
    "        return self.direction.symbol == other.direction.symbol and self.position == other.position\n",
    "\n",
    "def calculate_positions(input:str):\n",
    "    map = [list(row) for row in input.split()]\n",
    "\n",
    "    obstacles = []\n",
    "    direction = None\n",
    "    guard = None\n",
    "\n",
    "    # Parse the map\n",
    "    for y, row in enumerate(map):\n",
    "        for x, value in enumerate(row):\n",
    "            if value == '#':\n",
    "                obstacles.append((x,y))\n",
    "            elif value == '.':\n",
    "                continue\n",
    "            elif value in ['^', '<', '>', 'v']:\n",
    "                # guard\n",
    "                guard = (x,y)\n",
    "                direction = next(filter(lambda d: d.symbol == value, directions))\n",
    "            else:\n",
    "                print(f\"Didn't know what to make of {value} when parsing the map\")\n",
    "\n",
    "    map_x_size = len(map[0])\n",
    "    map_y_size = len(map)\n",
    "\n",
    "    successful_obstacles = 0\n",
    "\n",
    "    for y in range(len(map)):\n",
    "        for x in range(len(row)):\n",
    "            \n",
    "            if (x, y) in obstacles:\n",
    "                continue\n",
    "            added_obstacles = obstacles.copy()\n",
    "            added_obstacles.append((x,y))\n",
    "            outside_of_map, positions, g = check_walk_outside((map_x_size, map_y_size), guard, direction, added_obstacles)\n",
    "            if not outside_of_map:\n",
    "                # print(f'\\n{'='*10}')\n",
    "                # print(draw_map((map_x_size, map_y_size), guard, direction, [], obstacles))\n",
    "                # print(f'{'='*10}')\n",
    "                # print(draw_map((map_x_size, map_y_size), guard, direction, [], added_obstacles))\n",
    "                # print(f'\\n{'='*10}')\n",
    "                # print(draw_map((map_x_size, map_y_size), g.position, g.direction, positions, added_obstacles))\n",
    "                # print(f'{'='*10}\\n')\n",
    "                successful_obstacles += 1\n",
    "\n",
    "        \n",
    "       \n",
    "\n",
    "    #print(f'{len(positions)}: {positions}')\n",
    "    return successful_obstacles\n",
    "\n",
    "def check_walk_outside(map_size, initial_guard, initial_direction, obstacles):\n",
    "    map_x_size, map_y_size = map_size\n",
    "    guard = Guard(initial_direction, initial_guard)\n",
    "\n",
    "    # Walk the guard around\n",
    "    positions = set()\n",
    "\n",
    "    outside_of_map = False\n",
    "    looped = False\n",
    "    # Smarter than the last 10k would be to keep the direction of the guard and the position in the positions. Lets see if I have to do that though\n",
    "    i = 0\n",
    "    while i < 10000 and not outside_of_map and not looped:\n",
    "        i+=1\n",
    "        positions.add(guard)\n",
    "        next_ = Guard(guard.direction, tuple(sum(x) for x in zip(guard.position, (guard.direction.x, guard.direction.y))))\n",
    "\n",
    "        if next_ in positions:\n",
    "            looped = True\n",
    "        elif next_.position in obstacles:\n",
    "            # turn\n",
    "            # I can't think of a case where the guard will get blocked since you could always go back the way you came?\n",
    "            # TODO There must be a smart math way to do this, but I'm tired. I'd like to figure it out though.\n",
    "            indx = directions.index(guard.direction)\n",
    "            if indx + 1 < len(directions):\n",
    "                guard.direction = directions[indx+1]\n",
    "            else:\n",
    "                guard.direction = directions[0]\n",
    "        elif next_.position[0] >= map_x_size or next_.position[1] >= map_y_size or next_.position[0] < 0 or next_.position[1] < 0:\n",
    "            outside_of_map = True\n",
    "        else:\n",
    "            guard = next_\n",
    "\n",
    "    # This return is to support debugging. If this was real, I would do this totally differently!\n",
    "    return (outside_of_map, positions, guard)\n",
    "\n",
    "calculate_positions(puzzle.examples[0].input_data)\n"
   ]
  },
  {
   "cell_type": "code",
   "execution_count": 13,
   "id": "1ff28046",
   "metadata": {},
   "outputs": [
    {
     "data": {
      "text/plain": [
       "1740"
      ]
     },
     "execution_count": 13,
     "metadata": {},
     "output_type": "execute_result"
    }
   ],
   "source": [
    "calculate_positions(puzzle.input_data)"
   ]
  },
  {
   "cell_type": "markdown",
   "id": "44a1dc67",
   "metadata": {},
   "source": [
    "If this was more than just a game, I'd get a profiler out and see where I'm slow. I can think of two things to speed it up. I could take the walk from part one and only check obstacles in those paths. I wonder if it's possible to use the obstacle I've placed and guess how to start the walk from there. Might make it faster to understand if there is a loop or not."
   ]
  }
 ],
 "metadata": {
  "kernelspec": {
   "display_name": "Python 3 (ipykernel)",
   "language": "python",
   "name": "python3"
  },
  "language_info": {
   "codemirror_mode": {
    "name": "ipython",
    "version": 3
   },
   "file_extension": ".py",
   "mimetype": "text/x-python",
   "name": "python",
   "nbconvert_exporter": "python",
   "pygments_lexer": "ipython3",
   "version": "3.13.0"
  }
 },
 "nbformat": 4,
 "nbformat_minor": 5
}
