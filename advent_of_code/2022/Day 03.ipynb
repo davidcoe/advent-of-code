{
 "cells": [
  {
   "cell_type": "markdown",
   "metadata": {},
   "source": [
    "# 2023 Day 03\n",
    "\n",
    "--- Day 3: Rucksack Reorganization ---\n",
    "\n",
    "One Elf has the important job of loading all of the rucksacks with supplies for the jungle journey. Unfortunately, that Elf didn't quite follow the packing instructions, and so a few items now need to be rearranged.\n",
    "\n",
    "Each rucksack has two large compartments. All items of a given type are meant to go into exactly one of the two compartments. The Elf that did the packing failed to follow this rule for exactly one item type per rucksack.\n",
    "\n",
    "The Elves have made a list of all of the items currently in each rucksack (your puzzle input), but they need your help finding the errors. Every item type is identified by a single lowercase or uppercase letter (that is, a and A refer to different types of items).\n",
    "\n",
    "The list of items for each rucksack is given as characters all on a single line. A given rucksack always has the same number of items in each of its two compartments, so the first half of the characters represent items in the first compartment, while the second half of the characters represent items in the second compartment.\n",
    "\n",
    "For example, suppose you have the following list of contents from six rucksacks:\n",
    "\n",
    "    vJrwpWtwJgWrhcsFMMfFFhFp\n",
    "    jqHRNqRjqzjGDLGLrsFMfFZSrLrFZsSL\n",
    "    PmmdzqPrVvPwwTWBwg\n",
    "    wMqvLMZHhHMvwLHjbvcjnnSBnvTQFn\n",
    "    ttgJtRGJQctTZtZT\n",
    "    CrZsJsPPZsGzwwsLwLmpwMDw\n",
    "\n",
    "- The first rucksack contains the items vJrwpWtwJgWrhcsFMMfFFhFp, which means its first compartment contains the items vJrwpWtwJgWr, while the second compartment contains the items hcsFMMfFFhFp. The only item type that appears in both compartments is lowercase p.\n",
    "- The second rucksack's compartments contain jqHRNqRjqzjGDLGL and rsFMfFZSrLrFZsSL. The only item type that appears in both compartments is uppercase L.\n",
    "- The third rucksack's compartments contain PmmdzqPrV and vPwwTWBwg; the only common item type is uppercase P.\n",
    "- The fourth rucksack's compartments only share item type v.\n",
    "- The fifth rucksack's compartments only share item type t.\n",
    "- The sixth rucksack's compartments only share item type s.\n",
    "\n",
    "To help prioritize item rearrangement, every item type can be converted to a priority:\n",
    "\n",
    "- Lowercase item types a through z have priorities 1 through 26.\n",
    "- Uppercase item types A through Z have priorities 27 through 52.\n",
    "\n",
    "In the above example, the priority of the item type that appears in both compartments of each rucksack is 16 (p), 38 (L), 42 (P), 22 (v), 20 (t), and 19 (s); the sum of these is 157.\n",
    "\n",
    "Find the item type that appears in both compartments of each rucksack. What is the sum of the priorities of those item types?\n"
   ]
  },
  {
   "cell_type": "code",
   "execution_count": 35,
   "metadata": {},
   "outputs": [],
   "source": [
    "import string\n",
    "from typing import Tuple\n",
    "\n",
    "class RuckSack:\n",
    "    @classmethod\n",
    "    def get_compartments(cls, input:str)->Tuple[str]:\n",
    "        return (rucksack[0:len(rucksack) // 2], rucksack[len(rucksack) // 2:])\n",
    "\n",
    "    @classmethod\n",
    "    def get_priority(cls, input:str)-> int: \n",
    "        return list(string.ascii_letters).index(input) + 1"
   ]
  },
  {
   "cell_type": "code",
   "execution_count": 36,
   "metadata": {},
   "outputs": [
    {
     "name": "stdout",
     "output_type": "stream",
     "text": [
      "('vJrwpWtwJgWr', 'hcsFMMfFFhFp')\n",
      "('jqHRNqRjqzjGDLGL', 'rsFMfFZSrLrFZsSL')\n",
      "('PmmdzqPrV', 'vPwwTWBwg')\n",
      "('wMqvLMZHhHMvwLH', 'jbvcjnnSBnvTQFn')\n",
      "('ttgJtRGJ', 'QctTZtZT')\n",
      "('CrZsJsPPZsGz', 'wwsLwLmpwMDw')\n"
     ]
    }
   ],
   "source": [
    "for expected, item in [(16, 'p'), (38, 'L'), (42, 'P'), (22, 'v'), (20, 't'), (19, 's')]:\n",
    "    actual = RuckSack.get_priority(item)\n",
    "    assert (\n",
    "        actual == expected\n",
    "    ), f'get_priority({item}) = {expected}, but got {actual}'\n",
    "\n",
    "for rucksack in \"\"\"vJrwpWtwJgWrhcsFMMfFFhFp\n",
    "jqHRNqRjqzjGDLGLrsFMfFZSrLrFZsSL\n",
    "PmmdzqPrVvPwwTWBwg\n",
    "wMqvLMZHhHMvwLHjbvcjnnSBnvTQFn\n",
    "ttgJtRGJQctTZtZT\n",
    "CrZsJsPPZsGzwwsLwLmpwMDw\"\"\".split():\n",
    "    print(RuckSack.get_compartments(rucksack))"
   ]
  },
  {
   "cell_type": "code",
   "execution_count": 89,
   "metadata": {},
   "outputs": [],
   "source": [
    "import string\n",
    "from typing import Tuple\n",
    "\n",
    "class RuckSack:\n",
    "    \n",
    "    def __init__(self, input:str):\n",
    "        self.compartments = RuckSack.get_compartments(input)\n",
    "        difference = next(iter(set(self.compartments[0]).intersection(set(self.compartments[1]))))\n",
    "        self.value = RuckSack.get_priority(difference)\n",
    "\n",
    "    @classmethod\n",
    "    def get_compartments(cls, input:str)->Tuple[str]:\n",
    "        return (input[0:len(input) // 2], input[len(input) // 2:])\n",
    "\n",
    "    @classmethod\n",
    "    def get_priority(cls, input:str)-> int: \n",
    "        return list(string.ascii_letters).index(input) + 1\n",
    "\n",
    "    @classmethod\n",
    "    def sum_rucksacks(cls, input:str)-> int:\n",
    "        return sum([RuckSack(r).value for r in input.split('\\n')])"
   ]
  },
  {
   "cell_type": "code",
   "execution_count": 90,
   "metadata": {},
   "outputs": [
    {
     "data": {
      "text/plain": [
       "157"
      ]
     },
     "execution_count": 90,
     "metadata": {},
     "output_type": "execute_result"
    }
   ],
   "source": [
    "RuckSack.sum_rucksacks(\"\"\"vJrwpWtwJgWrhcsFMMfFFhFp\n",
    "jqHRNqRjqzjGDLGLrsFMfFZSrLrFZsSL\n",
    "PmmdzqPrVvPwwTWBwg\n",
    "wMqvLMZHhHMvwLHjbvcjnnSBnvTQFn\n",
    "ttgJtRGJQctTZtZT\n",
    "CrZsJsPPZsGzwwsLwLmpwMDw\"\"\")"
   ]
  },
  {
   "cell_type": "code",
   "execution_count": 91,
   "metadata": {},
   "outputs": [
    {
     "data": {
      "text/plain": [
       "8493"
      ]
     },
     "execution_count": 91,
     "metadata": {},
     "output_type": "execute_result"
    }
   ],
   "source": [
    "from aocd.models import Puzzle\n",
    "\n",
    "puzzle = Puzzle(year=2022, day=3)\n",
    "\n",
    "RuckSack.sum_rucksacks(puzzle.input_data)"
   ]
  },
  {
   "cell_type": "markdown",
   "metadata": {},
   "source": [
    "--- Part Two ---\n",
    "\n",
    "As you finish identifying the misplaced items, the Elves come to you with another issue.\n",
    "\n",
    "For safety, the Elves are divided into groups of three. Every Elf carries a badge that identifies their group. For efficiency, within each group of three Elves, the badge is the only item type carried by all three Elves. That is, if a group's badge is item type B, then all three Elves will have item type B somewhere in their rucksack, and at most two of the Elves will be carrying any other item type.\n",
    "\n",
    "The problem is that someone forgot to put this year's updated authenticity sticker on the badges. All of the badges need to be pulled out of the rucksacks so the new authenticity stickers can be attached.\n",
    "\n",
    "Additionally, nobody wrote down which item type corresponds to each group's badges. The only way to tell which item type is the right one is by finding the one item type that is common between all three Elves in each group.\n",
    "\n",
    "Every set of three lines in your list corresponds to a single group, but each group can have a different badge item type. So, in the above example, the first group's rucksacks are the first three lines:\n",
    "\n",
    "    vJrwpWtwJgWrhcsFMMfFFhFp\n",
    "    jqHRNqRjqzjGDLGLrsFMfFZSrLrFZsSL\n",
    "    PmmdzqPrVvPwwTWBwg\n",
    "\n",
    "And the second group's rucksacks are the next three lines:\n",
    "\n",
    "    wMqvLMZHhHMvwLHjbvcjnnSBnvTQFn\n",
    "    ttgJtRGJQctTZtZT\n",
    "    CrZsJsPPZsGzwwsLwLmpwMDw\n",
    "\n",
    "In the first group, the only item type that appears in all three rucksacks is lowercase r; this must be their badges. In the second group, their badge item type must be Z.\n",
    "\n",
    "Priorities for these items must still be found to organize the sticker attachment efforts: here, they are 18 (r) for the first group and 52 (Z) for the second group. The sum of these is 70.\n",
    "\n",
    "Find the item type that corresponds to the badges of each three-Elf group. What is the sum of the priorities of those item types?"
   ]
  },
  {
   "cell_type": "code",
   "execution_count": 143,
   "metadata": {},
   "outputs": [
    {
     "name": "stdout",
     "output_type": "stream",
     "text": [
      "70\n",
      "2552\n"
     ]
    }
   ],
   "source": [
    "from typing import Any\n",
    "\n",
    "def partition(items: list[Any], size) -> list[Any]:\n",
    "    for i in range(0, len(items), size):\n",
    "        yield items[i:i+size]\n",
    "\n",
    "def get_priority(input:str) -> int: \n",
    "        return list(string.ascii_letters).index(input) + 1\n",
    "\n",
    "sample_data = \"\"\"vJrwpWtwJgWrhcsFMMfFFhFp\n",
    "jqHRNqRjqzjGDLGLrsFMfFZSrLrFZsSL\n",
    "PmmdzqPrVvPwwTWBwg\n",
    "wMqvLMZHhHMvwLHjbvcjnnSBnvTQFn\n",
    "ttgJtRGJQctTZtZT\n",
    "CrZsJsPPZsGzwwsLwLmpwMDw\"\"\"\n",
    "\n",
    "def priority_sum_of_group_items(data:str) -> int:\n",
    "    groups = [part for part in partition([set(item) for item in data.split('\\n')], 3)]\n",
    "    # print([get_priority(next(iter(set.intersection(*group)))) for group in groups])\n",
    "    return sum([get_priority(next(iter(set.intersection(*group)))) for group in groups])\n",
    "\n",
    "print(priority_sum_of_group_items(sample_data))\n",
    "print(priority_sum_of_group_items(puzzle.input_data))"
   ]
  },
  {
   "cell_type": "code",
   "execution_count": null,
   "metadata": {},
   "outputs": [],
   "source": []
  }
 ],
 "metadata": {
  "kernelspec": {
   "display_name": ".venv",
   "language": "python",
   "name": "python3"
  },
  "language_info": {
   "codemirror_mode": {
    "name": "ipython",
    "version": 3
   },
   "file_extension": ".py",
   "mimetype": "text/x-python",
   "name": "python",
   "nbconvert_exporter": "python",
   "pygments_lexer": "ipython3",
   "version": "3.12.0"
  }
 },
 "nbformat": 4,
 "nbformat_minor": 2
}
