{
 "cells": [
  {
   "cell_type": "markdown",
   "id": "3c5524b7-ee66-4abd-8029-39c44e917d58",
   "metadata": {},
   "source": [
    "## Part 1"
   ]
  },
  {
   "cell_type": "code",
   "execution_count": 1,
   "id": "9ae8dc19-1f00-4603-9e8a-2f0b3d778545",
   "metadata": {},
   "outputs": [
    {
     "data": {
      "text/plain": [
       "'xmul(2,4)%&mul[3,7]!@^do_not_mul(5,5)+mul(32,64]then(mul(11,8)mul(8,5))'"
      ]
     },
     "execution_count": 1,
     "metadata": {},
     "output_type": "execute_result"
    }
   ],
   "source": [
    "from aocd.models import Puzzle\n",
    "\n",
    "puzzle = Puzzle(year=2024, day=3)\n",
    "\n",
    "puzzle.examples[0].input_data"
   ]
  },
  {
   "cell_type": "code",
   "execution_count": 2,
   "id": "180d1a74-c01e-4434-ab98-01184812d42c",
   "metadata": {},
   "outputs": [],
   "source": [
    "import re\n",
    "\n",
    "def parse_data(data: str) -> list[tuple[int,int]]:\n",
    "    return [(int(x), int(y)) for (x,y) in re.findall(r'mul\\((\\d{1,3}),(\\d{1,3})\\)', data)]\n"
   ]
  },
  {
   "cell_type": "code",
   "execution_count": 3,
   "id": "06d679d4-e8f6-4ffa-9737-e9885fa3314d",
   "metadata": {},
   "outputs": [
    {
     "data": {
      "text/plain": [
       "[(2, 4), (5, 5), (11, 8), (8, 5)]"
      ]
     },
     "execution_count": 3,
     "metadata": {},
     "output_type": "execute_result"
    }
   ],
   "source": [
    "parse_data(puzzle.examples[0].input_data)"
   ]
  },
  {
   "cell_type": "code",
   "execution_count": 4,
   "id": "2fc57750-5977-4d1a-a6b9-6408b9cbf54e",
   "metadata": {},
   "outputs": [
    {
     "data": {
      "text/plain": [
       "161"
      ]
     },
     "execution_count": 4,
     "metadata": {},
     "output_type": "execute_result"
    }
   ],
   "source": [
    "sum([x * y for (x, y) in parse_data(puzzle.examples[0].input_data)])"
   ]
  },
  {
   "cell_type": "code",
   "execution_count": 5,
   "id": "f4cac27c-27c6-4e29-8895-f917459810c4",
   "metadata": {},
   "outputs": [
    {
     "data": {
      "text/plain": [
       "188192787"
      ]
     },
     "execution_count": 5,
     "metadata": {},
     "output_type": "execute_result"
    }
   ],
   "source": [
    "sum([x * y for (x, y) in parse_data(puzzle.input_data)])"
   ]
  },
  {
   "cell_type": "markdown",
   "id": "93f443ca-48d2-406b-83f8-226496c85283",
   "metadata": {},
   "source": [
    "## Part 2"
   ]
  },
  {
   "cell_type": "code",
   "execution_count": 6,
   "id": "851f452d-3c88-4f16-b6fa-93e83f7083d4",
   "metadata": {},
   "outputs": [
    {
     "name": "stdout",
     "output_type": "stream",
     "text": [
      "[Example(input_data='xmul(2,4)%&mul[3,7]!@^do_not_mul(5,5)+mul(32,64]then(mul(11,8)mul(8,5))', answer_a='mul', answer_b='8*5', extra=None)]\n"
     ]
    }
   ],
   "source": [
    "from aocd.models import Puzzle\n",
    "\n",
    "puzzle = Puzzle(year=2024, day=3)\n",
    "print(puzzle.examples)\n",
    "\n",
    "# AHH, broken this year\n",
    "\n",
    "example_2_input = \"xmul(2,4)&mul[3,7]!^don't()_mul(5,5)+mul(32,64](mul(11,8)undo()?mul(8,5))\""
   ]
  },
  {
   "cell_type": "code",
   "execution_count": 7,
   "id": "0035e686-7d9b-4784-a900-2cca957c4be3",
   "metadata": {},
   "outputs": [],
   "source": [
    "\n",
    "import re\n",
    "\n",
    "def parse_enabled(data:str) -> list[tuple[int,int]]:\n",
    "    # Can we do something silly like drop out all the invalid stuff from the string? I think look behinds could be an option too\n",
    "\n",
    "    # Not in the example, but if the end of the string doesn't have a \"do\" to turn back on, drop off everything\n",
    "    sanitized = re.sub(r\"don't\\(\\).+?do\\(\\)\", '', data)\n",
    "    return parse_data(sanitized)\n"
   ]
  },
  {
   "cell_type": "code",
   "execution_count": 8,
   "id": "b96a16a4-00cb-4723-8ae6-aab600068bce",
   "metadata": {},
   "outputs": [
    {
     "name": "stdout",
     "output_type": "stream",
     "text": [
      "xmul(2,4)&mul[3,7]!^don't()_mul(5,5)+mul(32,64](mul(11,8)undo()?mul(8,5))\n",
      "[(2, 4), (8, 5)]\n",
      "xmul(2,4)&mul[3,7]!^don't()_mul(5,5)+mul(32,64](mul(11,8)un?mul(8,5))\n",
      "[(2, 4), (5, 5), (11, 8), (8, 5)]\n",
      "xmul(2,4)&mul[3,7]!^don't()_mul(5,5)+do()mul(32,64)]don't()(mul(11,8)undo()?mul(8,5))\n",
      "[(2, 4), (32, 64), (8, 5)]\n"
     ]
    }
   ],
   "source": [
    "print(example_2_input)\n",
    "print(parse_enabled(example_2_input))\n",
    "ex_3 = \"xmul(2,4)&mul[3,7]!^don't()_mul(5,5)+mul(32,64](mul(11,8)un?mul(8,5))\"\n",
    "print(ex_3)\n",
    "print(parse_enabled(ex_3))\n",
    "ex_4 = \"xmul(2,4)&mul[3,7]!^don't()_mul(5,5)+do()mul(32,64)]don't()(mul(11,8)undo()?mul(8,5))\"\n",
    "print(ex_4)\n",
    "print(parse_enabled(ex_4))"
   ]
  },
  {
   "cell_type": "code",
   "execution_count": 9,
   "id": "3a09639a-0ba6-402d-bc6e-2fbffa132a8d",
   "metadata": {},
   "outputs": [
    {
     "data": {
      "text/plain": [
       "48"
      ]
     },
     "execution_count": 9,
     "metadata": {},
     "output_type": "execute_result"
    }
   ],
   "source": [
    "sum([x * y for (x, y) in parse_enabled(example_2_input)])"
   ]
  },
  {
   "cell_type": "code",
   "execution_count": 10,
   "id": "59dc3488-ad7d-40b2-89ba-b58c8aa0b5bb",
   "metadata": {},
   "outputs": [],
   "source": [
    "# I'm worried that the input is broken from the library\n",
    "\n",
    "input = \"\"\");>]mul(437,864)^mul(880,907)}<how(){+[!' where()mul(215,270)from())@#mul(737,510)@<'why()+mul(634,344)$>::mul(528,832);{~<mul(514,817)>~who()who()(how(84,130)where(){%{mul(270,137)@:mul(787,669)*]&^' @from()mul(896,940){where()when()]< -[mul(536,622)select()!{don't()-+^()!)}select()mul(287,737)&who()mul(452,401)from(763,594)$*when()select()&mul(804,971);}<~,(^%)[mul(148,448)mul(835,400)[}*$ #,do()?where(362,730)~why()#(;mul(448,254)'-/who() from():don't():what()'~(select()%mul(538,987): who()/#where()/what()where(587,42)select()mul(571,802)why()<]+}:#mul(446,206),/from()select()mul(271,435);#+^mul(8,739)-:~;<mul(361,969)+?^mul(238,723)<+<$<from()$$mul(93,726)}>?+~[#~mul(370,931)'}select()who()/when()from()%from()who()do()#mul(935,409)mul(356,457)]#mul(445,30)?&^'where()&%<&mul(568,491)when()/^@who()when()&~#)mul(327,654):from(){+?#what()<?;don't()when()<?from():why()^mul(69,349)~!why()-from()[> @!mul(136,811)mul(735,58)'from(242,599)don't()where(),&(mul(306,552)when()&^]do()/]>*,-(;why()mul(641,212)%don't(){mul(39,383);][[*mul(61,441),how()])why()~where()from()mul(688,328){~)(:&}!~#mul(230,832)*[!~ /'~don't()who()where()what()}mul(506,339)('<mul(9,362)$:@how()&&,-mul(776,717)]*)what()who()&&@how()>don't():[>&[#?)when()mul(573,558))-what()~why()how()where()~->mul(932,906)mul(938,661) ):who()do()from()*mul(926,267);/: };^select()mul(750,244)^*what()$what()who()~}from()do()){,'}mul(523,581)-%@>+>mul(94,990)!/who(571,986)/-/?mul(174,631)from()%+?>@<?#)mul(57,234)?}mul(943,865)'([why()what()from()@%%,mul(633,471) where(),select()mul(232,415)), when()<mul(126,82)what()who()what()mul(687,55){select()/what()mul(674,305)>+[^*who()mul(261,413)?-who()^]from()%do()$)~;mul(930,454)$[~;select()why()select()who():@mul(590,349)**%;mul(688,279)+from()^mul(86,495);mul(417,700)what()(/^: ;+<when()mul(383,608)where()!when()when()[-#}*mul(736,637)}'select()[&<select()where()-/mul(440,969)<,{mul(412,588)}{when()where()how(){?{}from()do()select()~&select()'?%>why()mul(312,134)'?<]^@]@!$mul(400,368)/mul(91,772)^mul(108,930)&-mul(370,824) /',why()mul(408,938)#?)^'what()mul(618,424)!mul(384,342)where(695,275)select(){};#select()mul(158,114)[from() ,)what(581,474)who()%]mul(727,849)@%~>]%mul(358,870)mul(918,280)]&mul(434,803)when()#&@@how()}]['mul(737,295)!!->where()<mul(971,370)what()^,when()mul(134,354)/@)(when()mul(995,35):?,#&what()#+~mul(85,68)(';?>mul(108,927)why()select()~mul(268,521)<<[where()-mul(473,558)#why()[how()(<who()mul(383,864)'@[from(),where(234,990)^)when()select(875,735)don't()-how();:(>select()mul(302,377)/#mul(658,882)]mul(400,990) }:%-!]mul(899,38){@mul(389,779)*#!~what()mul(684,353)~who()<]$<mul(909,339)mul(989,387@#:how()&?,*}mul(817,210)mul(270,752)?<select(),who() [,^where()mul(337,83)!when(4,150)from() +$[[when()mul(345,438)[{${$when()from()how(),mul(210,219):select();*#>/mul(69,288)from()who()>#mul(329,484)mul(652,755)from(93,321)^select()select()mul(446,336)~}]where()what()<?+who()mul(686,628);select()mul(270,937)mul(582,221)why()}how()mul(19,975){how()]when()who()where()$+when()do()mul(900,993)mul(613,135)#('who()!why(726,584)};mul(375,245):@>'-^'mul+*,)why()mul(487,896)]%}mul(807,261)@where()(from()-what()%*mulfrom() when()how()<~{~:mul(800,203)mul(921,126)'why()-mul(668,781)% (mul(900,757)^@&{mul(710,725)(?><select()!who()how()@mul(121,934)when()from()&mul(551,3)({{&select()mul(7,711)(]select()!!who()/mul(392,449)\n",
    ">']%<mul(428,73)(what()mul(64,592)why()mul(87,558)!who()/^select()mul[mul(824,660)'where()how()})mul(640,76){mul(775,707)])select()mul(100,878)&(where()]do()<mul(966,147)why()(]why()^(?what()don't())%&>)!;select()*-mul(538,368)]!,mul(570,271){ select(),mul(26,524):!mul(927,601)where()',$&,,mul(135,121)@why()-from() &&mul(166,196)from()mul(847,84)(who()from()why()from()mul(792,999)how()?when()mul(251,498)>(mul(441,614)%%what()%,where()mul(777,118)<&don't()};}from()where()^~@/mul(38,906)~mul(878,986)mul(488,713);what(){how()+]?mul(816,172)what()mul(859,756)how()mul(317,431)/what()(mul(413,319)[!#/(^]('mul@how()mul(369,678)<+[/!?how()when()mul(174{+$ mul(694,959)^how()&:<who()#mul(143,891)+from()@?what()@^}select()mul(361,245)'where()&mul(91,214)%what()]>?~%];)mul(219,426)[@%(where()]@@}mul(639,368)#!#,what()what()mul(703,822){what()where(388,21)~what()@ (mul(209,455))@'who()mul(895,762)+[select()$mul(473,702)who();)!+mul(583,550)>?mul(675,229)(+'[]mul(401,612)mul(410,253)+]>]who()/^from():where()mul(453,54)}(!mul(276,220)'>mul(940,324)mul(172,454)?:~who()mul(729,261){what(){*%where()~'when()]mul(199,694)(~(<@when()mul(515,554)'mul(234,657)@!)>)*~}why() mul(913,964)mul(149,132)/~mul(373,142)where()[mul(324,854)&how() +{&%,mul(872,613)*<why()[])?[do()mul(506,436)!@why()mul(308,28)?&who()+mul(130,254]when()!mul(57,512)$*~mul(874,349)when(){]mul(128,288)[who()}$]:!(mul(117,644)select(59,177)#+,how()from()% mul(701,276)from()@;(why()! -*}mul(784,997)who()where()$how()where()mul(883,710);when()mul(45,149)(where()/do()who()select()[why());,mul(296,703)? mul(881,162)'[why()*mul(293,304)*& mul(443,960)#who(757,994)&<(@#+);mul(739,318)&,when()[where()mul(281,625) why()/+]what()mul(88,646)%~~select()%who()<mul(885,753)::from()![when()mul(625,409)$mul(201,618)<who()#where()from()@/mul(290,974:;&>-:,+select()from()mul(942,583)select()<!,mul(876,685)why())mul(103,616)where(52,533)why()##mul(867,558)what()when())!mul(955,743)-%from(672,345) how()do()*:who()!><{what()mul(488,404)@mul(573,892)'(mulhow()when()'/mul(344,334)select()>#!}mul(868,909),$%mul(729,810)mul(630,215),{?how()where()*select()mul(229,873)%~from()*<% #^who()mul(248,481)why(541,729)select()]mul(639,438)~({ +]( }mul(563,361)^:$?;mul(148,895)!~how(677,192)select();mul(703,618)-how()from(),:,}#mul(383,639)#!mul(164,723)when()<select(960,127)from()$'{%~;mul(45,490))@mul(110/!#':; (]<mul(661,87) [what()?/mul(854,581)from()],$]@>>mul(619,575)-%$,;^mul(712,573)>/(-#;how(626,802)mul(604,893)mul(227,185)>,*what(259,152))!mul(805,458)]&)-,~why();mul{[ ,>who(634,559)@mul(242,122)mul(745,329)who()how()^)%/mul(256,115)- $}<mul(925,466what(757,32)select()+!;mul(958,717) &';;mul(616,882)mul(199,18)/?+]why()[*mul(23,351)(@(mul(615,742):-*)mul(590,124)mul(985,821)@%select()mul(487,459)&mul(319,344)*[*from()select()<+,mul(305,231);($where(112,479)~{;mul(232,514)~!'~from()[;[mul(401,476)<mul(485,814)#'mul(490,69)who()<@where()-/}$:-do():},when())> @$>mul(428,81)where()(&where()}do()when(338,441)^}$<<where()>)mul(587,14)%select(),%{!?}when(){mul(66,344)#how()[,from()who()! :(mul(690,739)}mul(502,75)} +where(368,348)from()'where()where()/&mul(550,732)\n",
    "[<$''what()why(610,674);mul(533,251)/mul(226,855);mul(295,649)]-what() {,(@mul(737,515)when(471,162)mul(751,898){%,>>{(when()when()select()mul(865,649)>$#from()mul(614,590:)how()*~where()-mul(874,991)how()<}:why(846,672);mul(828,195))mul(739,482) ;]/{(%who()mul(521,901))@!select()>why()mul(112,628)!]how()[%!'mul(851,646)$>when()mul(842,55)%$why()mul(164,534) where()::where()mul(145,6)]*when()+@#&(mul(459,695)when()<$}how()$[how(526,933)who(73,62)>mul(527,796)what()*;-!mul(183,596);mul(837,933)mul(693,684)!)]  select()[ !mul(379,67)select(){who(333,123)>mul(120,112)?how()@what()why()why(535,724)mul$,,mul(661,256)?why()*mul(894,631)^$from()#]/@mul(111,135)who()$who()how()how()when()$) mul(337,371)]~from()don't()select()-<^mul(706,999){#^$+~+;mul(667,389)+~%/>%mul(471,136)mul(409,563)}where(785,260)~who()mul- )<]mul(476,262):select()what()?&<'$when()(mul(567,673)&who()mul(802,520)){<!why()why()}>-$mul(155,808)$+mul(392,146)&when()[,mul(505,764)%mul(997,837)<'-&why()[#mul(14,131)where()*why()where()@@do()<:,&*mul(453,440)^/[mul(977,343)~[%from()mul(62,672)<$do()#%mul(971,495)}what()mul(98,733);how()!mul(815,13)when())##mul(12,514)!#*:^where()@?mul(704,581)+mul(656,388)mul(968,264)how()who(459,907)!!&;$mul(639,135)who();!mul(554,238)-*,%~<mul(549,330)select()who(214,680)>-'^mul(613,35)({*;)'mul(300,593)?} /why(366,710)don't()mul(541,734)why(770,959)?when()<who()([+mul(110,600)select()}why())mul(936,678)how()from()+:&select()~ mul(564,294)/where()who()@mul(583,664){%;;>+<mul(354,509)why():mul(112,317)*{)'}how() why()'!mul(307#how()who();!&who()][mul(765,150)mul(819,139)'select(820,327),where()+from() how()?'mul(364,188)who(408,929)+who()}select()'who()who()mul(995,874)}$~/>;'mul(887,973)who()mul(993,239)where()^when()^,[#:mul(325,621)where()-;<}!where(448,355)(mul(953,77)select()#{$*%mul(124,72)?'mul(19,453)when()(/why()where()%mul(363,709$:what()!>{}who()mul(795,307)??how()[mul(18,31&[%select() $where())!why()mul(287,498)>-?*&when()mul(74,814>~why()when(),$(mul(185,120)mul(32,831)'why()mul(608,689);~#,who() how()~!mul(876,744)'from():){do()!]why(30,513)/who(876,41)from(254,279)mulhow()from()from()where()&mul(8,16)mul(329,708)?{~#{+why()why()@mul(334,310)!*who()mul(213,492)]mul(172,234)[}$,<) mul(533,937)mul(729,811){mul(176,287)%/-&/$what()from()-mul(657,961)&(mul(978,585)~]#'$mul(815,133)why()##where()~~where(){;mul(330,156)where()who(896,631)from()*what())mul(995,394)~(from(),'',(mul(146,412)}@:'from()mul(74,137)(#who()who()>where()*mul(711who();mul(393,823)(;mul(728,574)>/$mul(164,411)<who()how(870,24))how()&}mul*% select()%/>]@mul(667,120)#:@)mul(241,857?who()where()^:select()mul(874,315)+who()why()?;@'+when()don't()^select()from()#where()]{how(478,532):what()mul(882,399how()!from()@when()*where()from()mul(121,283);%#{($mul(59,76)from()$/mul(284,919)><$?/>mul(171,491)~mul(327,128)<)#how()[,'#}$mul(85,766)!{^why()from()%mul(201,803^*do()%]why()why()+why()]++mul(878,596)]mul(29,225)&,who()/where()who()who()what();mul(257,352)>'how()(-$,where(560,922)mul(169,577)!who(){what()select(){don't()#^mul(534,786)&&$mul(857,238)#@where()]mul(689,487))~[when()where()<?mul(222,741)!mul(385,811)*@-mul(767,740)%when()why()who()::#where()^mul(432,228)what()select():where()don't()how()<!;*when()}mul(672,806){<'(mul(841,126)how()mul(320,259)'}what()mul(268,877)from()}+)*'(>~mul(793,968)why()when()select()$,*mul(26,17)mul(20,863)$'$*#@how()#mul(696,339)select()-mul(28,879)why() /select()*mul(717,19)who(){']~]]#!/usr/bin/perlwhen()mul(367,171)\n",
    "%when(651,576)}{]%+]mul(603,277)<{where()&$-'%mul(35,478)mul(272,670where(535,775)from()>}where()mul(435,668)>-select()@~}mul(917,854:/why() <~'~when(355,462)mul(124,375)@^*(<*[ don't()/who()/mul(945,697)where()mul(882,7){+mul(69,260)-how()<from()where(640,717)what()where()mul(83,864)mul(772,828)&<@:@mul(210,454)& (^~[%@mul(678,869)%how()~&+what()]/from()why()mul(672,452)#!who(355,256)<#what()(mul(152,659)?([@;select()where();do()what()select()(when()]mul(557,586)when(79,896)-^-how()^mul(290,50)select()<how()%%$what()#~!mul(711,368)<;!don't()+'mul@# select();[$where() ][mul(877,359)do()<what()#mul(545,361)where()what()'*why()where(){who()+mul(338,61)+where()?;'mul(233,835)*when();})?)&from(){do()!)mul(345,942)^mul(27,903;mul(169,778)select()^{[{ + ~mul(41,863)who()mul(392,367)<$why()< ? mul(27,423)-%mul(939,220)where()?why()%mul(808,712)^^;mul(276,164)mul(142,793)#+/{from()'?}mul/!from()mul(97,673)+@what()where()@^where()}mul(828,37)+>({#{mul(560,950)-}'mul<what()-why()mul(202,967) }from()why()where()}mul(255,593)where():* ){mul^['what()!! ;who()where()mul(835,370)-{]/mul(116,69)mul(731,20)'when(),who()mul(656,120)^select()?from()mul(760,137)!}from(398,469)where():;)what()%mul(536,801)$how()why()?who()*^%@+mul(402,84)~#&mul(299,585)$]&*;mul(137,876)<%-{how()where()mul(139,249)%+*}mul(367,25)/who(){mul(392,209)>where(),! ~%who()what()-mul(250,270 mul(47,151)&''[don't()]when(61,247)+%+-#when()mul(122,885))~:don't(),)[{mul(637,997)where()-mul(956,646)why()')#how()~mul(761,774)select():! ['mul(989,366)from()@how(941,580)]*':;[mul(963,704):mul@:$(why()^)mul(155,232):'what()!$%mul(300,251)(<@:<%how()^ +mul(375,864)mul(617,872),:;mul(175,906)what()@]@+{-why()+when(159,169)mul(711,500from()~[select()}when() &/>%mul(652,63)-!,!from()mul(519,182)'/-+$$where()mul(883,742)mul(454,250)$where()@mul(889,720)?>(mul(957,875)mul(675,759)from()/)(*>who(799,225)what()[mul(742,648)+{> >]{,>mul(391,737)mul(743,765)?[{where()&mul(759,385)from():]]:[,:$mul(305,875)!when();select()>what()#-#mul(483 [-mul(462,60)/$what()&}don't() !mul(238,876)what()~;@-!/$/mul(440,228)!<,^];$mul(668,60)+@when()/why()@mul(907,793)[from()-:mul(552,833) mul(921,276)from()mul(18,995)#{from()},what()>mul(71,909)#mul(166,313)^%what()^-* when()how()mul(26,404)mul(170,970)mul(917,165);mul(335,29)how()when(705,598)(+~~mul(614,118)&mul(281,780)how();&([#mul(27,176)]@%%!-)/~why()mul(813,915)select()&mul(895,899)#%~%mul(802,527)<'$where()how()what()^)why()(mul(962,93)-)%^why()how()mul(451,67)how()[)@[}where()#select()[mul(73,877),}*~~~mul(383,925)where()&where()how(197,895)#from()#$mul(813,528)[@who(),)-from()what()>from()mul(170,868)*from(995,971))~mul(835,419))mul(365,324)/mul(63,101)when()'~ %):how(){^mul(947,676)+@,where()where()~'?mul(635-/mul(612,440){'%(+}]]mul(775,628)&<mul(578,412)( do()mul(921,135)-]# {who()^<mul(75,976)}%~%):%:% mul(215,161){select())>;)#@/what()mul(825,859)& who()#)mul(491,748)}<,;mul(404,634)why()+select()*+'where()>:mul(681,804)why()mul(645,786)when()/what()&<;from()what();mul%[&+:$'mul(457,855)-when(840,583)why()mul(479,443)why()~mul!)!-}mul(29,976)-<!'/}>[+<mul(274,18)%])[%mul(893,678):,&select()when()mul(638,687)[+from()what()/{who()-> mul(23,723)'who()when()select()&>mul(976,72)@:[/;select()why()#>mul(47,803)($?^-%?%mul(145,548)!:?)+what()?select()where()mul(373,284)select()&)when(61,867)where()+>mul(910,263)'^!(<) (mul(99,989)\n",
    ",mul(134,916)from()why()?;mul(414,211)from()where()}~&[why()^!mulselect() mul(123,66)@/mul(652<when()%^%how(),}mul(318,994)-# %^*&)mul(282,948)don't()~^'>mul(791,484)~#mul<;&select()what()-do()<+:']why()%mul(478,188)>* @^ #mul(162,677)/who() )/@)how()from()mul(919,612)why()what()^};^why()$;why()mul(9,232) #how()mul(413,460)> mul(254,330)!>~;mul(16,657)<where();what();$mul(150,998){mul(290,179)!- mul(607,707)why()select()*;{);who(226,887)mul(795,112)mul(383,996)-^:what(697,317){what()@?@mul(352,290)%>[}*what()]'mul(402,455)(mul(159,801)how()!/()mul(890,162):why();how()mul(177[! ^-@<from()select()}mul(91,452)[how()? *who() mul(834why(226,342){{<$~>mul(412,292)/[{mul(834 ~from()!;when()mul(943,547)'+;$:from()mul(820,501)how()+~who(714,864)mulfrom() mul(331,67);-$'mul(168,191)[*;&~how()/[what()what()mul(384,321)what()>@how()when()[-@<mul(365,727)mul(349,706)'who()]&-mul(528,940)when()(<]select()@}*(why()mul(85,882)[{-select()/mul(273,409)~mul(964,434)who()what()!from()>+,mul(914,214)/~mul(708,958)do()@+mul(106,731)*(where()what()where()>,where()mul(60,776+mul(487,915)from()&{;'what()^*mul(319,884)(}who()mul(328))when()*@ +mul(754,857)where(),+from()<mul(651,362)?;[/}@}when()mul(399,158)&@how();;mul(964,753)!^why()}when()]!{how()mul(525,209)who()^mul(869,719)- <>~><>~mul(207,721){:#how()what()when()?<+mul(107,805)^$%}from(),[,$[mul(375,736)mul(73,81)-$where()$-<<:<mul(588,899)who()&mul(902,680);?[ <)mul(715,138) how() +;mul(875,81)],;$!?(select()mul(669,19);!*%},!why()~}mul(90,643)]mul(969,823)}$@when()&where()mulwhere()<&%>:mul(435,179)when()/,how()&,)@mul(899(what()why()/;why()}])!what()mul(855,799)~{@where()why())where()why()don't();!~,mul(801,421)mul(688,282)from()?when()where()/$~'when()mul(799,579)[mul(589,929)*why(),[[who()from()/mul(422,435){{~,-mul(811,256)}why()--mul(284,323)$;?;from()when()/@!,mul(411,499)mul(712,633)?(#select(699,176)where()]why()[who()do()[-mul(252,327)mul(733,191)-why()+}when()$mul(575,854):--#?what()^,]>mul(710,364)<where(435,528);^ : how()mul(859,814)]+what()*) mul(173,667)?>:-'/mul(955,516)@who()+mul(765,740)when()@?+)!'don't()[-<mul(365,369)^who()why(511,407)-mul(532,507))mul(424,846)~from()from(828,590)-*]mul(86'>when()~[/ when()?; mul(65,78)}]<how()%+?why())mul(573,533)mul(729,878)*mul(520,776)where()from()!from()<@do()when()&^(who()/mul(945,626)% who();;(^+what();mul+why()}((where()>(-mul(268,76)/select()~:where(941,686)mul(936,336)-@mul(958,345)who(){~mul(548,108)!mul(951,331)[#?from()(^:%mul(843,813)$how();why():^why()+mul(594,381)select()when()from();]select()&:mul(765,515) /what()why())#)select()[mul(4,236)]%;^what()$@*do()&>mul^}'#+~*&where(721,403)mul(430,162)mul(54,147)%)'}$^where()}mul(823,311)mul(882,70)mul(869,503)@who():)&what()mul(383,271)~mul(568,286why(365,711)why(387,388)!)what()from()mul(867,166)where(243,478))?how()-@>@mul(191,472)}@&}from();^}[mul(45,832)->/what(705,241)(>what()]mul(85,192)&&]#-$#mul(498,712)@)when(),]mul(521,682)/how()}-}mul(366when()+,when()/mul(697,179) %(mul(412,215)$mul(798)^*mul(85,476),'how()  +$;mul(423,624)where()mul(501from()@{who()-mul(457,671)~who()when()how(343,28)%where(675,997)*why()how(186,529)#mul(189,417),+[[@when()/mul(526,457))($+!*@mul(817,569))(- &%&/why()mul(909,493);mul(484,901);!$why()<^)~]do()'/mul(968,342)}*;mul(982,164)&>why()]>select()&[mul(364,498)mul(595,443) -who();{{?(~mul(33,531)who()who(455,309)*select()when()mul(367,411)who()what()?where()^mul(345,845)<@mul(376;who()[select()>*!how()do()#from())<(mul&from(128,233)how(){%when()mul(851,364)mul(494,714)\n",
    "%{<<%mul(268,805))&#mul(373,10)!%};%,when():mul(628,215)&}& mul(322:?>^<when()>*,,mul(355,828);mul(939,916);>,where()][>)};mul(925,115)]mul(161,40) @ mul(234,412)[%%mul(414,812) when()*mul(326,103)-[({;/#/^+mul(810,213)don't()- {>who(){mul(527,352)@&')*when()]who()%mul(736,73)from()[(}mul(917,960)+,-%mul(945,466)~why(398,607),mul(198,701){'-(when(),*:[mul(822what()}]:>who(685,960)?mul(866,969) *#~when()mul(624,619)?<';what()()<$mul(582,429),@mul(112,480)'!mul(113,204)what()>$~%,$'*mul(909,964)?who()why()how()$mul(181,265)'mul(227,282)*>:+from()[how()%mul(534,756)]from()/mul(782,594)when(976,63):&,where(101,159)@$why()how()mul(949,569)how()why()where()what()}&<[{mul(984,451);#how()what()~#mul(976,666)~'what()mul(879,268from()when()mul(952,795){where()-&,%/select()mul(892,249)mul(562,394)do()-<how()-[ mul(682,68)select(){#what(390,528)from()!&$mul*%;%why()}[mul(641,891)'[mul(604,200)* <?;@~-<mul(32,446)#select()mul(367,881)who()}-+!@/mul%%how()how()mul(484,441)'!*-,why()//mul(232,705)>>),&(}'mul(624,35)mul(770,961);why()/;//+*mul(460,933)>%%@from()mul(913,510)from()@from()how()#mul(336,262)select()!what()%/select(){*!{mul(324,598)mul(520,239)/select()@ how()how()mul(9,679)  &from()mul(132,603)where()mul(918,579)-why()'mul(379,960)^}#{/who(910,167)who(464,273)mul(225,34)where(){?#%why()[}mul(795,611)/mul(985,849)(mul(212,96)<;@from()mul(692,369)>mul(525,547)/who()-:<how()mul(715,343)when(488,771),'mul(303,170)where()>how()>:?%}}^mul(752,768)why()%mul(696,11) *)^/*!'mul(148,335)from()mul(485,796),,+>>'?do()+;select()?:mul(456,261)?!mul(43,918)~-)from(),}>)mul(960,664)' -{from()^,where()-what()mul(508,451)]+ {why()why()/%@/mul(176,657)select(488,126):'where()mul(247,928)/how()who():!mul(844,455)#<(&when()from()&*mul(898,677)from(){mul(766,841)mul(990,880)who()where()?;mul(487,623)from()why()[mul(163,74)select();$>select(190,549)do()<:+select(677,307)[(how()~]mul(328,574))#^)mul(767,737)mul(996,115);from()[from()mul(977,738))from()when()[mul(868,591)%what()mul(347,943)'-why()**#how()~mul(327,720)-;)-[#-~why()mul(71,877)-!select()/,'$'mul(741,845)[&^$when()}mul(686,640)&}why(323,972)'$[mul(352,2)&who()-+%$} mul(295,145)';]*when()$'<mul(777,684),where()]don't();what()%$?-+]/#mul(981,496)mul(402,419)what()*^what()mul(165,139)from()who()where(),how()select()from()%mul(376,689) mul(389,696)where()what(949,275)how()~who(600,641)'from()!#mul(436,525)~/[%-}^mul(489,872)select()mul(82,53)*select(70,72)*what()what()]:{from()%mul(433,905);+-mul(191,114);[from()mul(401,992)?'mul(257,949)**'/~why()*!mul(902,617)where()@]>}-mul(61,125)#mul(446,48)@~{*[*$when()who()who()mul(300,206)&+!where()mul(938,463)when()!&%where() &*;*mul(772,27)]&;how()!]how()do()/^$what()how()mul(305,773)>mul(216,395)':mul(291,15)*@what()(^mul(56,367))~,>mul(233,290)?&;who(333,171)what(370,12)$ ?mul(306,488)<^where()($mul(627,462))]select()':mul(565,994)~>mul(626,380)]}who(){mul(590,221)mul(684,793) who()/{%@(from()@?mul(448,580)from(856,317)!]why()from()&>[?mul(971,484)~mul(417,679)mul(33,70)^what()mul(816,623);@mul(735,657)\"\"\""
   ]
  },
  {
   "cell_type": "code",
   "execution_count": 11,
   "id": "17427d2a-b5f1-4497-8631-9fa7fbbda8a1",
   "metadata": {},
   "outputs": [
    {
     "name": "stdout",
     "output_type": "stream",
     "text": [
      "[(437, 864), (880, 907), (215, 270), (737, 510), (634, 344), (528, 832), (514, 817), (270, 137), (787, 669), (896, 940), (536, 622), (448, 254), (935, 409), (356, 457), (445, 30), (568, 491), (327, 654), (641, 212), (926, 267), (750, 244), (523, 581), (94, 990), (174, 631), (57, 234), (943, 865), (633, 471), (232, 415), (126, 82), (687, 55), (674, 305), (261, 413), (930, 454), (590, 349), (688, 279), (86, 495), (417, 700), (383, 608), (736, 637), (440, 969), (412, 588), (312, 134), (400, 368), (91, 772), (108, 930), (370, 824), (408, 938), (618, 424), (384, 342), (158, 114), (727, 849), (358, 870), (918, 280), (434, 803), (737, 295), (971, 370), (134, 354), (995, 35), (85, 68), (108, 927), (268, 521), (473, 558), (383, 864), (900, 993), (613, 135), (375, 245), (487, 896), (807, 261), (800, 203), (921, 126), (668, 781), (900, 757), (710, 725), (121, 934), (551, 3), (7, 711), (392, 449), (428, 73), (64, 592), (87, 558), (824, 660), (640, 76), (775, 707), (100, 878), (966, 147), (506, 436), (308, 28), (57, 512), (874, 349), (128, 288), (117, 644), (701, 276), (784, 997), (883, 710), (45, 149), (296, 703), (881, 162), (293, 304), (443, 960), (739, 318), (281, 625), (88, 646), (885, 753), (625, 409), (201, 618), (942, 583), (876, 685), (103, 616), (867, 558), (955, 743), (488, 404), (573, 892), (344, 334), (868, 909), (729, 810), (630, 215), (229, 873), (248, 481), (639, 438), (563, 361), (148, 895), (703, 618), (383, 639), (164, 723), (45, 490), (661, 87), (854, 581), (619, 575), (712, 573), (604, 893), (227, 185), (805, 458), (242, 122), (745, 329), (256, 115), (958, 717), (616, 882), (199, 18), (23, 351), (615, 742), (590, 124), (985, 821), (487, 459), (319, 344), (305, 231), (232, 514), (401, 476), (485, 814), (490, 69), (428, 81), (587, 14), (66, 344), (690, 739), (502, 75), (550, 732), (533, 251), (226, 855), (295, 649), (737, 515), (751, 898), (865, 649), (874, 991), (828, 195), (739, 482), (521, 901), (112, 628), (851, 646), (842, 55), (164, 534), (145, 6), (459, 695), (527, 796), (183, 596), (837, 933), (693, 684), (379, 67), (120, 112), (661, 256), (894, 631), (111, 135), (337, 371), (453, 440), (977, 343), (62, 672), (971, 495), (98, 733), (815, 13), (12, 514), (704, 581), (656, 388), (968, 264), (639, 135), (554, 238), (549, 330), (613, 35), (300, 593), (8, 16), (329, 708), (334, 310), (213, 492), (172, 234), (533, 937), (729, 811), (176, 287), (657, 961), (978, 585), (815, 133), (330, 156), (995, 394), (146, 412), (74, 137), (393, 823), (728, 574), (164, 411), (667, 120), (874, 315), (878, 596), (29, 225), (257, 352), (169, 577), (534, 786), (857, 238), (689, 487), (222, 741), (385, 811), (767, 740), (432, 228), (672, 806), (841, 126), (320, 259), (268, 877), (793, 968), (26, 17), (20, 863), (696, 339), (28, 879), (717, 19), (367, 171), (603, 277), (35, 478), (435, 668), (124, 375), (557, 586), (290, 50), (711, 368), (545, 361), (338, 61), (233, 835), (345, 942), (169, 778), (41, 863), (392, 367), (27, 423), (939, 220), (808, 712), (276, 164), (142, 793), (97, 673), (828, 37), (560, 950), (202, 967), (255, 593), (835, 370), (116, 69), (731, 20), (656, 120), (760, 137), (536, 801), (402, 84), (299, 585), (137, 876), (139, 249), (367, 25), (392, 209), (47, 151), (921, 135), (75, 976), (215, 161), (825, 859), (491, 748), (404, 634), (681, 804), (645, 786), (457, 855), (479, 443), (29, 976), (274, 18), (893, 678), (638, 687), (23, 723), (976, 72), (47, 803), (145, 548), (373, 284), (910, 263), (99, 989), (134, 916), (414, 211), (123, 66), (318, 994), (282, 948), (478, 188), (162, 677), (919, 612), (9, 232), (413, 460), (254, 330), (16, 657), (150, 998), (290, 179), (607, 707), (795, 112), (383, 996), (352, 290), (402, 455), (159, 801), (890, 162), (91, 452), (412, 292), (943, 547), (820, 501), (331, 67), (168, 191), (384, 321), (365, 727), (349, 706), (528, 940), (85, 882), (273, 409), (964, 434), (914, 214), (708, 958), (106, 731), (487, 915), (319, 884), (754, 857), (651, 362), (399, 158), (964, 753), (525, 209), (869, 719), (207, 721), (107, 805), (375, 736), (73, 81), (588, 899), (902, 680), (715, 138), (875, 81), (669, 19), (90, 643), (969, 823), (435, 179), (855, 799), (252, 327), (733, 191), (575, 854), (710, 364), (859, 814), (173, 667), (955, 516), (765, 740), (945, 626), (268, 76), (936, 336), (958, 345), (548, 108), (951, 331), (843, 813), (594, 381), (765, 515), (4, 236), (430, 162), (54, 147), (823, 311), (882, 70), (869, 503), (383, 271), (867, 166), (191, 472), (45, 832), (85, 192), (498, 712), (521, 682), (697, 179), (412, 215), (85, 476), (423, 624), (457, 671), (189, 417), (526, 457), (817, 569), (909, 493), (484, 901), (968, 342), (982, 164), (364, 498), (595, 443), (33, 531), (367, 411), (345, 845), (851, 364), (494, 714), (268, 805), (373, 10), (628, 215), (355, 828), (939, 916), (925, 115), (161, 40), (234, 412), (414, 812), (326, 103), (810, 213), (682, 68), (641, 891), (604, 200), (32, 446), (367, 881), (484, 441), (232, 705), (624, 35), (770, 961), (460, 933), (913, 510), (336, 262), (324, 598), (520, 239), (9, 679), (132, 603), (918, 579), (379, 960), (225, 34), (795, 611), (985, 849), (212, 96), (692, 369), (525, 547), (715, 343), (303, 170), (752, 768), (696, 11), (148, 335), (485, 796), (456, 261), (43, 918), (960, 664), (508, 451), (176, 657), (247, 928), (844, 455), (898, 677), (766, 841), (990, 880), (487, 623), (163, 74), (328, 574), (767, 737), (996, 115), (977, 738), (868, 591), (347, 943), (327, 720), (71, 877), (741, 845), (686, 640), (352, 2), (295, 145), (777, 684), (305, 773), (216, 395), (291, 15), (56, 367), (233, 290), (306, 488), (627, 462), (565, 994), (626, 380), (590, 221), (684, 793), (448, 580), (971, 484), (417, 679), (33, 70), (816, 623), (735, 657)]\n"
     ]
    },
    {
     "data": {
      "text/plain": [
       "118676207"
      ]
     },
     "execution_count": 11,
     "metadata": {},
     "output_type": "execute_result"
    }
   ],
   "source": [
    "print(parse_enabled(input))\n",
    "sum([x * y for (x, y) in parse_enabled(input)])"
   ]
  },
  {
   "cell_type": "code",
   "execution_count": 12,
   "id": "6220dcb0-92fb-470f-a0be-fcdfc4d0ccbe",
   "metadata": {},
   "outputs": [
    {
     "name": "stdout",
     "output_type": "stream",
     "text": [
      ");>]mul(437,864)^mul(880,907)}<how(){+[!' where()mul(215,270)from())@#mul(737,510)@<'why()+mul(634,344)$>::mul(528,832);{~<mul(514,817)>~who()who()(how(84,130)where(){%{mul(270,137)@:mul(787,669)*]&^' @from()mul(896,940){where()when()]< -[mul(536,622)select()!{?where(362,730)~why()#(;mul(448,254)'-/who() from():#mul(935,409)mul(356,457)]#mul(445,30)?&^'where()&%<&mul(568,491)when()/^@who()when()&~#)mul(327,654):from(){+?#what()<?;/]>*,-(;why()mul(641,212)%from()*mul(926,267);/: };^select()mul(750,244)^*what()$what()who()~}from()do()){,'}mul(523,581)-%@>+>mul(94,990)!/who(571,986)/-/?mul(174,631)from()%+?>@<?#)mul(57,234)?}mul(943,865)'([why()what()from()@%%,mul(633,471) where(),select()mul(232,415)), when()<mul(126,82)what()who()what()mul(687,55){select()/what()mul(674,305)>+[^*who()mul(261,413)?-who()^]from()%do()$)~;mul(930,454)$[~;select()why()select()who():@mul(590,349)**%;mul(688,279)+from()^mul(86,495);mul(417,700)what()(/^: ;+<when()mul(383,608)where()!when()when()[-#}*mul(736,637)}'select()[&<select()where()-/mul(440,969)<,{mul(412,588)}{when()where()how(){?{}from()do()select()~&select()'?%>why()mul(312,134)'?<]^@]@!$mul(400,368)/mul(91,772)^mul(108,930)&-mul(370,824) /',why()mul(408,938)#?)^'what()mul(618,424)!mul(384,342)where(695,275)select(){};#select()mul(158,114)[from() ,)what(581,474)who()%]mul(727,849)@%~>]%mul(358,870)mul(918,280)]&mul(434,803)when()#&@@how()}]['mul(737,295)!!->where()<mul(971,370)what()^,when()mul(134,354)/@)(when()mul(995,35):?,#&what()#+~mul(85,68)(';?>mul(108,927)why()select()~mul(268,521)<<[where()-mul(473,558)#why()[how()(<who()mul(383,864)'@[from(),where(234,990)^)when()select(875,735)mul(900,993)mul(613,135)#('who()!why(726,584)};mul(375,245):@>'-^'mul+*,)why()mul(487,896)]%}mul(807,261)@where()(from()-what()%*mulfrom() when()how()<~{~:mul(800,203)mul(921,126)'why()-mul(668,781)% (mul(900,757)^@&{mul(710,725)(?><select()!who()how()@mul(121,934)when()from()&mul(551,3)({{&select()mul(7,711)(]select()!!who()/mul(392,449)\n",
      ">']%<mul(428,73)(what()mul(64,592)why()mul(87,558)!who()/^select()mul[mul(824,660)'where()how()})mul(640,76){mul(775,707)])select()mul(100,878)&(where()]do()<mul(966,147)why()(]why()^(?what()mul(506,436)!@why()mul(308,28)?&who()+mul(130,254]when()!mul(57,512)$*~mul(874,349)when(){]mul(128,288)[who()}$]:!(mul(117,644)select(59,177)#+,how()from()% mul(701,276)from()@;(why()! -*}mul(784,997)who()where()$how()where()mul(883,710);when()mul(45,149)(where()/do()who()select()[why());,mul(296,703)? mul(881,162)'[why()*mul(293,304)*& mul(443,960)#who(757,994)&<(@#+);mul(739,318)&,when()[where()mul(281,625) why()/+]what()mul(88,646)%~~select()%who()<mul(885,753)::from()![when()mul(625,409)$mul(201,618)<who()#where()from()@/mul(290,974:;&>-:,+select()from()mul(942,583)select()<!,mul(876,685)why())mul(103,616)where(52,533)why()##mul(867,558)what()when())!mul(955,743)-%from(672,345) how()do()*:who()!><{what()mul(488,404)@mul(573,892)'(mulhow()when()'/mul(344,334)select()>#!}mul(868,909),$%mul(729,810)mul(630,215),{?how()where()*select()mul(229,873)%~from()*<% #^who()mul(248,481)why(541,729)select()]mul(639,438)~({ +]( }mul(563,361)^:$?;mul(148,895)!~how(677,192)select();mul(703,618)-how()from(),:,}#mul(383,639)#!mul(164,723)when()<select(960,127)from()$'{%~;mul(45,490))@mul(110/!#':; (]<mul(661,87) [what()?/mul(854,581)from()],$]@>>mul(619,575)-%$,;^mul(712,573)>/(-#;how(626,802)mul(604,893)mul(227,185)>,*what(259,152))!mul(805,458)]&)-,~why();mul{[ ,>who(634,559)@mul(242,122)mul(745,329)who()how()^)%/mul(256,115)- $}<mul(925,466what(757,32)select()+!;mul(958,717) &';;mul(616,882)mul(199,18)/?+]why()[*mul(23,351)(@(mul(615,742):-*)mul(590,124)mul(985,821)@%select()mul(487,459)&mul(319,344)*[*from()select()<+,mul(305,231);($where(112,479)~{;mul(232,514)~!'~from()[;[mul(401,476)<mul(485,814)#'mul(490,69)who()<@where()-/}$:-do():},when())> @$>mul(428,81)where()(&where()}do()when(338,441)^}$<<where()>)mul(587,14)%select(),%{!?}when(){mul(66,344)#how()[,from()who()! :(mul(690,739)}mul(502,75)} +where(368,348)from()'where()where()/&mul(550,732)\n",
      "[<$''what()why(610,674);mul(533,251)/mul(226,855);mul(295,649)]-what() {,(@mul(737,515)when(471,162)mul(751,898){%,>>{(when()when()select()mul(865,649)>$#from()mul(614,590:)how()*~where()-mul(874,991)how()<}:why(846,672);mul(828,195))mul(739,482) ;]/{(%who()mul(521,901))@!select()>why()mul(112,628)!]how()[%!'mul(851,646)$>when()mul(842,55)%$why()mul(164,534) where()::where()mul(145,6)]*when()+@#&(mul(459,695)when()<$}how()$[how(526,933)who(73,62)>mul(527,796)what()*;-!mul(183,596);mul(837,933)mul(693,684)!)]  select()[ !mul(379,67)select(){who(333,123)>mul(120,112)?how()@what()why()why(535,724)mul$,,mul(661,256)?why()*mul(894,631)^$from()#]/@mul(111,135)who()$who()how()how()when()$) mul(337,371)]~from()<:,&*mul(453,440)^/[mul(977,343)~[%from()mul(62,672)<$do()#%mul(971,495)}what()mul(98,733);how()!mul(815,13)when())##mul(12,514)!#*:^where()@?mul(704,581)+mul(656,388)mul(968,264)how()who(459,907)!!&;$mul(639,135)who();!mul(554,238)-*,%~<mul(549,330)select()who(214,680)>-'^mul(613,35)({*;)'mul(300,593)?} /why(366,710)!]why(30,513)/who(876,41)from(254,279)mulhow()from()from()where()&mul(8,16)mul(329,708)?{~#{+why()why()@mul(334,310)!*who()mul(213,492)]mul(172,234)[}$,<) mul(533,937)mul(729,811){mul(176,287)%/-&/$what()from()-mul(657,961)&(mul(978,585)~]#'$mul(815,133)why()##where()~~where(){;mul(330,156)where()who(896,631)from()*what())mul(995,394)~(from(),'',(mul(146,412)}@:'from()mul(74,137)(#who()who()>where()*mul(711who();mul(393,823)(;mul(728,574)>/$mul(164,411)<who()how(870,24))how()&}mul*% select()%/>]@mul(667,120)#:@)mul(241,857?who()where()^:select()mul(874,315)+who()why()?;@'+when()%]why()why()+why()]++mul(878,596)]mul(29,225)&,who()/where()who()who()what();mul(257,352)>'how()(-$,where(560,922)mul(169,577)!who(){what()select(){don't()#^mul(534,786)&&$mul(857,238)#@where()]mul(689,487))~[when()where()<?mul(222,741)!mul(385,811)*@-mul(767,740)%when()why()who()::#where()^mul(432,228)what()select():where()don't()how()<!;*when()}mul(672,806){<'(mul(841,126)how()mul(320,259)'}what()mul(268,877)from()}+)*'(>~mul(793,968)why()when()select()$,*mul(26,17)mul(20,863)$'$*#@how()#mul(696,339)select()-mul(28,879)why() /select()*mul(717,19)who(){']~]]#!/usr/bin/perlwhen()mul(367,171)\n",
      "%when(651,576)}{]%+]mul(603,277)<{where()&$-'%mul(35,478)mul(272,670where(535,775)from()>}where()mul(435,668)>-select()@~}mul(917,854:/why() <~'~when(355,462)mul(124,375)@^*(<*[ what()select()(when()]mul(557,586)when(79,896)-^-how()^mul(290,50)select()<how()%%$what()#~!mul(711,368)<;!<what()#mul(545,361)where()what()'*why()where(){who()+mul(338,61)+where()?;'mul(233,835)*when();})?)&from(){do()!)mul(345,942)^mul(27,903;mul(169,778)select()^{[{ + ~mul(41,863)who()mul(392,367)<$why()< ? mul(27,423)-%mul(939,220)where()?why()%mul(808,712)^^;mul(276,164)mul(142,793)#+/{from()'?}mul/!from()mul(97,673)+@what()where()@^where()}mul(828,37)+>({#{mul(560,950)-}'mul<what()-why()mul(202,967) }from()why()where()}mul(255,593)where():* ){mul^['what()!! ;who()where()mul(835,370)-{]/mul(116,69)mul(731,20)'when(),who()mul(656,120)^select()?from()mul(760,137)!}from(398,469)where():;)what()%mul(536,801)$how()why()?who()*^%@+mul(402,84)~#&mul(299,585)$]&*;mul(137,876)<%-{how()where()mul(139,249)%+*}mul(367,25)/who(){mul(392,209)>where(),! ~%who()what()-mul(250,270 mul(47,151)&''[mul(921,135)-]# {who()^<mul(75,976)}%~%):%:% mul(215,161){select())>;)#@/what()mul(825,859)& who()#)mul(491,748)}<,;mul(404,634)why()+select()*+'where()>:mul(681,804)why()mul(645,786)when()/what()&<;from()what();mul%[&+:$'mul(457,855)-when(840,583)why()mul(479,443)why()~mul!)!-}mul(29,976)-<!'/}>[+<mul(274,18)%])[%mul(893,678):,&select()when()mul(638,687)[+from()what()/{who()-> mul(23,723)'who()when()select()&>mul(976,72)@:[/;select()why()#>mul(47,803)($?^-%?%mul(145,548)!:?)+what()?select()where()mul(373,284)select()&)when(61,867)where()+>mul(910,263)'^!(<) (mul(99,989)\n",
      ",mul(134,916)from()why()?;mul(414,211)from()where()}~&[why()^!mulselect() mul(123,66)@/mul(652<when()%^%how(),}mul(318,994)-# %^*&)mul(282,948)<+:']why()%mul(478,188)>* @^ #mul(162,677)/who() )/@)how()from()mul(919,612)why()what()^};^why()$;why()mul(9,232) #how()mul(413,460)> mul(254,330)!>~;mul(16,657)<where();what();$mul(150,998){mul(290,179)!- mul(607,707)why()select()*;{);who(226,887)mul(795,112)mul(383,996)-^:what(697,317){what()@?@mul(352,290)%>[}*what()]'mul(402,455)(mul(159,801)how()!/()mul(890,162):why();how()mul(177[! ^-@<from()select()}mul(91,452)[how()? *who() mul(834why(226,342){{<$~>mul(412,292)/[{mul(834 ~from()!;when()mul(943,547)'+;$:from()mul(820,501)how()+~who(714,864)mulfrom() mul(331,67);-$'mul(168,191)[*;&~how()/[what()what()mul(384,321)what()>@how()when()[-@<mul(365,727)mul(349,706)'who()]&-mul(528,940)when()(<]select()@}*(why()mul(85,882)[{-select()/mul(273,409)~mul(964,434)who()what()!from()>+,mul(914,214)/~mul(708,958)do()@+mul(106,731)*(where()what()where()>,where()mul(60,776+mul(487,915)from()&{;'what()^*mul(319,884)(}who()mul(328))when()*@ +mul(754,857)where(),+from()<mul(651,362)?;[/}@}when()mul(399,158)&@how();;mul(964,753)!^why()}when()]!{how()mul(525,209)who()^mul(869,719)- <>~><>~mul(207,721){:#how()what()when()?<+mul(107,805)^$%}from(),[,$[mul(375,736)mul(73,81)-$where()$-<<:<mul(588,899)who()&mul(902,680);?[ <)mul(715,138) how() +;mul(875,81)],;$!?(select()mul(669,19);!*%},!why()~}mul(90,643)]mul(969,823)}$@when()&where()mulwhere()<&%>:mul(435,179)when()/,how()&,)@mul(899(what()why()/;why()}])!what()mul(855,799)~{@where()why())where()why()[-mul(252,327)mul(733,191)-why()+}when()$mul(575,854):--#?what()^,]>mul(710,364)<where(435,528);^ : how()mul(859,814)]+what()*) mul(173,667)?>:-'/mul(955,516)@who()+mul(765,740)when()@?+)!'when()&^(who()/mul(945,626)% who();;(^+what();mul+why()}((where()>(-mul(268,76)/select()~:where(941,686)mul(936,336)-@mul(958,345)who(){~mul(548,108)!mul(951,331)[#?from()(^:%mul(843,813)$how();why():^why()+mul(594,381)select()when()from();]select()&:mul(765,515) /what()why())#)select()[mul(4,236)]%;^what()$@*do()&>mul^}'#+~*&where(721,403)mul(430,162)mul(54,147)%)'}$^where()}mul(823,311)mul(882,70)mul(869,503)@who():)&what()mul(383,271)~mul(568,286why(365,711)why(387,388)!)what()from()mul(867,166)where(243,478))?how()-@>@mul(191,472)}@&}from();^}[mul(45,832)->/what(705,241)(>what()]mul(85,192)&&]#-$#mul(498,712)@)when(),]mul(521,682)/how()}-}mul(366when()+,when()/mul(697,179) %(mul(412,215)$mul(798)^*mul(85,476),'how()  +$;mul(423,624)where()mul(501from()@{who()-mul(457,671)~who()when()how(343,28)%where(675,997)*why()how(186,529)#mul(189,417),+[[@when()/mul(526,457))($+!*@mul(817,569))(- &%&/why()mul(909,493);mul(484,901);!$why()<^)~]do()'/mul(968,342)}*;mul(982,164)&>why()]>select()&[mul(364,498)mul(595,443) -who();{{?(~mul(33,531)who()who(455,309)*select()when()mul(367,411)who()what()?where()^mul(345,845)<@mul(376;who()[select()>*!how()do()#from())<(mul&from(128,233)how(){%when()mul(851,364)mul(494,714)\n",
      "%{<<%mul(268,805))&#mul(373,10)!%};%,when():mul(628,215)&}& mul(322:?>^<when()>*,,mul(355,828);mul(939,916);>,where()][>)};mul(925,115)]mul(161,40) @ mul(234,412)[%%mul(414,812) when()*mul(326,103)-[({;/#/^+mul(810,213)-<how()-[ mul(682,68)select(){#what(390,528)from()!&$mul*%;%why()}[mul(641,891)'[mul(604,200)* <?;@~-<mul(32,446)#select()mul(367,881)who()}-+!@/mul%%how()how()mul(484,441)'!*-,why()//mul(232,705)>>),&(}'mul(624,35)mul(770,961);why()/;//+*mul(460,933)>%%@from()mul(913,510)from()@from()how()#mul(336,262)select()!what()%/select(){*!{mul(324,598)mul(520,239)/select()@ how()how()mul(9,679)  &from()mul(132,603)where()mul(918,579)-why()'mul(379,960)^}#{/who(910,167)who(464,273)mul(225,34)where(){?#%why()[}mul(795,611)/mul(985,849)(mul(212,96)<;@from()mul(692,369)>mul(525,547)/who()-:<how()mul(715,343)when(488,771),'mul(303,170)where()>how()>:?%}}^mul(752,768)why()%mul(696,11) *)^/*!'mul(148,335)from()mul(485,796),,+>>'?do()+;select()?:mul(456,261)?!mul(43,918)~-)from(),}>)mul(960,664)' -{from()^,where()-what()mul(508,451)]+ {why()why()/%@/mul(176,657)select(488,126):'where()mul(247,928)/how()who():!mul(844,455)#<(&when()from()&*mul(898,677)from(){mul(766,841)mul(990,880)who()where()?;mul(487,623)from()why()[mul(163,74)select();$>select(190,549)do()<:+select(677,307)[(how()~]mul(328,574))#^)mul(767,737)mul(996,115);from()[from()mul(977,738))from()when()[mul(868,591)%what()mul(347,943)'-why()**#how()~mul(327,720)-;)-[#-~why()mul(71,877)-!select()/,'$'mul(741,845)[&^$when()}mul(686,640)&}why(323,972)'$[mul(352,2)&who()-+%$} mul(295,145)';]*when()$'<mul(777,684),where()]/^$what()how()mul(305,773)>mul(216,395)':mul(291,15)*@what()(^mul(56,367))~,>mul(233,290)?&;who(333,171)what(370,12)$ ?mul(306,488)<^where()($mul(627,462))]select()':mul(565,994)~>mul(626,380)]}who(){mul(590,221)mul(684,793) who()/{%@(from()@?mul(448,580)from(856,317)!]why()from()&>[?mul(971,484)~mul(417,679)mul(33,70)^what()mul(816,623);@mul(735,657)\n"
     ]
    }
   ],
   "source": [
    "# I want to better understand what the regex is doing. Is this getting caught by something nested?\n",
    "\n",
    "sanitized = re.sub(r\"don't\\(\\).+?do\\(\\)\", '', input)\n",
    "\n",
    "print(sanitized)"
   ]
  },
  {
   "cell_type": "code",
   "execution_count": 13,
   "id": "2b2604eb-af9c-4c8d-8952-c790c6b82168",
   "metadata": {},
   "outputs": [
    {
     "name": "stdout",
     "output_type": "stream",
     "text": [
      ");>]mul(437,864)^mul(880,907)}<how(){+[!' where()mul(215,270)from())@#mul(737,510)@<'why()+mul(634,344)$>::mul(528,832);{~<mul(514,817)>~who()who()(how(84,130)where(){%{mul(270,137)@:mul(787,669)*]&^' @from()mul(896,940){where()when()]< -[mul(536,622)select()!{\n",
      "\n",
      "?where(362,730)~why()#(;mul(448,254)'-/who() from():\n",
      "\n",
      "#mul(935,409)mul(356,457)]#mul(445,30)?&^'where()&%<&mul(568,491)when()/^@who()when()&~#)mul(327,654):from(){+?#what()<?;\n",
      "\n",
      "/]>*,-(;why()mul(641,212)%\n",
      "\n",
      "from()*mul(926,267);/: };^select()mul(750,244)^*what()$what()who()~}from()do()){,'}mul(523,581)-%@>+>mul(94,990)!/who(571,986)/-/?mul(174,631)from()%+?>@<?#)mul(57,234)?}mul(943,865)'([why()what()from()@%%,mul(633,471) where(),select()mul(232,415)), when()<mul(126,82)what()who()what()mul(687,55){select()/what()mul(674,305)>+[^*who()mul(261,413)?-who()^]from()%do()$)~;mul(930,454)$[~;select()why()select()who():@mul(590,349)**%;mul(688,279)+from()^mul(86,495);mul(417,700)what()(/^: ;+<when()mul(383,608)where()!when()when()[-#}*mul(736,637)}'select()[&<select()where()-/mul(440,969)<,{mul(412,588)}{when()where()how(){?{}from()do()select()~&select()'?%>why()mul(312,134)'?<]^@]@!$mul(400,368)/mul(91,772)^mul(108,930)&-mul(370,824) /',why()mul(408,938)#?)^'what()mul(618,424)!mul(384,342)where(695,275)select(){};#select()mul(158,114)[from() ,)what(581,474)who()%]mul(727,849)@%~>]%mul(358,870)mul(918,280)]&mul(434,803)when()#&@@how()}]['mul(737,295)!!->where()<mul(971,370)what()^,when()mul(134,354)/@)(when()mul(995,35):?,#&what()#+~mul(85,68)(';?>mul(108,927)why()select()~mul(268,521)<<[where()-mul(473,558)#why()[how()(<who()mul(383,864)'@[from(),where(234,990)^)when()select(875,735)\n",
      "\n",
      "mul(900,993)mul(613,135)#('who()!why(726,584)};mul(375,245):@>'-^'mul+*,)why()mul(487,896)]%}mul(807,261)@where()(from()-what()%*mulfrom() when()how()<~{~:mul(800,203)mul(921,126)'why()-mul(668,781)% (mul(900,757)^@&{mul(710,725)(?><select()!who()how()@mul(121,934)when()from()&mul(551,3)({{&select()mul(7,711)(]select()!!who()/mul(392,449)\n",
      ">']%<mul(428,73)(what()mul(64,592)why()mul(87,558)!who()/^select()mul[mul(824,660)'where()how()})mul(640,76){mul(775,707)])select()mul(100,878)&(where()]do()<mul(966,147)why()(]why()^(?what()\n",
      "\n",
      "mul(506,436)!@why()mul(308,28)?&who()+mul(130,254]when()!mul(57,512)$*~mul(874,349)when(){]mul(128,288)[who()}$]:!(mul(117,644)select(59,177)#+,how()from()% mul(701,276)from()@;(why()! -*}mul(784,997)who()where()$how()where()mul(883,710);when()mul(45,149)(where()/do()who()select()[why());,mul(296,703)? mul(881,162)'[why()*mul(293,304)*& mul(443,960)#who(757,994)&<(@#+);mul(739,318)&,when()[where()mul(281,625) why()/+]what()mul(88,646)%~~select()%who()<mul(885,753)::from()![when()mul(625,409)$mul(201,618)<who()#where()from()@/mul(290,974:;&>-:,+select()from()mul(942,583)select()<!,mul(876,685)why())mul(103,616)where(52,533)why()##mul(867,558)what()when())!mul(955,743)-%from(672,345) how()do()*:who()!><{what()mul(488,404)@mul(573,892)'(mulhow()when()'/mul(344,334)select()>#!}mul(868,909),$%mul(729,810)mul(630,215),{?how()where()*select()mul(229,873)%~from()*<% #^who()mul(248,481)why(541,729)select()]mul(639,438)~({ +]( }mul(563,361)^:$?;mul(148,895)!~how(677,192)select();mul(703,618)-how()from(),:,}#mul(383,639)#!mul(164,723)when()<select(960,127)from()$'{%~;mul(45,490))@mul(110/!#':; (]<mul(661,87) [what()?/mul(854,581)from()],$]@>>mul(619,575)-%$,;^mul(712,573)>/(-#;how(626,802)mul(604,893)mul(227,185)>,*what(259,152))!mul(805,458)]&)-,~why();mul{[ ,>who(634,559)@mul(242,122)mul(745,329)who()how()^)%/mul(256,115)- $}<mul(925,466what(757,32)select()+!;mul(958,717) &';;mul(616,882)mul(199,18)/?+]why()[*mul(23,351)(@(mul(615,742):-*)mul(590,124)mul(985,821)@%select()mul(487,459)&mul(319,344)*[*from()select()<+,mul(305,231);($where(112,479)~{;mul(232,514)~!'~from()[;[mul(401,476)<mul(485,814)#'mul(490,69)who()<@where()-/}$:-do():},when())> @$>mul(428,81)where()(&where()}do()when(338,441)^}$<<where()>)mul(587,14)%select(),%{!?}when(){mul(66,344)#how()[,from()who()! :(mul(690,739)}mul(502,75)} +where(368,348)from()'where()where()/&mul(550,732)\n",
      "[<$''what()why(610,674);mul(533,251)/mul(226,855);mul(295,649)]-what() {,(@mul(737,515)when(471,162)mul(751,898){%,>>{(when()when()select()mul(865,649)>$#from()mul(614,590:)how()*~where()-mul(874,991)how()<}:why(846,672);mul(828,195))mul(739,482) ;]/{(%who()mul(521,901))@!select()>why()mul(112,628)!]how()[%!'mul(851,646)$>when()mul(842,55)%$why()mul(164,534) where()::where()mul(145,6)]*when()+@#&(mul(459,695)when()<$}how()$[how(526,933)who(73,62)>mul(527,796)what()*;-!mul(183,596);mul(837,933)mul(693,684)!)]  select()[ !mul(379,67)select(){who(333,123)>mul(120,112)?how()@what()why()why(535,724)mul$,,mul(661,256)?why()*mul(894,631)^$from()#]/@mul(111,135)who()$who()how()how()when()$) mul(337,371)]~from()\n",
      "\n",
      "<:,&*mul(453,440)^/[mul(977,343)~[%from()mul(62,672)<$do()#%mul(971,495)}what()mul(98,733);how()!mul(815,13)when())##mul(12,514)!#*:^where()@?mul(704,581)+mul(656,388)mul(968,264)how()who(459,907)!!&;$mul(639,135)who();!mul(554,238)-*,%~<mul(549,330)select()who(214,680)>-'^mul(613,35)({*;)'mul(300,593)?} /why(366,710)\n",
      "\n",
      "!]why(30,513)/who(876,41)from(254,279)mulhow()from()from()where()&mul(8,16)mul(329,708)?{~#{+why()why()@mul(334,310)!*who()mul(213,492)]mul(172,234)[}$,<) mul(533,937)mul(729,811){mul(176,287)%/-&/$what()from()-mul(657,961)&(mul(978,585)~]#'$mul(815,133)why()##where()~~where(){;mul(330,156)where()who(896,631)from()*what())mul(995,394)~(from(),'',(mul(146,412)}@:'from()mul(74,137)(#who()who()>where()*mul(711who();mul(393,823)(;mul(728,574)>/$mul(164,411)<who()how(870,24))how()&}mul*% select()%/>]@mul(667,120)#:@)mul(241,857?who()where()^:select()mul(874,315)+who()why()?;@'+when()\n",
      "\n",
      "%]why()why()+why()]++mul(878,596)]mul(29,225)&,who()/where()who()who()what();mul(257,352)>'how()(-$,where(560,922)mul(169,577)!who(){what()select(){don't()#^mul(534,786)&&$mul(857,238)#@where()]mul(689,487))~[when()where()<?mul(222,741)!mul(385,811)*@-mul(767,740)%when()why()who()::#where()^mul(432,228)what()select():where()don't()how()<!;*when()}mul(672,806){<'(mul(841,126)how()mul(320,259)'}what()mul(268,877)from()}+)*'(>~mul(793,968)why()when()select()$,*mul(26,17)mul(20,863)$'$*#@how()#mul(696,339)select()-mul(28,879)why() /select()*mul(717,19)who(){']~]]#!/usr/bin/perlwhen()mul(367,171)\n",
      "%when(651,576)}{]%+]mul(603,277)<{where()&$-'%mul(35,478)mul(272,670where(535,775)from()>}where()mul(435,668)>-select()@~}mul(917,854:/why() <~'~when(355,462)mul(124,375)@^*(<*[ \n",
      "\n",
      "what()select()(when()]mul(557,586)when(79,896)-^-how()^mul(290,50)select()<how()%%$what()#~!mul(711,368)<;!\n",
      "\n",
      "<what()#mul(545,361)where()what()'*why()where(){who()+mul(338,61)+where()?;'mul(233,835)*when();})?)&from(){do()!)mul(345,942)^mul(27,903;mul(169,778)select()^{[{ + ~mul(41,863)who()mul(392,367)<$why()< ? mul(27,423)-%mul(939,220)where()?why()%mul(808,712)^^;mul(276,164)mul(142,793)#+/{from()'?}mul/!from()mul(97,673)+@what()where()@^where()}mul(828,37)+>({#{mul(560,950)-}'mul<what()-why()mul(202,967) }from()why()where()}mul(255,593)where():* ){mul^['what()!! ;who()where()mul(835,370)-{]/mul(116,69)mul(731,20)'when(),who()mul(656,120)^select()?from()mul(760,137)!}from(398,469)where():;)what()%mul(536,801)$how()why()?who()*^%@+mul(402,84)~#&mul(299,585)$]&*;mul(137,876)<%-{how()where()mul(139,249)%+*}mul(367,25)/who(){mul(392,209)>where(),! ~%who()what()-mul(250,270 mul(47,151)&''[\n",
      "\n",
      "mul(921,135)-]# {who()^<mul(75,976)}%~%):%:% mul(215,161){select())>;)#@/what()mul(825,859)& who()#)mul(491,748)}<,;mul(404,634)why()+select()*+'where()>:mul(681,804)why()mul(645,786)when()/what()&<;from()what();mul%[&+:$'mul(457,855)-when(840,583)why()mul(479,443)why()~mul!)!-}mul(29,976)-<!'/}>[+<mul(274,18)%])[%mul(893,678):,&select()when()mul(638,687)[+from()what()/{who()-> mul(23,723)'who()when()select()&>mul(976,72)@:[/;select()why()#>mul(47,803)($?^-%?%mul(145,548)!:?)+what()?select()where()mul(373,284)select()&)when(61,867)where()+>mul(910,263)'^!(<) (mul(99,989)\n",
      ",mul(134,916)from()why()?;mul(414,211)from()where()}~&[why()^!mulselect() mul(123,66)@/mul(652<when()%^%how(),}mul(318,994)-# %^*&)mul(282,948)\n",
      "\n",
      "<+:']why()%mul(478,188)>* @^ #mul(162,677)/who() )/@)how()from()mul(919,612)why()what()^};^why()$;why()mul(9,232) #how()mul(413,460)> mul(254,330)!>~;mul(16,657)<where();what();$mul(150,998){mul(290,179)!- mul(607,707)why()select()*;{);who(226,887)mul(795,112)mul(383,996)-^:what(697,317){what()@?@mul(352,290)%>[}*what()]'mul(402,455)(mul(159,801)how()!/()mul(890,162):why();how()mul(177[! ^-@<from()select()}mul(91,452)[how()? *who() mul(834why(226,342){{<$~>mul(412,292)/[{mul(834 ~from()!;when()mul(943,547)'+;$:from()mul(820,501)how()+~who(714,864)mulfrom() mul(331,67);-$'mul(168,191)[*;&~how()/[what()what()mul(384,321)what()>@how()when()[-@<mul(365,727)mul(349,706)'who()]&-mul(528,940)when()(<]select()@}*(why()mul(85,882)[{-select()/mul(273,409)~mul(964,434)who()what()!from()>+,mul(914,214)/~mul(708,958)do()@+mul(106,731)*(where()what()where()>,where()mul(60,776+mul(487,915)from()&{;'what()^*mul(319,884)(}who()mul(328))when()*@ +mul(754,857)where(),+from()<mul(651,362)?;[/}@}when()mul(399,158)&@how();;mul(964,753)!^why()}when()]!{how()mul(525,209)who()^mul(869,719)- <>~><>~mul(207,721){:#how()what()when()?<+mul(107,805)^$%}from(),[,$[mul(375,736)mul(73,81)-$where()$-<<:<mul(588,899)who()&mul(902,680);?[ <)mul(715,138) how() +;mul(875,81)],;$!?(select()mul(669,19);!*%},!why()~}mul(90,643)]mul(969,823)}$@when()&where()mulwhere()<&%>:mul(435,179)when()/,how()&,)@mul(899(what()why()/;why()}])!what()mul(855,799)~{@where()why())where()why()\n",
      "\n",
      "[-mul(252,327)mul(733,191)-why()+}when()$mul(575,854):--#?what()^,]>mul(710,364)<where(435,528);^ : how()mul(859,814)]+what()*) mul(173,667)?>:-'/mul(955,516)@who()+mul(765,740)when()@?+)!'\n",
      "\n",
      "when()&^(who()/mul(945,626)% who();;(^+what();mul+why()}((where()>(-mul(268,76)/select()~:where(941,686)mul(936,336)-@mul(958,345)who(){~mul(548,108)!mul(951,331)[#?from()(^:%mul(843,813)$how();why():^why()+mul(594,381)select()when()from();]select()&:mul(765,515) /what()why())#)select()[mul(4,236)]%;^what()$@*do()&>mul^}'#+~*&where(721,403)mul(430,162)mul(54,147)%)'}$^where()}mul(823,311)mul(882,70)mul(869,503)@who():)&what()mul(383,271)~mul(568,286why(365,711)why(387,388)!)what()from()mul(867,166)where(243,478))?how()-@>@mul(191,472)}@&}from();^}[mul(45,832)->/what(705,241)(>what()]mul(85,192)&&]#-$#mul(498,712)@)when(),]mul(521,682)/how()}-}mul(366when()+,when()/mul(697,179) %(mul(412,215)$mul(798)^*mul(85,476),'how()  +$;mul(423,624)where()mul(501from()@{who()-mul(457,671)~who()when()how(343,28)%where(675,997)*why()how(186,529)#mul(189,417),+[[@when()/mul(526,457))($+!*@mul(817,569))(- &%&/why()mul(909,493);mul(484,901);!$why()<^)~]do()'/mul(968,342)}*;mul(982,164)&>why()]>select()&[mul(364,498)mul(595,443) -who();{{?(~mul(33,531)who()who(455,309)*select()when()mul(367,411)who()what()?where()^mul(345,845)<@mul(376;who()[select()>*!how()do()#from())<(mul&from(128,233)how(){%when()mul(851,364)mul(494,714)\n",
      "%{<<%mul(268,805))&#mul(373,10)!%};%,when():mul(628,215)&}& mul(322:?>^<when()>*,,mul(355,828);mul(939,916);>,where()][>)};mul(925,115)]mul(161,40) @ mul(234,412)[%%mul(414,812) when()*mul(326,103)-[({;/#/^+mul(810,213)\n",
      "\n",
      "-<how()-[ mul(682,68)select(){#what(390,528)from()!&$mul*%;%why()}[mul(641,891)'[mul(604,200)* <?;@~-<mul(32,446)#select()mul(367,881)who()}-+!@/mul%%how()how()mul(484,441)'!*-,why()//mul(232,705)>>),&(}'mul(624,35)mul(770,961);why()/;//+*mul(460,933)>%%@from()mul(913,510)from()@from()how()#mul(336,262)select()!what()%/select(){*!{mul(324,598)mul(520,239)/select()@ how()how()mul(9,679)  &from()mul(132,603)where()mul(918,579)-why()'mul(379,960)^}#{/who(910,167)who(464,273)mul(225,34)where(){?#%why()[}mul(795,611)/mul(985,849)(mul(212,96)<;@from()mul(692,369)>mul(525,547)/who()-:<how()mul(715,343)when(488,771),'mul(303,170)where()>how()>:?%}}^mul(752,768)why()%mul(696,11) *)^/*!'mul(148,335)from()mul(485,796),,+>>'?do()+;select()?:mul(456,261)?!mul(43,918)~-)from(),}>)mul(960,664)' -{from()^,where()-what()mul(508,451)]+ {why()why()/%@/mul(176,657)select(488,126):'where()mul(247,928)/how()who():!mul(844,455)#<(&when()from()&*mul(898,677)from(){mul(766,841)mul(990,880)who()where()?;mul(487,623)from()why()[mul(163,74)select();$>select(190,549)do()<:+select(677,307)[(how()~]mul(328,574))#^)mul(767,737)mul(996,115);from()[from()mul(977,738))from()when()[mul(868,591)%what()mul(347,943)'-why()**#how()~mul(327,720)-;)-[#-~why()mul(71,877)-!select()/,'$'mul(741,845)[&^$when()}mul(686,640)&}why(323,972)'$[mul(352,2)&who()-+%$} mul(295,145)';]*when()$'<mul(777,684),where()]\n",
      "\n",
      "/^$what()how()mul(305,773)>mul(216,395)':mul(291,15)*@what()(^mul(56,367))~,>mul(233,290)?&;who(333,171)what(370,12)$ ?mul(306,488)<^where()($mul(627,462))]select()':mul(565,994)~>mul(626,380)]}who(){mul(590,221)mul(684,793) who()/{%@(from()@?mul(448,580)from(856,317)!]why()from()&>[?mul(971,484)~mul(417,679)mul(33,70)^what()mul(816,623);@mul(735,657)\n"
     ]
    }
   ],
   "source": [
    "# Looked right... hmm\n",
    "\n",
    "sanitized = re.split(r\"don't\\(\\).+?do\\(\\)\", input)\n",
    "\n",
    "print('\\n\\n'.join(sanitized))"
   ]
  },
  {
   "cell_type": "code",
   "execution_count": 14,
   "id": "ec8e5ac5-09c3-46fc-b475-c845b98b8d24",
   "metadata": {},
   "outputs": [
    {
     "name": "stdout",
     "output_type": "stream",
     "text": [
      ");>]mul(437,864)^mul(880,907)}<how(){+[!' where()mul(215,270)from())@#mul(737,510)@<'why()+mul(634,344)$>::mul(528,832);{~<mul(514,817)>~who()who()(how(84,130)where(){%{mul(270,137)@:mul(787,669)*]&^' @from()mul(896,940){where()when()]< -[mul(536,622)select()!{\n",
      "\n",
      "don't()-+^()!)}select()mul(287,737)&who()mul(452,401)from(763,594)$*when()select()&mul(804,971);}<~,(^%)[mul(148,448)mul(835,400)[}*$ #,do()\n",
      "\n",
      "?where(362,730)~why()#(;mul(448,254)'-/who() from():\n",
      "\n",
      "don't():what()'~(select()%mul(538,987): who()/#where()/what()where(587,42)select()mul(571,802)why()<]+}:#mul(446,206),/from()select()mul(271,435);#+^mul(8,739)-:~;<mul(361,969)+?^mul(238,723)<+<$<from()$$mul(93,726)}>?+~[#~mul(370,931)'}select()who()/when()from()%from()who()do()\n",
      "\n",
      "#mul(935,409)mul(356,457)]#mul(445,30)?&^'where()&%<&mul(568,491)when()/^@who()when()&~#)mul(327,654):from(){+?#what()<?;\n",
      "\n",
      "don't()when()<?from():why()^mul(69,349)~!why()-from()[> @!mul(136,811)mul(735,58)'from(242,599)don't()where(),&(mul(306,552)when()&^]do()\n",
      "\n",
      "/]>*,-(;why()mul(641,212)%\n",
      "\n",
      "don't(){mul(39,383);][[*mul(61,441),how()])why()~where()from()mul(688,328){~)(:&}!~#mul(230,832)*[!~ /'~don't()who()where()what()}mul(506,339)('<mul(9,362)$:@how()&&,-mul(776,717)]*)what()who()&&@how()>don't():[>&[#?)when()mul(573,558))-what()~why()how()where()~->mul(932,906)mul(938,661) ):who()do()\n",
      "\n",
      "from()*mul(926,267);/: };^select()mul(750,244)^*what()$what()who()~}from()do()){,'}mul(523,581)-%@>+>mul(94,990)!/who(571,986)/-/?mul(174,631)from()%+?>@<?#)mul(57,234)?}mul(943,865)'([why()what()from()@%%,mul(633,471) where(),select()mul(232,415)), when()<mul(126,82)what()who()what()mul(687,55){select()/what()mul(674,305)>+[^*who()mul(261,413)?-who()^]from()%do()$)~;mul(930,454)$[~;select()why()select()who():@mul(590,349)**%;mul(688,279)+from()^mul(86,495);mul(417,700)what()(/^: ;+<when()mul(383,608)where()!when()when()[-#}*mul(736,637)}'select()[&<select()where()-/mul(440,969)<,{mul(412,588)}{when()where()how(){?{}from()do()select()~&select()'?%>why()mul(312,134)'?<]^@]@!$mul(400,368)/mul(91,772)^mul(108,930)&-mul(370,824) /',why()mul(408,938)#?)^'what()mul(618,424)!mul(384,342)where(695,275)select(){};#select()mul(158,114)[from() ,)what(581,474)who()%]mul(727,849)@%~>]%mul(358,870)mul(918,280)]&mul(434,803)when()#&@@how()}]['mul(737,295)!!->where()<mul(971,370)what()^,when()mul(134,354)/@)(when()mul(995,35):?,#&what()#+~mul(85,68)(';?>mul(108,927)why()select()~mul(268,521)<<[where()-mul(473,558)#why()[how()(<who()mul(383,864)'@[from(),where(234,990)^)when()select(875,735)\n",
      "\n",
      "don't()-how();:(>select()mul(302,377)/#mul(658,882)]mul(400,990) }:%-!]mul(899,38){@mul(389,779)*#!~what()mul(684,353)~who()<]$<mul(909,339)mul(989,387@#:how()&?,*}mul(817,210)mul(270,752)?<select(),who() [,^where()mul(337,83)!when(4,150)from() +$[[when()mul(345,438)[{${$when()from()how(),mul(210,219):select();*#>/mul(69,288)from()who()>#mul(329,484)mul(652,755)from(93,321)^select()select()mul(446,336)~}]where()what()<?+who()mul(686,628);select()mul(270,937)mul(582,221)why()}how()mul(19,975){how()]when()who()where()$+when()do()\n",
      "\n",
      "mul(900,993)mul(613,135)#('who()!why(726,584)};mul(375,245):@>'-^'mul+*,)why()mul(487,896)]%}mul(807,261)@where()(from()-what()%*mulfrom() when()how()<~{~:mul(800,203)mul(921,126)'why()-mul(668,781)% (mul(900,757)^@&{mul(710,725)(?><select()!who()how()@mul(121,934)when()from()&mul(551,3)({{&select()mul(7,711)(]select()!!who()/mul(392,449)\n",
      ">']%<mul(428,73)(what()mul(64,592)why()mul(87,558)!who()/^select()mul[mul(824,660)'where()how()})mul(640,76){mul(775,707)])select()mul(100,878)&(where()]do()<mul(966,147)why()(]why()^(?what()\n",
      "\n",
      "don't())%&>)!;select()*-mul(538,368)]!,mul(570,271){ select(),mul(26,524):!mul(927,601)where()',$&,,mul(135,121)@why()-from() &&mul(166,196)from()mul(847,84)(who()from()why()from()mul(792,999)how()?when()mul(251,498)>(mul(441,614)%%what()%,where()mul(777,118)<&don't()};}from()where()^~@/mul(38,906)~mul(878,986)mul(488,713);what(){how()+]?mul(816,172)what()mul(859,756)how()mul(317,431)/what()(mul(413,319)[!#/(^]('mul@how()mul(369,678)<+[/!?how()when()mul(174{+$ mul(694,959)^how()&:<who()#mul(143,891)+from()@?what()@^}select()mul(361,245)'where()&mul(91,214)%what()]>?~%];)mul(219,426)[@%(where()]@@}mul(639,368)#!#,what()what()mul(703,822){what()where(388,21)~what()@ (mul(209,455))@'who()mul(895,762)+[select()$mul(473,702)who();)!+mul(583,550)>?mul(675,229)(+'[]mul(401,612)mul(410,253)+]>]who()/^from():where()mul(453,54)}(!mul(276,220)'>mul(940,324)mul(172,454)?:~who()mul(729,261){what(){*%where()~'when()]mul(199,694)(~(<@when()mul(515,554)'mul(234,657)@!)>)*~}why() mul(913,964)mul(149,132)/~mul(373,142)where()[mul(324,854)&how() +{&%,mul(872,613)*<why()[])?[do()\n",
      "\n",
      "mul(506,436)!@why()mul(308,28)?&who()+mul(130,254]when()!mul(57,512)$*~mul(874,349)when(){]mul(128,288)[who()}$]:!(mul(117,644)select(59,177)#+,how()from()% mul(701,276)from()@;(why()! -*}mul(784,997)who()where()$how()where()mul(883,710);when()mul(45,149)(where()/do()who()select()[why());,mul(296,703)? mul(881,162)'[why()*mul(293,304)*& mul(443,960)#who(757,994)&<(@#+);mul(739,318)&,when()[where()mul(281,625) why()/+]what()mul(88,646)%~~select()%who()<mul(885,753)::from()![when()mul(625,409)$mul(201,618)<who()#where()from()@/mul(290,974:;&>-:,+select()from()mul(942,583)select()<!,mul(876,685)why())mul(103,616)where(52,533)why()##mul(867,558)what()when())!mul(955,743)-%from(672,345) how()do()*:who()!><{what()mul(488,404)@mul(573,892)'(mulhow()when()'/mul(344,334)select()>#!}mul(868,909),$%mul(729,810)mul(630,215),{?how()where()*select()mul(229,873)%~from()*<% #^who()mul(248,481)why(541,729)select()]mul(639,438)~({ +]( }mul(563,361)^:$?;mul(148,895)!~how(677,192)select();mul(703,618)-how()from(),:,}#mul(383,639)#!mul(164,723)when()<select(960,127)from()$'{%~;mul(45,490))@mul(110/!#':; (]<mul(661,87) [what()?/mul(854,581)from()],$]@>>mul(619,575)-%$,;^mul(712,573)>/(-#;how(626,802)mul(604,893)mul(227,185)>,*what(259,152))!mul(805,458)]&)-,~why();mul{[ ,>who(634,559)@mul(242,122)mul(745,329)who()how()^)%/mul(256,115)- $}<mul(925,466what(757,32)select()+!;mul(958,717) &';;mul(616,882)mul(199,18)/?+]why()[*mul(23,351)(@(mul(615,742):-*)mul(590,124)mul(985,821)@%select()mul(487,459)&mul(319,344)*[*from()select()<+,mul(305,231);($where(112,479)~{;mul(232,514)~!'~from()[;[mul(401,476)<mul(485,814)#'mul(490,69)who()<@where()-/}$:-do():},when())> @$>mul(428,81)where()(&where()}do()when(338,441)^}$<<where()>)mul(587,14)%select(),%{!?}when(){mul(66,344)#how()[,from()who()! :(mul(690,739)}mul(502,75)} +where(368,348)from()'where()where()/&mul(550,732)\n",
      "[<$''what()why(610,674);mul(533,251)/mul(226,855);mul(295,649)]-what() {,(@mul(737,515)when(471,162)mul(751,898){%,>>{(when()when()select()mul(865,649)>$#from()mul(614,590:)how()*~where()-mul(874,991)how()<}:why(846,672);mul(828,195))mul(739,482) ;]/{(%who()mul(521,901))@!select()>why()mul(112,628)!]how()[%!'mul(851,646)$>when()mul(842,55)%$why()mul(164,534) where()::where()mul(145,6)]*when()+@#&(mul(459,695)when()<$}how()$[how(526,933)who(73,62)>mul(527,796)what()*;-!mul(183,596);mul(837,933)mul(693,684)!)]  select()[ !mul(379,67)select(){who(333,123)>mul(120,112)?how()@what()why()why(535,724)mul$,,mul(661,256)?why()*mul(894,631)^$from()#]/@mul(111,135)who()$who()how()how()when()$) mul(337,371)]~from()\n",
      "\n",
      "don't()select()-<^mul(706,999){#^$+~+;mul(667,389)+~%/>%mul(471,136)mul(409,563)}where(785,260)~who()mul- )<]mul(476,262):select()what()?&<'$when()(mul(567,673)&who()mul(802,520)){<!why()why()}>-$mul(155,808)$+mul(392,146)&when()[,mul(505,764)%mul(997,837)<'-&why()[#mul(14,131)where()*why()where()@@do()\n",
      "\n",
      "<:,&*mul(453,440)^/[mul(977,343)~[%from()mul(62,672)<$do()#%mul(971,495)}what()mul(98,733);how()!mul(815,13)when())##mul(12,514)!#*:^where()@?mul(704,581)+mul(656,388)mul(968,264)how()who(459,907)!!&;$mul(639,135)who();!mul(554,238)-*,%~<mul(549,330)select()who(214,680)>-'^mul(613,35)({*;)'mul(300,593)?} /why(366,710)\n",
      "\n",
      "don't()mul(541,734)why(770,959)?when()<who()([+mul(110,600)select()}why())mul(936,678)how()from()+:&select()~ mul(564,294)/where()who()@mul(583,664){%;;>+<mul(354,509)why():mul(112,317)*{)'}how() why()'!mul(307#how()who();!&who()][mul(765,150)mul(819,139)'select(820,327),where()+from() how()?'mul(364,188)who(408,929)+who()}select()'who()who()mul(995,874)}$~/>;'mul(887,973)who()mul(993,239)where()^when()^,[#:mul(325,621)where()-;<}!where(448,355)(mul(953,77)select()#{$*%mul(124,72)?'mul(19,453)when()(/why()where()%mul(363,709$:what()!>{}who()mul(795,307)??how()[mul(18,31&[%select() $where())!why()mul(287,498)>-?*&when()mul(74,814>~why()when(),$(mul(185,120)mul(32,831)'why()mul(608,689);~#,who() how()~!mul(876,744)'from():){do()\n",
      "\n",
      "!]why(30,513)/who(876,41)from(254,279)mulhow()from()from()where()&mul(8,16)mul(329,708)?{~#{+why()why()@mul(334,310)!*who()mul(213,492)]mul(172,234)[}$,<) mul(533,937)mul(729,811){mul(176,287)%/-&/$what()from()-mul(657,961)&(mul(978,585)~]#'$mul(815,133)why()##where()~~where(){;mul(330,156)where()who(896,631)from()*what())mul(995,394)~(from(),'',(mul(146,412)}@:'from()mul(74,137)(#who()who()>where()*mul(711who();mul(393,823)(;mul(728,574)>/$mul(164,411)<who()how(870,24))how()&}mul*% select()%/>]@mul(667,120)#:@)mul(241,857?who()where()^:select()mul(874,315)+who()why()?;@'+when()\n",
      "\n",
      "don't()^select()from()#where()]{how(478,532):what()mul(882,399how()!from()@when()*where()from()mul(121,283);%#{($mul(59,76)from()$/mul(284,919)><$?/>mul(171,491)~mul(327,128)<)#how()[,'#}$mul(85,766)!{^why()from()%mul(201,803^*do()\n",
      "\n",
      "%]why()why()+why()]++mul(878,596)]mul(29,225)&,who()/where()who()who()what();mul(257,352)>'how()(-$,where(560,922)mul(169,577)!who(){what()select(){don't()#^mul(534,786)&&$mul(857,238)#@where()]mul(689,487))~[when()where()<?mul(222,741)!mul(385,811)*@-mul(767,740)%when()why()who()::#where()^mul(432,228)what()select():where()don't()how()<!;*when()}mul(672,806){<'(mul(841,126)how()mul(320,259)'}what()mul(268,877)from()}+)*'(>~mul(793,968)why()when()select()$,*mul(26,17)mul(20,863)$'$*#@how()#mul(696,339)select()-mul(28,879)why() /select()*mul(717,19)who(){']~]]#!/usr/bin/perlwhen()mul(367,171)\n",
      "%when(651,576)}{]%+]mul(603,277)<{where()&$-'%mul(35,478)mul(272,670where(535,775)from()>}where()mul(435,668)>-select()@~}mul(917,854:/why() <~'~when(355,462)mul(124,375)@^*(<*[ \n",
      "\n",
      "don't()/who()/mul(945,697)where()mul(882,7){+mul(69,260)-how()<from()where(640,717)what()where()mul(83,864)mul(772,828)&<@:@mul(210,454)& (^~[%@mul(678,869)%how()~&+what()]/from()why()mul(672,452)#!who(355,256)<#what()(mul(152,659)?([@;select()where();do()\n",
      "\n",
      "what()select()(when()]mul(557,586)when(79,896)-^-how()^mul(290,50)select()<how()%%$what()#~!mul(711,368)<;!\n",
      "\n",
      "don't()+'mul@# select();[$where() ][mul(877,359)do()\n",
      "\n",
      "<what()#mul(545,361)where()what()'*why()where(){who()+mul(338,61)+where()?;'mul(233,835)*when();})?)&from(){do()!)mul(345,942)^mul(27,903;mul(169,778)select()^{[{ + ~mul(41,863)who()mul(392,367)<$why()< ? mul(27,423)-%mul(939,220)where()?why()%mul(808,712)^^;mul(276,164)mul(142,793)#+/{from()'?}mul/!from()mul(97,673)+@what()where()@^where()}mul(828,37)+>({#{mul(560,950)-}'mul<what()-why()mul(202,967) }from()why()where()}mul(255,593)where():* ){mul^['what()!! ;who()where()mul(835,370)-{]/mul(116,69)mul(731,20)'when(),who()mul(656,120)^select()?from()mul(760,137)!}from(398,469)where():;)what()%mul(536,801)$how()why()?who()*^%@+mul(402,84)~#&mul(299,585)$]&*;mul(137,876)<%-{how()where()mul(139,249)%+*}mul(367,25)/who(){mul(392,209)>where(),! ~%who()what()-mul(250,270 mul(47,151)&''[\n",
      "\n",
      "don't()]when(61,247)+%+-#when()mul(122,885))~:don't(),)[{mul(637,997)where()-mul(956,646)why()')#how()~mul(761,774)select():! ['mul(989,366)from()@how(941,580)]*':;[mul(963,704):mul@:$(why()^)mul(155,232):'what()!$%mul(300,251)(<@:<%how()^ +mul(375,864)mul(617,872),:;mul(175,906)what()@]@+{-why()+when(159,169)mul(711,500from()~[select()}when() &/>%mul(652,63)-!,!from()mul(519,182)'/-+$$where()mul(883,742)mul(454,250)$where()@mul(889,720)?>(mul(957,875)mul(675,759)from()/)(*>who(799,225)what()[mul(742,648)+{> >]{,>mul(391,737)mul(743,765)?[{where()&mul(759,385)from():]]:[,:$mul(305,875)!when();select()>what()#-#mul(483 [-mul(462,60)/$what()&}don't() !mul(238,876)what()~;@-!/$/mul(440,228)!<,^];$mul(668,60)+@when()/why()@mul(907,793)[from()-:mul(552,833) mul(921,276)from()mul(18,995)#{from()},what()>mul(71,909)#mul(166,313)^%what()^-* when()how()mul(26,404)mul(170,970)mul(917,165);mul(335,29)how()when(705,598)(+~~mul(614,118)&mul(281,780)how();&([#mul(27,176)]@%%!-)/~why()mul(813,915)select()&mul(895,899)#%~%mul(802,527)<'$where()how()what()^)why()(mul(962,93)-)%^why()how()mul(451,67)how()[)@[}where()#select()[mul(73,877),}*~~~mul(383,925)where()&where()how(197,895)#from()#$mul(813,528)[@who(),)-from()what()>from()mul(170,868)*from(995,971))~mul(835,419))mul(365,324)/mul(63,101)when()'~ %):how(){^mul(947,676)+@,where()where()~'?mul(635-/mul(612,440){'%(+}]]mul(775,628)&<mul(578,412)( do()\n",
      "\n",
      "mul(921,135)-]# {who()^<mul(75,976)}%~%):%:% mul(215,161){select())>;)#@/what()mul(825,859)& who()#)mul(491,748)}<,;mul(404,634)why()+select()*+'where()>:mul(681,804)why()mul(645,786)when()/what()&<;from()what();mul%[&+:$'mul(457,855)-when(840,583)why()mul(479,443)why()~mul!)!-}mul(29,976)-<!'/}>[+<mul(274,18)%])[%mul(893,678):,&select()when()mul(638,687)[+from()what()/{who()-> mul(23,723)'who()when()select()&>mul(976,72)@:[/;select()why()#>mul(47,803)($?^-%?%mul(145,548)!:?)+what()?select()where()mul(373,284)select()&)when(61,867)where()+>mul(910,263)'^!(<) (mul(99,989)\n",
      ",mul(134,916)from()why()?;mul(414,211)from()where()}~&[why()^!mulselect() mul(123,66)@/mul(652<when()%^%how(),}mul(318,994)-# %^*&)mul(282,948)\n",
      "\n",
      "don't()~^'>mul(791,484)~#mul<;&select()what()-do()\n",
      "\n",
      "<+:']why()%mul(478,188)>* @^ #mul(162,677)/who() )/@)how()from()mul(919,612)why()what()^};^why()$;why()mul(9,232) #how()mul(413,460)> mul(254,330)!>~;mul(16,657)<where();what();$mul(150,998){mul(290,179)!- mul(607,707)why()select()*;{);who(226,887)mul(795,112)mul(383,996)-^:what(697,317){what()@?@mul(352,290)%>[}*what()]'mul(402,455)(mul(159,801)how()!/()mul(890,162):why();how()mul(177[! ^-@<from()select()}mul(91,452)[how()? *who() mul(834why(226,342){{<$~>mul(412,292)/[{mul(834 ~from()!;when()mul(943,547)'+;$:from()mul(820,501)how()+~who(714,864)mulfrom() mul(331,67);-$'mul(168,191)[*;&~how()/[what()what()mul(384,321)what()>@how()when()[-@<mul(365,727)mul(349,706)'who()]&-mul(528,940)when()(<]select()@}*(why()mul(85,882)[{-select()/mul(273,409)~mul(964,434)who()what()!from()>+,mul(914,214)/~mul(708,958)do()@+mul(106,731)*(where()what()where()>,where()mul(60,776+mul(487,915)from()&{;'what()^*mul(319,884)(}who()mul(328))when()*@ +mul(754,857)where(),+from()<mul(651,362)?;[/}@}when()mul(399,158)&@how();;mul(964,753)!^why()}when()]!{how()mul(525,209)who()^mul(869,719)- <>~><>~mul(207,721){:#how()what()when()?<+mul(107,805)^$%}from(),[,$[mul(375,736)mul(73,81)-$where()$-<<:<mul(588,899)who()&mul(902,680);?[ <)mul(715,138) how() +;mul(875,81)],;$!?(select()mul(669,19);!*%},!why()~}mul(90,643)]mul(969,823)}$@when()&where()mulwhere()<&%>:mul(435,179)when()/,how()&,)@mul(899(what()why()/;why()}])!what()mul(855,799)~{@where()why())where()why()\n",
      "\n",
      "don't();!~,mul(801,421)mul(688,282)from()?when()where()/$~'when()mul(799,579)[mul(589,929)*why(),[[who()from()/mul(422,435){{~,-mul(811,256)}why()--mul(284,323)$;?;from()when()/@!,mul(411,499)mul(712,633)?(#select(699,176)where()]why()[who()do()\n",
      "\n",
      "[-mul(252,327)mul(733,191)-why()+}when()$mul(575,854):--#?what()^,]>mul(710,364)<where(435,528);^ : how()mul(859,814)]+what()*) mul(173,667)?>:-'/mul(955,516)@who()+mul(765,740)when()@?+)!'\n",
      "\n",
      "don't()[-<mul(365,369)^who()why(511,407)-mul(532,507))mul(424,846)~from()from(828,590)-*]mul(86'>when()~[/ when()?; mul(65,78)}]<how()%+?why())mul(573,533)mul(729,878)*mul(520,776)where()from()!from()<@do()\n",
      "\n",
      "when()&^(who()/mul(945,626)% who();;(^+what();mul+why()}((where()>(-mul(268,76)/select()~:where(941,686)mul(936,336)-@mul(958,345)who(){~mul(548,108)!mul(951,331)[#?from()(^:%mul(843,813)$how();why():^why()+mul(594,381)select()when()from();]select()&:mul(765,515) /what()why())#)select()[mul(4,236)]%;^what()$@*do()&>mul^}'#+~*&where(721,403)mul(430,162)mul(54,147)%)'}$^where()}mul(823,311)mul(882,70)mul(869,503)@who():)&what()mul(383,271)~mul(568,286why(365,711)why(387,388)!)what()from()mul(867,166)where(243,478))?how()-@>@mul(191,472)}@&}from();^}[mul(45,832)->/what(705,241)(>what()]mul(85,192)&&]#-$#mul(498,712)@)when(),]mul(521,682)/how()}-}mul(366when()+,when()/mul(697,179) %(mul(412,215)$mul(798)^*mul(85,476),'how()  +$;mul(423,624)where()mul(501from()@{who()-mul(457,671)~who()when()how(343,28)%where(675,997)*why()how(186,529)#mul(189,417),+[[@when()/mul(526,457))($+!*@mul(817,569))(- &%&/why()mul(909,493);mul(484,901);!$why()<^)~]do()'/mul(968,342)}*;mul(982,164)&>why()]>select()&[mul(364,498)mul(595,443) -who();{{?(~mul(33,531)who()who(455,309)*select()when()mul(367,411)who()what()?where()^mul(345,845)<@mul(376;who()[select()>*!how()do()#from())<(mul&from(128,233)how(){%when()mul(851,364)mul(494,714)\n",
      "%{<<%mul(268,805))&#mul(373,10)!%};%,when():mul(628,215)&}& mul(322:?>^<when()>*,,mul(355,828);mul(939,916);>,where()][>)};mul(925,115)]mul(161,40) @ mul(234,412)[%%mul(414,812) when()*mul(326,103)-[({;/#/^+mul(810,213)\n",
      "\n",
      "don't()- {>who(){mul(527,352)@&')*when()]who()%mul(736,73)from()[(}mul(917,960)+,-%mul(945,466)~why(398,607),mul(198,701){'-(when(),*:[mul(822what()}]:>who(685,960)?mul(866,969) *#~when()mul(624,619)?<';what()()<$mul(582,429),@mul(112,480)'!mul(113,204)what()>$~%,$'*mul(909,964)?who()why()how()$mul(181,265)'mul(227,282)*>:+from()[how()%mul(534,756)]from()/mul(782,594)when(976,63):&,where(101,159)@$why()how()mul(949,569)how()why()where()what()}&<[{mul(984,451);#how()what()~#mul(976,666)~'what()mul(879,268from()when()mul(952,795){where()-&,%/select()mul(892,249)mul(562,394)do()\n",
      "\n",
      "-<how()-[ mul(682,68)select(){#what(390,528)from()!&$mul*%;%why()}[mul(641,891)'[mul(604,200)* <?;@~-<mul(32,446)#select()mul(367,881)who()}-+!@/mul%%how()how()mul(484,441)'!*-,why()//mul(232,705)>>),&(}'mul(624,35)mul(770,961);why()/;//+*mul(460,933)>%%@from()mul(913,510)from()@from()how()#mul(336,262)select()!what()%/select(){*!{mul(324,598)mul(520,239)/select()@ how()how()mul(9,679)  &from()mul(132,603)where()mul(918,579)-why()'mul(379,960)^}#{/who(910,167)who(464,273)mul(225,34)where(){?#%why()[}mul(795,611)/mul(985,849)(mul(212,96)<;@from()mul(692,369)>mul(525,547)/who()-:<how()mul(715,343)when(488,771),'mul(303,170)where()>how()>:?%}}^mul(752,768)why()%mul(696,11) *)^/*!'mul(148,335)from()mul(485,796),,+>>'?do()+;select()?:mul(456,261)?!mul(43,918)~-)from(),}>)mul(960,664)' -{from()^,where()-what()mul(508,451)]+ {why()why()/%@/mul(176,657)select(488,126):'where()mul(247,928)/how()who():!mul(844,455)#<(&when()from()&*mul(898,677)from(){mul(766,841)mul(990,880)who()where()?;mul(487,623)from()why()[mul(163,74)select();$>select(190,549)do()<:+select(677,307)[(how()~]mul(328,574))#^)mul(767,737)mul(996,115);from()[from()mul(977,738))from()when()[mul(868,591)%what()mul(347,943)'-why()**#how()~mul(327,720)-;)-[#-~why()mul(71,877)-!select()/,'$'mul(741,845)[&^$when()}mul(686,640)&}why(323,972)'$[mul(352,2)&who()-+%$} mul(295,145)';]*when()$'<mul(777,684),where()]\n",
      "\n",
      "don't();what()%$?-+]/#mul(981,496)mul(402,419)what()*^what()mul(165,139)from()who()where(),how()select()from()%mul(376,689) mul(389,696)where()what(949,275)how()~who(600,641)'from()!#mul(436,525)~/[%-}^mul(489,872)select()mul(82,53)*select(70,72)*what()what()]:{from()%mul(433,905);+-mul(191,114);[from()mul(401,992)?'mul(257,949)**'/~why()*!mul(902,617)where()@]>}-mul(61,125)#mul(446,48)@~{*[*$when()who()who()mul(300,206)&+!where()mul(938,463)when()!&%where() &*;*mul(772,27)]&;how()!]how()do()\n",
      "\n",
      "/^$what()how()mul(305,773)>mul(216,395)':mul(291,15)*@what()(^mul(56,367))~,>mul(233,290)?&;who(333,171)what(370,12)$ ?mul(306,488)<^where()($mul(627,462))]select()':mul(565,994)~>mul(626,380)]}who(){mul(590,221)mul(684,793) who()/{%@(from()@?mul(448,580)from(856,317)!]why()from()&>[?mul(971,484)~mul(417,679)mul(33,70)^what()mul(816,623);@mul(735,657)\n"
     ]
    }
   ],
   "source": [
    "# Still passes spot check. Let's add a capture group to see more detail\n",
    "\n",
    "sanitized = re.split(r\"(don't\\(\\).+?do\\(\\))\", input)\n",
    "\n",
    "print('\\n\\n'.join(sanitized))"
   ]
  },
  {
   "cell_type": "code",
   "execution_count": 15,
   "id": "353483eb-876a-4fe6-9421-81f151004461",
   "metadata": {
    "scrolled": true
   },
   "outputs": [
    {
     "name": "stdout",
     "output_type": "stream",
     "text": [
      ");&gt;]mul(437,864)^mul(880,907)}&lt;how(){+[!&#x27; where()mul(215,270)from())@#mul(737,510)@&lt;&#x27;why()+mul(634,344)$&gt;::mul(528,832);{~&lt;mul(514,817)&gt;~who()who()(how(84,130)where(){%{mul(270,137)@:mul(787,669)*]&amp;^&#x27; @from()mul(896,940){where()when()]&lt; -[mul(536,622)select()!{\n",
      "\n",
      "<s>don&#x27;t()-+^()!)}select()mul(287,737)&amp;who()mul(452,401)from(763,594)$*when()select()&amp;mul(804,971);}&lt;~,(^%)[mul(148,448)mul(835,400)[}*$ #,do()</s>\n",
      "\n",
      "?where(362,730)~why()#(;mul(448,254)&#x27;-/who() from():\n",
      "\n",
      "<s>don&#x27;t():what()&#x27;~(select()%mul(538,987): who()/#where()/what()where(587,42)select()mul(571,802)why()&lt;]+}:#mul(446,206),/from()select()mul(271,435);#+^mul(8,739)-:~;&lt;mul(361,969)+?^mul(238,723)&lt;+&lt;$&lt;from()$$mul(93,726)}&gt;?+~[#~mul(370,931)&#x27;}select()who()/when()from()%from()who()do()</s>\n",
      "\n",
      "#mul(935,409)mul(356,457)]#mul(445,30)?&amp;^&#x27;where()&amp;%&lt;&amp;mul(568,491)when()/^@who()when()&amp;~#)mul(327,654):from(){+?#what()&lt;?;\n",
      "\n",
      "<s>don&#x27;t()when()&lt;?from():why()^mul(69,349)~!why()-from()[&gt; @!mul(136,811)mul(735,58)&#x27;from(242,599)don&#x27;t()where(),&amp;(mul(306,552)when()&amp;^]do()</s>\n",
      "\n",
      "/]&gt;*,-(;why()mul(641,212)%\n",
      "\n",
      "<s>don&#x27;t(){mul(39,383);][[*mul(61,441),how()])why()~where()from()mul(688,328){~)(:&amp;}!~#mul(230,832)*[!~ /&#x27;~don&#x27;t()who()where()what()}mul(506,339)(&#x27;&lt;mul(9,362)$:@how()&amp;&amp;,-mul(776,717)]*)what()who()&amp;&amp;@how()&gt;don&#x27;t():[&gt;&amp;[#?)when()mul(573,558))-what()~why()how()where()~-&gt;mul(932,906)mul(938,661) ):who()do()</s>\n",
      "\n",
      "from()*mul(926,267);/: };^select()mul(750,244)^*what()$what()who()~}from()do()){,&#x27;}mul(523,581)-%@&gt;+&gt;mul(94,990)!/who(571,986)/-/?mul(174,631)from()%+?&gt;@&lt;?#)mul(57,234)?}mul(943,865)&#x27;([why()what()from()@%%,mul(633,471) where(),select()mul(232,415)), when()&lt;mul(126,82)what()who()what()mul(687,55){select()/what()mul(674,305)&gt;+[^*who()mul(261,413)?-who()^]from()%do()$)~;mul(930,454)$[~;select()why()select()who():@mul(590,349)**%;mul(688,279)+from()^mul(86,495);mul(417,700)what()(/^: ;+&lt;when()mul(383,608)where()!when()when()[-#}*mul(736,637)}&#x27;select()[&amp;&lt;select()where()-/mul(440,969)&lt;,{mul(412,588)}{when()where()how(){?{}from()do()select()~&amp;select()&#x27;?%&gt;why()mul(312,134)&#x27;?&lt;]^@]@!$mul(400,368)/mul(91,772)^mul(108,930)&amp;-mul(370,824) /&#x27;,why()mul(408,938)#?)^&#x27;what()mul(618,424)!mul(384,342)where(695,275)select(){};#select()mul(158,114)[from() ,)what(581,474)who()%]mul(727,849)@%~&gt;]%mul(358,870)mul(918,280)]&amp;mul(434,803)when()#&amp;@@how()}][&#x27;mul(737,295)!!-&gt;where()&lt;mul(971,370)what()^,when()mul(134,354)/@)(when()mul(995,35):?,#&amp;what()#+~mul(85,68)(&#x27;;?&gt;mul(108,927)why()select()~mul(268,521)&lt;&lt;[where()-mul(473,558)#why()[how()(&lt;who()mul(383,864)&#x27;@[from(),where(234,990)^)when()select(875,735)\n",
      "\n",
      "<s>don&#x27;t()-how();:(&gt;select()mul(302,377)/#mul(658,882)]mul(400,990) }:%-!]mul(899,38){@mul(389,779)*#!~what()mul(684,353)~who()&lt;]$&lt;mul(909,339)mul(989,387@#:how()&amp;?,*}mul(817,210)mul(270,752)?&lt;select(),who() [,^where()mul(337,83)!when(4,150)from() +$[[when()mul(345,438)[{${$when()from()how(),mul(210,219):select();*#&gt;/mul(69,288)from()who()&gt;#mul(329,484)mul(652,755)from(93,321)^select()select()mul(446,336)~}]where()what()&lt;?+who()mul(686,628);select()mul(270,937)mul(582,221)why()}how()mul(19,975){how()]when()who()where()$+when()do()</s>\n",
      "\n",
      "mul(900,993)mul(613,135)#(&#x27;who()!why(726,584)};mul(375,245):@&gt;&#x27;-^&#x27;mul+*,)why()mul(487,896)]%}mul(807,261)@where()(from()-what()%*mulfrom() when()how()&lt;~{~:mul(800,203)mul(921,126)&#x27;why()-mul(668,781)% (mul(900,757)^@&amp;{mul(710,725)(?&gt;&lt;select()!who()how()@mul(121,934)when()from()&amp;mul(551,3)({{&amp;select()mul(7,711)(]select()!!who()/mul(392,449)\n",
      "&gt;&#x27;]%&lt;mul(428,73)(what()mul(64,592)why()mul(87,558)!who()/^select()mul[mul(824,660)&#x27;where()how()})mul(640,76){mul(775,707)])select()mul(100,878)&amp;(where()]do()&lt;mul(966,147)why()(]why()^(?what()\n",
      "\n",
      "<s>don&#x27;t())%&amp;&gt;)!;select()*-mul(538,368)]!,mul(570,271){ select(),mul(26,524):!mul(927,601)where()&#x27;,$&amp;,,mul(135,121)@why()-from() &amp;&amp;mul(166,196)from()mul(847,84)(who()from()why()from()mul(792,999)how()?when()mul(251,498)&gt;(mul(441,614)%%what()%,where()mul(777,118)&lt;&amp;don&#x27;t()};}from()where()^~@/mul(38,906)~mul(878,986)mul(488,713);what(){how()+]?mul(816,172)what()mul(859,756)how()mul(317,431)/what()(mul(413,319)[!#/(^](&#x27;mul@how()mul(369,678)&lt;+[/!?how()when()mul(174{+$ mul(694,959)^how()&amp;:&lt;who()#mul(143,891)+from()@?what()@^}select()mul(361,245)&#x27;where()&amp;mul(91,214)%what()]&gt;?~%];)mul(219,426)[@%(where()]@@}mul(639,368)#!#,what()what()mul(703,822){what()where(388,21)~what()@ (mul(209,455))@&#x27;who()mul(895,762)+[select()$mul(473,702)who();)!+mul(583,550)&gt;?mul(675,229)(+&#x27;[]mul(401,612)mul(410,253)+]&gt;]who()/^from():where()mul(453,54)}(!mul(276,220)&#x27;&gt;mul(940,324)mul(172,454)?:~who()mul(729,261){what(){*%where()~&#x27;when()]mul(199,694)(~(&lt;@when()mul(515,554)&#x27;mul(234,657)@!)&gt;)*~}why() mul(913,964)mul(149,132)/~mul(373,142)where()[mul(324,854)&amp;how() +{&amp;%,mul(872,613)*&lt;why()[])?[do()</s>\n",
      "\n",
      "mul(506,436)!@why()mul(308,28)?&amp;who()+mul(130,254]when()!mul(57,512)$*~mul(874,349)when(){]mul(128,288)[who()}$]:!(mul(117,644)select(59,177)#+,how()from()% mul(701,276)from()@;(why()! -*}mul(784,997)who()where()$how()where()mul(883,710);when()mul(45,149)(where()/do()who()select()[why());,mul(296,703)? mul(881,162)&#x27;[why()*mul(293,304)*&amp; mul(443,960)#who(757,994)&amp;&lt;(@#+);mul(739,318)&amp;,when()[where()mul(281,625) why()/+]what()mul(88,646)%~~select()%who()&lt;mul(885,753)::from()![when()mul(625,409)$mul(201,618)&lt;who()#where()from()@/mul(290,974:;&amp;&gt;-:,+select()from()mul(942,583)select()&lt;!,mul(876,685)why())mul(103,616)where(52,533)why()##mul(867,558)what()when())!mul(955,743)-%from(672,345) how()do()*:who()!&gt;&lt;{what()mul(488,404)@mul(573,892)&#x27;(mulhow()when()&#x27;/mul(344,334)select()&gt;#!}mul(868,909),$%mul(729,810)mul(630,215),{?how()where()*select()mul(229,873)%~from()*&lt;% #^who()mul(248,481)why(541,729)select()]mul(639,438)~({ +]( }mul(563,361)^:$?;mul(148,895)!~how(677,192)select();mul(703,618)-how()from(),:,}#mul(383,639)#!mul(164,723)when()&lt;select(960,127)from()$&#x27;{%~;mul(45,490))@mul(110/!#&#x27;:; (]&lt;mul(661,87) [what()?/mul(854,581)from()],$]@&gt;&gt;mul(619,575)-%$,;^mul(712,573)&gt;/(-#;how(626,802)mul(604,893)mul(227,185)&gt;,*what(259,152))!mul(805,458)]&amp;)-,~why();mul{[ ,&gt;who(634,559)@mul(242,122)mul(745,329)who()how()^)%/mul(256,115)- $}&lt;mul(925,466what(757,32)select()+!;mul(958,717) &amp;&#x27;;;mul(616,882)mul(199,18)/?+]why()[*mul(23,351)(@(mul(615,742):-*)mul(590,124)mul(985,821)@%select()mul(487,459)&amp;mul(319,344)*[*from()select()&lt;+,mul(305,231);($where(112,479)~{;mul(232,514)~!&#x27;~from()[;[mul(401,476)&lt;mul(485,814)#&#x27;mul(490,69)who()&lt;@where()-/}$:-do():},when())&gt; @$&gt;mul(428,81)where()(&amp;where()}do()when(338,441)^}$&lt;&lt;where()&gt;)mul(587,14)%select(),%{!?}when(){mul(66,344)#how()[,from()who()! :(mul(690,739)}mul(502,75)} +where(368,348)from()&#x27;where()where()/&amp;mul(550,732)\n",
      "[&lt;$&#x27;&#x27;what()why(610,674);mul(533,251)/mul(226,855);mul(295,649)]-what() {,(@mul(737,515)when(471,162)mul(751,898){%,&gt;&gt;{(when()when()select()mul(865,649)&gt;$#from()mul(614,590:)how()*~where()-mul(874,991)how()&lt;}:why(846,672);mul(828,195))mul(739,482) ;]/{(%who()mul(521,901))@!select()&gt;why()mul(112,628)!]how()[%!&#x27;mul(851,646)$&gt;when()mul(842,55)%$why()mul(164,534) where()::where()mul(145,6)]*when()+@#&amp;(mul(459,695)when()&lt;$}how()$[how(526,933)who(73,62)&gt;mul(527,796)what()*;-!mul(183,596);mul(837,933)mul(693,684)!)]  select()[ !mul(379,67)select(){who(333,123)&gt;mul(120,112)?how()@what()why()why(535,724)mul$,,mul(661,256)?why()*mul(894,631)^$from()#]/@mul(111,135)who()$who()how()how()when()$) mul(337,371)]~from()\n",
      "\n",
      "<s>don&#x27;t()select()-&lt;^mul(706,999){#^$+~+;mul(667,389)+~%/&gt;%mul(471,136)mul(409,563)}where(785,260)~who()mul- )&lt;]mul(476,262):select()what()?&amp;&lt;&#x27;$when()(mul(567,673)&amp;who()mul(802,520)){&lt;!why()why()}&gt;-$mul(155,808)$+mul(392,146)&amp;when()[,mul(505,764)%mul(997,837)&lt;&#x27;-&amp;why()[#mul(14,131)where()*why()where()@@do()</s>\n",
      "\n",
      "&lt;:,&amp;*mul(453,440)^/[mul(977,343)~[%from()mul(62,672)&lt;$do()#%mul(971,495)}what()mul(98,733);how()!mul(815,13)when())##mul(12,514)!#*:^where()@?mul(704,581)+mul(656,388)mul(968,264)how()who(459,907)!!&amp;;$mul(639,135)who();!mul(554,238)-*,%~&lt;mul(549,330)select()who(214,680)&gt;-&#x27;^mul(613,35)({*;)&#x27;mul(300,593)?} /why(366,710)\n",
      "\n",
      "<s>don&#x27;t()mul(541,734)why(770,959)?when()&lt;who()([+mul(110,600)select()}why())mul(936,678)how()from()+:&amp;select()~ mul(564,294)/where()who()@mul(583,664){%;;&gt;+&lt;mul(354,509)why():mul(112,317)*{)&#x27;}how() why()&#x27;!mul(307#how()who();!&amp;who()][mul(765,150)mul(819,139)&#x27;select(820,327),where()+from() how()?&#x27;mul(364,188)who(408,929)+who()}select()&#x27;who()who()mul(995,874)}$~/&gt;;&#x27;mul(887,973)who()mul(993,239)where()^when()^,[#:mul(325,621)where()-;&lt;}!where(448,355)(mul(953,77)select()#{$*%mul(124,72)?&#x27;mul(19,453)when()(/why()where()%mul(363,709$:what()!&gt;{}who()mul(795,307)??how()[mul(18,31&amp;[%select() $where())!why()mul(287,498)&gt;-?*&amp;when()mul(74,814&gt;~why()when(),$(mul(185,120)mul(32,831)&#x27;why()mul(608,689);~#,who() how()~!mul(876,744)&#x27;from():){do()</s>\n",
      "\n",
      "!]why(30,513)/who(876,41)from(254,279)mulhow()from()from()where()&amp;mul(8,16)mul(329,708)?{~#{+why()why()@mul(334,310)!*who()mul(213,492)]mul(172,234)[}$,&lt;) mul(533,937)mul(729,811){mul(176,287)%/-&amp;/$what()from()-mul(657,961)&amp;(mul(978,585)~]#&#x27;$mul(815,133)why()##where()~~where(){;mul(330,156)where()who(896,631)from()*what())mul(995,394)~(from(),&#x27;&#x27;,(mul(146,412)}@:&#x27;from()mul(74,137)(#who()who()&gt;where()*mul(711who();mul(393,823)(;mul(728,574)&gt;/$mul(164,411)&lt;who()how(870,24))how()&amp;}mul*% select()%/&gt;]@mul(667,120)#:@)mul(241,857?who()where()^:select()mul(874,315)+who()why()?;@&#x27;+when()\n",
      "\n",
      "<s>don&#x27;t()^select()from()#where()]{how(478,532):what()mul(882,399how()!from()@when()*where()from()mul(121,283);%#{($mul(59,76)from()$/mul(284,919)&gt;&lt;$?/&gt;mul(171,491)~mul(327,128)&lt;)#how()[,&#x27;#}$mul(85,766)!{^why()from()%mul(201,803^*do()</s>\n",
      "\n",
      "%]why()why()+why()]++mul(878,596)]mul(29,225)&amp;,who()/where()who()who()what();mul(257,352)&gt;&#x27;how()(-$,where(560,922)mul(169,577)!who(){what()select(){don&#x27;t()#^mul(534,786)&amp;&amp;$mul(857,238)#@where()]mul(689,487))~[when()where()&lt;?mul(222,741)!mul(385,811)*@-mul(767,740)%when()why()who()::#where()^mul(432,228)what()select():where()don&#x27;t()how()&lt;!;*when()}mul(672,806){&lt;&#x27;(mul(841,126)how()mul(320,259)&#x27;}what()mul(268,877)from()}+)*&#x27;(&gt;~mul(793,968)why()when()select()$,*mul(26,17)mul(20,863)$&#x27;$*#@how()#mul(696,339)select()-mul(28,879)why() /select()*mul(717,19)who(){&#x27;]~]]#!/usr/bin/perlwhen()mul(367,171)\n",
      "%when(651,576)}{]%+]mul(603,277)&lt;{where()&amp;$-&#x27;%mul(35,478)mul(272,670where(535,775)from()&gt;}where()mul(435,668)&gt;-select()@~}mul(917,854:/why() &lt;~&#x27;~when(355,462)mul(124,375)@^*(&lt;*[ \n",
      "\n",
      "<s>don&#x27;t()/who()/mul(945,697)where()mul(882,7){+mul(69,260)-how()&lt;from()where(640,717)what()where()mul(83,864)mul(772,828)&amp;&lt;@:@mul(210,454)&amp; (^~[%@mul(678,869)%how()~&amp;+what()]/from()why()mul(672,452)#!who(355,256)&lt;#what()(mul(152,659)?([@;select()where();do()</s>\n",
      "\n",
      "what()select()(when()]mul(557,586)when(79,896)-^-how()^mul(290,50)select()&lt;how()%%$what()#~!mul(711,368)&lt;;!\n",
      "\n",
      "<s>don&#x27;t()+&#x27;mul@# select();[$where() ][mul(877,359)do()</s>\n",
      "\n",
      "&lt;what()#mul(545,361)where()what()&#x27;*why()where(){who()+mul(338,61)+where()?;&#x27;mul(233,835)*when();})?)&amp;from(){do()!)mul(345,942)^mul(27,903;mul(169,778)select()^{[{ + ~mul(41,863)who()mul(392,367)&lt;$why()&lt; ? mul(27,423)-%mul(939,220)where()?why()%mul(808,712)^^;mul(276,164)mul(142,793)#+/{from()&#x27;?}mul/!from()mul(97,673)+@what()where()@^where()}mul(828,37)+&gt;({#{mul(560,950)-}&#x27;mul&lt;what()-why()mul(202,967) }from()why()where()}mul(255,593)where():* ){mul^[&#x27;what()!! ;who()where()mul(835,370)-{]/mul(116,69)mul(731,20)&#x27;when(),who()mul(656,120)^select()?from()mul(760,137)!}from(398,469)where():;)what()%mul(536,801)$how()why()?who()*^%@+mul(402,84)~#&amp;mul(299,585)$]&amp;*;mul(137,876)&lt;%-{how()where()mul(139,249)%+*}mul(367,25)/who(){mul(392,209)&gt;where(),! ~%who()what()-mul(250,270 mul(47,151)&amp;&#x27;&#x27;[\n",
      "\n",
      "<s>don&#x27;t()]when(61,247)+%+-#when()mul(122,885))~:don&#x27;t(),)[{mul(637,997)where()-mul(956,646)why()&#x27;)#how()~mul(761,774)select():! [&#x27;mul(989,366)from()@how(941,580)]*&#x27;:;[mul(963,704):mul@:$(why()^)mul(155,232):&#x27;what()!$%mul(300,251)(&lt;@:&lt;%how()^ +mul(375,864)mul(617,872),:;mul(175,906)what()@]@+{-why()+when(159,169)mul(711,500from()~[select()}when() &amp;/&gt;%mul(652,63)-!,!from()mul(519,182)&#x27;/-+$$where()mul(883,742)mul(454,250)$where()@mul(889,720)?&gt;(mul(957,875)mul(675,759)from()/)(*&gt;who(799,225)what()[mul(742,648)+{&gt; &gt;]{,&gt;mul(391,737)mul(743,765)?[{where()&amp;mul(759,385)from():]]:[,:$mul(305,875)!when();select()&gt;what()#-#mul(483 [-mul(462,60)/$what()&amp;}don&#x27;t() !mul(238,876)what()~;@-!/$/mul(440,228)!&lt;,^];$mul(668,60)+@when()/why()@mul(907,793)[from()-:mul(552,833) mul(921,276)from()mul(18,995)#{from()},what()&gt;mul(71,909)#mul(166,313)^%what()^-* when()how()mul(26,404)mul(170,970)mul(917,165);mul(335,29)how()when(705,598)(+~~mul(614,118)&amp;mul(281,780)how();&amp;([#mul(27,176)]@%%!-)/~why()mul(813,915)select()&amp;mul(895,899)#%~%mul(802,527)&lt;&#x27;$where()how()what()^)why()(mul(962,93)-)%^why()how()mul(451,67)how()[)@[}where()#select()[mul(73,877),}*~~~mul(383,925)where()&amp;where()how(197,895)#from()#$mul(813,528)[@who(),)-from()what()&gt;from()mul(170,868)*from(995,971))~mul(835,419))mul(365,324)/mul(63,101)when()&#x27;~ %):how(){^mul(947,676)+@,where()where()~&#x27;?mul(635-/mul(612,440){&#x27;%(+}]]mul(775,628)&amp;&lt;mul(578,412)( do()</s>\n",
      "\n",
      "mul(921,135)-]# {who()^&lt;mul(75,976)}%~%):%:% mul(215,161){select())&gt;;)#@/what()mul(825,859)&amp; who()#)mul(491,748)}&lt;,;mul(404,634)why()+select()*+&#x27;where()&gt;:mul(681,804)why()mul(645,786)when()/what()&amp;&lt;;from()what();mul%[&amp;+:$&#x27;mul(457,855)-when(840,583)why()mul(479,443)why()~mul!)!-}mul(29,976)-&lt;!&#x27;/}&gt;[+&lt;mul(274,18)%])[%mul(893,678):,&amp;select()when()mul(638,687)[+from()what()/{who()-&gt; mul(23,723)&#x27;who()when()select()&amp;&gt;mul(976,72)@:[/;select()why()#&gt;mul(47,803)($?^-%?%mul(145,548)!:?)+what()?select()where()mul(373,284)select()&amp;)when(61,867)where()+&gt;mul(910,263)&#x27;^!(&lt;) (mul(99,989)\n",
      ",mul(134,916)from()why()?;mul(414,211)from()where()}~&amp;[why()^!mulselect() mul(123,66)@/mul(652&lt;when()%^%how(),}mul(318,994)-# %^*&amp;)mul(282,948)\n",
      "\n",
      "<s>don&#x27;t()~^&#x27;&gt;mul(791,484)~#mul&lt;;&amp;select()what()-do()</s>\n",
      "\n",
      "&lt;+:&#x27;]why()%mul(478,188)&gt;* @^ #mul(162,677)/who() )/@)how()from()mul(919,612)why()what()^};^why()$;why()mul(9,232) #how()mul(413,460)&gt; mul(254,330)!&gt;~;mul(16,657)&lt;where();what();$mul(150,998){mul(290,179)!- mul(607,707)why()select()*;{);who(226,887)mul(795,112)mul(383,996)-^:what(697,317){what()@?@mul(352,290)%&gt;[}*what()]&#x27;mul(402,455)(mul(159,801)how()!/()mul(890,162):why();how()mul(177[! ^-@&lt;from()select()}mul(91,452)[how()? *who() mul(834why(226,342){{&lt;$~&gt;mul(412,292)/[{mul(834 ~from()!;when()mul(943,547)&#x27;+;$:from()mul(820,501)how()+~who(714,864)mulfrom() mul(331,67);-$&#x27;mul(168,191)[*;&amp;~how()/[what()what()mul(384,321)what()&gt;@how()when()[-@&lt;mul(365,727)mul(349,706)&#x27;who()]&amp;-mul(528,940)when()(&lt;]select()@}*(why()mul(85,882)[{-select()/mul(273,409)~mul(964,434)who()what()!from()&gt;+,mul(914,214)/~mul(708,958)do()@+mul(106,731)*(where()what()where()&gt;,where()mul(60,776+mul(487,915)from()&amp;{;&#x27;what()^*mul(319,884)(}who()mul(328))when()*@ +mul(754,857)where(),+from()&lt;mul(651,362)?;[/}@}when()mul(399,158)&amp;@how();;mul(964,753)!^why()}when()]!{how()mul(525,209)who()^mul(869,719)- &lt;&gt;~&gt;&lt;&gt;~mul(207,721){:#how()what()when()?&lt;+mul(107,805)^$%}from(),[,$[mul(375,736)mul(73,81)-$where()$-&lt;&lt;:&lt;mul(588,899)who()&amp;mul(902,680);?[ &lt;)mul(715,138) how() +;mul(875,81)],;$!?(select()mul(669,19);!*%},!why()~}mul(90,643)]mul(969,823)}$@when()&amp;where()mulwhere()&lt;&amp;%&gt;:mul(435,179)when()/,how()&amp;,)@mul(899(what()why()/;why()}])!what()mul(855,799)~{@where()why())where()why()\n",
      "\n",
      "<s>don&#x27;t();!~,mul(801,421)mul(688,282)from()?when()where()/$~&#x27;when()mul(799,579)[mul(589,929)*why(),[[who()from()/mul(422,435){{~,-mul(811,256)}why()--mul(284,323)$;?;from()when()/@!,mul(411,499)mul(712,633)?(#select(699,176)where()]why()[who()do()</s>\n",
      "\n",
      "[-mul(252,327)mul(733,191)-why()+}when()$mul(575,854):--#?what()^,]&gt;mul(710,364)&lt;where(435,528);^ : how()mul(859,814)]+what()*) mul(173,667)?&gt;:-&#x27;/mul(955,516)@who()+mul(765,740)when()@?+)!&#x27;\n",
      "\n",
      "<s>don&#x27;t()[-&lt;mul(365,369)^who()why(511,407)-mul(532,507))mul(424,846)~from()from(828,590)-*]mul(86&#x27;&gt;when()~[/ when()?; mul(65,78)}]&lt;how()%+?why())mul(573,533)mul(729,878)*mul(520,776)where()from()!from()&lt;@do()</s>\n",
      "\n",
      "when()&amp;^(who()/mul(945,626)% who();;(^+what();mul+why()}((where()&gt;(-mul(268,76)/select()~:where(941,686)mul(936,336)-@mul(958,345)who(){~mul(548,108)!mul(951,331)[#?from()(^:%mul(843,813)$how();why():^why()+mul(594,381)select()when()from();]select()&amp;:mul(765,515) /what()why())#)select()[mul(4,236)]%;^what()$@*do()&amp;&gt;mul^}&#x27;#+~*&amp;where(721,403)mul(430,162)mul(54,147)%)&#x27;}$^where()}mul(823,311)mul(882,70)mul(869,503)@who():)&amp;what()mul(383,271)~mul(568,286why(365,711)why(387,388)!)what()from()mul(867,166)where(243,478))?how()-@&gt;@mul(191,472)}@&amp;}from();^}[mul(45,832)-&gt;/what(705,241)(&gt;what()]mul(85,192)&amp;&amp;]#-$#mul(498,712)@)when(),]mul(521,682)/how()}-}mul(366when()+,when()/mul(697,179) %(mul(412,215)$mul(798)^*mul(85,476),&#x27;how()  +$;mul(423,624)where()mul(501from()@{who()-mul(457,671)~who()when()how(343,28)%where(675,997)*why()how(186,529)#mul(189,417),+[[@when()/mul(526,457))($+!*@mul(817,569))(- &amp;%&amp;/why()mul(909,493);mul(484,901);!$why()&lt;^)~]do()&#x27;/mul(968,342)}*;mul(982,164)&amp;&gt;why()]&gt;select()&amp;[mul(364,498)mul(595,443) -who();{{?(~mul(33,531)who()who(455,309)*select()when()mul(367,411)who()what()?where()^mul(345,845)&lt;@mul(376;who()[select()&gt;*!how()do()#from())&lt;(mul&amp;from(128,233)how(){%when()mul(851,364)mul(494,714)\n",
      "%{&lt;&lt;%mul(268,805))&amp;#mul(373,10)!%};%,when():mul(628,215)&amp;}&amp; mul(322:?&gt;^&lt;when()&gt;*,,mul(355,828);mul(939,916);&gt;,where()][&gt;)};mul(925,115)]mul(161,40) @ mul(234,412)[%%mul(414,812) when()*mul(326,103)-[({;/#/^+mul(810,213)\n",
      "\n",
      "<s>don&#x27;t()- {&gt;who(){mul(527,352)@&amp;&#x27;)*when()]who()%mul(736,73)from()[(}mul(917,960)+,-%mul(945,466)~why(398,607),mul(198,701){&#x27;-(when(),*:[mul(822what()}]:&gt;who(685,960)?mul(866,969) *#~when()mul(624,619)?&lt;&#x27;;what()()&lt;$mul(582,429),@mul(112,480)&#x27;!mul(113,204)what()&gt;$~%,$&#x27;*mul(909,964)?who()why()how()$mul(181,265)&#x27;mul(227,282)*&gt;:+from()[how()%mul(534,756)]from()/mul(782,594)when(976,63):&amp;,where(101,159)@$why()how()mul(949,569)how()why()where()what()}&amp;&lt;[{mul(984,451);#how()what()~#mul(976,666)~&#x27;what()mul(879,268from()when()mul(952,795){where()-&amp;,%/select()mul(892,249)mul(562,394)do()</s>\n",
      "\n",
      "-&lt;how()-[ mul(682,68)select(){#what(390,528)from()!&amp;$mul*%;%why()}[mul(641,891)&#x27;[mul(604,200)* &lt;?;@~-&lt;mul(32,446)#select()mul(367,881)who()}-+!@/mul%%how()how()mul(484,441)&#x27;!*-,why()//mul(232,705)&gt;&gt;),&amp;(}&#x27;mul(624,35)mul(770,961);why()/;//+*mul(460,933)&gt;%%@from()mul(913,510)from()@from()how()#mul(336,262)select()!what()%/select(){*!{mul(324,598)mul(520,239)/select()@ how()how()mul(9,679)  &amp;from()mul(132,603)where()mul(918,579)-why()&#x27;mul(379,960)^}#{/who(910,167)who(464,273)mul(225,34)where(){?#%why()[}mul(795,611)/mul(985,849)(mul(212,96)&lt;;@from()mul(692,369)&gt;mul(525,547)/who()-:&lt;how()mul(715,343)when(488,771),&#x27;mul(303,170)where()&gt;how()&gt;:?%}}^mul(752,768)why()%mul(696,11) *)^/*!&#x27;mul(148,335)from()mul(485,796),,+&gt;&gt;&#x27;?do()+;select()?:mul(456,261)?!mul(43,918)~-)from(),}&gt;)mul(960,664)&#x27; -{from()^,where()-what()mul(508,451)]+ {why()why()/%@/mul(176,657)select(488,126):&#x27;where()mul(247,928)/how()who():!mul(844,455)#&lt;(&amp;when()from()&amp;*mul(898,677)from(){mul(766,841)mul(990,880)who()where()?;mul(487,623)from()why()[mul(163,74)select();$&gt;select(190,549)do()&lt;:+select(677,307)[(how()~]mul(328,574))#^)mul(767,737)mul(996,115);from()[from()mul(977,738))from()when()[mul(868,591)%what()mul(347,943)&#x27;-why()**#how()~mul(327,720)-;)-[#-~why()mul(71,877)-!select()/,&#x27;$&#x27;mul(741,845)[&amp;^$when()}mul(686,640)&amp;}why(323,972)&#x27;$[mul(352,2)&amp;who()-+%$} mul(295,145)&#x27;;]*when()$&#x27;&lt;mul(777,684),where()]\n",
      "\n",
      "<s>don&#x27;t();what()%$?-+]/#mul(981,496)mul(402,419)what()*^what()mul(165,139)from()who()where(),how()select()from()%mul(376,689) mul(389,696)where()what(949,275)how()~who(600,641)&#x27;from()!#mul(436,525)~/[%-}^mul(489,872)select()mul(82,53)*select(70,72)*what()what()]:{from()%mul(433,905);+-mul(191,114);[from()mul(401,992)?&#x27;mul(257,949)**&#x27;/~why()*!mul(902,617)where()@]&gt;}-mul(61,125)#mul(446,48)@~{*[*$when()who()who()mul(300,206)&amp;+!where()mul(938,463)when()!&amp;%where() &amp;*;*mul(772,27)]&amp;;how()!]how()do()</s>\n",
      "\n",
      "/^$what()how()mul(305,773)&gt;mul(216,395)&#x27;:mul(291,15)*@what()(^mul(56,367))~,&gt;mul(233,290)?&amp;;who(333,171)what(370,12)$ ?mul(306,488)&lt;^where()($mul(627,462))]select()&#x27;:mul(565,994)~&gt;mul(626,380)]}who(){mul(590,221)mul(684,793) who()/{%@(from()@?mul(448,580)from(856,317)!]why()from()&amp;&gt;[?mul(971,484)~mul(417,679)mul(33,70)^what()mul(816,623);@mul(735,657)\n"
     ]
    },
    {
     "data": {
      "text/html": [
       ");&gt;]mul(437,864)^mul(880,907)}&lt;how(){+[!&#x27; where()mul(215,270)from())@#mul(737,510)@&lt;&#x27;why()+mul(634,344)$&gt;::mul(528,832);{~&lt;mul(514,817)&gt;~who()who()(how(84,130)where(){%{mul(270,137)@:mul(787,669)*]&amp;^&#x27; @from()mul(896,940){where()when()]&lt; -[mul(536,622)select()!{\n",
       "\n",
       "<s>don&#x27;t()-+^()!)}select()mul(287,737)&amp;who()mul(452,401)from(763,594)$*when()select()&amp;mul(804,971);}&lt;~,(^%)[mul(148,448)mul(835,400)[}*$ #,do()</s>\n",
       "\n",
       "?where(362,730)~why()#(;mul(448,254)&#x27;-/who() from():\n",
       "\n",
       "<s>don&#x27;t():what()&#x27;~(select()%mul(538,987): who()/#where()/what()where(587,42)select()mul(571,802)why()&lt;]+}:#mul(446,206),/from()select()mul(271,435);#+^mul(8,739)-:~;&lt;mul(361,969)+?^mul(238,723)&lt;+&lt;$&lt;from()$$mul(93,726)}&gt;?+~[#~mul(370,931)&#x27;}select()who()/when()from()%from()who()do()</s>\n",
       "\n",
       "#mul(935,409)mul(356,457)]#mul(445,30)?&amp;^&#x27;where()&amp;%&lt;&amp;mul(568,491)when()/^@who()when()&amp;~#)mul(327,654):from(){+?#what()&lt;?;\n",
       "\n",
       "<s>don&#x27;t()when()&lt;?from():why()^mul(69,349)~!why()-from()[&gt; @!mul(136,811)mul(735,58)&#x27;from(242,599)don&#x27;t()where(),&amp;(mul(306,552)when()&amp;^]do()</s>\n",
       "\n",
       "/]&gt;*,-(;why()mul(641,212)%\n",
       "\n",
       "<s>don&#x27;t(){mul(39,383);][[*mul(61,441),how()])why()~where()from()mul(688,328){~)(:&amp;}!~#mul(230,832)*[!~ /&#x27;~don&#x27;t()who()where()what()}mul(506,339)(&#x27;&lt;mul(9,362)$:@how()&amp;&amp;,-mul(776,717)]*)what()who()&amp;&amp;@how()&gt;don&#x27;t():[&gt;&amp;[#?)when()mul(573,558))-what()~why()how()where()~-&gt;mul(932,906)mul(938,661) ):who()do()</s>\n",
       "\n",
       "from()*mul(926,267);/: };^select()mul(750,244)^*what()$what()who()~}from()do()){,&#x27;}mul(523,581)-%@&gt;+&gt;mul(94,990)!/who(571,986)/-/?mul(174,631)from()%+?&gt;@&lt;?#)mul(57,234)?}mul(943,865)&#x27;([why()what()from()@%%,mul(633,471) where(),select()mul(232,415)), when()&lt;mul(126,82)what()who()what()mul(687,55){select()/what()mul(674,305)&gt;+[^*who()mul(261,413)?-who()^]from()%do()$)~;mul(930,454)$[~;select()why()select()who():@mul(590,349)**%;mul(688,279)+from()^mul(86,495);mul(417,700)what()(/^: ;+&lt;when()mul(383,608)where()!when()when()[-#}*mul(736,637)}&#x27;select()[&amp;&lt;select()where()-/mul(440,969)&lt;,{mul(412,588)}{when()where()how(){?{}from()do()select()~&amp;select()&#x27;?%&gt;why()mul(312,134)&#x27;?&lt;]^@]@!$mul(400,368)/mul(91,772)^mul(108,930)&amp;-mul(370,824) /&#x27;,why()mul(408,938)#?)^&#x27;what()mul(618,424)!mul(384,342)where(695,275)select(){};#select()mul(158,114)[from() ,)what(581,474)who()%]mul(727,849)@%~&gt;]%mul(358,870)mul(918,280)]&amp;mul(434,803)when()#&amp;@@how()}][&#x27;mul(737,295)!!-&gt;where()&lt;mul(971,370)what()^,when()mul(134,354)/@)(when()mul(995,35):?,#&amp;what()#+~mul(85,68)(&#x27;;?&gt;mul(108,927)why()select()~mul(268,521)&lt;&lt;[where()-mul(473,558)#why()[how()(&lt;who()mul(383,864)&#x27;@[from(),where(234,990)^)when()select(875,735)\n",
       "\n",
       "<s>don&#x27;t()-how();:(&gt;select()mul(302,377)/#mul(658,882)]mul(400,990) }:%-!]mul(899,38){@mul(389,779)*#!~what()mul(684,353)~who()&lt;]$&lt;mul(909,339)mul(989,387@#:how()&amp;?,*}mul(817,210)mul(270,752)?&lt;select(),who() [,^where()mul(337,83)!when(4,150)from() +$[[when()mul(345,438)[{${$when()from()how(),mul(210,219):select();*#&gt;/mul(69,288)from()who()&gt;#mul(329,484)mul(652,755)from(93,321)^select()select()mul(446,336)~}]where()what()&lt;?+who()mul(686,628);select()mul(270,937)mul(582,221)why()}how()mul(19,975){how()]when()who()where()$+when()do()</s>\n",
       "\n",
       "mul(900,993)mul(613,135)#(&#x27;who()!why(726,584)};mul(375,245):@&gt;&#x27;-^&#x27;mul+*,)why()mul(487,896)]%}mul(807,261)@where()(from()-what()%*mulfrom() when()how()&lt;~{~:mul(800,203)mul(921,126)&#x27;why()-mul(668,781)% (mul(900,757)^@&amp;{mul(710,725)(?&gt;&lt;select()!who()how()@mul(121,934)when()from()&amp;mul(551,3)({{&amp;select()mul(7,711)(]select()!!who()/mul(392,449)\n",
       "&gt;&#x27;]%&lt;mul(428,73)(what()mul(64,592)why()mul(87,558)!who()/^select()mul[mul(824,660)&#x27;where()how()})mul(640,76){mul(775,707)])select()mul(100,878)&amp;(where()]do()&lt;mul(966,147)why()(]why()^(?what()\n",
       "\n",
       "<s>don&#x27;t())%&amp;&gt;)!;select()*-mul(538,368)]!,mul(570,271){ select(),mul(26,524):!mul(927,601)where()&#x27;,$&amp;,,mul(135,121)@why()-from() &amp;&amp;mul(166,196)from()mul(847,84)(who()from()why()from()mul(792,999)how()?when()mul(251,498)&gt;(mul(441,614)%%what()%,where()mul(777,118)&lt;&amp;don&#x27;t()};}from()where()^~@/mul(38,906)~mul(878,986)mul(488,713);what(){how()+]?mul(816,172)what()mul(859,756)how()mul(317,431)/what()(mul(413,319)[!#/(^](&#x27;mul@how()mul(369,678)&lt;+[/!?how()when()mul(174{+$ mul(694,959)^how()&amp;:&lt;who()#mul(143,891)+from()@?what()@^}select()mul(361,245)&#x27;where()&amp;mul(91,214)%what()]&gt;?~%];)mul(219,426)[@%(where()]@@}mul(639,368)#!#,what()what()mul(703,822){what()where(388,21)~what()@ (mul(209,455))@&#x27;who()mul(895,762)+[select()$mul(473,702)who();)!+mul(583,550)&gt;?mul(675,229)(+&#x27;[]mul(401,612)mul(410,253)+]&gt;]who()/^from():where()mul(453,54)}(!mul(276,220)&#x27;&gt;mul(940,324)mul(172,454)?:~who()mul(729,261){what(){*%where()~&#x27;when()]mul(199,694)(~(&lt;@when()mul(515,554)&#x27;mul(234,657)@!)&gt;)*~}why() mul(913,964)mul(149,132)/~mul(373,142)where()[mul(324,854)&amp;how() +{&amp;%,mul(872,613)*&lt;why()[])?[do()</s>\n",
       "\n",
       "mul(506,436)!@why()mul(308,28)?&amp;who()+mul(130,254]when()!mul(57,512)$*~mul(874,349)when(){]mul(128,288)[who()}$]:!(mul(117,644)select(59,177)#+,how()from()% mul(701,276)from()@;(why()! -*}mul(784,997)who()where()$how()where()mul(883,710);when()mul(45,149)(where()/do()who()select()[why());,mul(296,703)? mul(881,162)&#x27;[why()*mul(293,304)*&amp; mul(443,960)#who(757,994)&amp;&lt;(@#+);mul(739,318)&amp;,when()[where()mul(281,625) why()/+]what()mul(88,646)%~~select()%who()&lt;mul(885,753)::from()![when()mul(625,409)$mul(201,618)&lt;who()#where()from()@/mul(290,974:;&amp;&gt;-:,+select()from()mul(942,583)select()&lt;!,mul(876,685)why())mul(103,616)where(52,533)why()##mul(867,558)what()when())!mul(955,743)-%from(672,345) how()do()*:who()!&gt;&lt;{what()mul(488,404)@mul(573,892)&#x27;(mulhow()when()&#x27;/mul(344,334)select()&gt;#!}mul(868,909),$%mul(729,810)mul(630,215),{?how()where()*select()mul(229,873)%~from()*&lt;% #^who()mul(248,481)why(541,729)select()]mul(639,438)~({ +]( }mul(563,361)^:$?;mul(148,895)!~how(677,192)select();mul(703,618)-how()from(),:,}#mul(383,639)#!mul(164,723)when()&lt;select(960,127)from()$&#x27;{%~;mul(45,490))@mul(110/!#&#x27;:; (]&lt;mul(661,87) [what()?/mul(854,581)from()],$]@&gt;&gt;mul(619,575)-%$,;^mul(712,573)&gt;/(-#;how(626,802)mul(604,893)mul(227,185)&gt;,*what(259,152))!mul(805,458)]&amp;)-,~why();mul{[ ,&gt;who(634,559)@mul(242,122)mul(745,329)who()how()^)%/mul(256,115)- $}&lt;mul(925,466what(757,32)select()+!;mul(958,717) &amp;&#x27;;;mul(616,882)mul(199,18)/?+]why()[*mul(23,351)(@(mul(615,742):-*)mul(590,124)mul(985,821)@%select()mul(487,459)&amp;mul(319,344)*[*from()select()&lt;+,mul(305,231);($where(112,479)~{;mul(232,514)~!&#x27;~from()[;[mul(401,476)&lt;mul(485,814)#&#x27;mul(490,69)who()&lt;@where()-/}$:-do():},when())&gt; @$&gt;mul(428,81)where()(&amp;where()}do()when(338,441)^}$&lt;&lt;where()&gt;)mul(587,14)%select(),%{!?}when(){mul(66,344)#how()[,from()who()! :(mul(690,739)}mul(502,75)} +where(368,348)from()&#x27;where()where()/&amp;mul(550,732)\n",
       "[&lt;$&#x27;&#x27;what()why(610,674);mul(533,251)/mul(226,855);mul(295,649)]-what() {,(@mul(737,515)when(471,162)mul(751,898){%,&gt;&gt;{(when()when()select()mul(865,649)&gt;$#from()mul(614,590:)how()*~where()-mul(874,991)how()&lt;}:why(846,672);mul(828,195))mul(739,482) ;]/{(%who()mul(521,901))@!select()&gt;why()mul(112,628)!]how()[%!&#x27;mul(851,646)$&gt;when()mul(842,55)%$why()mul(164,534) where()::where()mul(145,6)]*when()+@#&amp;(mul(459,695)when()&lt;$}how()$[how(526,933)who(73,62)&gt;mul(527,796)what()*;-!mul(183,596);mul(837,933)mul(693,684)!)]  select()[ !mul(379,67)select(){who(333,123)&gt;mul(120,112)?how()@what()why()why(535,724)mul$,,mul(661,256)?why()*mul(894,631)^$from()#]/@mul(111,135)who()$who()how()how()when()$) mul(337,371)]~from()\n",
       "\n",
       "<s>don&#x27;t()select()-&lt;^mul(706,999){#^$+~+;mul(667,389)+~%/&gt;%mul(471,136)mul(409,563)}where(785,260)~who()mul- )&lt;]mul(476,262):select()what()?&amp;&lt;&#x27;$when()(mul(567,673)&amp;who()mul(802,520)){&lt;!why()why()}&gt;-$mul(155,808)$+mul(392,146)&amp;when()[,mul(505,764)%mul(997,837)&lt;&#x27;-&amp;why()[#mul(14,131)where()*why()where()@@do()</s>\n",
       "\n",
       "&lt;:,&amp;*mul(453,440)^/[mul(977,343)~[%from()mul(62,672)&lt;$do()#%mul(971,495)}what()mul(98,733);how()!mul(815,13)when())##mul(12,514)!#*:^where()@?mul(704,581)+mul(656,388)mul(968,264)how()who(459,907)!!&amp;;$mul(639,135)who();!mul(554,238)-*,%~&lt;mul(549,330)select()who(214,680)&gt;-&#x27;^mul(613,35)({*;)&#x27;mul(300,593)?} /why(366,710)\n",
       "\n",
       "<s>don&#x27;t()mul(541,734)why(770,959)?when()&lt;who()([+mul(110,600)select()}why())mul(936,678)how()from()+:&amp;select()~ mul(564,294)/where()who()@mul(583,664){%;;&gt;+&lt;mul(354,509)why():mul(112,317)*{)&#x27;}how() why()&#x27;!mul(307#how()who();!&amp;who()][mul(765,150)mul(819,139)&#x27;select(820,327),where()+from() how()?&#x27;mul(364,188)who(408,929)+who()}select()&#x27;who()who()mul(995,874)}$~/&gt;;&#x27;mul(887,973)who()mul(993,239)where()^when()^,[#:mul(325,621)where()-;&lt;}!where(448,355)(mul(953,77)select()#{$*%mul(124,72)?&#x27;mul(19,453)when()(/why()where()%mul(363,709$:what()!&gt;{}who()mul(795,307)??how()[mul(18,31&amp;[%select() $where())!why()mul(287,498)&gt;-?*&amp;when()mul(74,814&gt;~why()when(),$(mul(185,120)mul(32,831)&#x27;why()mul(608,689);~#,who() how()~!mul(876,744)&#x27;from():){do()</s>\n",
       "\n",
       "!]why(30,513)/who(876,41)from(254,279)mulhow()from()from()where()&amp;mul(8,16)mul(329,708)?{~#{+why()why()@mul(334,310)!*who()mul(213,492)]mul(172,234)[}$,&lt;) mul(533,937)mul(729,811){mul(176,287)%/-&amp;/$what()from()-mul(657,961)&amp;(mul(978,585)~]#&#x27;$mul(815,133)why()##where()~~where(){;mul(330,156)where()who(896,631)from()*what())mul(995,394)~(from(),&#x27;&#x27;,(mul(146,412)}@:&#x27;from()mul(74,137)(#who()who()&gt;where()*mul(711who();mul(393,823)(;mul(728,574)&gt;/$mul(164,411)&lt;who()how(870,24))how()&amp;}mul*% select()%/&gt;]@mul(667,120)#:@)mul(241,857?who()where()^:select()mul(874,315)+who()why()?;@&#x27;+when()\n",
       "\n",
       "<s>don&#x27;t()^select()from()#where()]{how(478,532):what()mul(882,399how()!from()@when()*where()from()mul(121,283);%#{($mul(59,76)from()$/mul(284,919)&gt;&lt;$?/&gt;mul(171,491)~mul(327,128)&lt;)#how()[,&#x27;#}$mul(85,766)!{^why()from()%mul(201,803^*do()</s>\n",
       "\n",
       "%]why()why()+why()]++mul(878,596)]mul(29,225)&amp;,who()/where()who()who()what();mul(257,352)&gt;&#x27;how()(-$,where(560,922)mul(169,577)!who(){what()select(){don&#x27;t()#^mul(534,786)&amp;&amp;$mul(857,238)#@where()]mul(689,487))~[when()where()&lt;?mul(222,741)!mul(385,811)*@-mul(767,740)%when()why()who()::#where()^mul(432,228)what()select():where()don&#x27;t()how()&lt;!;*when()}mul(672,806){&lt;&#x27;(mul(841,126)how()mul(320,259)&#x27;}what()mul(268,877)from()}+)*&#x27;(&gt;~mul(793,968)why()when()select()$,*mul(26,17)mul(20,863)$&#x27;$*#@how()#mul(696,339)select()-mul(28,879)why() /select()*mul(717,19)who(){&#x27;]~]]#!/usr/bin/perlwhen()mul(367,171)\n",
       "%when(651,576)}{]%+]mul(603,277)&lt;{where()&amp;$-&#x27;%mul(35,478)mul(272,670where(535,775)from()&gt;}where()mul(435,668)&gt;-select()@~}mul(917,854:/why() &lt;~&#x27;~when(355,462)mul(124,375)@^*(&lt;*[ \n",
       "\n",
       "<s>don&#x27;t()/who()/mul(945,697)where()mul(882,7){+mul(69,260)-how()&lt;from()where(640,717)what()where()mul(83,864)mul(772,828)&amp;&lt;@:@mul(210,454)&amp; (^~[%@mul(678,869)%how()~&amp;+what()]/from()why()mul(672,452)#!who(355,256)&lt;#what()(mul(152,659)?([@;select()where();do()</s>\n",
       "\n",
       "what()select()(when()]mul(557,586)when(79,896)-^-how()^mul(290,50)select()&lt;how()%%$what()#~!mul(711,368)&lt;;!\n",
       "\n",
       "<s>don&#x27;t()+&#x27;mul@# select();[$where() ][mul(877,359)do()</s>\n",
       "\n",
       "&lt;what()#mul(545,361)where()what()&#x27;*why()where(){who()+mul(338,61)+where()?;&#x27;mul(233,835)*when();})?)&amp;from(){do()!)mul(345,942)^mul(27,903;mul(169,778)select()^{[{ + ~mul(41,863)who()mul(392,367)&lt;$why()&lt; ? mul(27,423)-%mul(939,220)where()?why()%mul(808,712)^^;mul(276,164)mul(142,793)#+/{from()&#x27;?}mul/!from()mul(97,673)+@what()where()@^where()}mul(828,37)+&gt;({#{mul(560,950)-}&#x27;mul&lt;what()-why()mul(202,967) }from()why()where()}mul(255,593)where():* ){mul^[&#x27;what()!! ;who()where()mul(835,370)-{]/mul(116,69)mul(731,20)&#x27;when(),who()mul(656,120)^select()?from()mul(760,137)!}from(398,469)where():;)what()%mul(536,801)$how()why()?who()*^%@+mul(402,84)~#&amp;mul(299,585)$]&amp;*;mul(137,876)&lt;%-{how()where()mul(139,249)%+*}mul(367,25)/who(){mul(392,209)&gt;where(),! ~%who()what()-mul(250,270 mul(47,151)&amp;&#x27;&#x27;[\n",
       "\n",
       "<s>don&#x27;t()]when(61,247)+%+-#when()mul(122,885))~:don&#x27;t(),)[{mul(637,997)where()-mul(956,646)why()&#x27;)#how()~mul(761,774)select():! [&#x27;mul(989,366)from()@how(941,580)]*&#x27;:;[mul(963,704):mul@:$(why()^)mul(155,232):&#x27;what()!$%mul(300,251)(&lt;@:&lt;%how()^ +mul(375,864)mul(617,872),:;mul(175,906)what()@]@+{-why()+when(159,169)mul(711,500from()~[select()}when() &amp;/&gt;%mul(652,63)-!,!from()mul(519,182)&#x27;/-+$$where()mul(883,742)mul(454,250)$where()@mul(889,720)?&gt;(mul(957,875)mul(675,759)from()/)(*&gt;who(799,225)what()[mul(742,648)+{&gt; &gt;]{,&gt;mul(391,737)mul(743,765)?[{where()&amp;mul(759,385)from():]]:[,:$mul(305,875)!when();select()&gt;what()#-#mul(483 [-mul(462,60)/$what()&amp;}don&#x27;t() !mul(238,876)what()~;@-!/$/mul(440,228)!&lt;,^];$mul(668,60)+@when()/why()@mul(907,793)[from()-:mul(552,833) mul(921,276)from()mul(18,995)#{from()},what()&gt;mul(71,909)#mul(166,313)^%what()^-* when()how()mul(26,404)mul(170,970)mul(917,165);mul(335,29)how()when(705,598)(+~~mul(614,118)&amp;mul(281,780)how();&amp;([#mul(27,176)]@%%!-)/~why()mul(813,915)select()&amp;mul(895,899)#%~%mul(802,527)&lt;&#x27;$where()how()what()^)why()(mul(962,93)-)%^why()how()mul(451,67)how()[)@[}where()#select()[mul(73,877),}*~~~mul(383,925)where()&amp;where()how(197,895)#from()#$mul(813,528)[@who(),)-from()what()&gt;from()mul(170,868)*from(995,971))~mul(835,419))mul(365,324)/mul(63,101)when()&#x27;~ %):how(){^mul(947,676)+@,where()where()~&#x27;?mul(635-/mul(612,440){&#x27;%(+}]]mul(775,628)&amp;&lt;mul(578,412)( do()</s>\n",
       "\n",
       "mul(921,135)-]# {who()^&lt;mul(75,976)}%~%):%:% mul(215,161){select())&gt;;)#@/what()mul(825,859)&amp; who()#)mul(491,748)}&lt;,;mul(404,634)why()+select()*+&#x27;where()&gt;:mul(681,804)why()mul(645,786)when()/what()&amp;&lt;;from()what();mul%[&amp;+:$&#x27;mul(457,855)-when(840,583)why()mul(479,443)why()~mul!)!-}mul(29,976)-&lt;!&#x27;/}&gt;[+&lt;mul(274,18)%])[%mul(893,678):,&amp;select()when()mul(638,687)[+from()what()/{who()-&gt; mul(23,723)&#x27;who()when()select()&amp;&gt;mul(976,72)@:[/;select()why()#&gt;mul(47,803)($?^-%?%mul(145,548)!:?)+what()?select()where()mul(373,284)select()&amp;)when(61,867)where()+&gt;mul(910,263)&#x27;^!(&lt;) (mul(99,989)\n",
       ",mul(134,916)from()why()?;mul(414,211)from()where()}~&amp;[why()^!mulselect() mul(123,66)@/mul(652&lt;when()%^%how(),}mul(318,994)-# %^*&amp;)mul(282,948)\n",
       "\n",
       "<s>don&#x27;t()~^&#x27;&gt;mul(791,484)~#mul&lt;;&amp;select()what()-do()</s>\n",
       "\n",
       "&lt;+:&#x27;]why()%mul(478,188)&gt;* @^ #mul(162,677)/who() )/@)how()from()mul(919,612)why()what()^};^why()$;why()mul(9,232) #how()mul(413,460)&gt; mul(254,330)!&gt;~;mul(16,657)&lt;where();what();$mul(150,998){mul(290,179)!- mul(607,707)why()select()*;{);who(226,887)mul(795,112)mul(383,996)-^:what(697,317){what()@?@mul(352,290)%&gt;[}*what()]&#x27;mul(402,455)(mul(159,801)how()!/()mul(890,162):why();how()mul(177[! ^-@&lt;from()select()}mul(91,452)[how()? *who() mul(834why(226,342){{&lt;$~&gt;mul(412,292)/[{mul(834 ~from()!;when()mul(943,547)&#x27;+;$:from()mul(820,501)how()+~who(714,864)mulfrom() mul(331,67);-$&#x27;mul(168,191)[*;&amp;~how()/[what()what()mul(384,321)what()&gt;@how()when()[-@&lt;mul(365,727)mul(349,706)&#x27;who()]&amp;-mul(528,940)when()(&lt;]select()@}*(why()mul(85,882)[{-select()/mul(273,409)~mul(964,434)who()what()!from()&gt;+,mul(914,214)/~mul(708,958)do()@+mul(106,731)*(where()what()where()&gt;,where()mul(60,776+mul(487,915)from()&amp;{;&#x27;what()^*mul(319,884)(}who()mul(328))when()*@ +mul(754,857)where(),+from()&lt;mul(651,362)?;[/}@}when()mul(399,158)&amp;@how();;mul(964,753)!^why()}when()]!{how()mul(525,209)who()^mul(869,719)- &lt;&gt;~&gt;&lt;&gt;~mul(207,721){:#how()what()when()?&lt;+mul(107,805)^$%}from(),[,$[mul(375,736)mul(73,81)-$where()$-&lt;&lt;:&lt;mul(588,899)who()&amp;mul(902,680);?[ &lt;)mul(715,138) how() +;mul(875,81)],;$!?(select()mul(669,19);!*%},!why()~}mul(90,643)]mul(969,823)}$@when()&amp;where()mulwhere()&lt;&amp;%&gt;:mul(435,179)when()/,how()&amp;,)@mul(899(what()why()/;why()}])!what()mul(855,799)~{@where()why())where()why()\n",
       "\n",
       "<s>don&#x27;t();!~,mul(801,421)mul(688,282)from()?when()where()/$~&#x27;when()mul(799,579)[mul(589,929)*why(),[[who()from()/mul(422,435){{~,-mul(811,256)}why()--mul(284,323)$;?;from()when()/@!,mul(411,499)mul(712,633)?(#select(699,176)where()]why()[who()do()</s>\n",
       "\n",
       "[-mul(252,327)mul(733,191)-why()+}when()$mul(575,854):--#?what()^,]&gt;mul(710,364)&lt;where(435,528);^ : how()mul(859,814)]+what()*) mul(173,667)?&gt;:-&#x27;/mul(955,516)@who()+mul(765,740)when()@?+)!&#x27;\n",
       "\n",
       "<s>don&#x27;t()[-&lt;mul(365,369)^who()why(511,407)-mul(532,507))mul(424,846)~from()from(828,590)-*]mul(86&#x27;&gt;when()~[/ when()?; mul(65,78)}]&lt;how()%+?why())mul(573,533)mul(729,878)*mul(520,776)where()from()!from()&lt;@do()</s>\n",
       "\n",
       "when()&amp;^(who()/mul(945,626)% who();;(^+what();mul+why()}((where()&gt;(-mul(268,76)/select()~:where(941,686)mul(936,336)-@mul(958,345)who(){~mul(548,108)!mul(951,331)[#?from()(^:%mul(843,813)$how();why():^why()+mul(594,381)select()when()from();]select()&amp;:mul(765,515) /what()why())#)select()[mul(4,236)]%;^what()$@*do()&amp;&gt;mul^}&#x27;#+~*&amp;where(721,403)mul(430,162)mul(54,147)%)&#x27;}$^where()}mul(823,311)mul(882,70)mul(869,503)@who():)&amp;what()mul(383,271)~mul(568,286why(365,711)why(387,388)!)what()from()mul(867,166)where(243,478))?how()-@&gt;@mul(191,472)}@&amp;}from();^}[mul(45,832)-&gt;/what(705,241)(&gt;what()]mul(85,192)&amp;&amp;]#-$#mul(498,712)@)when(),]mul(521,682)/how()}-}mul(366when()+,when()/mul(697,179) %(mul(412,215)$mul(798)^*mul(85,476),&#x27;how()  +$;mul(423,624)where()mul(501from()@{who()-mul(457,671)~who()when()how(343,28)%where(675,997)*why()how(186,529)#mul(189,417),+[[@when()/mul(526,457))($+!*@mul(817,569))(- &amp;%&amp;/why()mul(909,493);mul(484,901);!$why()&lt;^)~]do()&#x27;/mul(968,342)}*;mul(982,164)&amp;&gt;why()]&gt;select()&amp;[mul(364,498)mul(595,443) -who();{{?(~mul(33,531)who()who(455,309)*select()when()mul(367,411)who()what()?where()^mul(345,845)&lt;@mul(376;who()[select()&gt;*!how()do()#from())&lt;(mul&amp;from(128,233)how(){%when()mul(851,364)mul(494,714)\n",
       "%{&lt;&lt;%mul(268,805))&amp;#mul(373,10)!%};%,when():mul(628,215)&amp;}&amp; mul(322:?&gt;^&lt;when()&gt;*,,mul(355,828);mul(939,916);&gt;,where()][&gt;)};mul(925,115)]mul(161,40) @ mul(234,412)[%%mul(414,812) when()*mul(326,103)-[({;/#/^+mul(810,213)\n",
       "\n",
       "<s>don&#x27;t()- {&gt;who(){mul(527,352)@&amp;&#x27;)*when()]who()%mul(736,73)from()[(}mul(917,960)+,-%mul(945,466)~why(398,607),mul(198,701){&#x27;-(when(),*:[mul(822what()}]:&gt;who(685,960)?mul(866,969) *#~when()mul(624,619)?&lt;&#x27;;what()()&lt;$mul(582,429),@mul(112,480)&#x27;!mul(113,204)what()&gt;$~%,$&#x27;*mul(909,964)?who()why()how()$mul(181,265)&#x27;mul(227,282)*&gt;:+from()[how()%mul(534,756)]from()/mul(782,594)when(976,63):&amp;,where(101,159)@$why()how()mul(949,569)how()why()where()what()}&amp;&lt;[{mul(984,451);#how()what()~#mul(976,666)~&#x27;what()mul(879,268from()when()mul(952,795){where()-&amp;,%/select()mul(892,249)mul(562,394)do()</s>\n",
       "\n",
       "-&lt;how()-[ mul(682,68)select(){#what(390,528)from()!&amp;$mul*%;%why()}[mul(641,891)&#x27;[mul(604,200)* &lt;?;@~-&lt;mul(32,446)#select()mul(367,881)who()}-+!@/mul%%how()how()mul(484,441)&#x27;!*-,why()//mul(232,705)&gt;&gt;),&amp;(}&#x27;mul(624,35)mul(770,961);why()/;//+*mul(460,933)&gt;%%@from()mul(913,510)from()@from()how()#mul(336,262)select()!what()%/select(){*!{mul(324,598)mul(520,239)/select()@ how()how()mul(9,679)  &amp;from()mul(132,603)where()mul(918,579)-why()&#x27;mul(379,960)^}#{/who(910,167)who(464,273)mul(225,34)where(){?#%why()[}mul(795,611)/mul(985,849)(mul(212,96)&lt;;@from()mul(692,369)&gt;mul(525,547)/who()-:&lt;how()mul(715,343)when(488,771),&#x27;mul(303,170)where()&gt;how()&gt;:?%}}^mul(752,768)why()%mul(696,11) *)^/*!&#x27;mul(148,335)from()mul(485,796),,+&gt;&gt;&#x27;?do()+;select()?:mul(456,261)?!mul(43,918)~-)from(),}&gt;)mul(960,664)&#x27; -{from()^,where()-what()mul(508,451)]+ {why()why()/%@/mul(176,657)select(488,126):&#x27;where()mul(247,928)/how()who():!mul(844,455)#&lt;(&amp;when()from()&amp;*mul(898,677)from(){mul(766,841)mul(990,880)who()where()?;mul(487,623)from()why()[mul(163,74)select();$&gt;select(190,549)do()&lt;:+select(677,307)[(how()~]mul(328,574))#^)mul(767,737)mul(996,115);from()[from()mul(977,738))from()when()[mul(868,591)%what()mul(347,943)&#x27;-why()**#how()~mul(327,720)-;)-[#-~why()mul(71,877)-!select()/,&#x27;$&#x27;mul(741,845)[&amp;^$when()}mul(686,640)&amp;}why(323,972)&#x27;$[mul(352,2)&amp;who()-+%$} mul(295,145)&#x27;;]*when()$&#x27;&lt;mul(777,684),where()]\n",
       "\n",
       "<s>don&#x27;t();what()%$?-+]/#mul(981,496)mul(402,419)what()*^what()mul(165,139)from()who()where(),how()select()from()%mul(376,689) mul(389,696)where()what(949,275)how()~who(600,641)&#x27;from()!#mul(436,525)~/[%-}^mul(489,872)select()mul(82,53)*select(70,72)*what()what()]:{from()%mul(433,905);+-mul(191,114);[from()mul(401,992)?&#x27;mul(257,949)**&#x27;/~why()*!mul(902,617)where()@]&gt;}-mul(61,125)#mul(446,48)@~{*[*$when()who()who()mul(300,206)&amp;+!where()mul(938,463)when()!&amp;%where() &amp;*;*mul(772,27)]&amp;;how()!]how()do()</s>\n",
       "\n",
       "/^$what()how()mul(305,773)&gt;mul(216,395)&#x27;:mul(291,15)*@what()(^mul(56,367))~,&gt;mul(233,290)?&amp;;who(333,171)what(370,12)$ ?mul(306,488)&lt;^where()($mul(627,462))]select()&#x27;:mul(565,994)~&gt;mul(626,380)]}who(){mul(590,221)mul(684,793) who()/{%@(from()@?mul(448,580)from(856,317)!]why()from()&amp;&gt;[?mul(971,484)~mul(417,679)mul(33,70)^what()mul(816,623);@mul(735,657)"
      ],
      "text/plain": [
       "<IPython.core.display.HTML object>"
      ]
     },
     "metadata": {},
     "output_type": "display_data"
    }
   ],
   "source": [
    "# Ugh, still can't see it! Let's try some style\n",
    "from html import escape\n",
    "\n",
    "html_code = ''\n",
    "sanitized = re.split(r\"(don't\\(\\).+?do\\(\\))\", input)\n",
    "for i, text in enumerate(sanitized):\n",
    "    if i % 2 != 0:\n",
    "        html_code+= f'\\n\\n<s>{escape(text)}</s>\\n\\n'\n",
    "    else:\n",
    "        html_code+=escape(text)\n",
    "\n",
    "from IPython.display import display, HTML\n",
    "print(html_code)\n",
    "display(HTML(html_code))"
   ]
  },
  {
   "cell_type": "markdown",
   "id": "c2203ccb-80e0-400e-b5cf-b4c6a22ccca4",
   "metadata": {},
   "source": [
    "Ok, I've found the offending \"don't()\" that isn't getting dropped out...but why?\n",
    "\n",
    "    !who(){what()select(){don&#x27;t()#^mul(534,786)&amp;&amp;$mul(857,238)#@where()]mul(689,4\n",
    "\n",
    "[html](24.03.html)\n",
    "\n",
    "Could there be a new line in there?"
   ]
  },
  {
   "cell_type": "code",
   "execution_count": 16,
   "id": "705dc4f0-2cb0-4c04-8daf-784c49f9088b",
   "metadata": {},
   "outputs": [
    {
     "name": "stdout",
     "output_type": "stream",
     "text": [
      ");&gt;]mul(437,864)^mul(880,907)}&lt;how(){+[!&#x27; where()mul(215,270)from())@#mul(737,510)@&lt;&#x27;why()+mul(634,344)$&gt;::mul(528,832);{~&lt;mul(514,817)&gt;~who()who()(how(84,130)where(){%{mul(270,137)@:mul(787,669)*]&amp;^&#x27; @from()mul(896,940){where()when()]&lt; -[mul(536,622)select()!{\n",
      "\n",
      "<s>don&#x27;t()-+^()!)}select()mul(287,737)&amp;who()mul(452,401)from(763,594)$*when()select()&amp;mul(804,971);}&lt;~,(^%)[mul(148,448)mul(835,400)[}*$ #,do()</s>\n",
      "\n",
      "?where(362,730)~why()#(;mul(448,254)&#x27;-/who() from():\n",
      "\n",
      "<s>don&#x27;t():what()&#x27;~(select()%mul(538,987): who()/#where()/what()where(587,42)select()mul(571,802)why()&lt;]+}:#mul(446,206),/from()select()mul(271,435);#+^mul(8,739)-:~;&lt;mul(361,969)+?^mul(238,723)&lt;+&lt;$&lt;from()$$mul(93,726)}&gt;?+~[#~mul(370,931)&#x27;}select()who()/when()from()%from()who()do()</s>\n",
      "\n",
      "#mul(935,409)mul(356,457)]#mul(445,30)?&amp;^&#x27;where()&amp;%&lt;&amp;mul(568,491)when()/^@who()when()&amp;~#)mul(327,654):from(){+?#what()&lt;?;\n",
      "\n",
      "<s>don&#x27;t()when()&lt;?from():why()^mul(69,349)~!why()-from()[&gt; @!mul(136,811)mul(735,58)&#x27;from(242,599)don&#x27;t()where(),&amp;(mul(306,552)when()&amp;^]do()</s>\n",
      "\n",
      "/]&gt;*,-(;why()mul(641,212)%\n",
      "\n",
      "<s>don&#x27;t(){mul(39,383);][[*mul(61,441),how()])why()~where()from()mul(688,328){~)(:&amp;}!~#mul(230,832)*[!~ /&#x27;~don&#x27;t()who()where()what()}mul(506,339)(&#x27;&lt;mul(9,362)$:@how()&amp;&amp;,-mul(776,717)]*)what()who()&amp;&amp;@how()&gt;don&#x27;t():[&gt;&amp;[#?)when()mul(573,558))-what()~why()how()where()~-&gt;mul(932,906)mul(938,661) ):who()do()</s>\n",
      "\n",
      "from()*mul(926,267);/: };^select()mul(750,244)^*what()$what()who()~}from()do()){,&#x27;}mul(523,581)-%@&gt;+&gt;mul(94,990)!/who(571,986)/-/?mul(174,631)from()%+?&gt;@&lt;?#)mul(57,234)?}mul(943,865)&#x27;([why()what()from()@%%,mul(633,471) where(),select()mul(232,415)), when()&lt;mul(126,82)what()who()what()mul(687,55){select()/what()mul(674,305)&gt;+[^*who()mul(261,413)?-who()^]from()%do()$)~;mul(930,454)$[~;select()why()select()who():@mul(590,349)**%;mul(688,279)+from()^mul(86,495);mul(417,700)what()(/^: ;+&lt;when()mul(383,608)where()!when()when()[-#}*mul(736,637)}&#x27;select()[&amp;&lt;select()where()-/mul(440,969)&lt;,{mul(412,588)}{when()where()how(){?{}from()do()select()~&amp;select()&#x27;?%&gt;why()mul(312,134)&#x27;?&lt;]^@]@!$mul(400,368)/mul(91,772)^mul(108,930)&amp;-mul(370,824) /&#x27;,why()mul(408,938)#?)^&#x27;what()mul(618,424)!mul(384,342)where(695,275)select(){};#select()mul(158,114)[from() ,)what(581,474)who()%]mul(727,849)@%~&gt;]%mul(358,870)mul(918,280)]&amp;mul(434,803)when()#&amp;@@how()}][&#x27;mul(737,295)!!-&gt;where()&lt;mul(971,370)what()^,when()mul(134,354)/@)(when()mul(995,35):?,#&amp;what()#+~mul(85,68)(&#x27;;?&gt;mul(108,927)why()select()~mul(268,521)&lt;&lt;[where()-mul(473,558)#why()[how()(&lt;who()mul(383,864)&#x27;@[from(),where(234,990)^)when()select(875,735)\n",
      "\n",
      "<s>don&#x27;t()-how();:(&gt;select()mul(302,377)/#mul(658,882)]mul(400,990) }:%-!]mul(899,38){@mul(389,779)*#!~what()mul(684,353)~who()&lt;]$&lt;mul(909,339)mul(989,387@#:how()&amp;?,*}mul(817,210)mul(270,752)?&lt;select(),who() [,^where()mul(337,83)!when(4,150)from() +$[[when()mul(345,438)[{${$when()from()how(),mul(210,219):select();*#&gt;/mul(69,288)from()who()&gt;#mul(329,484)mul(652,755)from(93,321)^select()select()mul(446,336)~}]where()what()&lt;?+who()mul(686,628);select()mul(270,937)mul(582,221)why()}how()mul(19,975){how()]when()who()where()$+when()do()</s>\n",
      "\n",
      "mul(900,993)mul(613,135)#(&#x27;who()!why(726,584)};mul(375,245):@&gt;&#x27;-^&#x27;mul+*,)why()mul(487,896)]%}mul(807,261)@where()(from()-what()%*mulfrom() when()how()&lt;~{~:mul(800,203)mul(921,126)&#x27;why()-mul(668,781)% (mul(900,757)^@&amp;{mul(710,725)(?&gt;&lt;select()!who()how()@mul(121,934)when()from()&amp;mul(551,3)({{&amp;select()mul(7,711)(]select()!!who()/mul(392,449)\n",
      "&gt;&#x27;]%&lt;mul(428,73)(what()mul(64,592)why()mul(87,558)!who()/^select()mul[mul(824,660)&#x27;where()how()})mul(640,76){mul(775,707)])select()mul(100,878)&amp;(where()]do()&lt;mul(966,147)why()(]why()^(?what()\n",
      "\n",
      "<s>don&#x27;t())%&amp;&gt;)!;select()*-mul(538,368)]!,mul(570,271){ select(),mul(26,524):!mul(927,601)where()&#x27;,$&amp;,,mul(135,121)@why()-from() &amp;&amp;mul(166,196)from()mul(847,84)(who()from()why()from()mul(792,999)how()?when()mul(251,498)&gt;(mul(441,614)%%what()%,where()mul(777,118)&lt;&amp;don&#x27;t()};}from()where()^~@/mul(38,906)~mul(878,986)mul(488,713);what(){how()+]?mul(816,172)what()mul(859,756)how()mul(317,431)/what()(mul(413,319)[!#/(^](&#x27;mul@how()mul(369,678)&lt;+[/!?how()when()mul(174{+$ mul(694,959)^how()&amp;:&lt;who()#mul(143,891)+from()@?what()@^}select()mul(361,245)&#x27;where()&amp;mul(91,214)%what()]&gt;?~%];)mul(219,426)[@%(where()]@@}mul(639,368)#!#,what()what()mul(703,822){what()where(388,21)~what()@ (mul(209,455))@&#x27;who()mul(895,762)+[select()$mul(473,702)who();)!+mul(583,550)&gt;?mul(675,229)(+&#x27;[]mul(401,612)mul(410,253)+]&gt;]who()/^from():where()mul(453,54)}(!mul(276,220)&#x27;&gt;mul(940,324)mul(172,454)?:~who()mul(729,261){what(){*%where()~&#x27;when()]mul(199,694)(~(&lt;@when()mul(515,554)&#x27;mul(234,657)@!)&gt;)*~}why() mul(913,964)mul(149,132)/~mul(373,142)where()[mul(324,854)&amp;how() +{&amp;%,mul(872,613)*&lt;why()[])?[do()</s>\n",
      "\n",
      "mul(506,436)!@why()mul(308,28)?&amp;who()+mul(130,254]when()!mul(57,512)$*~mul(874,349)when(){]mul(128,288)[who()}$]:!(mul(117,644)select(59,177)#+,how()from()% mul(701,276)from()@;(why()! -*}mul(784,997)who()where()$how()where()mul(883,710);when()mul(45,149)(where()/do()who()select()[why());,mul(296,703)? mul(881,162)&#x27;[why()*mul(293,304)*&amp; mul(443,960)#who(757,994)&amp;&lt;(@#+);mul(739,318)&amp;,when()[where()mul(281,625) why()/+]what()mul(88,646)%~~select()%who()&lt;mul(885,753)::from()![when()mul(625,409)$mul(201,618)&lt;who()#where()from()@/mul(290,974:;&amp;&gt;-:,+select()from()mul(942,583)select()&lt;!,mul(876,685)why())mul(103,616)where(52,533)why()##mul(867,558)what()when())!mul(955,743)-%from(672,345) how()do()*:who()!&gt;&lt;{what()mul(488,404)@mul(573,892)&#x27;(mulhow()when()&#x27;/mul(344,334)select()&gt;#!}mul(868,909),$%mul(729,810)mul(630,215),{?how()where()*select()mul(229,873)%~from()*&lt;% #^who()mul(248,481)why(541,729)select()]mul(639,438)~({ +]( }mul(563,361)^:$?;mul(148,895)!~how(677,192)select();mul(703,618)-how()from(),:,}#mul(383,639)#!mul(164,723)when()&lt;select(960,127)from()$&#x27;{%~;mul(45,490))@mul(110/!#&#x27;:; (]&lt;mul(661,87) [what()?/mul(854,581)from()],$]@&gt;&gt;mul(619,575)-%$,;^mul(712,573)&gt;/(-#;how(626,802)mul(604,893)mul(227,185)&gt;,*what(259,152))!mul(805,458)]&amp;)-,~why();mul{[ ,&gt;who(634,559)@mul(242,122)mul(745,329)who()how()^)%/mul(256,115)- $}&lt;mul(925,466what(757,32)select()+!;mul(958,717) &amp;&#x27;;;mul(616,882)mul(199,18)/?+]why()[*mul(23,351)(@(mul(615,742):-*)mul(590,124)mul(985,821)@%select()mul(487,459)&amp;mul(319,344)*[*from()select()&lt;+,mul(305,231);($where(112,479)~{;mul(232,514)~!&#x27;~from()[;[mul(401,476)&lt;mul(485,814)#&#x27;mul(490,69)who()&lt;@where()-/}$:-do():},when())&gt; @$&gt;mul(428,81)where()(&amp;where()}do()when(338,441)^}$&lt;&lt;where()&gt;)mul(587,14)%select(),%{!?}when(){mul(66,344)#how()[,from()who()! :(mul(690,739)}mul(502,75)} +where(368,348)from()&#x27;where()where()/&amp;mul(550,732)\n",
      "[&lt;$&#x27;&#x27;what()why(610,674);mul(533,251)/mul(226,855);mul(295,649)]-what() {,(@mul(737,515)when(471,162)mul(751,898){%,&gt;&gt;{(when()when()select()mul(865,649)&gt;$#from()mul(614,590:)how()*~where()-mul(874,991)how()&lt;}:why(846,672);mul(828,195))mul(739,482) ;]/{(%who()mul(521,901))@!select()&gt;why()mul(112,628)!]how()[%!&#x27;mul(851,646)$&gt;when()mul(842,55)%$why()mul(164,534) where()::where()mul(145,6)]*when()+@#&amp;(mul(459,695)when()&lt;$}how()$[how(526,933)who(73,62)&gt;mul(527,796)what()*;-!mul(183,596);mul(837,933)mul(693,684)!)]  select()[ !mul(379,67)select(){who(333,123)&gt;mul(120,112)?how()@what()why()why(535,724)mul$,,mul(661,256)?why()*mul(894,631)^$from()#]/@mul(111,135)who()$who()how()how()when()$) mul(337,371)]~from()\n",
      "\n",
      "<s>don&#x27;t()select()-&lt;^mul(706,999){#^$+~+;mul(667,389)+~%/&gt;%mul(471,136)mul(409,563)}where(785,260)~who()mul- )&lt;]mul(476,262):select()what()?&amp;&lt;&#x27;$when()(mul(567,673)&amp;who()mul(802,520)){&lt;!why()why()}&gt;-$mul(155,808)$+mul(392,146)&amp;when()[,mul(505,764)%mul(997,837)&lt;&#x27;-&amp;why()[#mul(14,131)where()*why()where()@@do()</s>\n",
      "\n",
      "&lt;:,&amp;*mul(453,440)^/[mul(977,343)~[%from()mul(62,672)&lt;$do()#%mul(971,495)}what()mul(98,733);how()!mul(815,13)when())##mul(12,514)!#*:^where()@?mul(704,581)+mul(656,388)mul(968,264)how()who(459,907)!!&amp;;$mul(639,135)who();!mul(554,238)-*,%~&lt;mul(549,330)select()who(214,680)&gt;-&#x27;^mul(613,35)({*;)&#x27;mul(300,593)?} /why(366,710)\n",
      "\n",
      "<s>don&#x27;t()mul(541,734)why(770,959)?when()&lt;who()([+mul(110,600)select()}why())mul(936,678)how()from()+:&amp;select()~ mul(564,294)/where()who()@mul(583,664){%;;&gt;+&lt;mul(354,509)why():mul(112,317)*{)&#x27;}how() why()&#x27;!mul(307#how()who();!&amp;who()][mul(765,150)mul(819,139)&#x27;select(820,327),where()+from() how()?&#x27;mul(364,188)who(408,929)+who()}select()&#x27;who()who()mul(995,874)}$~/&gt;;&#x27;mul(887,973)who()mul(993,239)where()^when()^,[#:mul(325,621)where()-;&lt;}!where(448,355)(mul(953,77)select()#{$*%mul(124,72)?&#x27;mul(19,453)when()(/why()where()%mul(363,709$:what()!&gt;{}who()mul(795,307)??how()[mul(18,31&amp;[%select() $where())!why()mul(287,498)&gt;-?*&amp;when()mul(74,814&gt;~why()when(),$(mul(185,120)mul(32,831)&#x27;why()mul(608,689);~#,who() how()~!mul(876,744)&#x27;from():){do()</s>\n",
      "\n",
      "!]why(30,513)/who(876,41)from(254,279)mulhow()from()from()where()&amp;mul(8,16)mul(329,708)?{~#{+why()why()@mul(334,310)!*who()mul(213,492)]mul(172,234)[}$,&lt;) mul(533,937)mul(729,811){mul(176,287)%/-&amp;/$what()from()-mul(657,961)&amp;(mul(978,585)~]#&#x27;$mul(815,133)why()##where()~~where(){;mul(330,156)where()who(896,631)from()*what())mul(995,394)~(from(),&#x27;&#x27;,(mul(146,412)}@:&#x27;from()mul(74,137)(#who()who()&gt;where()*mul(711who();mul(393,823)(;mul(728,574)&gt;/$mul(164,411)&lt;who()how(870,24))how()&amp;}mul*% select()%/&gt;]@mul(667,120)#:@)mul(241,857?who()where()^:select()mul(874,315)+who()why()?;@&#x27;+when()\n",
      "\n",
      "<s>don&#x27;t()^select()from()#where()]{how(478,532):what()mul(882,399how()!from()@when()*where()from()mul(121,283);%#{($mul(59,76)from()$/mul(284,919)&gt;&lt;$?/&gt;mul(171,491)~mul(327,128)&lt;)#how()[,&#x27;#}$mul(85,766)!{^why()from()%mul(201,803^*do()</s>\n",
      "\n",
      "%]why()why()+why()]++mul(878,596)]mul(29,225)&amp;,who()/where()who()who()what();mul(257,352)&gt;&#x27;how()(-$,where(560,922)mul(169,577)!who(){what()select(){\n",
      "\n",
      "<s>don&#x27;t()#^mul(534,786)&amp;&amp;$mul(857,238)#@where()]mul(689,487))~[when()where()&lt;?mul(222,741)!mul(385,811)*@-mul(767,740)%when()why()who()::#where()^mul(432,228)what()select():where()don&#x27;t()how()&lt;!;*when()}mul(672,806){&lt;&#x27;(mul(841,126)how()mul(320,259)&#x27;}what()mul(268,877)from()}+)*&#x27;(&gt;~mul(793,968)why()when()select()$,*mul(26,17)mul(20,863)$&#x27;$*#@how()#mul(696,339)select()-mul(28,879)why() /select()*mul(717,19)who(){&#x27;]~]]#!/usr/bin/perlwhen()mul(367,171)\n",
      "%when(651,576)}{]%+]mul(603,277)&lt;{where()&amp;$-&#x27;%mul(35,478)mul(272,670where(535,775)from()&gt;}where()mul(435,668)&gt;-select()@~}mul(917,854:/why() &lt;~&#x27;~when(355,462)mul(124,375)@^*(&lt;*[ don&#x27;t()/who()/mul(945,697)where()mul(882,7){+mul(69,260)-how()&lt;from()where(640,717)what()where()mul(83,864)mul(772,828)&amp;&lt;@:@mul(210,454)&amp; (^~[%@mul(678,869)%how()~&amp;+what()]/from()why()mul(672,452)#!who(355,256)&lt;#what()(mul(152,659)?([@;select()where();do()</s>\n",
      "\n",
      "what()select()(when()]mul(557,586)when(79,896)-^-how()^mul(290,50)select()&lt;how()%%$what()#~!mul(711,368)&lt;;!\n",
      "\n",
      "<s>don&#x27;t()+&#x27;mul@# select();[$where() ][mul(877,359)do()</s>\n",
      "\n",
      "&lt;what()#mul(545,361)where()what()&#x27;*why()where(){who()+mul(338,61)+where()?;&#x27;mul(233,835)*when();})?)&amp;from(){do()!)mul(345,942)^mul(27,903;mul(169,778)select()^{[{ + ~mul(41,863)who()mul(392,367)&lt;$why()&lt; ? mul(27,423)-%mul(939,220)where()?why()%mul(808,712)^^;mul(276,164)mul(142,793)#+/{from()&#x27;?}mul/!from()mul(97,673)+@what()where()@^where()}mul(828,37)+&gt;({#{mul(560,950)-}&#x27;mul&lt;what()-why()mul(202,967) }from()why()where()}mul(255,593)where():* ){mul^[&#x27;what()!! ;who()where()mul(835,370)-{]/mul(116,69)mul(731,20)&#x27;when(),who()mul(656,120)^select()?from()mul(760,137)!}from(398,469)where():;)what()%mul(536,801)$how()why()?who()*^%@+mul(402,84)~#&amp;mul(299,585)$]&amp;*;mul(137,876)&lt;%-{how()where()mul(139,249)%+*}mul(367,25)/who(){mul(392,209)&gt;where(),! ~%who()what()-mul(250,270 mul(47,151)&amp;&#x27;&#x27;[\n",
      "\n",
      "<s>don&#x27;t()]when(61,247)+%+-#when()mul(122,885))~:don&#x27;t(),)[{mul(637,997)where()-mul(956,646)why()&#x27;)#how()~mul(761,774)select():! [&#x27;mul(989,366)from()@how(941,580)]*&#x27;:;[mul(963,704):mul@:$(why()^)mul(155,232):&#x27;what()!$%mul(300,251)(&lt;@:&lt;%how()^ +mul(375,864)mul(617,872),:;mul(175,906)what()@]@+{-why()+when(159,169)mul(711,500from()~[select()}when() &amp;/&gt;%mul(652,63)-!,!from()mul(519,182)&#x27;/-+$$where()mul(883,742)mul(454,250)$where()@mul(889,720)?&gt;(mul(957,875)mul(675,759)from()/)(*&gt;who(799,225)what()[mul(742,648)+{&gt; &gt;]{,&gt;mul(391,737)mul(743,765)?[{where()&amp;mul(759,385)from():]]:[,:$mul(305,875)!when();select()&gt;what()#-#mul(483 [-mul(462,60)/$what()&amp;}don&#x27;t() !mul(238,876)what()~;@-!/$/mul(440,228)!&lt;,^];$mul(668,60)+@when()/why()@mul(907,793)[from()-:mul(552,833) mul(921,276)from()mul(18,995)#{from()},what()&gt;mul(71,909)#mul(166,313)^%what()^-* when()how()mul(26,404)mul(170,970)mul(917,165);mul(335,29)how()when(705,598)(+~~mul(614,118)&amp;mul(281,780)how();&amp;([#mul(27,176)]@%%!-)/~why()mul(813,915)select()&amp;mul(895,899)#%~%mul(802,527)&lt;&#x27;$where()how()what()^)why()(mul(962,93)-)%^why()how()mul(451,67)how()[)@[}where()#select()[mul(73,877),}*~~~mul(383,925)where()&amp;where()how(197,895)#from()#$mul(813,528)[@who(),)-from()what()&gt;from()mul(170,868)*from(995,971))~mul(835,419))mul(365,324)/mul(63,101)when()&#x27;~ %):how(){^mul(947,676)+@,where()where()~&#x27;?mul(635-/mul(612,440){&#x27;%(+}]]mul(775,628)&amp;&lt;mul(578,412)( do()</s>\n",
      "\n",
      "mul(921,135)-]# {who()^&lt;mul(75,976)}%~%):%:% mul(215,161){select())&gt;;)#@/what()mul(825,859)&amp; who()#)mul(491,748)}&lt;,;mul(404,634)why()+select()*+&#x27;where()&gt;:mul(681,804)why()mul(645,786)when()/what()&amp;&lt;;from()what();mul%[&amp;+:$&#x27;mul(457,855)-when(840,583)why()mul(479,443)why()~mul!)!-}mul(29,976)-&lt;!&#x27;/}&gt;[+&lt;mul(274,18)%])[%mul(893,678):,&amp;select()when()mul(638,687)[+from()what()/{who()-&gt; mul(23,723)&#x27;who()when()select()&amp;&gt;mul(976,72)@:[/;select()why()#&gt;mul(47,803)($?^-%?%mul(145,548)!:?)+what()?select()where()mul(373,284)select()&amp;)when(61,867)where()+&gt;mul(910,263)&#x27;^!(&lt;) (mul(99,989)\n",
      ",mul(134,916)from()why()?;mul(414,211)from()where()}~&amp;[why()^!mulselect() mul(123,66)@/mul(652&lt;when()%^%how(),}mul(318,994)-# %^*&amp;)mul(282,948)\n",
      "\n",
      "<s>don&#x27;t()~^&#x27;&gt;mul(791,484)~#mul&lt;;&amp;select()what()-do()</s>\n",
      "\n",
      "&lt;+:&#x27;]why()%mul(478,188)&gt;* @^ #mul(162,677)/who() )/@)how()from()mul(919,612)why()what()^};^why()$;why()mul(9,232) #how()mul(413,460)&gt; mul(254,330)!&gt;~;mul(16,657)&lt;where();what();$mul(150,998){mul(290,179)!- mul(607,707)why()select()*;{);who(226,887)mul(795,112)mul(383,996)-^:what(697,317){what()@?@mul(352,290)%&gt;[}*what()]&#x27;mul(402,455)(mul(159,801)how()!/()mul(890,162):why();how()mul(177[! ^-@&lt;from()select()}mul(91,452)[how()? *who() mul(834why(226,342){{&lt;$~&gt;mul(412,292)/[{mul(834 ~from()!;when()mul(943,547)&#x27;+;$:from()mul(820,501)how()+~who(714,864)mulfrom() mul(331,67);-$&#x27;mul(168,191)[*;&amp;~how()/[what()what()mul(384,321)what()&gt;@how()when()[-@&lt;mul(365,727)mul(349,706)&#x27;who()]&amp;-mul(528,940)when()(&lt;]select()@}*(why()mul(85,882)[{-select()/mul(273,409)~mul(964,434)who()what()!from()&gt;+,mul(914,214)/~mul(708,958)do()@+mul(106,731)*(where()what()where()&gt;,where()mul(60,776+mul(487,915)from()&amp;{;&#x27;what()^*mul(319,884)(}who()mul(328))when()*@ +mul(754,857)where(),+from()&lt;mul(651,362)?;[/}@}when()mul(399,158)&amp;@how();;mul(964,753)!^why()}when()]!{how()mul(525,209)who()^mul(869,719)- &lt;&gt;~&gt;&lt;&gt;~mul(207,721){:#how()what()when()?&lt;+mul(107,805)^$%}from(),[,$[mul(375,736)mul(73,81)-$where()$-&lt;&lt;:&lt;mul(588,899)who()&amp;mul(902,680);?[ &lt;)mul(715,138) how() +;mul(875,81)],;$!?(select()mul(669,19);!*%},!why()~}mul(90,643)]mul(969,823)}$@when()&amp;where()mulwhere()&lt;&amp;%&gt;:mul(435,179)when()/,how()&amp;,)@mul(899(what()why()/;why()}])!what()mul(855,799)~{@where()why())where()why()\n",
      "\n",
      "<s>don&#x27;t();!~,mul(801,421)mul(688,282)from()?when()where()/$~&#x27;when()mul(799,579)[mul(589,929)*why(),[[who()from()/mul(422,435){{~,-mul(811,256)}why()--mul(284,323)$;?;from()when()/@!,mul(411,499)mul(712,633)?(#select(699,176)where()]why()[who()do()</s>\n",
      "\n",
      "[-mul(252,327)mul(733,191)-why()+}when()$mul(575,854):--#?what()^,]&gt;mul(710,364)&lt;where(435,528);^ : how()mul(859,814)]+what()*) mul(173,667)?&gt;:-&#x27;/mul(955,516)@who()+mul(765,740)when()@?+)!&#x27;\n",
      "\n",
      "<s>don&#x27;t()[-&lt;mul(365,369)^who()why(511,407)-mul(532,507))mul(424,846)~from()from(828,590)-*]mul(86&#x27;&gt;when()~[/ when()?; mul(65,78)}]&lt;how()%+?why())mul(573,533)mul(729,878)*mul(520,776)where()from()!from()&lt;@do()</s>\n",
      "\n",
      "when()&amp;^(who()/mul(945,626)% who();;(^+what();mul+why()}((where()&gt;(-mul(268,76)/select()~:where(941,686)mul(936,336)-@mul(958,345)who(){~mul(548,108)!mul(951,331)[#?from()(^:%mul(843,813)$how();why():^why()+mul(594,381)select()when()from();]select()&amp;:mul(765,515) /what()why())#)select()[mul(4,236)]%;^what()$@*do()&amp;&gt;mul^}&#x27;#+~*&amp;where(721,403)mul(430,162)mul(54,147)%)&#x27;}$^where()}mul(823,311)mul(882,70)mul(869,503)@who():)&amp;what()mul(383,271)~mul(568,286why(365,711)why(387,388)!)what()from()mul(867,166)where(243,478))?how()-@&gt;@mul(191,472)}@&amp;}from();^}[mul(45,832)-&gt;/what(705,241)(&gt;what()]mul(85,192)&amp;&amp;]#-$#mul(498,712)@)when(),]mul(521,682)/how()}-}mul(366when()+,when()/mul(697,179) %(mul(412,215)$mul(798)^*mul(85,476),&#x27;how()  +$;mul(423,624)where()mul(501from()@{who()-mul(457,671)~who()when()how(343,28)%where(675,997)*why()how(186,529)#mul(189,417),+[[@when()/mul(526,457))($+!*@mul(817,569))(- &amp;%&amp;/why()mul(909,493);mul(484,901);!$why()&lt;^)~]do()&#x27;/mul(968,342)}*;mul(982,164)&amp;&gt;why()]&gt;select()&amp;[mul(364,498)mul(595,443) -who();{{?(~mul(33,531)who()who(455,309)*select()when()mul(367,411)who()what()?where()^mul(345,845)&lt;@mul(376;who()[select()&gt;*!how()do()#from())&lt;(mul&amp;from(128,233)how(){%when()mul(851,364)mul(494,714)\n",
      "%{&lt;&lt;%mul(268,805))&amp;#mul(373,10)!%};%,when():mul(628,215)&amp;}&amp; mul(322:?&gt;^&lt;when()&gt;*,,mul(355,828);mul(939,916);&gt;,where()][&gt;)};mul(925,115)]mul(161,40) @ mul(234,412)[%%mul(414,812) when()*mul(326,103)-[({;/#/^+mul(810,213)\n",
      "\n",
      "<s>don&#x27;t()- {&gt;who(){mul(527,352)@&amp;&#x27;)*when()]who()%mul(736,73)from()[(}mul(917,960)+,-%mul(945,466)~why(398,607),mul(198,701){&#x27;-(when(),*:[mul(822what()}]:&gt;who(685,960)?mul(866,969) *#~when()mul(624,619)?&lt;&#x27;;what()()&lt;$mul(582,429),@mul(112,480)&#x27;!mul(113,204)what()&gt;$~%,$&#x27;*mul(909,964)?who()why()how()$mul(181,265)&#x27;mul(227,282)*&gt;:+from()[how()%mul(534,756)]from()/mul(782,594)when(976,63):&amp;,where(101,159)@$why()how()mul(949,569)how()why()where()what()}&amp;&lt;[{mul(984,451);#how()what()~#mul(976,666)~&#x27;what()mul(879,268from()when()mul(952,795){where()-&amp;,%/select()mul(892,249)mul(562,394)do()</s>\n",
      "\n",
      "-&lt;how()-[ mul(682,68)select(){#what(390,528)from()!&amp;$mul*%;%why()}[mul(641,891)&#x27;[mul(604,200)* &lt;?;@~-&lt;mul(32,446)#select()mul(367,881)who()}-+!@/mul%%how()how()mul(484,441)&#x27;!*-,why()//mul(232,705)&gt;&gt;),&amp;(}&#x27;mul(624,35)mul(770,961);why()/;//+*mul(460,933)&gt;%%@from()mul(913,510)from()@from()how()#mul(336,262)select()!what()%/select(){*!{mul(324,598)mul(520,239)/select()@ how()how()mul(9,679)  &amp;from()mul(132,603)where()mul(918,579)-why()&#x27;mul(379,960)^}#{/who(910,167)who(464,273)mul(225,34)where(){?#%why()[}mul(795,611)/mul(985,849)(mul(212,96)&lt;;@from()mul(692,369)&gt;mul(525,547)/who()-:&lt;how()mul(715,343)when(488,771),&#x27;mul(303,170)where()&gt;how()&gt;:?%}}^mul(752,768)why()%mul(696,11) *)^/*!&#x27;mul(148,335)from()mul(485,796),,+&gt;&gt;&#x27;?do()+;select()?:mul(456,261)?!mul(43,918)~-)from(),}&gt;)mul(960,664)&#x27; -{from()^,where()-what()mul(508,451)]+ {why()why()/%@/mul(176,657)select(488,126):&#x27;where()mul(247,928)/how()who():!mul(844,455)#&lt;(&amp;when()from()&amp;*mul(898,677)from(){mul(766,841)mul(990,880)who()where()?;mul(487,623)from()why()[mul(163,74)select();$&gt;select(190,549)do()&lt;:+select(677,307)[(how()~]mul(328,574))#^)mul(767,737)mul(996,115);from()[from()mul(977,738))from()when()[mul(868,591)%what()mul(347,943)&#x27;-why()**#how()~mul(327,720)-;)-[#-~why()mul(71,877)-!select()/,&#x27;$&#x27;mul(741,845)[&amp;^$when()}mul(686,640)&amp;}why(323,972)&#x27;$[mul(352,2)&amp;who()-+%$} mul(295,145)&#x27;;]*when()$&#x27;&lt;mul(777,684),where()]\n",
      "\n",
      "<s>don&#x27;t();what()%$?-+]/#mul(981,496)mul(402,419)what()*^what()mul(165,139)from()who()where(),how()select()from()%mul(376,689) mul(389,696)where()what(949,275)how()~who(600,641)&#x27;from()!#mul(436,525)~/[%-}^mul(489,872)select()mul(82,53)*select(70,72)*what()what()]:{from()%mul(433,905);+-mul(191,114);[from()mul(401,992)?&#x27;mul(257,949)**&#x27;/~why()*!mul(902,617)where()@]&gt;}-mul(61,125)#mul(446,48)@~{*[*$when()who()who()mul(300,206)&amp;+!where()mul(938,463)when()!&amp;%where() &amp;*;*mul(772,27)]&amp;;how()!]how()do()</s>\n",
      "\n",
      "/^$what()how()mul(305,773)&gt;mul(216,395)&#x27;:mul(291,15)*@what()(^mul(56,367))~,&gt;mul(233,290)?&amp;;who(333,171)what(370,12)$ ?mul(306,488)&lt;^where()($mul(627,462))]select()&#x27;:mul(565,994)~&gt;mul(626,380)]}who(){mul(590,221)mul(684,793) who()/{%@(from()@?mul(448,580)from(856,317)!]why()from()&amp;&gt;[?mul(971,484)~mul(417,679)mul(33,70)^what()mul(816,623);@mul(735,657)\n"
     ]
    },
    {
     "data": {
      "text/html": [
       ");&gt;]mul(437,864)^mul(880,907)}&lt;how(){+[!&#x27; where()mul(215,270)from())@#mul(737,510)@&lt;&#x27;why()+mul(634,344)$&gt;::mul(528,832);{~&lt;mul(514,817)&gt;~who()who()(how(84,130)where(){%{mul(270,137)@:mul(787,669)*]&amp;^&#x27; @from()mul(896,940){where()when()]&lt; -[mul(536,622)select()!{\n",
       "\n",
       "<s>don&#x27;t()-+^()!)}select()mul(287,737)&amp;who()mul(452,401)from(763,594)$*when()select()&amp;mul(804,971);}&lt;~,(^%)[mul(148,448)mul(835,400)[}*$ #,do()</s>\n",
       "\n",
       "?where(362,730)~why()#(;mul(448,254)&#x27;-/who() from():\n",
       "\n",
       "<s>don&#x27;t():what()&#x27;~(select()%mul(538,987): who()/#where()/what()where(587,42)select()mul(571,802)why()&lt;]+}:#mul(446,206),/from()select()mul(271,435);#+^mul(8,739)-:~;&lt;mul(361,969)+?^mul(238,723)&lt;+&lt;$&lt;from()$$mul(93,726)}&gt;?+~[#~mul(370,931)&#x27;}select()who()/when()from()%from()who()do()</s>\n",
       "\n",
       "#mul(935,409)mul(356,457)]#mul(445,30)?&amp;^&#x27;where()&amp;%&lt;&amp;mul(568,491)when()/^@who()when()&amp;~#)mul(327,654):from(){+?#what()&lt;?;\n",
       "\n",
       "<s>don&#x27;t()when()&lt;?from():why()^mul(69,349)~!why()-from()[&gt; @!mul(136,811)mul(735,58)&#x27;from(242,599)don&#x27;t()where(),&amp;(mul(306,552)when()&amp;^]do()</s>\n",
       "\n",
       "/]&gt;*,-(;why()mul(641,212)%\n",
       "\n",
       "<s>don&#x27;t(){mul(39,383);][[*mul(61,441),how()])why()~where()from()mul(688,328){~)(:&amp;}!~#mul(230,832)*[!~ /&#x27;~don&#x27;t()who()where()what()}mul(506,339)(&#x27;&lt;mul(9,362)$:@how()&amp;&amp;,-mul(776,717)]*)what()who()&amp;&amp;@how()&gt;don&#x27;t():[&gt;&amp;[#?)when()mul(573,558))-what()~why()how()where()~-&gt;mul(932,906)mul(938,661) ):who()do()</s>\n",
       "\n",
       "from()*mul(926,267);/: };^select()mul(750,244)^*what()$what()who()~}from()do()){,&#x27;}mul(523,581)-%@&gt;+&gt;mul(94,990)!/who(571,986)/-/?mul(174,631)from()%+?&gt;@&lt;?#)mul(57,234)?}mul(943,865)&#x27;([why()what()from()@%%,mul(633,471) where(),select()mul(232,415)), when()&lt;mul(126,82)what()who()what()mul(687,55){select()/what()mul(674,305)&gt;+[^*who()mul(261,413)?-who()^]from()%do()$)~;mul(930,454)$[~;select()why()select()who():@mul(590,349)**%;mul(688,279)+from()^mul(86,495);mul(417,700)what()(/^: ;+&lt;when()mul(383,608)where()!when()when()[-#}*mul(736,637)}&#x27;select()[&amp;&lt;select()where()-/mul(440,969)&lt;,{mul(412,588)}{when()where()how(){?{}from()do()select()~&amp;select()&#x27;?%&gt;why()mul(312,134)&#x27;?&lt;]^@]@!$mul(400,368)/mul(91,772)^mul(108,930)&amp;-mul(370,824) /&#x27;,why()mul(408,938)#?)^&#x27;what()mul(618,424)!mul(384,342)where(695,275)select(){};#select()mul(158,114)[from() ,)what(581,474)who()%]mul(727,849)@%~&gt;]%mul(358,870)mul(918,280)]&amp;mul(434,803)when()#&amp;@@how()}][&#x27;mul(737,295)!!-&gt;where()&lt;mul(971,370)what()^,when()mul(134,354)/@)(when()mul(995,35):?,#&amp;what()#+~mul(85,68)(&#x27;;?&gt;mul(108,927)why()select()~mul(268,521)&lt;&lt;[where()-mul(473,558)#why()[how()(&lt;who()mul(383,864)&#x27;@[from(),where(234,990)^)when()select(875,735)\n",
       "\n",
       "<s>don&#x27;t()-how();:(&gt;select()mul(302,377)/#mul(658,882)]mul(400,990) }:%-!]mul(899,38){@mul(389,779)*#!~what()mul(684,353)~who()&lt;]$&lt;mul(909,339)mul(989,387@#:how()&amp;?,*}mul(817,210)mul(270,752)?&lt;select(),who() [,^where()mul(337,83)!when(4,150)from() +$[[when()mul(345,438)[{${$when()from()how(),mul(210,219):select();*#&gt;/mul(69,288)from()who()&gt;#mul(329,484)mul(652,755)from(93,321)^select()select()mul(446,336)~}]where()what()&lt;?+who()mul(686,628);select()mul(270,937)mul(582,221)why()}how()mul(19,975){how()]when()who()where()$+when()do()</s>\n",
       "\n",
       "mul(900,993)mul(613,135)#(&#x27;who()!why(726,584)};mul(375,245):@&gt;&#x27;-^&#x27;mul+*,)why()mul(487,896)]%}mul(807,261)@where()(from()-what()%*mulfrom() when()how()&lt;~{~:mul(800,203)mul(921,126)&#x27;why()-mul(668,781)% (mul(900,757)^@&amp;{mul(710,725)(?&gt;&lt;select()!who()how()@mul(121,934)when()from()&amp;mul(551,3)({{&amp;select()mul(7,711)(]select()!!who()/mul(392,449)\n",
       "&gt;&#x27;]%&lt;mul(428,73)(what()mul(64,592)why()mul(87,558)!who()/^select()mul[mul(824,660)&#x27;where()how()})mul(640,76){mul(775,707)])select()mul(100,878)&amp;(where()]do()&lt;mul(966,147)why()(]why()^(?what()\n",
       "\n",
       "<s>don&#x27;t())%&amp;&gt;)!;select()*-mul(538,368)]!,mul(570,271){ select(),mul(26,524):!mul(927,601)where()&#x27;,$&amp;,,mul(135,121)@why()-from() &amp;&amp;mul(166,196)from()mul(847,84)(who()from()why()from()mul(792,999)how()?when()mul(251,498)&gt;(mul(441,614)%%what()%,where()mul(777,118)&lt;&amp;don&#x27;t()};}from()where()^~@/mul(38,906)~mul(878,986)mul(488,713);what(){how()+]?mul(816,172)what()mul(859,756)how()mul(317,431)/what()(mul(413,319)[!#/(^](&#x27;mul@how()mul(369,678)&lt;+[/!?how()when()mul(174{+$ mul(694,959)^how()&amp;:&lt;who()#mul(143,891)+from()@?what()@^}select()mul(361,245)&#x27;where()&amp;mul(91,214)%what()]&gt;?~%];)mul(219,426)[@%(where()]@@}mul(639,368)#!#,what()what()mul(703,822){what()where(388,21)~what()@ (mul(209,455))@&#x27;who()mul(895,762)+[select()$mul(473,702)who();)!+mul(583,550)&gt;?mul(675,229)(+&#x27;[]mul(401,612)mul(410,253)+]&gt;]who()/^from():where()mul(453,54)}(!mul(276,220)&#x27;&gt;mul(940,324)mul(172,454)?:~who()mul(729,261){what(){*%where()~&#x27;when()]mul(199,694)(~(&lt;@when()mul(515,554)&#x27;mul(234,657)@!)&gt;)*~}why() mul(913,964)mul(149,132)/~mul(373,142)where()[mul(324,854)&amp;how() +{&amp;%,mul(872,613)*&lt;why()[])?[do()</s>\n",
       "\n",
       "mul(506,436)!@why()mul(308,28)?&amp;who()+mul(130,254]when()!mul(57,512)$*~mul(874,349)when(){]mul(128,288)[who()}$]:!(mul(117,644)select(59,177)#+,how()from()% mul(701,276)from()@;(why()! -*}mul(784,997)who()where()$how()where()mul(883,710);when()mul(45,149)(where()/do()who()select()[why());,mul(296,703)? mul(881,162)&#x27;[why()*mul(293,304)*&amp; mul(443,960)#who(757,994)&amp;&lt;(@#+);mul(739,318)&amp;,when()[where()mul(281,625) why()/+]what()mul(88,646)%~~select()%who()&lt;mul(885,753)::from()![when()mul(625,409)$mul(201,618)&lt;who()#where()from()@/mul(290,974:;&amp;&gt;-:,+select()from()mul(942,583)select()&lt;!,mul(876,685)why())mul(103,616)where(52,533)why()##mul(867,558)what()when())!mul(955,743)-%from(672,345) how()do()*:who()!&gt;&lt;{what()mul(488,404)@mul(573,892)&#x27;(mulhow()when()&#x27;/mul(344,334)select()&gt;#!}mul(868,909),$%mul(729,810)mul(630,215),{?how()where()*select()mul(229,873)%~from()*&lt;% #^who()mul(248,481)why(541,729)select()]mul(639,438)~({ +]( }mul(563,361)^:$?;mul(148,895)!~how(677,192)select();mul(703,618)-how()from(),:,}#mul(383,639)#!mul(164,723)when()&lt;select(960,127)from()$&#x27;{%~;mul(45,490))@mul(110/!#&#x27;:; (]&lt;mul(661,87) [what()?/mul(854,581)from()],$]@&gt;&gt;mul(619,575)-%$,;^mul(712,573)&gt;/(-#;how(626,802)mul(604,893)mul(227,185)&gt;,*what(259,152))!mul(805,458)]&amp;)-,~why();mul{[ ,&gt;who(634,559)@mul(242,122)mul(745,329)who()how()^)%/mul(256,115)- $}&lt;mul(925,466what(757,32)select()+!;mul(958,717) &amp;&#x27;;;mul(616,882)mul(199,18)/?+]why()[*mul(23,351)(@(mul(615,742):-*)mul(590,124)mul(985,821)@%select()mul(487,459)&amp;mul(319,344)*[*from()select()&lt;+,mul(305,231);($where(112,479)~{;mul(232,514)~!&#x27;~from()[;[mul(401,476)&lt;mul(485,814)#&#x27;mul(490,69)who()&lt;@where()-/}$:-do():},when())&gt; @$&gt;mul(428,81)where()(&amp;where()}do()when(338,441)^}$&lt;&lt;where()&gt;)mul(587,14)%select(),%{!?}when(){mul(66,344)#how()[,from()who()! :(mul(690,739)}mul(502,75)} +where(368,348)from()&#x27;where()where()/&amp;mul(550,732)\n",
       "[&lt;$&#x27;&#x27;what()why(610,674);mul(533,251)/mul(226,855);mul(295,649)]-what() {,(@mul(737,515)when(471,162)mul(751,898){%,&gt;&gt;{(when()when()select()mul(865,649)&gt;$#from()mul(614,590:)how()*~where()-mul(874,991)how()&lt;}:why(846,672);mul(828,195))mul(739,482) ;]/{(%who()mul(521,901))@!select()&gt;why()mul(112,628)!]how()[%!&#x27;mul(851,646)$&gt;when()mul(842,55)%$why()mul(164,534) where()::where()mul(145,6)]*when()+@#&amp;(mul(459,695)when()&lt;$}how()$[how(526,933)who(73,62)&gt;mul(527,796)what()*;-!mul(183,596);mul(837,933)mul(693,684)!)]  select()[ !mul(379,67)select(){who(333,123)&gt;mul(120,112)?how()@what()why()why(535,724)mul$,,mul(661,256)?why()*mul(894,631)^$from()#]/@mul(111,135)who()$who()how()how()when()$) mul(337,371)]~from()\n",
       "\n",
       "<s>don&#x27;t()select()-&lt;^mul(706,999){#^$+~+;mul(667,389)+~%/&gt;%mul(471,136)mul(409,563)}where(785,260)~who()mul- )&lt;]mul(476,262):select()what()?&amp;&lt;&#x27;$when()(mul(567,673)&amp;who()mul(802,520)){&lt;!why()why()}&gt;-$mul(155,808)$+mul(392,146)&amp;when()[,mul(505,764)%mul(997,837)&lt;&#x27;-&amp;why()[#mul(14,131)where()*why()where()@@do()</s>\n",
       "\n",
       "&lt;:,&amp;*mul(453,440)^/[mul(977,343)~[%from()mul(62,672)&lt;$do()#%mul(971,495)}what()mul(98,733);how()!mul(815,13)when())##mul(12,514)!#*:^where()@?mul(704,581)+mul(656,388)mul(968,264)how()who(459,907)!!&amp;;$mul(639,135)who();!mul(554,238)-*,%~&lt;mul(549,330)select()who(214,680)&gt;-&#x27;^mul(613,35)({*;)&#x27;mul(300,593)?} /why(366,710)\n",
       "\n",
       "<s>don&#x27;t()mul(541,734)why(770,959)?when()&lt;who()([+mul(110,600)select()}why())mul(936,678)how()from()+:&amp;select()~ mul(564,294)/where()who()@mul(583,664){%;;&gt;+&lt;mul(354,509)why():mul(112,317)*{)&#x27;}how() why()&#x27;!mul(307#how()who();!&amp;who()][mul(765,150)mul(819,139)&#x27;select(820,327),where()+from() how()?&#x27;mul(364,188)who(408,929)+who()}select()&#x27;who()who()mul(995,874)}$~/&gt;;&#x27;mul(887,973)who()mul(993,239)where()^when()^,[#:mul(325,621)where()-;&lt;}!where(448,355)(mul(953,77)select()#{$*%mul(124,72)?&#x27;mul(19,453)when()(/why()where()%mul(363,709$:what()!&gt;{}who()mul(795,307)??how()[mul(18,31&amp;[%select() $where())!why()mul(287,498)&gt;-?*&amp;when()mul(74,814&gt;~why()when(),$(mul(185,120)mul(32,831)&#x27;why()mul(608,689);~#,who() how()~!mul(876,744)&#x27;from():){do()</s>\n",
       "\n",
       "!]why(30,513)/who(876,41)from(254,279)mulhow()from()from()where()&amp;mul(8,16)mul(329,708)?{~#{+why()why()@mul(334,310)!*who()mul(213,492)]mul(172,234)[}$,&lt;) mul(533,937)mul(729,811){mul(176,287)%/-&amp;/$what()from()-mul(657,961)&amp;(mul(978,585)~]#&#x27;$mul(815,133)why()##where()~~where(){;mul(330,156)where()who(896,631)from()*what())mul(995,394)~(from(),&#x27;&#x27;,(mul(146,412)}@:&#x27;from()mul(74,137)(#who()who()&gt;where()*mul(711who();mul(393,823)(;mul(728,574)&gt;/$mul(164,411)&lt;who()how(870,24))how()&amp;}mul*% select()%/&gt;]@mul(667,120)#:@)mul(241,857?who()where()^:select()mul(874,315)+who()why()?;@&#x27;+when()\n",
       "\n",
       "<s>don&#x27;t()^select()from()#where()]{how(478,532):what()mul(882,399how()!from()@when()*where()from()mul(121,283);%#{($mul(59,76)from()$/mul(284,919)&gt;&lt;$?/&gt;mul(171,491)~mul(327,128)&lt;)#how()[,&#x27;#}$mul(85,766)!{^why()from()%mul(201,803^*do()</s>\n",
       "\n",
       "%]why()why()+why()]++mul(878,596)]mul(29,225)&amp;,who()/where()who()who()what();mul(257,352)&gt;&#x27;how()(-$,where(560,922)mul(169,577)!who(){what()select(){\n",
       "\n",
       "<s>don&#x27;t()#^mul(534,786)&amp;&amp;$mul(857,238)#@where()]mul(689,487))~[when()where()&lt;?mul(222,741)!mul(385,811)*@-mul(767,740)%when()why()who()::#where()^mul(432,228)what()select():where()don&#x27;t()how()&lt;!;*when()}mul(672,806){&lt;&#x27;(mul(841,126)how()mul(320,259)&#x27;}what()mul(268,877)from()}+)*&#x27;(&gt;~mul(793,968)why()when()select()$,*mul(26,17)mul(20,863)$&#x27;$*#@how()#mul(696,339)select()-mul(28,879)why() /select()*mul(717,19)who(){&#x27;]~]]#!/usr/bin/perlwhen()mul(367,171)\n",
       "%when(651,576)}{]%+]mul(603,277)&lt;{where()&amp;$-&#x27;%mul(35,478)mul(272,670where(535,775)from()&gt;}where()mul(435,668)&gt;-select()@~}mul(917,854:/why() &lt;~&#x27;~when(355,462)mul(124,375)@^*(&lt;*[ don&#x27;t()/who()/mul(945,697)where()mul(882,7){+mul(69,260)-how()&lt;from()where(640,717)what()where()mul(83,864)mul(772,828)&amp;&lt;@:@mul(210,454)&amp; (^~[%@mul(678,869)%how()~&amp;+what()]/from()why()mul(672,452)#!who(355,256)&lt;#what()(mul(152,659)?([@;select()where();do()</s>\n",
       "\n",
       "what()select()(when()]mul(557,586)when(79,896)-^-how()^mul(290,50)select()&lt;how()%%$what()#~!mul(711,368)&lt;;!\n",
       "\n",
       "<s>don&#x27;t()+&#x27;mul@# select();[$where() ][mul(877,359)do()</s>\n",
       "\n",
       "&lt;what()#mul(545,361)where()what()&#x27;*why()where(){who()+mul(338,61)+where()?;&#x27;mul(233,835)*when();})?)&amp;from(){do()!)mul(345,942)^mul(27,903;mul(169,778)select()^{[{ + ~mul(41,863)who()mul(392,367)&lt;$why()&lt; ? mul(27,423)-%mul(939,220)where()?why()%mul(808,712)^^;mul(276,164)mul(142,793)#+/{from()&#x27;?}mul/!from()mul(97,673)+@what()where()@^where()}mul(828,37)+&gt;({#{mul(560,950)-}&#x27;mul&lt;what()-why()mul(202,967) }from()why()where()}mul(255,593)where():* ){mul^[&#x27;what()!! ;who()where()mul(835,370)-{]/mul(116,69)mul(731,20)&#x27;when(),who()mul(656,120)^select()?from()mul(760,137)!}from(398,469)where():;)what()%mul(536,801)$how()why()?who()*^%@+mul(402,84)~#&amp;mul(299,585)$]&amp;*;mul(137,876)&lt;%-{how()where()mul(139,249)%+*}mul(367,25)/who(){mul(392,209)&gt;where(),! ~%who()what()-mul(250,270 mul(47,151)&amp;&#x27;&#x27;[\n",
       "\n",
       "<s>don&#x27;t()]when(61,247)+%+-#when()mul(122,885))~:don&#x27;t(),)[{mul(637,997)where()-mul(956,646)why()&#x27;)#how()~mul(761,774)select():! [&#x27;mul(989,366)from()@how(941,580)]*&#x27;:;[mul(963,704):mul@:$(why()^)mul(155,232):&#x27;what()!$%mul(300,251)(&lt;@:&lt;%how()^ +mul(375,864)mul(617,872),:;mul(175,906)what()@]@+{-why()+when(159,169)mul(711,500from()~[select()}when() &amp;/&gt;%mul(652,63)-!,!from()mul(519,182)&#x27;/-+$$where()mul(883,742)mul(454,250)$where()@mul(889,720)?&gt;(mul(957,875)mul(675,759)from()/)(*&gt;who(799,225)what()[mul(742,648)+{&gt; &gt;]{,&gt;mul(391,737)mul(743,765)?[{where()&amp;mul(759,385)from():]]:[,:$mul(305,875)!when();select()&gt;what()#-#mul(483 [-mul(462,60)/$what()&amp;}don&#x27;t() !mul(238,876)what()~;@-!/$/mul(440,228)!&lt;,^];$mul(668,60)+@when()/why()@mul(907,793)[from()-:mul(552,833) mul(921,276)from()mul(18,995)#{from()},what()&gt;mul(71,909)#mul(166,313)^%what()^-* when()how()mul(26,404)mul(170,970)mul(917,165);mul(335,29)how()when(705,598)(+~~mul(614,118)&amp;mul(281,780)how();&amp;([#mul(27,176)]@%%!-)/~why()mul(813,915)select()&amp;mul(895,899)#%~%mul(802,527)&lt;&#x27;$where()how()what()^)why()(mul(962,93)-)%^why()how()mul(451,67)how()[)@[}where()#select()[mul(73,877),}*~~~mul(383,925)where()&amp;where()how(197,895)#from()#$mul(813,528)[@who(),)-from()what()&gt;from()mul(170,868)*from(995,971))~mul(835,419))mul(365,324)/mul(63,101)when()&#x27;~ %):how(){^mul(947,676)+@,where()where()~&#x27;?mul(635-/mul(612,440){&#x27;%(+}]]mul(775,628)&amp;&lt;mul(578,412)( do()</s>\n",
       "\n",
       "mul(921,135)-]# {who()^&lt;mul(75,976)}%~%):%:% mul(215,161){select())&gt;;)#@/what()mul(825,859)&amp; who()#)mul(491,748)}&lt;,;mul(404,634)why()+select()*+&#x27;where()&gt;:mul(681,804)why()mul(645,786)when()/what()&amp;&lt;;from()what();mul%[&amp;+:$&#x27;mul(457,855)-when(840,583)why()mul(479,443)why()~mul!)!-}mul(29,976)-&lt;!&#x27;/}&gt;[+&lt;mul(274,18)%])[%mul(893,678):,&amp;select()when()mul(638,687)[+from()what()/{who()-&gt; mul(23,723)&#x27;who()when()select()&amp;&gt;mul(976,72)@:[/;select()why()#&gt;mul(47,803)($?^-%?%mul(145,548)!:?)+what()?select()where()mul(373,284)select()&amp;)when(61,867)where()+&gt;mul(910,263)&#x27;^!(&lt;) (mul(99,989)\n",
       ",mul(134,916)from()why()?;mul(414,211)from()where()}~&amp;[why()^!mulselect() mul(123,66)@/mul(652&lt;when()%^%how(),}mul(318,994)-# %^*&amp;)mul(282,948)\n",
       "\n",
       "<s>don&#x27;t()~^&#x27;&gt;mul(791,484)~#mul&lt;;&amp;select()what()-do()</s>\n",
       "\n",
       "&lt;+:&#x27;]why()%mul(478,188)&gt;* @^ #mul(162,677)/who() )/@)how()from()mul(919,612)why()what()^};^why()$;why()mul(9,232) #how()mul(413,460)&gt; mul(254,330)!&gt;~;mul(16,657)&lt;where();what();$mul(150,998){mul(290,179)!- mul(607,707)why()select()*;{);who(226,887)mul(795,112)mul(383,996)-^:what(697,317){what()@?@mul(352,290)%&gt;[}*what()]&#x27;mul(402,455)(mul(159,801)how()!/()mul(890,162):why();how()mul(177[! ^-@&lt;from()select()}mul(91,452)[how()? *who() mul(834why(226,342){{&lt;$~&gt;mul(412,292)/[{mul(834 ~from()!;when()mul(943,547)&#x27;+;$:from()mul(820,501)how()+~who(714,864)mulfrom() mul(331,67);-$&#x27;mul(168,191)[*;&amp;~how()/[what()what()mul(384,321)what()&gt;@how()when()[-@&lt;mul(365,727)mul(349,706)&#x27;who()]&amp;-mul(528,940)when()(&lt;]select()@}*(why()mul(85,882)[{-select()/mul(273,409)~mul(964,434)who()what()!from()&gt;+,mul(914,214)/~mul(708,958)do()@+mul(106,731)*(where()what()where()&gt;,where()mul(60,776+mul(487,915)from()&amp;{;&#x27;what()^*mul(319,884)(}who()mul(328))when()*@ +mul(754,857)where(),+from()&lt;mul(651,362)?;[/}@}when()mul(399,158)&amp;@how();;mul(964,753)!^why()}when()]!{how()mul(525,209)who()^mul(869,719)- &lt;&gt;~&gt;&lt;&gt;~mul(207,721){:#how()what()when()?&lt;+mul(107,805)^$%}from(),[,$[mul(375,736)mul(73,81)-$where()$-&lt;&lt;:&lt;mul(588,899)who()&amp;mul(902,680);?[ &lt;)mul(715,138) how() +;mul(875,81)],;$!?(select()mul(669,19);!*%},!why()~}mul(90,643)]mul(969,823)}$@when()&amp;where()mulwhere()&lt;&amp;%&gt;:mul(435,179)when()/,how()&amp;,)@mul(899(what()why()/;why()}])!what()mul(855,799)~{@where()why())where()why()\n",
       "\n",
       "<s>don&#x27;t();!~,mul(801,421)mul(688,282)from()?when()where()/$~&#x27;when()mul(799,579)[mul(589,929)*why(),[[who()from()/mul(422,435){{~,-mul(811,256)}why()--mul(284,323)$;?;from()when()/@!,mul(411,499)mul(712,633)?(#select(699,176)where()]why()[who()do()</s>\n",
       "\n",
       "[-mul(252,327)mul(733,191)-why()+}when()$mul(575,854):--#?what()^,]&gt;mul(710,364)&lt;where(435,528);^ : how()mul(859,814)]+what()*) mul(173,667)?&gt;:-&#x27;/mul(955,516)@who()+mul(765,740)when()@?+)!&#x27;\n",
       "\n",
       "<s>don&#x27;t()[-&lt;mul(365,369)^who()why(511,407)-mul(532,507))mul(424,846)~from()from(828,590)-*]mul(86&#x27;&gt;when()~[/ when()?; mul(65,78)}]&lt;how()%+?why())mul(573,533)mul(729,878)*mul(520,776)where()from()!from()&lt;@do()</s>\n",
       "\n",
       "when()&amp;^(who()/mul(945,626)% who();;(^+what();mul+why()}((where()&gt;(-mul(268,76)/select()~:where(941,686)mul(936,336)-@mul(958,345)who(){~mul(548,108)!mul(951,331)[#?from()(^:%mul(843,813)$how();why():^why()+mul(594,381)select()when()from();]select()&amp;:mul(765,515) /what()why())#)select()[mul(4,236)]%;^what()$@*do()&amp;&gt;mul^}&#x27;#+~*&amp;where(721,403)mul(430,162)mul(54,147)%)&#x27;}$^where()}mul(823,311)mul(882,70)mul(869,503)@who():)&amp;what()mul(383,271)~mul(568,286why(365,711)why(387,388)!)what()from()mul(867,166)where(243,478))?how()-@&gt;@mul(191,472)}@&amp;}from();^}[mul(45,832)-&gt;/what(705,241)(&gt;what()]mul(85,192)&amp;&amp;]#-$#mul(498,712)@)when(),]mul(521,682)/how()}-}mul(366when()+,when()/mul(697,179) %(mul(412,215)$mul(798)^*mul(85,476),&#x27;how()  +$;mul(423,624)where()mul(501from()@{who()-mul(457,671)~who()when()how(343,28)%where(675,997)*why()how(186,529)#mul(189,417),+[[@when()/mul(526,457))($+!*@mul(817,569))(- &amp;%&amp;/why()mul(909,493);mul(484,901);!$why()&lt;^)~]do()&#x27;/mul(968,342)}*;mul(982,164)&amp;&gt;why()]&gt;select()&amp;[mul(364,498)mul(595,443) -who();{{?(~mul(33,531)who()who(455,309)*select()when()mul(367,411)who()what()?where()^mul(345,845)&lt;@mul(376;who()[select()&gt;*!how()do()#from())&lt;(mul&amp;from(128,233)how(){%when()mul(851,364)mul(494,714)\n",
       "%{&lt;&lt;%mul(268,805))&amp;#mul(373,10)!%};%,when():mul(628,215)&amp;}&amp; mul(322:?&gt;^&lt;when()&gt;*,,mul(355,828);mul(939,916);&gt;,where()][&gt;)};mul(925,115)]mul(161,40) @ mul(234,412)[%%mul(414,812) when()*mul(326,103)-[({;/#/^+mul(810,213)\n",
       "\n",
       "<s>don&#x27;t()- {&gt;who(){mul(527,352)@&amp;&#x27;)*when()]who()%mul(736,73)from()[(}mul(917,960)+,-%mul(945,466)~why(398,607),mul(198,701){&#x27;-(when(),*:[mul(822what()}]:&gt;who(685,960)?mul(866,969) *#~when()mul(624,619)?&lt;&#x27;;what()()&lt;$mul(582,429),@mul(112,480)&#x27;!mul(113,204)what()&gt;$~%,$&#x27;*mul(909,964)?who()why()how()$mul(181,265)&#x27;mul(227,282)*&gt;:+from()[how()%mul(534,756)]from()/mul(782,594)when(976,63):&amp;,where(101,159)@$why()how()mul(949,569)how()why()where()what()}&amp;&lt;[{mul(984,451);#how()what()~#mul(976,666)~&#x27;what()mul(879,268from()when()mul(952,795){where()-&amp;,%/select()mul(892,249)mul(562,394)do()</s>\n",
       "\n",
       "-&lt;how()-[ mul(682,68)select(){#what(390,528)from()!&amp;$mul*%;%why()}[mul(641,891)&#x27;[mul(604,200)* &lt;?;@~-&lt;mul(32,446)#select()mul(367,881)who()}-+!@/mul%%how()how()mul(484,441)&#x27;!*-,why()//mul(232,705)&gt;&gt;),&amp;(}&#x27;mul(624,35)mul(770,961);why()/;//+*mul(460,933)&gt;%%@from()mul(913,510)from()@from()how()#mul(336,262)select()!what()%/select(){*!{mul(324,598)mul(520,239)/select()@ how()how()mul(9,679)  &amp;from()mul(132,603)where()mul(918,579)-why()&#x27;mul(379,960)^}#{/who(910,167)who(464,273)mul(225,34)where(){?#%why()[}mul(795,611)/mul(985,849)(mul(212,96)&lt;;@from()mul(692,369)&gt;mul(525,547)/who()-:&lt;how()mul(715,343)when(488,771),&#x27;mul(303,170)where()&gt;how()&gt;:?%}}^mul(752,768)why()%mul(696,11) *)^/*!&#x27;mul(148,335)from()mul(485,796),,+&gt;&gt;&#x27;?do()+;select()?:mul(456,261)?!mul(43,918)~-)from(),}&gt;)mul(960,664)&#x27; -{from()^,where()-what()mul(508,451)]+ {why()why()/%@/mul(176,657)select(488,126):&#x27;where()mul(247,928)/how()who():!mul(844,455)#&lt;(&amp;when()from()&amp;*mul(898,677)from(){mul(766,841)mul(990,880)who()where()?;mul(487,623)from()why()[mul(163,74)select();$&gt;select(190,549)do()&lt;:+select(677,307)[(how()~]mul(328,574))#^)mul(767,737)mul(996,115);from()[from()mul(977,738))from()when()[mul(868,591)%what()mul(347,943)&#x27;-why()**#how()~mul(327,720)-;)-[#-~why()mul(71,877)-!select()/,&#x27;$&#x27;mul(741,845)[&amp;^$when()}mul(686,640)&amp;}why(323,972)&#x27;$[mul(352,2)&amp;who()-+%$} mul(295,145)&#x27;;]*when()$&#x27;&lt;mul(777,684),where()]\n",
       "\n",
       "<s>don&#x27;t();what()%$?-+]/#mul(981,496)mul(402,419)what()*^what()mul(165,139)from()who()where(),how()select()from()%mul(376,689) mul(389,696)where()what(949,275)how()~who(600,641)&#x27;from()!#mul(436,525)~/[%-}^mul(489,872)select()mul(82,53)*select(70,72)*what()what()]:{from()%mul(433,905);+-mul(191,114);[from()mul(401,992)?&#x27;mul(257,949)**&#x27;/~why()*!mul(902,617)where()@]&gt;}-mul(61,125)#mul(446,48)@~{*[*$when()who()who()mul(300,206)&amp;+!where()mul(938,463)when()!&amp;%where() &amp;*;*mul(772,27)]&amp;;how()!]how()do()</s>\n",
       "\n",
       "/^$what()how()mul(305,773)&gt;mul(216,395)&#x27;:mul(291,15)*@what()(^mul(56,367))~,&gt;mul(233,290)?&amp;;who(333,171)what(370,12)$ ?mul(306,488)&lt;^where()($mul(627,462))]select()&#x27;:mul(565,994)~&gt;mul(626,380)]}who(){mul(590,221)mul(684,793) who()/{%@(from()@?mul(448,580)from(856,317)!]why()from()&amp;&gt;[?mul(971,484)~mul(417,679)mul(33,70)^what()mul(816,623);@mul(735,657)"
      ],
      "text/plain": [
       "<IPython.core.display.HTML object>"
      ]
     },
     "metadata": {},
     "output_type": "display_data"
    }
   ],
   "source": [
    "# Ugh, still can't see it! Let's try some style\n",
    "from html import escape\n",
    "\n",
    "html_code = ''\n",
    "sanitized = re.split(r\"(don't\\(\\).+?do\\(\\))\", input, flags=re.DOTALL)\n",
    "for i, text in enumerate(sanitized):\n",
    "    if i % 2 != 0:\n",
    "        html_code+= f'\\n\\n<s>{escape(text)}</s>\\n\\n'\n",
    "    else:\n",
    "        html_code+=escape(text)\n",
    "\n",
    "from IPython.display import display, HTML\n",
    "print(html_code)\n",
    "display(HTML(html_code))"
   ]
  },
  {
   "cell_type": "markdown",
   "id": "bbd952c8-4be9-4049-921e-e3539b3d94fb",
   "metadata": {},
   "source": [
    "PRETTY SNEAKY SIS! There's a NEWLINE!"
   ]
  },
  {
   "cell_type": "code",
   "execution_count": 17,
   "id": "e4e09a37-356f-4b35-9e91-8aa9a2552a70",
   "metadata": {},
   "outputs": [
    {
     "data": {
      "text/plain": [
       "113965544"
      ]
     },
     "execution_count": 17,
     "metadata": {},
     "output_type": "execute_result"
    }
   ],
   "source": [
    "def parse_enabled(data:str) -> list[tuple[int,int]]:\n",
    "    # Can we do something silly like drop out all the invalid stuff from the string? I think look behinds could be an option too\n",
    "\n",
    "    # Not in the example, but if the end of the string doesn't have a \"do\" to turn back on, drop off everything\n",
    "    sanitized = re.sub(r\"don't\\(\\).+?do\\(\\)\", '', data, flags=re.DOTALL)\n",
    "    return parse_data(sanitized)\n",
    "\n",
    "sum([x * y for (x, y) in parse_enabled(input)])"
   ]
  }
 ],
 "metadata": {
  "kernelspec": {
   "display_name": "Python 3 (ipykernel)",
   "language": "python",
   "name": "python3"
  },
  "language_info": {
   "codemirror_mode": {
    "name": "ipython",
    "version": 3
   },
   "file_extension": ".py",
   "mimetype": "text/x-python",
   "name": "python",
   "nbconvert_exporter": "python",
   "pygments_lexer": "ipython3",
   "version": "3.13.0"
  }
 },
 "nbformat": 4,
 "nbformat_minor": 5
}
