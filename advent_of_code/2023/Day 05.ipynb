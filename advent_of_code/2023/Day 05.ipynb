{
 "cells": [
  {
   "cell_type": "markdown",
   "metadata": {},
   "source": [
    "# 23 Day 05\n",
    "\n",
    "https://adventofcode.com/2023/day/5\n"
   ]
  },
  {
   "cell_type": "code",
   "execution_count": 2,
   "metadata": {},
   "outputs": [],
   "source": [
    "from aocd.models import Puzzle\n",
    "\n",
    "puzzle = Puzzle(year=2023, day=5)\n",
    "\n",
    "def test(method, input, expected):\n",
    "    actual = method(*input)\n",
    "    if actual == expected:\n",
    "        print(f'\\t☑ - {method.__name__}({input}) = {expected} = {actual}')\n",
    "    else:\n",
    "        print(f'\\t☐ - {method.__name__}({input}) = {expected} ≠ {actual}')\n"
   ]
  },
  {
   "cell_type": "markdown",
   "metadata": {},
   "source": [
    "Let's make sure that the example contains all the actual map value"
   ]
  },
  {
   "cell_type": "code",
   "execution_count": 18,
   "metadata": {},
   "outputs": [
    {
     "data": {
      "text/plain": [
       "['seed-to-soil',\n",
       " 'soil-to-fertilizer',\n",
       " 'fertilizer-to-water',\n",
       " 'water-to-light',\n",
       " 'light-to-temperature',\n",
       " 'temperature-to-humidity',\n",
       " 'humidity-to-location']"
      ]
     },
     "execution_count": 18,
     "metadata": {},
     "output_type": "execute_result"
    }
   ],
   "source": [
    "puzzle.input_data\n",
    "\n",
    "import re\n",
    "re.findall(r'\\w+-to-\\w+', puzzle.input_data)"
   ]
  },
  {
   "cell_type": "markdown",
   "metadata": {},
   "source": [
    "Ok, it matches the example. Whew!"
   ]
  },
  {
   "cell_type": "code",
   "execution_count": 220,
   "metadata": {},
   "outputs": [],
   "source": [
    "from collections import defaultdict\n",
    "\n",
    "\n",
    "class Almanac:\n",
    "\n",
    "    def __init__(self, input_data:str):\n",
    "        input_blocks = input_data.split('\\n\\n')\n",
    "        \n",
    "        self.seeds = [int(s) for s in re.findall(r'\\d+', input_blocks[0])]\n",
    "        \n",
    "        maps = {}\n",
    "        # Do I need this?\n",
    "        # maps = {('seed', 'seed'): seeds}\n",
    "\n",
    "        # I could not get this to go in one block. I'll ask for some help here.\n",
    "        # (\\w+)-to-(\\w+) map:\\n(:?(\\d+) (\\d+) (\\d+)\\n?)+\n",
    "        # https://regex101.com/r/EtIaGl/1\n",
    "        # Deletion Link: https://regex101.com/delete/pRW1eIlXymmnzhMO4O44tLemCOriUzaGGgkA\n",
    "        for block in input_blocks[1:]:\n",
    "            # print(block)\n",
    "            map_label = re.match(r'(\\w+)-to-(\\w+) map:', block).groups()\n",
    "\n",
    "            mapping = {}\n",
    "            for m in re.findall(r'(?:(\\d+) (\\d+) (\\d+))+?', block):\n",
    "                dest_start, source_start, range_len = m\n",
    "                for src, dest in zip(range(int(source_start), int(source_start) + int(range_len)), range(int(dest_start) , int(dest_start) + int(range_len))):\n",
    "                    # TODO Validate this isn't already populated in case there are a list of options\n",
    "                    mapping[src] = dest\n",
    "            maps[map_label] = mapping\n",
    "            \n",
    "        self.maps = maps\n",
    "            # TODO: There must be a better way to accomplish this in Pandas...\n",
    "            # for indx, value in df[map_label[0]].items():\n",
    "            #     # print(df[indx])\n",
    "            #     print(df.iloc[indx])\n",
    "            # row = df.loc[df[map_label[1]] == some_value]\n",
    "            # df[map_label[1]] = df.apply(lambda row: mapping[row[map_label[0]]] if row[map_label[0]] in mapping else row[map_label[0]], axis=1)\n",
    "\n",
    "    def translate(self, source:str, id:int, dest: str):\n",
    "        # I could switch to a graph with nodes if this was ever more robust\n",
    "        if (source, dest) in self.maps.keys():\n",
    "            return self.maps[(source, dest)][id] if id in self.maps[(source, dest)] else id\n",
    "        else:\n",
    "            # print(f\"Couldn't find {source} -> {dest} directly.\")\n",
    "            # This assumes there is only one path. No need to build graph\n",
    "            _, next_dest = next(m for m in self.maps.keys() if m[0] == source)\n",
    "            # print(f'Next hop {next_dest} -> {dest}')\n",
    "            next_id = id if id not in self.maps[(source, next_dest)] else self.maps[(source, next_dest)][id]\n",
    "            return self.translate(next_dest, next_id, dest)\n"
   ]
  },
  {
   "cell_type": "code",
   "execution_count": 219,
   "metadata": {},
   "outputs": [
    {
     "name": "stdout",
     "output_type": "stream",
     "text": [
      "Part A Test Cases:\n",
      "seed 79 soil\n",
      "\t☑ - translate(('seed', 79, 'soil')) = 81 = 81\n",
      "seed 14 soil\n",
      "\t☑ - translate(('seed', 14, 'soil')) = 14 = 14\n",
      "seed 55 soil\n",
      "\t☑ - translate(('seed', 55, 'soil')) = 57 = 57\n",
      "seed 13 soil\n",
      "\t☑ - translate(('seed', 13, 'soil')) = 13 = 13\n",
      "seed 79 fertilizer\n",
      "\t☑ - translate(('seed', 79, 'fertilizer')) = 81 = 81\n",
      "seed 79 water\n",
      "\t☑ - translate(('seed', 79, 'water')) = 81 = 81\n",
      "seed 79 light\n",
      "\t☑ - translate(('seed', 79, 'light')) = 74 = 74\n",
      "seed 79 temperature\n",
      "\t☑ - translate(('seed', 79, 'temperature')) = 78 = 78\n",
      "seed 79 humidity\n",
      "\t☑ - translate(('seed', 79, 'humidity')) = 78 = 78\n",
      "seed 79 location\n",
      "\t☑ - translate(('seed', 79, 'location')) = 82 = 82\n",
      "seed 14 location\n",
      "\t☑ - translate(('seed', 14, 'location')) = 43 = 43\n",
      "seed 55 location\n",
      "\t☑ - translate(('seed', 55, 'location')) = 86 = 86\n",
      "seed 13 location\n",
      "\t☑ - translate(('seed', 13, 'location')) = 35 = 35\n"
     ]
    }
   ],
   "source": [
    "example = puzzle.examples[0]\n",
    "\n",
    "# Seed 79, soil 81, fertilizer 81, water 81, light 74, temperature 78, humidity 78, location 82.\n",
    "# Seed 14, soil 14, fertilizer 53, water 49, light 42, temperature 42, humidity 43, location 43.\n",
    "# Seed 55, soil 57, fertilizer 57, water 53, light 46, temperature 82, humidity 82, location 86.\n",
    "# Seed 13, soil 13, fertilizer 52, water 41, light 34, temperature 34, humidity 35, location 35.\n",
    "print('Part A Test Cases:')\n",
    "a = Almanac(example.input_data)\n",
    "for (input, expected) in [(('seed', 79, 'soil'), 81), (('seed', 14, 'soil'), 14), (('seed', 55, 'soil'), 57), \n",
    "                          (('seed', 13, 'soil'), 13), (('seed', 79, 'fertilizer'), 81), (('seed', 79, 'water'), 81),\n",
    "                          (('seed', 79, 'light'), 74), (('seed', 79, 'temperature'), 78), (('seed', 79, 'humidity'), 78),\n",
    "                          (('seed', 79, 'location'), 82), (('seed', 14, 'location'), 43), (('seed', 55, 'location'), 86),\n",
    "                          (('seed', 13, 'location'), 35)]:\n",
    "    print(*input)\n",
    "    test(a.translate, input, expected)"
   ]
  },
  {
   "cell_type": "code",
   "execution_count": 217,
   "metadata": {},
   "outputs": [
    {
     "name": "stdout",
     "output_type": "stream",
     "text": [
      "Solution A: 35\n"
     ]
    }
   ],
   "source": [
    "a = Almanac(example.input_data)\n",
    "print(f'Solution A: {min([a.translate('seed', s, 'location') for s in a.seeds])}')"
   ]
  },
  {
   "cell_type": "code",
   "execution_count": 218,
   "metadata": {},
   "outputs": [
    {
     "ename": "MemoryError",
     "evalue": "",
     "output_type": "error",
     "traceback": [
      "\u001b[1;31m---------------------------------------------------------------------------\u001b[0m",
      "\u001b[1;31mMemoryError\u001b[0m                               Traceback (most recent call last)",
      "\u001b[1;32mc:\\Users\\david\\Dropbox\\Documents\\Programming\\advent-of-code\\advent_of_code\\2023\\Day 05.ipynb Cell 9\u001b[0m line \u001b[0;36m1\n\u001b[1;32m----> <a href='vscode-notebook-cell:/c%3A/Users/david/Dropbox/Documents/Programming/advent-of-code/advent_of_code/2023/Day%2005.ipynb#X13sZmlsZQ%3D%3D?line=0'>1</a>\u001b[0m a \u001b[39m=\u001b[39m Almanac(puzzle\u001b[39m.\u001b[39;49minput_data)\n\u001b[0;32m      <a href='vscode-notebook-cell:/c%3A/Users/david/Dropbox/Documents/Programming/advent-of-code/advent_of_code/2023/Day%2005.ipynb#X13sZmlsZQ%3D%3D?line=1'>2</a>\u001b[0m \u001b[39mprint\u001b[39m(\u001b[39mf\u001b[39m\u001b[39m'\u001b[39m\u001b[39mSolution A: \u001b[39m\u001b[39m{\u001b[39;00m\u001b[39mmin\u001b[39m([a\u001b[39m.\u001b[39mtranslate(\u001b[39m'\u001b[39m\u001b[39mseed\u001b[39m\u001b[39m'\u001b[39m,\u001b[39m \u001b[39ms,\u001b[39m \u001b[39m\u001b[39m'\u001b[39m\u001b[39mlocation\u001b[39m\u001b[39m'\u001b[39m)\u001b[39m \u001b[39m\u001b[39mfor\u001b[39;00m\u001b[39m \u001b[39ms\u001b[39m \u001b[39m\u001b[39min\u001b[39;00m\u001b[39m \u001b[39ma\u001b[39m.\u001b[39mseeds])\u001b[39m}\u001b[39;00m\u001b[39m'\u001b[39m)\n",
      "\u001b[1;32mc:\\Users\\david\\Dropbox\\Documents\\Programming\\advent-of-code\\advent_of_code\\2023\\Day 05.ipynb Cell 9\u001b[0m line \u001b[0;36m3\n\u001b[0;32m     <a href='vscode-notebook-cell:/c%3A/Users/david/Dropbox/Documents/Programming/advent-of-code/advent_of_code/2023/Day%2005.ipynb#X13sZmlsZQ%3D%3D?line=26'>27</a>\u001b[0m         dest_start, source_start, range_len \u001b[39m=\u001b[39m m\n\u001b[0;32m     <a href='vscode-notebook-cell:/c%3A/Users/david/Dropbox/Documents/Programming/advent-of-code/advent_of_code/2023/Day%2005.ipynb#X13sZmlsZQ%3D%3D?line=27'>28</a>\u001b[0m         \u001b[39mfor\u001b[39;00m src, dest \u001b[39min\u001b[39;00m \u001b[39mzip\u001b[39m(\u001b[39mrange\u001b[39m(\u001b[39mint\u001b[39m(source_start), \u001b[39mint\u001b[39m(source_start) \u001b[39m+\u001b[39m \u001b[39mint\u001b[39m(range_len)), \u001b[39mrange\u001b[39m(\u001b[39mint\u001b[39m(dest_start) , \u001b[39mint\u001b[39m(dest_start) \u001b[39m+\u001b[39m \u001b[39mint\u001b[39m(range_len))):\n\u001b[0;32m     <a href='vscode-notebook-cell:/c%3A/Users/david/Dropbox/Documents/Programming/advent-of-code/advent_of_code/2023/Day%2005.ipynb#X13sZmlsZQ%3D%3D?line=28'>29</a>\u001b[0m             \u001b[39m# TODO Validate this isn't already populated in case there are a list of options\u001b[39;00m\n\u001b[1;32m---> <a href='vscode-notebook-cell:/c%3A/Users/david/Dropbox/Documents/Programming/advent-of-code/advent_of_code/2023/Day%2005.ipynb#X13sZmlsZQ%3D%3D?line=29'>30</a>\u001b[0m             mapping[src] \u001b[39m=\u001b[39m dest\n\u001b[0;32m     <a href='vscode-notebook-cell:/c%3A/Users/david/Dropbox/Documents/Programming/advent-of-code/advent_of_code/2023/Day%2005.ipynb#X13sZmlsZQ%3D%3D?line=30'>31</a>\u001b[0m     maps[map_label] \u001b[39m=\u001b[39m mapping\n\u001b[0;32m     <a href='vscode-notebook-cell:/c%3A/Users/david/Dropbox/Documents/Programming/advent-of-code/advent_of_code/2023/Day%2005.ipynb#X13sZmlsZQ%3D%3D?line=32'>33</a>\u001b[0m \u001b[39mself\u001b[39m\u001b[39m.\u001b[39mmaps \u001b[39m=\u001b[39m maps\n",
      "\u001b[1;31mMemoryError\u001b[0m: "
     ]
    }
   ],
   "source": [
    "a = Almanac(puzzle.input_data)\n",
    "print(f'Solution A: {min([a.translate('seed', s, 'location') for s in a.seeds])}')"
   ]
  },
  {
   "cell_type": "markdown",
   "metadata": {},
   "source": [
    "Bummer! Memory error. I could prune down and eliminate anything that didn't have a seed, but I'm afraid that part B will look for a more general solution. Let's try to keep as little in memory as possible. I try a range or generator where needed first."
   ]
  },
  {
   "cell_type": "code",
   "execution_count": 39,
   "metadata": {},
   "outputs": [],
   "source": [
    "import re\n",
    "from collections import defaultdict\n",
    "\n",
    "\n",
    "class LowMemoryAlmanac:\n",
    "\n",
    "    def __init__(self, input_data:str):\n",
    "        input_blocks = input_data.split('\\n\\n')\n",
    "        \n",
    "        self.seeds = [int(s) for s in re.findall(r'\\d+', input_blocks[0])]\n",
    "        \n",
    "        maps = {}\n",
    "\n",
    "        for block in input_blocks[1:]:\n",
    "            map_label = re.match(r'(\\w+)-to-(\\w+) map:', block).groups()\n",
    "            # print(f'Working on {map_label[0]} => {map_label[1]}')\n",
    "            \n",
    "            ranges = []\n",
    "            for m in re.findall(r'(?:(\\d+) (\\d+) (\\d+))+?', block):\n",
    "                # TODO don't include anything that's not linked in an earlier map\n",
    "                dest_start, source_start, range_len = m\n",
    "                source_range = range(int(source_start), int(source_start) + int(range_len))\n",
    "                dest_range = range(int(dest_start) , int(dest_start) + int(range_len))\n",
    "                ranges.append((source_range, dest_range))\n",
    "            maps[map_label] = ranges\n",
    "            \n",
    "        self.maps = maps\n",
    "        \n",
    "    def translate(self, source:str, id:int, dest: str):\n",
    "        # I could switch to a graph with nodes if this was ever more robust\n",
    "        if (source, dest) in self.maps.keys():\n",
    "            # Direct translation\n",
    "            ranges = next(((source_range, dest_range) for source_range, dest_range in self.maps[(source, dest)] if id in source_range), None)\n",
    "            if not ranges:\n",
    "                return id\n",
    "            source_range, dest_range = ranges\n",
    "            return next(dest for src, dest in zip(source_range, dest_range) if src == id)\n",
    "        else:\n",
    "            # print(f\"Couldn't find {source} -> {dest} directly.\")\n",
    "            # This assumes there is only one path. No need to build graph\n",
    "            _, next_dest = next(m for m in self.maps.keys() if m[0] == source)\n",
    "            # print(f'Next hop {next_dest} -> {dest}')\n",
    "            next_ranges = next(((source_range, next_range) for source_range, next_range in self.maps[(source, next_dest)] if id in source_range), None)\n",
    "            next_id = id\n",
    "            if next_ranges:\n",
    "                source_range, dest_range = next_ranges\n",
    "                next_id = next(dest for src, dest in zip(source_range, dest_range) if src == id)\n",
    "            return self.translate(next_dest, next_id, dest)\n"
   ]
  },
  {
   "cell_type": "code",
   "execution_count": 40,
   "metadata": {},
   "outputs": [
    {
     "name": "stdout",
     "output_type": "stream",
     "text": [
      "Low Memory Part A Test Cases:\n",
      "seed 79 soil\n",
      "\t☑ - translate(('seed', 79, 'soil')) = 81 = 81\n",
      "seed 14 soil\n",
      "\t☑ - translate(('seed', 14, 'soil')) = 14 = 14\n",
      "seed 55 soil\n",
      "\t☑ - translate(('seed', 55, 'soil')) = 57 = 57\n",
      "seed 13 soil\n",
      "\t☑ - translate(('seed', 13, 'soil')) = 13 = 13\n",
      "seed 79 fertilizer\n",
      "\t☑ - translate(('seed', 79, 'fertilizer')) = 81 = 81\n",
      "seed 79 water\n",
      "\t☑ - translate(('seed', 79, 'water')) = 81 = 81\n",
      "seed 79 light\n",
      "\t☑ - translate(('seed', 79, 'light')) = 74 = 74\n",
      "seed 79 temperature\n",
      "\t☑ - translate(('seed', 79, 'temperature')) = 78 = 78\n",
      "seed 79 humidity\n",
      "\t☑ - translate(('seed', 79, 'humidity')) = 78 = 78\n",
      "seed 79 location\n",
      "\t☑ - translate(('seed', 79, 'location')) = 82 = 82\n",
      "seed 14 location\n",
      "\t☑ - translate(('seed', 14, 'location')) = 43 = 43\n",
      "seed 55 location\n",
      "\t☑ - translate(('seed', 55, 'location')) = 86 = 86\n",
      "seed 13 location\n",
      "\t☑ - translate(('seed', 13, 'location')) = 35 = 35\n"
     ]
    }
   ],
   "source": [
    "a = LowMemoryAlmanac(puzzle.examples[0].input_data)\n",
    "\n",
    "# Seed 79, soil 81, fertilizer 81, water 81, light 74, temperature 78, humidity 78, location 82.\n",
    "# Seed 14, soil 14, fertilizer 53, water 49, light 42, temperature 42, humidity 43, location 43.\n",
    "# Seed 55, soil 57, fertilizer 57, water 53, light 46, temperature 82, humidity 82, location 86.\n",
    "# Seed 13, soil 13, fertilizer 52, water 41, light 34, temperature 34, humidity 35, location 35.\n",
    "print('Low Memory Part A Test Cases:')\n",
    "for (input, expected) in [(('seed', 79, 'soil'), 81), (('seed', 14, 'soil'), 14), (('seed', 55, 'soil'), 57), \n",
    "                          (('seed', 13, 'soil'), 13), (('seed', 79, 'fertilizer'), 81), (('seed', 79, 'water'), 81),\n",
    "                          (('seed', 79, 'light'), 74), (('seed', 79, 'temperature'), 78), (('seed', 79, 'humidity'), 78),\n",
    "                          (('seed', 79, 'location'), 82), (('seed', 14, 'location'), 43), (('seed', 55, 'location'), 86),\n",
    "                          (('seed', 13, 'location'), 35)]:\n",
    "    print(*input)\n",
    "    test(a.translate, input, expected)\n"
   ]
  },
  {
   "cell_type": "code",
   "execution_count": 42,
   "metadata": {},
   "outputs": [
    {
     "name": "stdout",
     "output_type": "stream",
     "text": [
      "Solution A: 88151870\n"
     ]
    }
   ],
   "source": [
    "a = LowMemoryAlmanac(puzzle.input_data)\n",
    "\n",
    "print(f'Solution A: {min([a.translate('seed', s, 'location') for s in a.seeds])}')"
   ]
  },
  {
   "cell_type": "markdown",
   "metadata": {},
   "source": [
    "Wow! 31m 52.9s to finish. That's not ideal, but better than out of memory. I wonder if I could work backward from the lowest location to valid seed to be faster."
   ]
  }
 ],
 "metadata": {
  "kernelspec": {
   "display_name": ".venv",
   "language": "python",
   "name": "python3"
  },
  "language_info": {
   "codemirror_mode": {
    "name": "ipython",
    "version": 3
   },
   "file_extension": ".py",
   "mimetype": "text/x-python",
   "name": "python",
   "nbconvert_exporter": "python",
   "pygments_lexer": "ipython3",
   "version": "3.12.0"
  }
 },
 "nbformat": 4,
 "nbformat_minor": 2
}
